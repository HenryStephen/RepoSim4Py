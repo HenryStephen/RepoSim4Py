{
 "cells": [
  {
   "cell_type": "markdown",
   "id": "12c40d5e",
   "metadata": {},
   "source": [
    "# Dataset Processing"
   ]
  },
  {
   "cell_type": "code",
   "execution_count": 15,
   "id": "65d9828a",
   "metadata": {
    "ExecuteTime": {
     "end_time": "2023-07-25T14:28:26.672777Z",
     "start_time": "2023-07-25T14:28:17.403009Z"
    }
   },
   "outputs": [],
   "source": [
    "import json\n",
    "import re\n",
    "\n",
    "# Open json file\n",
    "with open(\"all_data.json\", \"r\") as f:\n",
    "    data = json.load(f)\n",
    "    f.close()\n",
    "\n",
    "# Remove the '/' at the end of each repository\n",
    "labels = list(data.keys())\n",
    "for label in labels:\n",
    "    repo_list = []\n",
    "    for repo in data[label]:\n",
    "        repo = repo.rstrip(\"/\")\n",
    "        repo_list.append(repo)\n",
    "    data[label] = repo_list\n",
    "\n",
    "# Remove not match \"user/repo\" pattern data\n",
    "for label in labels:\n",
    "    repo_list = []\n",
    "    for repo in data[label]:\n",
    "        if re.fullmatch(r\"(\\d|\\w|-|.)*/{1}(\\d|\\w|-|.)*\", repo):\n",
    "            repo_list.append(repo)\n",
    "    data[label] = repo_list\n",
    "\n",
    "# Update json file\n",
    "data_str = json.dumps(data, indent=4)\n",
    "with open(\"all_data.json\", \"w\") as f:\n",
    "    f.write(data_str)\n",
    "    f.close()"
   ]
  },
  {
   "cell_type": "code",
   "execution_count": 16,
   "id": "8c658b64",
   "metadata": {
    "ExecuteTime": {
     "end_time": "2023-07-25T14:28:26.675218Z",
     "start_time": "2023-07-25T14:28:20.525914Z"
    }
   },
   "outputs": [
    {
     "name": "stdout",
     "output_type": "stream",
     "text": [
      "456\n",
      "456\n"
     ]
    }
   ],
   "source": [
    "import pickle\n",
    "\n",
    "# Open json file\n",
    "with open(\"all_data.json\", \"r\") as f:\n",
    "    data = json.load(f)\n",
    "    f.close()\n",
    "\n",
    "REPOS = {}\n",
    "labels = list(data.keys())\n",
    "for label in labels:\n",
    "    for repo in data[label]:\n",
    "        REPOS[repo] = label\n",
    "\n",
    "# Write total data into REPOS.pkl\n",
    "print(len(REPOS.items()))\n",
    "with open(\"REPOS.pkl\", \"wb\") as f:\n",
    "      pickle.dump(REPOS, f)"
   ]
  },
  {
   "cell_type": "code",
   "execution_count": 17,
   "id": "ef053027",
   "metadata": {
    "ExecuteTime": {
     "end_time": "2023-07-25T14:28:26.677641Z",
     "start_time": "2023-07-25T14:28:20.529196Z"
    }
   },
   "outputs": [
    {
     "name": "stdout",
     "output_type": "stream",
     "text": [
      "315\n",
      "315\n"
     ]
    }
   ],
   "source": [
    "# Train data\n",
    "with open(\"REPOS_train.pkl\", \"rb\") as f:\n",
    "    REPOS_train = pickle.load(f)\n",
    "    f.close()\n",
    "print(len(REPOS_train.items()))"
   ]
  },
  {
   "cell_type": "code",
   "execution_count": 18,
   "outputs": [
    {
     "name": "stdout",
     "output_type": "stream",
     "text": [
      "100\n",
      "100\n"
     ]
    }
   ],
   "source": [
    "# Validation data\n",
    "with open(\"REPOS_validation.pkl\", \"rb\") as f:\n",
    "    REPOS_validation = pickle.load(f)\n",
    "    f.close()\n",
    "print(len(REPOS_validation.items()))"
   ],
   "metadata": {
    "collapsed": false,
    "ExecuteTime": {
     "end_time": "2023-07-25T14:28:26.680201Z",
     "start_time": "2023-07-25T14:28:20.532394Z"
    }
   }
  },
  {
   "cell_type": "code",
   "execution_count": 19,
   "outputs": [
    {
     "name": "stdout",
     "output_type": "stream",
     "text": [
      "41\n",
      "41\n"
     ]
    }
   ],
   "source": [
    "# Test data\n",
    "with open(\"REPOS_test.pkl\", \"rb\") as f:\n",
    "    REPOS_test = pickle.load(f)\n",
    "    f.close()\n",
    "print(len(REPOS_test.items()))"
   ],
   "metadata": {
    "collapsed": false,
    "ExecuteTime": {
     "end_time": "2023-07-25T14:28:26.683221Z",
     "start_time": "2023-07-25T14:28:20.534730Z"
    }
   }
  }
 ],
 "metadata": {
  "kernelspec": {
   "display_name": "Python 3 (ipykernel)",
   "language": "python",
   "name": "python3"
  },
  "language_info": {
   "codemirror_mode": {
    "name": "ipython",
    "version": 3
   },
   "file_extension": ".py",
   "mimetype": "text/x-python",
   "name": "python",
   "nbconvert_exporter": "python",
   "pygments_lexer": "ipython3",
   "version": "3.10.12"
  }
 },
 "nbformat": 4,
 "nbformat_minor": 5
}
