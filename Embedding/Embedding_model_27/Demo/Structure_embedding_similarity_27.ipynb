{
 "cells": [
  {
   "cell_type": "markdown",
   "metadata": {},
   "source": [
    "# Structure similarity experiment"
   ]
  },
  {
   "cell_type": "markdown",
   "source": [
    "## 1. Install inspect4py"
   ],
   "metadata": {
    "collapsed": false
   }
  },
  {
   "cell_type": "code",
   "execution_count": 1,
   "metadata": {
    "ExecuteTime": {
     "end_time": "2023-06-19T13:43:31.394583Z",
     "start_time": "2023-06-19T13:43:31.047257Z"
    }
   },
   "outputs": [
    {
     "name": "stdout",
     "output_type": "stream",
     "text": [
      "inspect4py, version 0.0.8\r\n"
     ]
    }
   ],
   "source": [
    "!inspect4py --version"
   ]
  },
  {
   "cell_type": "code",
   "execution_count": 2,
   "metadata": {
    "ExecuteTime": {
     "end_time": "2023-06-19T13:43:43.402537Z",
     "start_time": "2023-06-19T13:43:34.378761Z"
    }
   },
   "outputs": [
    {
     "name": "stdout",
     "output_type": "stream",
     "text": [
      "Cloning into 'RepoAnalysis/RepoSnipy'...\n",
      "remote: Enumerating objects: 82, done.\u001B[K\n",
      "remote: Counting objects: 100% (26/26), done.\u001B[K\n",
      "remote: Compressing objects: 100% (17/17), done.\u001B[K\n",
      "remote: Total 82 (delta 13), reused 20 (delta 9), pack-reused 56\u001B[K\n",
      "Receiving objects: 100% (82/82), 57.85 MiB | 6.63 MiB/s, done.\n",
      "Resolving deltas: 100% (34/34), done.\n",
      "Creating jsDir:output/RepoAnalysis/RepoSnipy/RepoSnipy/json_files\n",
      "Added in funct/method run_model , argument named st.session_state.github_token, number of argument 2\n",
      "Creating jsDir:output/RepoAnalysis/RepoSnipy/RepoSnipy/data/json_files\n",
      "RepoSnipy/\n",
      "├── .gitignore\n",
      "├── app.py\n",
      "├── assets/\n",
      "│   └── search.gif\n",
      "├── data/\n",
      "│   ├── create_index.py\n",
      "│   ├── index.bin\n",
      "│   └── repositories.txt\n",
      "├── evaluate.py\n",
      "├── LICENSE\n",
      "├── README.md\n",
      "└── requirements.txt\n",
      "Analysis completed\n",
      "Total number of folders processed (root folder is considered a folder): 2\n",
      "Total number of files found:  3\n",
      "Total number of classes found:  2\n",
      "Total number of dependencies found in those files 31\n",
      "Total number of functions parsed:  5\n",
      "Cloning into 'RepoAnalysis/RepoSim'...\n",
      "remote: Enumerating objects: 269, done.\u001B[K\n",
      "remote: Counting objects: 100% (16/16), done.\u001B[K\n",
      "remote: Compressing objects: 100% (13/13), done.\u001B[K\n",
      "remote: Total 269 (delta 5), reused 12 (delta 3), pack-reused 253\u001B[K\n",
      "Receiving objects: 100% (269/269), 7.86 MiB | 1.90 MiB/s, done.\n",
      "Resolving deltas: 100% (135/135), done.\n",
      "Creating jsDir:output/RepoAnalysis/RepoSim/RepoSim/scripts/json_files\n",
      "Error when processing repo_sim.py:  (<class 'AttributeError'>, AttributeError(\"'NoneType' object has no attribute '_fields'\"), <traceback object at 0x104375cc0>)\n",
      "Creating jsDir:output/RepoAnalysis/RepoSim/RepoSim/data/json_files\n",
      "Error when processing df2txt.py:  (<class 'AttributeError'>, AttributeError(\"'NoneType' object has no attribute '_fields'\"), <traceback object at 0x1044b7f00>)\n",
      "RepoSim/\n",
      "├── .gitignore\n",
      "├── data/\n",
      "│   ├── df2txt.py\n",
      "│   ├── repo_topic.json\n",
      "│   └── repo_topic.py\n",
      "├── LICENSE\n",
      "├── notebooks/\n",
      "│   ├── BiEncoder/\n",
      "│   │   ├── Embeddings_evaluation.ipynb\n",
      "│   │   ├── RepoSim.ipynb\n",
      "│   │   └── UnixCoder_C4_Evaluation.ipynb\n",
      "│   └── CrossEncoder/\n",
      "│       ├── Clone_Detection_C4_Evaluation.ipynb\n",
      "│       ├── HungarianAlgorithm.ipynb\n",
      "│       └── keonalgorithms-TheAlgorithmsPython.csv\n",
      "├── README.md\n",
      "└── scripts/\n",
      "    ├── LICENSE\n",
      "    ├── pipeline.py\n",
      "    ├── PlayGround.ipynb\n",
      "    ├── README.md\n",
      "    ├── repo_sim.py\n",
      "    └── requirements.txt\n",
      "Analysis completed\n",
      "Total number of folders processed (root folder is considered a folder): 2\n",
      "Total number of files found:  2\n",
      "Total number of classes found:  1\n",
      "Total number of dependencies found in those files 14\n",
      "Total number of functions parsed:  3\n"
     ]
    }
   ],
   "source": [
    "REPOS = [\n",
    "    \"RepoAnalysis/RepoSnipy\",\n",
    "    \"RepoAnalysis/RepoSim\"\n",
    "]\n",
    "for repo in REPOS:\n",
    "    !mkdir -p {repo} & & git clone {f\"https://github.com/{repo}.git\"} {repo}\n",
    "    !inspect4py -i {repo} -o output/ {repo} -dt"
   ]
  },
  {
   "cell_type": "markdown",
   "source": [
    "## 2. Extract structure information"
   ],
   "metadata": {
    "collapsed": false
   }
  },
  {
   "cell_type": "code",
   "execution_count": 3,
   "metadata": {
    "ExecuteTime": {
     "end_time": "2023-06-19T13:43:58.278861Z",
     "start_time": "2023-06-19T13:43:58.275526Z"
    }
   },
   "outputs": [],
   "source": [
    "import json\n",
    "\n",
    "\n",
    "def get_directory_tree_info(file_path):\n",
    "    with open(file_path, \"r\") as f:\n",
    "        json_info = json.load(f)\n",
    "    return json_info.get(\"directory_tree\")\n",
    "\n",
    "\n",
    "directory_tree_info = {}\n",
    "for repo in REPOS:\n",
    "    directory_tree_info[repo] = get_directory_tree_info(f\"output/{repo}/directory_info.json\")"
   ]
  },
  {
   "cell_type": "markdown",
   "source": [
    "## 3. Generating embedding"
   ],
   "metadata": {
    "collapsed": false
   }
  },
  {
   "cell_type": "code",
   "execution_count": 4,
   "metadata": {
    "ExecuteTime": {
     "end_time": "2023-06-19T13:44:04.421817Z",
     "start_time": "2023-06-19T13:43:59.999812Z"
    }
   },
   "outputs": [
    {
     "name": "stdout",
     "output_type": "stream",
     "text": [
      "torch.Size([2, 768])\n"
     ]
    }
   ],
   "source": [
    "from sentence_transformers import SentenceTransformer\n",
    "import torch\n",
    "\n",
    "directory_tree_list = []\n",
    "for repo in REPOS:\n",
    "    directory_tree_list.append(directory_tree_info[repo])\n",
    "\n",
    "device = torch.device(\"cuda\"\n",
    "                      if torch.cuda.is_available()\n",
    "                      else \"mps\"\n",
    "if torch.backends.mps.is_available()\n",
    "else \"cpu\")\n",
    "structure_model = SentenceTransformer(\"all-mpnet-base-v2\", device=device)\n",
    "\n",
    "with torch.no_grad():\n",
    "    embedding = structure_model.encode(directory_tree_list, convert_to_tensor=True)\n",
    "\n",
    "print(embedding.shape)"
   ]
  },
  {
   "cell_type": "markdown",
   "source": [
    "## 4. Calculating similarity"
   ],
   "metadata": {
    "collapsed": false
   }
  },
  {
   "cell_type": "code",
   "execution_count": 5,
   "metadata": {
    "ExecuteTime": {
     "end_time": "2023-06-19T13:44:07.940227Z",
     "start_time": "2023-06-19T13:44:07.799026Z"
    }
   },
   "outputs": [
    {
     "data": {
      "text/plain": [
       "0.8261315822601318"
      ]
     },
     "execution_count": 5,
     "metadata": {},
     "output_type": "execute_result"
    }
   ],
   "source": [
    "from torch.nn import CosineSimilarity\n",
    "\n",
    "cosine = CosineSimilarity(dim=0, eps=1e-8)\n",
    "cosine(embedding[0], embedding[1]).cpu().numpy().item()"
   ]
  },
  {
   "cell_type": "code",
   "execution_count": null,
   "metadata": {},
   "outputs": [],
   "source": []
  }
 ],
 "metadata": {
  "kernelspec": {
   "display_name": "Python 3 (ipykernel)",
   "language": "python",
   "name": "python3"
  },
  "language_info": {
   "codemirror_mode": {
    "name": "ipython",
    "version": 3
   },
   "file_extension": ".py",
   "mimetype": "text/x-python",
   "name": "python",
   "nbconvert_exporter": "python",
   "pygments_lexer": "ipython3",
   "version": "3.11.4"
  }
 },
 "nbformat": 4,
 "nbformat_minor": 1
}
