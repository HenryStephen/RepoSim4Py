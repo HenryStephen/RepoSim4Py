{
 "cells": [
  {
   "cell_type": "markdown",
   "id": "774335bb",
   "metadata": {},
   "source": [
    "# Embedding combination (100 repositories / validation set)"
   ]
  },
  {
   "cell_type": "markdown",
   "id": "b4e07f2e",
   "metadata": {},
   "source": [
    "## 1. Loading validation code embeddings"
   ]
  },
  {
   "cell_type": "code",
   "execution_count": 2,
   "id": "e8907bae",
   "metadata": {},
   "outputs": [
    {
     "name": "stdout",
     "output_type": "stream",
     "text": [
      "Collecting gdown\n",
      "  Downloading gdown-4.7.1-py3-none-any.whl (15 kB)\n",
      "Requirement already satisfied: filelock in /opt/homebrew/lib/python3.11/site-packages (from gdown) (3.12.2)\n",
      "Requirement already satisfied: requests[socks] in /opt/homebrew/lib/python3.11/site-packages (from gdown) (2.31.0)\n",
      "Requirement already satisfied: six in /opt/homebrew/lib/python3.11/site-packages (from gdown) (1.16.0)\n",
      "Requirement already satisfied: tqdm in /opt/homebrew/lib/python3.11/site-packages (from gdown) (4.65.0)\n",
      "Requirement already satisfied: beautifulsoup4 in /opt/homebrew/lib/python3.11/site-packages (from gdown) (4.12.2)\n",
      "Requirement already satisfied: soupsieve>1.2 in /opt/homebrew/lib/python3.11/site-packages (from beautifulsoup4->gdown) (2.4.1)\n",
      "Requirement already satisfied: charset-normalizer<4,>=2 in /opt/homebrew/lib/python3.11/site-packages (from requests[socks]->gdown) (3.1.0)\n",
      "Requirement already satisfied: idna<4,>=2.5 in /opt/homebrew/lib/python3.11/site-packages (from requests[socks]->gdown) (3.4)\n",
      "Requirement already satisfied: urllib3<3,>=1.21.1 in /opt/homebrew/lib/python3.11/site-packages (from requests[socks]->gdown) (2.0.3)\n",
      "Requirement already satisfied: certifi>=2017.4.17 in /opt/homebrew/lib/python3.11/site-packages (from requests[socks]->gdown) (2023.5.7)\n",
      "Collecting PySocks!=1.5.7,>=1.5.6 (from requests[socks]->gdown)\n",
      "  Downloading PySocks-1.7.1-py3-none-any.whl (16 kB)\n",
      "Installing collected packages: PySocks, gdown\n",
      "Successfully installed PySocks-1.7.1 gdown-4.7.1\n",
      "Downloading...\n",
      "From (uriginal): https://drive.google.com/uc?id=1EYm03h0z373Y214gcLku5ko8tC7l311p\n",
      "From (redirected): https://drive.google.com/uc?id=1EYm03h0z373Y214gcLku5ko8tC7l311p&confirm=t&uuid=a08b5759-3d46-4586-ad27-722259a6e3ef\n",
      "To: /Users/henry/Documents/PycharmProjects/RepoSim4Py/Embedding/Embedding_model_validation_100/repo_info_validation_code_embeddings.pkl\n",
      "100%|████████████████████████████████████████| 362M/362M [00:23<00:00, 15.5MB/s]\n"
     ]
    }
   ],
   "source": [
    "!pip3 install gdown\n",
    "!gdown 1EYm03h0z373Y214gcLku5ko8tC7l311p"
   ]
  },
  {
   "cell_type": "code",
   "execution_count": 3,
   "id": "0a544d29",
   "metadata": {},
   "outputs": [],
   "source": [
    "import pickle\n",
    "\n",
    "with open(\"repo_info_validation_code_embeddings.pkl\", \"rb\") as f:\n",
    "    repo_info_train_code_embeddings = pickle.load(f)\n",
    "    f.close()"
   ]
  },
  {
   "cell_type": "markdown",
   "id": "45ba1c0a",
   "metadata": {},
   "source": [
    "## 2. Loading validation doc embeddings"
   ]
  },
  {
   "cell_type": "code",
   "execution_count": 4,
   "id": "44b6702c",
   "metadata": {},
   "outputs": [
    {
     "name": "stdout",
     "output_type": "stream",
     "text": [
      "Downloading...\n",
      "From (uriginal): https://drive.google.com/uc?id=1cAes4txSkMVzpTXPLKjETz9zEYoEHPDD\n",
      "From (redirected): https://drive.google.com/uc?id=1cAes4txSkMVzpTXPLKjETz9zEYoEHPDD&confirm=t&uuid=3e6bb3a9-cd3c-4819-af2a-af6613d8049b\n",
      "To: /Users/henry/Documents/PycharmProjects/RepoSim4Py/Embedding/Embedding_model_validation_100/repo_info_validation_doc_embeddings.pkl\n",
      "100%|████████████████████████████████████████| 145M/145M [00:09<00:00, 15.3MB/s]\n"
     ]
    }
   ],
   "source": [
    "!gdown 1cAes4txSkMVzpTXPLKjETz9zEYoEHPDD"
   ]
  },
  {
   "cell_type": "code",
   "execution_count": 5,
   "id": "363da8d0",
   "metadata": {},
   "outputs": [],
   "source": [
    "with open(\"repo_info_validation_doc_embeddings.pkl\", \"rb\") as f:\n",
    "    repo_info_train_doc_embeddings = pickle.load(f)\n",
    "    f.close()"
   ]
  },
  {
   "cell_type": "markdown",
   "id": "9ae3b3c7",
   "metadata": {},
   "source": [
    "## 3. Loading validation structure embeddings"
   ]
  },
  {
   "cell_type": "code",
   "execution_count": 6,
   "id": "885f471e",
   "metadata": {},
   "outputs": [
    {
     "name": "stdout",
     "output_type": "stream",
     "text": [
      "Downloading...\n",
      "From: https://drive.google.com/uc?id=1IgyUSw3C9w4ICj5l_cbxU0tWH3Tw6F-O\n",
      "To: /Users/henry/Documents/PycharmProjects/RepoSim4Py/Embedding/Embedding_model_validation_100/repo_info_validation_structure_embeddings.pkl\n",
      "100%|██████████████████████████████████████| 51.7M/51.7M [00:06<00:00, 8.25MB/s]\n"
     ]
    }
   ],
   "source": [
    "!gdown 1IgyUSw3C9w4ICj5l_cbxU0tWH3Tw6F-O"
   ]
  },
  {
   "cell_type": "code",
   "execution_count": 7,
   "id": "4e118772",
   "metadata": {},
   "outputs": [],
   "source": [
    "with open(\"repo_info_validation_structure_embeddings.pkl\", \"rb\") as f:\n",
    "    repo_info_train_structure_embeddings = pickle.load(f)\n",
    "    f.close()"
   ]
  },
  {
   "cell_type": "markdown",
   "id": "dd9c6109",
   "metadata": {},
   "source": [
    "## 4. Loading validation requirements embeddings"
   ]
  },
  {
   "cell_type": "code",
   "execution_count": 8,
   "id": "a6fe92ee",
   "metadata": {},
   "outputs": [
    {
     "name": "stdout",
     "output_type": "stream",
     "text": [
      "Downloading...\n",
      "From: https://drive.google.com/uc?id=1DL4nB6-B17bqXH7CD9ry4ORdrHWFyC8i\n",
      "To: /Users/henry/Documents/PycharmProjects/RepoSim4Py/Embedding/Embedding_model_validation_100/repo_info_validation_requirements_embeddings.pkl\n",
      "100%|██████████████████████████████████████| 58.8M/58.8M [00:06<00:00, 8.91MB/s]\n"
     ]
    }
   ],
   "source": [
    "!gdown 1DL4nB6-B17bqXH7CD9ry4ORdrHWFyC8i"
   ]
  },
  {
   "cell_type": "code",
   "execution_count": 9,
   "id": "54600fcf",
   "metadata": {},
   "outputs": [],
   "source": [
    "with open(\"repo_info_validation_requirements_embeddings.pkl\", \"rb\") as f:\n",
    "    repo_info_train_requirements_embeddings = pickle.load(f)\n",
    "    f.close()"
   ]
  },
  {
   "cell_type": "markdown",
   "id": "421729d5",
   "metadata": {},
   "source": [
    "## 5. Loading validation readme embeddings"
   ]
  },
  {
   "cell_type": "code",
   "execution_count": 10,
   "id": "ff5e6969",
   "metadata": {},
   "outputs": [
    {
     "name": "stdout",
     "output_type": "stream",
     "text": [
      "Downloading...\n",
      "From: https://drive.google.com/uc?id=164O8Z9AhRpWGLoe19dk450W0LOyvvjBo\n",
      "To: /Users/henry/Documents/PycharmProjects/RepoSim4Py/Embedding/Embedding_model_validation_100/repo_info_validation_readme_embeddings.pkl\n",
      "100%|██████████████████████████████████████| 53.0M/53.0M [00:05<00:00, 9.47MB/s]\n"
     ]
    }
   ],
   "source": [
    "!gdown 164O8Z9AhRpWGLoe19dk450W0LOyvvjBo"
   ]
  },
  {
   "cell_type": "code",
   "execution_count": 11,
   "id": "e8799ddb",
   "metadata": {},
   "outputs": [],
   "source": [
    "with open(\"repo_info_validation_readme_embeddings.pkl\", \"rb\") as f:\n",
    "    repo_info_train_readme_embeddings = pickle.load(f)\n",
    "    f.close()"
   ]
  },
  {
   "cell_type": "markdown",
   "id": "8cee2c99",
   "metadata": {},
   "source": [
    "## 6. Embedding combination"
   ]
  },
  {
   "cell_type": "code",
   "execution_count": 12,
   "id": "d731d28b",
   "metadata": {},
   "outputs": [
    {
     "name": "stdout",
     "output_type": "stream",
     "text": [
      "Downloading...\n",
      "From: https://drive.google.com/uc?id=12njH7JojRSgK6yzfHmhdZSrnfVN9x9NQ\n",
      "To: /Users/henry/Documents/PycharmProjects/RepoSim4Py/Embedding/Embedding_model_validation_100/repo_info_validation.pkl\n",
      "100%|██████████████████████████████████████| 51.4M/51.4M [00:03<00:00, 14.2MB/s]\n"
     ]
    }
   ],
   "source": [
    "!gdown 12njH7JojRSgK6yzfHmhdZSrnfVN9x9NQ"
   ]
  },
  {
   "cell_type": "code",
   "execution_count": 13,
   "id": "49d41c22",
   "metadata": {},
   "outputs": [],
   "source": [
    "with open(\"repo_info_validation.pkl\", \"rb\") as f:\n",
    "    repo_info_train = pickle.load(f)\n",
    "    f.close()"
   ]
  },
  {
   "cell_type": "code",
   "execution_count": 14,
   "id": "442356c1",
   "metadata": {},
   "outputs": [],
   "source": [
    "repo_info_train_embeddings = repo_info_train_code_embeddings\n",
    "\n",
    "for repo in repo_info_train:\n",
    "    repo_info_train_embeddings[repo][\"codes_embeddings\"] = repo_info_train_code_embeddings[repo][\"codes_embeddings\"]\n",
    "    repo_info_train_embeddings[repo][\"docs_embeddings\"] = repo_info_train_doc_embeddings[repo][\"docs_embeddings\"]\n",
    "    repo_info_train_embeddings[repo][\"structure_embeddings\"] = repo_info_train_structure_embeddings[repo][\"structure_embeddings\"]\n",
    "    repo_info_train_embeddings[repo][\"requirements_embeddings\"] = repo_info_train_requirements_embeddings[repo][\"requirements_embeddings\"]\n",
    "    repo_info_train_embeddings[repo][\"readme_embeddings\"] = repo_info_train_readme_embeddings[repo][\"readme_embeddings\"]"
   ]
  },
  {
   "cell_type": "code",
   "execution_count": 15,
   "id": "6ba95470",
   "metadata": {},
   "outputs": [],
   "source": [
    "with open(\"repo_info_validation_embeddings.pkl\", \"wb\") as f:\n",
    "    pickle.dump(repo_info_train_embeddings, f)\n",
    "    f.close()"
   ]
  },
  {
   "cell_type": "markdown",
   "id": "7cfbbce5",
   "metadata": {},
   "source": [
    "## 7. Checking the correctness"
   ]
  },
  {
   "cell_type": "code",
   "execution_count": 16,
   "id": "2e771d6f",
   "metadata": {},
   "outputs": [
    {
     "name": "stdout",
     "output_type": "stream",
     "text": [
      "Downloading...\n",
      "From (uriginal): https://drive.google.com/uc?id=1WOqffTwS2AA8KDYOcA78vg_tCtVhx71T\n",
      "From (redirected): https://drive.google.com/uc?id=1WOqffTwS2AA8KDYOcA78vg_tCtVhx71T&confirm=t&uuid=2f70277b-5926-4dca-bd19-1022d437fb82\n",
      "To: /Users/henry/Documents/PycharmProjects/RepoSim4Py/Embedding/Embedding_model_validation_100/repo_info_validation_embeddings.pkl\n",
      "100%|████████████████████████████████████████| 465M/465M [00:50<00:00, 9.28MB/s]\n"
     ]
    }
   ],
   "source": [
    "!gdown 1WOqffTwS2AA8KDYOcA78vg_tCtVhx71T # Making this file to a google drive link\n",
    "# Or using \"repo_info_validation_embeddings.pkl\" directly"
   ]
  },
  {
   "cell_type": "code",
   "execution_count": 17,
   "id": "40291fdb",
   "metadata": {},
   "outputs": [],
   "source": [
    "import pickle\n",
    "with open(\"repo_info_validation_embeddings.pkl\", \"rb\") as f:\n",
    "    repo_info_train_embeddings = pickle.load(f)\n",
    "    f.close()"
   ]
  },
  {
   "cell_type": "code",
   "execution_count": 18,
   "id": "fb53ee40",
   "metadata": {},
   "outputs": [
    {
     "data": {
      "text/plain": [
       "dict_keys(['docs', 'codes', 'structure', 'requirements', 'readme', 'topic', 'codes_embeddings', 'docs_embeddings', 'structure_embeddings', 'requirements_embeddings', 'readme_embeddings'])"
      ]
     },
     "execution_count": 18,
     "metadata": {},
     "output_type": "execute_result"
    }
   ],
   "source": [
    "next(iter(repo_info_train_embeddings.values())).keys()"
   ]
  },
  {
   "cell_type": "code",
   "execution_count": null,
   "id": "139d6008",
   "metadata": {},
   "outputs": [],
   "source": []
  }
 ],
 "metadata": {
  "kernelspec": {
   "display_name": "Python 3 (ipykernel)",
   "language": "python",
   "name": "python3"
  },
  "language_info": {
   "codemirror_mode": {
    "name": "ipython",
    "version": 3
   },
   "file_extension": ".py",
   "mimetype": "text/x-python",
   "name": "python",
   "nbconvert_exporter": "python",
   "pygments_lexer": "ipython3",
   "version": "3.11.4"
  }
 },
 "nbformat": 4,
 "nbformat_minor": 5
}
