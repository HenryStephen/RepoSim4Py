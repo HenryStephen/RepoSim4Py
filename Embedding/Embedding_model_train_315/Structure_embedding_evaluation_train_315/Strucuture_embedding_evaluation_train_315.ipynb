{
 "cells": [
  {
   "cell_type": "markdown",
   "metadata": {
    "collapsed": true
   },
   "source": [
    "# Structure embedding evaluation (315 repositories / train set)"
   ]
  },
  {
   "cell_type": "markdown",
   "metadata": {},
   "source": [
    "## 1. Loading repository information"
   ]
  },
  {
   "cell_type": "code",
   "execution_count": 2,
   "metadata": {},
   "outputs": [
    {
     "name": "stdout",
     "output_type": "stream",
     "text": [
      "Requirement already satisfied: gdown in /opt/homebrew/lib/python3.10/site-packages (4.7.1)\n",
      "Requirement already satisfied: filelock in /opt/homebrew/lib/python3.10/site-packages (from gdown) (3.12.2)\n",
      "Requirement already satisfied: requests[socks] in /opt/homebrew/lib/python3.10/site-packages (from gdown) (2.28.2)\n",
      "Requirement already satisfied: six in /opt/homebrew/lib/python3.10/site-packages (from gdown) (1.16.0)\n",
      "Requirement already satisfied: tqdm in /opt/homebrew/lib/python3.10/site-packages (from gdown) (4.64.1)\n",
      "Requirement already satisfied: beautifulsoup4 in /opt/homebrew/lib/python3.10/site-packages (from gdown) (4.11.1)\n",
      "Requirement already satisfied: soupsieve>1.2 in /opt/homebrew/lib/python3.10/site-packages (from beautifulsoup4->gdown) (2.3.2.post1)\n",
      "Requirement already satisfied: charset-normalizer<4,>=2 in /opt/homebrew/lib/python3.10/site-packages (from requests[socks]->gdown) (3.0.1)\n",
      "Requirement already satisfied: idna<4,>=2.5 in /opt/homebrew/lib/python3.10/site-packages (from requests[socks]->gdown) (3.4)\n",
      "Requirement already satisfied: urllib3<1.27,>=1.21.1 in /opt/homebrew/lib/python3.10/site-packages (from requests[socks]->gdown) (1.26.14)\n",
      "Requirement already satisfied: certifi>=2017.4.17 in /opt/homebrew/lib/python3.10/site-packages (from requests[socks]->gdown) (2022.12.7)\n",
      "Requirement already satisfied: PySocks!=1.5.7,>=1.5.6 in /opt/homebrew/lib/python3.10/site-packages (from requests[socks]->gdown) (1.7.1)\n",
      "Downloading...\n",
      "From (uriginal): https://drive.google.com/uc?id=1sJDBLvVRvl4Sx0ICGuoM27pREIg0M756\n",
      "From (redirected): https://drive.google.com/uc?id=1sJDBLvVRvl4Sx0ICGuoM27pREIg0M756&confirm=t&uuid=602a0f65-3542-4767-a840-0406e26855d0\n",
      "To: /Users/Henry/Documents/PyCharmProjects/PythonSimilarity/Embedding/Embedding_model_315/Evaluation/repo_info.pkl\n",
      "100%|████████████████████████████████████████| 201M/201M [00:07<00:00, 25.4MB/s]\n"
     ]
    }
   ],
   "source": [
    "!pip install gdown\n",
    "!gdown 1sJDBLvVRvl4Sx0ICGuoM27pREIg0M756"
   ]
  },
  {
   "cell_type": "code",
   "execution_count": 3,
   "metadata": {},
   "outputs": [],
   "source": [
    "import pickle\n",
    "\n",
    "with open(\"repo_info_train.pkl\", \"rb\") as f:\n",
    "    repo_info = pickle.load(f)\n",
    "    f.close()"
   ]
  },
  {
   "cell_type": "markdown",
   "metadata": {},
   "source": [
    "## 2. Download pre-trained model"
   ]
  },
  {
   "cell_type": "code",
   "execution_count": 4,
   "metadata": {},
   "outputs": [
    {
     "name": "stdout",
     "output_type": "stream",
     "text": [
      "Requirement already satisfied: torch in /opt/homebrew/lib/python3.10/site-packages (2.0.1)\n",
      "Requirement already satisfied: filelock in /opt/homebrew/lib/python3.10/site-packages (from torch) (3.12.2)\n",
      "Requirement already satisfied: typing-extensions in /opt/homebrew/lib/python3.10/site-packages (from torch) (4.4.0)\n",
      "Requirement already satisfied: sympy in /opt/homebrew/lib/python3.10/site-packages (from torch) (1.12)\n",
      "Requirement already satisfied: networkx in /opt/homebrew/lib/python3.10/site-packages (from torch) (3.1)\n",
      "Requirement already satisfied: jinja2 in /opt/homebrew/lib/python3.10/site-packages (from torch) (3.1.2)\n",
      "Requirement already satisfied: MarkupSafe>=2.0 in /opt/homebrew/lib/python3.10/site-packages (from jinja2->torch) (2.1.2)\n",
      "Requirement already satisfied: mpmath>=0.19 in /opt/homebrew/lib/python3.10/site-packages (from sympy->torch) (1.3.0)\n",
      "Requirement already satisfied: transformers in /opt/homebrew/lib/python3.10/site-packages (4.30.2)\n",
      "Requirement already satisfied: filelock in /opt/homebrew/lib/python3.10/site-packages (from transformers) (3.12.2)\n",
      "Requirement already satisfied: huggingface-hub<1.0,>=0.14.1 in /opt/homebrew/lib/python3.10/site-packages (from transformers) (0.15.1)\n",
      "Requirement already satisfied: numpy>=1.17 in /opt/homebrew/lib/python3.10/site-packages (from transformers) (1.24.1)\n",
      "Requirement already satisfied: packaging>=20.0 in /opt/homebrew/lib/python3.10/site-packages (from transformers) (23.0)\n",
      "Requirement already satisfied: pyyaml>=5.1 in /opt/homebrew/lib/python3.10/site-packages (from transformers) (6.0)\n",
      "Requirement already satisfied: regex!=2019.12.17 in /opt/homebrew/lib/python3.10/site-packages (from transformers) (2022.10.31)\n",
      "Requirement already satisfied: requests in /opt/homebrew/lib/python3.10/site-packages (from transformers) (2.28.2)\n",
      "Requirement already satisfied: tokenizers!=0.11.3,<0.14,>=0.11.1 in /opt/homebrew/lib/python3.10/site-packages (from transformers) (0.13.3)\n",
      "Requirement already satisfied: safetensors>=0.3.1 in /opt/homebrew/lib/python3.10/site-packages (from transformers) (0.3.1)\n",
      "Requirement already satisfied: tqdm>=4.27 in /opt/homebrew/lib/python3.10/site-packages (from transformers) (4.64.1)\n",
      "Requirement already satisfied: fsspec in /opt/homebrew/lib/python3.10/site-packages (from huggingface-hub<1.0,>=0.14.1->transformers) (2023.6.0)\n",
      "Requirement already satisfied: typing-extensions>=3.7.4.3 in /opt/homebrew/lib/python3.10/site-packages (from huggingface-hub<1.0,>=0.14.1->transformers) (4.4.0)\n",
      "Requirement already satisfied: charset-normalizer<4,>=2 in /opt/homebrew/lib/python3.10/site-packages (from requests->transformers) (3.0.1)\n",
      "Requirement already satisfied: idna<4,>=2.5 in /opt/homebrew/lib/python3.10/site-packages (from requests->transformers) (3.4)\n",
      "Requirement already satisfied: urllib3<1.27,>=1.21.1 in /opt/homebrew/lib/python3.10/site-packages (from requests->transformers) (1.26.14)\n",
      "Requirement already satisfied: certifi>=2017.4.17 in /opt/homebrew/lib/python3.10/site-packages (from requests->transformers) (2022.12.7)\n",
      "Requirement already satisfied: sentence-transformers in /opt/homebrew/lib/python3.10/site-packages (2.2.2)\n",
      "Requirement already satisfied: transformers<5.0.0,>=4.6.0 in /opt/homebrew/lib/python3.10/site-packages (from sentence-transformers) (4.30.2)\n",
      "Requirement already satisfied: tqdm in /opt/homebrew/lib/python3.10/site-packages (from sentence-transformers) (4.64.1)\n",
      "Requirement already satisfied: torch>=1.6.0 in /opt/homebrew/lib/python3.10/site-packages (from sentence-transformers) (2.0.1)\n",
      "Requirement already satisfied: torchvision in /opt/homebrew/lib/python3.10/site-packages (from sentence-transformers) (0.15.2)\n",
      "Requirement already satisfied: numpy in /opt/homebrew/lib/python3.10/site-packages (from sentence-transformers) (1.24.1)\n",
      "Requirement already satisfied: scikit-learn in /opt/homebrew/lib/python3.10/site-packages (from sentence-transformers) (1.2.1)\n",
      "Requirement already satisfied: scipy in /opt/homebrew/lib/python3.10/site-packages (from sentence-transformers) (1.10.0)\n",
      "Requirement already satisfied: nltk in /opt/homebrew/lib/python3.10/site-packages (from sentence-transformers) (3.8.1)\n",
      "Requirement already satisfied: sentencepiece in /opt/homebrew/lib/python3.10/site-packages (from sentence-transformers) (0.1.99)\n",
      "Requirement already satisfied: huggingface-hub>=0.4.0 in /opt/homebrew/lib/python3.10/site-packages (from sentence-transformers) (0.15.1)\n",
      "Requirement already satisfied: filelock in /opt/homebrew/lib/python3.10/site-packages (from huggingface-hub>=0.4.0->sentence-transformers) (3.12.2)\n",
      "Requirement already satisfied: fsspec in /opt/homebrew/lib/python3.10/site-packages (from huggingface-hub>=0.4.0->sentence-transformers) (2023.6.0)\n",
      "Requirement already satisfied: requests in /opt/homebrew/lib/python3.10/site-packages (from huggingface-hub>=0.4.0->sentence-transformers) (2.28.2)\n",
      "Requirement already satisfied: pyyaml>=5.1 in /opt/homebrew/lib/python3.10/site-packages (from huggingface-hub>=0.4.0->sentence-transformers) (6.0)\n",
      "Requirement already satisfied: typing-extensions>=3.7.4.3 in /opt/homebrew/lib/python3.10/site-packages (from huggingface-hub>=0.4.0->sentence-transformers) (4.4.0)\n",
      "Requirement already satisfied: packaging>=20.9 in /opt/homebrew/lib/python3.10/site-packages (from huggingface-hub>=0.4.0->sentence-transformers) (23.0)\n",
      "Requirement already satisfied: sympy in /opt/homebrew/lib/python3.10/site-packages (from torch>=1.6.0->sentence-transformers) (1.12)\n",
      "Requirement already satisfied: networkx in /opt/homebrew/lib/python3.10/site-packages (from torch>=1.6.0->sentence-transformers) (3.1)\n",
      "Requirement already satisfied: jinja2 in /opt/homebrew/lib/python3.10/site-packages (from torch>=1.6.0->sentence-transformers) (3.1.2)\n",
      "Requirement already satisfied: regex!=2019.12.17 in /opt/homebrew/lib/python3.10/site-packages (from transformers<5.0.0,>=4.6.0->sentence-transformers) (2022.10.31)\n",
      "Requirement already satisfied: tokenizers!=0.11.3,<0.14,>=0.11.1 in /opt/homebrew/lib/python3.10/site-packages (from transformers<5.0.0,>=4.6.0->sentence-transformers) (0.13.3)\n",
      "Requirement already satisfied: safetensors>=0.3.1 in /opt/homebrew/lib/python3.10/site-packages (from transformers<5.0.0,>=4.6.0->sentence-transformers) (0.3.1)\n",
      "Requirement already satisfied: click in /opt/homebrew/lib/python3.10/site-packages (from nltk->sentence-transformers) (8.1.3)\n",
      "Requirement already satisfied: joblib in /opt/homebrew/lib/python3.10/site-packages (from nltk->sentence-transformers) (1.2.0)\n",
      "Requirement already satisfied: threadpoolctl>=2.0.0 in /opt/homebrew/lib/python3.10/site-packages (from scikit-learn->sentence-transformers) (3.1.0)\n",
      "Requirement already satisfied: pillow!=8.3.*,>=5.3.0 in /opt/homebrew/lib/python3.10/site-packages (from torchvision->sentence-transformers) (9.4.0)\n",
      "Requirement already satisfied: MarkupSafe>=2.0 in /opt/homebrew/lib/python3.10/site-packages (from jinja2->torch>=1.6.0->sentence-transformers) (2.1.2)\n",
      "Requirement already satisfied: charset-normalizer<4,>=2 in /opt/homebrew/lib/python3.10/site-packages (from requests->huggingface-hub>=0.4.0->sentence-transformers) (3.0.1)\n",
      "Requirement already satisfied: idna<4,>=2.5 in /opt/homebrew/lib/python3.10/site-packages (from requests->huggingface-hub>=0.4.0->sentence-transformers) (3.4)\n",
      "Requirement already satisfied: urllib3<1.27,>=1.21.1 in /opt/homebrew/lib/python3.10/site-packages (from requests->huggingface-hub>=0.4.0->sentence-transformers) (1.26.14)\n",
      "Requirement already satisfied: certifi>=2017.4.17 in /opt/homebrew/lib/python3.10/site-packages (from requests->huggingface-hub>=0.4.0->sentence-transformers) (2022.12.7)\n",
      "Requirement already satisfied: mpmath>=0.19 in /opt/homebrew/lib/python3.10/site-packages (from sympy->torch>=1.6.0->sentence-transformers) (1.3.0)\n",
      "  % Total    % Received % Xferd  Average Speed   Time    Time     Time  Current\n",
      "                                 Dload  Upload   Total   Spent    Left  Speed\n",
      "100 10352  100 10352    0     0  25802      0 --:--:-- --:--:-- --:--:-- 26075\n"
     ]
    }
   ],
   "source": [
    "!pip3 install torch\n",
    "!pip3 install transformers\n",
    "!pip3 install sentence-transformers\n",
    "# !wget https://raw.githubusercontent.com/microsoft/CodeBERT/master/UniXcoder/unixcoder.py\n",
    "!curl -O https: // raw.githubusercontent.com/microsoft/CodeBERT/master/UniXcoder/unixcoder.py"
   ]
  },
  {
   "cell_type": "code",
   "execution_count": 5,
   "metadata": {},
   "outputs": [
    {
     "name": "stdout",
     "output_type": "stream",
     "text": [
      "mps\n"
     ]
    }
   ],
   "source": [
    "import torch\n",
    "\n",
    "device = (\n",
    "    \"cuda\"\n",
    "    if torch.cuda.is_available()\n",
    "    else \"mps\"\n",
    "    if torch.backends.mps.is_available()\n",
    "    else \"cpu\"\n",
    ")\n",
    "print(device)"
   ]
  },
  {
   "cell_type": "code",
   "execution_count": 6,
   "metadata": {},
   "outputs": [],
   "source": [
    "unixcoder_model_names = [\n",
    "    \"microsoft/unixcoder-base-nine\",\n",
    "    \"microsoft/unixcoder-base\",\n",
    "    \"microsoft/unixcoder-base-unimodal\",\n",
    "    \"Lazyhope/unixcoder-nine-advtest\",\n",
    "    \"Lazyhope/unixcoder-clone-detection\",\n",
    "    \"Enoch/Unixcoder-Tuned-Code-Search-Py\"\n",
    "]\n",
    "sentence_transformer_model_names = [\n",
    "    \"sentence-transformers/all-mpnet-base-v2\",\n",
    "    \"sentence-transformers/multi-qa-mpnet-base-cos-v1\",\n",
    "    \"sentence-transformers/bert-base-nli-mean-tokens\",\n",
    "    \"sentence-transformers/paraphrase-multilingual-mpnet-base-v2\",\n",
    "    \"sentence-transformers/all-distilroberta-v1\",\n",
    "    \"sentence-transformers/distilbert-base-nli-mean-tokens\"\n",
    "]"
   ]
  },
  {
   "cell_type": "code",
   "execution_count": 7,
   "metadata": {},
   "outputs": [],
   "source": [
    "from unixcoder import UniXcoder\n",
    "from sentence_transformers import SentenceTransformer\n",
    "\n",
    "unixcoder_models = {}\n",
    "sentence_transformer_models = {}\n",
    "\n",
    "# Initialise unixcoder model\n",
    "for u_name in unixcoder_model_names:\n",
    "    unixcoder_models[u_name] = UniXcoder(u_name)\n",
    "    unixcoder_models[u_name].to(device)\n",
    "\n",
    "# Initialise sentence transformer model\n",
    "for s_name in sentence_transformer_model_names:\n",
    "    sentence_transformer_models[s_name] = SentenceTransformer(model_name_or_path=s_name, device=device)"
   ]
  },
  {
   "cell_type": "markdown",
   "metadata": {},
   "source": [
    "## 3. Generating structure embeddings"
   ]
  },
  {
   "cell_type": "code",
   "execution_count": 8,
   "metadata": {},
   "outputs": [],
   "source": [
    "# Getting code embeddings\n",
    "def get_code_embeddings(code, model):\n",
    "    tokens_ids = model.tokenize([code], max_length=512, mode=\"<encoder-only>\")\n",
    "    source_ids = torch.tensor(tokens_ids).to(device)\n",
    "    _, embeddings = model(source_ids)\n",
    "    return embeddings\n",
    "\n",
    "\n",
    "# Getting other embbeddings\n",
    "def get_other_embeddings(data_list):\n",
    "    embeddings = {}\n",
    "\n",
    "    # Unixcoder model\n",
    "    #     for u_name, u_model in tqdm(unixcoder_models.items()):\n",
    "    #         print(f\" - Using {u_name} model - \")\n",
    "    #         embeddings_list = torch.concat([get_code_embeddings(code, u_model) for code in data_list])\n",
    "    #         embeddings[u_name] = torch.mean(embeddings_list, dim=0)\n",
    "    # embeddings[u_name] = embeddings_list\n",
    "\n",
    "    # Sentence transformer model\n",
    "    for s_name, s_model in tqdm(sentence_transformer_models.items()):\n",
    "        print(f\" - Using {s_name} model - \")\n",
    "        embeddings_list = s_model.encode(data_list, convert_to_tensor=True)\n",
    "        embeddings[s_name] = torch.mean(embeddings_list, dim=0)\n",
    "        # embeddings[s_name] = embeddings_list\n",
    "\n",
    "    return embeddings\n",
    "\n",
    "\n",
    "# Getting embeddings\n",
    "def get_embeddings(input_data=None, input_mode=None):\n",
    "    if input_data is None or not input_data:\n",
    "        return torch.zeros((768,), device=device)\n",
    "\n",
    "    with torch.no_grad():\n",
    "        if input_mode == \"structure\":\n",
    "            return get_other_embeddings(input_data)\n"
   ]
  },
  {
   "cell_type": "code",
   "execution_count": 9,
   "metadata": {},
   "outputs": [
    {
     "name": "stderr",
     "output_type": "stream",
     "text": [
      "\r",
      "  0%|                                                   | 0/315 [00:00<?, ?it/s]"
     ]
    },
    {
     "name": "stdout",
     "output_type": "stream",
     "text": [
      " - Generating structure embeddings for jet-admin/jet-bridge - \n"
     ]
    },
    {
     "name": "stderr",
     "output_type": "stream",
     "text": [
      "\n",
      "  0%|                                                     | 0/6 [00:00<?, ?it/s]\u001B[A"
     ]
    },
    {
     "name": "stdout",
     "output_type": "stream",
     "text": [
      " - Using sentence-transformers/all-mpnet-base-v2 model - \n"
     ]
    },
    {
     "name": "stderr",
     "output_type": "stream",
     "text": [
      "\n",
      " 17%|███████▌                                     | 1/6 [00:00<00:03,  1.29it/s]\u001B[A"
     ]
    },
    {
     "name": "stdout",
     "output_type": "stream",
     "text": [
      " - Using sentence-transformers/multi-qa-mpnet-base-cos-v1 model - \n"
     ]
    },
    {
     "name": "stderr",
     "output_type": "stream",
     "text": [
      "\n",
      " 33%|███████████████                              | 2/6 [00:01<00:02,  1.89it/s]\u001B[A"
     ]
    },
    {
     "name": "stdout",
     "output_type": "stream",
     "text": [
      " - Using sentence-transformers/bert-base-nli-mean-tokens model - \n"
     ]
    },
    {
     "name": "stderr",
     "output_type": "stream",
     "text": [
      "\n",
      " 50%|██████████████████████▌                      | 3/6 [00:01<00:01,  2.37it/s]\u001B[A"
     ]
    },
    {
     "name": "stdout",
     "output_type": "stream",
     "text": [
      " - Using sentence-transformers/paraphrase-multilingual-mpnet-base-v2 model - \n"
     ]
    },
    {
     "name": "stderr",
     "output_type": "stream",
     "text": [
      "\n",
      " 67%|██████████████████████████████               | 4/6 [00:02<00:00,  2.07it/s]\u001B[A"
     ]
    },
    {
     "name": "stdout",
     "output_type": "stream",
     "text": [
      " - Using sentence-transformers/all-distilroberta-v1 model - \n"
     ]
    },
    {
     "name": "stderr",
     "output_type": "stream",
     "text": [
      "\n",
      " 83%|█████████████████████████████████████▌       | 5/6 [00:02<00:00,  2.60it/s]\u001B[A\n",
      "100%|█████████████████████████████████████████████| 6/6 [00:02<00:00,  2.57it/s]\u001B[A\n",
      "  0%|▏                                          | 1/315 [00:02<12:14,  2.34s/it]"
     ]
    },
    {
     "name": "stdout",
     "output_type": "stream",
     "text": [
      " - Using sentence-transformers/distilbert-base-nli-mean-tokens model - \n",
      " - Generating structure embeddings for patrys/httmock - \n"
     ]
    },
    {
     "name": "stderr",
     "output_type": "stream",
     "text": [
      "\n",
      "  0%|                                                     | 0/6 [00:00<?, ?it/s]\u001B[A"
     ]
    },
    {
     "name": "stdout",
     "output_type": "stream",
     "text": [
      " - Using sentence-transformers/all-mpnet-base-v2 model - \n",
      " - Using sentence-transformers/multi-qa-mpnet-base-cos-v1 model - \n",
      " - Using sentence-transformers/bert-base-nli-mean-tokens model - \n"
     ]
    },
    {
     "name": "stderr",
     "output_type": "stream",
     "text": [
      "\n",
      "100%|█████████████████████████████████████████████| 6/6 [00:00<00:00, 41.57it/s]\u001B[A\n",
      "  1%|▎                                          | 2/315 [00:02<05:28,  1.05s/it]"
     ]
    },
    {
     "name": "stdout",
     "output_type": "stream",
     "text": [
      " - Using sentence-transformers/paraphrase-multilingual-mpnet-base-v2 model - \n",
      " - Using sentence-transformers/all-distilroberta-v1 model - \n",
      " - Using sentence-transformers/distilbert-base-nli-mean-tokens model - \n",
      " - Generating structure embeddings for pytransitions/transitions - \n"
     ]
    },
    {
     "name": "stderr",
     "output_type": "stream",
     "text": [
      "\n",
      "  0%|                                                     | 0/6 [00:00<?, ?it/s]\u001B[A"
     ]
    },
    {
     "name": "stdout",
     "output_type": "stream",
     "text": [
      " - Using sentence-transformers/all-mpnet-base-v2 model - \n",
      " - Using sentence-transformers/multi-qa-mpnet-base-cos-v1 model - \n",
      " - Using sentence-transformers/bert-base-nli-mean-tokens model - \n"
     ]
    },
    {
     "name": "stderr",
     "output_type": "stream",
     "text": [
      "\n",
      "100%|█████████████████████████████████████████████| 6/6 [00:00<00:00, 51.88it/s]\u001B[A\n",
      "  1%|▍                                          | 3/315 [00:02<03:14,  1.60it/s]"
     ]
    },
    {
     "name": "stdout",
     "output_type": "stream",
     "text": [
      " - Using sentence-transformers/paraphrase-multilingual-mpnet-base-v2 model - \n",
      " - Using sentence-transformers/all-distilroberta-v1 model - \n",
      " - Using sentence-transformers/distilbert-base-nli-mean-tokens model - \n",
      " - Generating structure embeddings for keleshev/schema - \n"
     ]
    },
    {
     "name": "stderr",
     "output_type": "stream",
     "text": [
      "\n",
      "  0%|                                                     | 0/6 [00:00<?, ?it/s]\u001B[A"
     ]
    },
    {
     "name": "stdout",
     "output_type": "stream",
     "text": [
      " - Using sentence-transformers/all-mpnet-base-v2 model - \n",
      " - Using sentence-transformers/multi-qa-mpnet-base-cos-v1 model - \n",
      " - Using sentence-transformers/bert-base-nli-mean-tokens model - \n",
      " - Using sentence-transformers/paraphrase-multilingual-mpnet-base-v2 model - \n"
     ]
    },
    {
     "name": "stderr",
     "output_type": "stream",
     "text": [
      "\n",
      "100%|█████████████████████████████████████████████| 6/6 [00:00<00:00, 51.35it/s]\u001B[A\n",
      "  1%|▌                                          | 4/315 [00:02<02:11,  2.36it/s]"
     ]
    },
    {
     "name": "stdout",
     "output_type": "stream",
     "text": [
      " - Using sentence-transformers/all-distilroberta-v1 model - \n",
      " - Using sentence-transformers/distilbert-base-nli-mean-tokens model - \n",
      " - Generating structure embeddings for dylanaraps/pywal - \n"
     ]
    },
    {
     "name": "stderr",
     "output_type": "stream",
     "text": [
      "\n",
      "  0%|                                                     | 0/6 [00:00<?, ?it/s]\u001B[A"
     ]
    },
    {
     "name": "stdout",
     "output_type": "stream",
     "text": [
      " - Using sentence-transformers/all-mpnet-base-v2 model - \n",
      " - Using sentence-transformers/multi-qa-mpnet-base-cos-v1 model - \n",
      " - Using sentence-transformers/bert-base-nli-mean-tokens model - \n",
      " - Using sentence-transformers/paraphrase-multilingual-mpnet-base-v2 model - \n"
     ]
    },
    {
     "name": "stderr",
     "output_type": "stream",
     "text": [
      "\n",
      "100%|█████████████████████████████████████████████| 6/6 [00:00<00:00, 51.12it/s]\u001B[A\n",
      "  2%|▋                                          | 5/315 [00:02<01:37,  3.17it/s]"
     ]
    },
    {
     "name": "stdout",
     "output_type": "stream",
     "text": [
      " - Using sentence-transformers/all-distilroberta-v1 model - \n",
      " - Using sentence-transformers/distilbert-base-nli-mean-tokens model - \n",
      " - Generating structure embeddings for PyCQA/modernize - \n"
     ]
    },
    {
     "name": "stderr",
     "output_type": "stream",
     "text": [
      "\n",
      "  0%|                                                     | 0/6 [00:00<?, ?it/s]\u001B[A"
     ]
    },
    {
     "name": "stdout",
     "output_type": "stream",
     "text": [
      " - Using sentence-transformers/all-mpnet-base-v2 model - \n",
      " - Using sentence-transformers/multi-qa-mpnet-base-cos-v1 model - \n",
      " - Using sentence-transformers/bert-base-nli-mean-tokens model - \n",
      " - Using sentence-transformers/paraphrase-multilingual-mpnet-base-v2 model - \n"
     ]
    },
    {
     "name": "stderr",
     "output_type": "stream",
     "text": [
      "\n",
      "100%|█████████████████████████████████████████████| 6/6 [00:00<00:00, 47.75it/s]\u001B[A\n",
      "  2%|▊                                          | 6/315 [00:02<01:17,  3.98it/s]"
     ]
    },
    {
     "name": "stdout",
     "output_type": "stream",
     "text": [
      " - Using sentence-transformers/all-distilroberta-v1 model - \n",
      " - Using sentence-transformers/distilbert-base-nli-mean-tokens model - \n",
      " - Generating structure embeddings for jaraco/path.py - \n"
     ]
    },
    {
     "name": "stderr",
     "output_type": "stream",
     "text": [
      "\n",
      "  0%|                                                     | 0/6 [00:00<?, ?it/s]\u001B[A"
     ]
    },
    {
     "name": "stdout",
     "output_type": "stream",
     "text": [
      " - Using sentence-transformers/all-mpnet-base-v2 model - \n",
      " - Using sentence-transformers/multi-qa-mpnet-base-cos-v1 model - \n",
      " - Using sentence-transformers/bert-base-nli-mean-tokens model - \n",
      " - Using sentence-transformers/paraphrase-multilingual-mpnet-base-v2 model - \n",
      " - Using sentence-transformers/all-distilroberta-v1 model - \n"
     ]
    },
    {
     "name": "stderr",
     "output_type": "stream",
     "text": [
      "\n",
      "100%|█████████████████████████████████████████████| 6/6 [00:00<00:00, 50.72it/s]\u001B[A\n",
      "  2%|▉                                          | 7/315 [00:03<01:04,  4.79it/s]"
     ]
    },
    {
     "name": "stdout",
     "output_type": "stream",
     "text": [
      " - Using sentence-transformers/distilbert-base-nli-mean-tokens model - \n",
      " - Generating structure embeddings for xonsh/xonsh - \n"
     ]
    },
    {
     "name": "stderr",
     "output_type": "stream",
     "text": [
      "\n",
      "  0%|                                                     | 0/6 [00:00<?, ?it/s]\u001B[A"
     ]
    },
    {
     "name": "stdout",
     "output_type": "stream",
     "text": [
      " - Using sentence-transformers/all-mpnet-base-v2 model - \n",
      " - Using sentence-transformers/multi-qa-mpnet-base-cos-v1 model - \n",
      " - Using sentence-transformers/bert-base-nli-mean-tokens model - \n",
      " - Using sentence-transformers/paraphrase-multilingual-mpnet-base-v2 model - \n",
      " - Using sentence-transformers/all-distilroberta-v1 model - \n",
      " - Using sentence-transformers/distilbert-base-nli-mean-tokens model - \n"
     ]
    },
    {
     "name": "stderr",
     "output_type": "stream",
     "text": [
      "\n",
      "100%|█████████████████████████████████████████████| 6/6 [00:00<00:00, 55.62it/s]\u001B[A\n",
      "  3%|█                                          | 8/315 [00:03<00:54,  5.65it/s]"
     ]
    },
    {
     "name": "stdout",
     "output_type": "stream",
     "text": [
      " - Generating structure embeddings for python-excel/xlrd - \n"
     ]
    },
    {
     "name": "stderr",
     "output_type": "stream",
     "text": [
      "\n",
      "  0%|                                                     | 0/6 [00:00<?, ?it/s]\u001B[A"
     ]
    },
    {
     "name": "stdout",
     "output_type": "stream",
     "text": [
      " - Using sentence-transformers/all-mpnet-base-v2 model - \n",
      " - Using sentence-transformers/multi-qa-mpnet-base-cos-v1 model - \n",
      " - Using sentence-transformers/bert-base-nli-mean-tokens model - \n",
      " - Using sentence-transformers/paraphrase-multilingual-mpnet-base-v2 model - \n",
      " - Using sentence-transformers/all-distilroberta-v1 model - \n"
     ]
    },
    {
     "name": "stderr",
     "output_type": "stream",
     "text": [
      "\n",
      "100%|█████████████████████████████████████████████| 6/6 [00:00<00:00, 50.12it/s]\u001B[A\n",
      "  3%|█▏                                         | 9/315 [00:03<00:48,  6.26it/s]"
     ]
    },
    {
     "name": "stdout",
     "output_type": "stream",
     "text": [
      " - Using sentence-transformers/distilbert-base-nli-mean-tokens model - \n",
      " - Generating structure embeddings for cloudnativelabs/kube-shell - \n"
     ]
    },
    {
     "name": "stderr",
     "output_type": "stream",
     "text": [
      "\n",
      "  0%|                                                     | 0/6 [00:00<?, ?it/s]\u001B[A"
     ]
    },
    {
     "name": "stdout",
     "output_type": "stream",
     "text": [
      " - Using sentence-transformers/all-mpnet-base-v2 model - \n",
      " - Using sentence-transformers/multi-qa-mpnet-base-cos-v1 model - \n",
      " - Using sentence-transformers/bert-base-nli-mean-tokens model - \n",
      " - Using sentence-transformers/paraphrase-multilingual-mpnet-base-v2 model - \n",
      " - Using sentence-transformers/all-distilroberta-v1 model - \n"
     ]
    },
    {
     "name": "stderr",
     "output_type": "stream",
     "text": [
      "\n",
      "100%|█████████████████████████████████████████████| 6/6 [00:00<00:00, 48.40it/s]\u001B[A\n",
      "  3%|█▎                                        | 10/315 [00:03<00:45,  6.70it/s]"
     ]
    },
    {
     "name": "stdout",
     "output_type": "stream",
     "text": [
      " - Using sentence-transformers/distilbert-base-nli-mean-tokens model - \n",
      " - Generating structure embeddings for ironmussa/Optimus - \n"
     ]
    },
    {
     "name": "stderr",
     "output_type": "stream",
     "text": [
      "\n",
      "  0%|                                                     | 0/6 [00:00<?, ?it/s]\u001B[A"
     ]
    },
    {
     "name": "stdout",
     "output_type": "stream",
     "text": [
      " - Using sentence-transformers/all-mpnet-base-v2 model - \n",
      " - Using sentence-transformers/multi-qa-mpnet-base-cos-v1 model - \n",
      " - Using sentence-transformers/bert-base-nli-mean-tokens model - \n",
      " - Using sentence-transformers/paraphrase-multilingual-mpnet-base-v2 model - \n",
      " - Using sentence-transformers/all-distilroberta-v1 model - \n",
      " - Using sentence-transformers/distilbert-base-nli-mean-tokens model - \n"
     ]
    },
    {
     "name": "stderr",
     "output_type": "stream",
     "text": [
      "\n",
      "100%|█████████████████████████████████████████████| 6/6 [00:00<00:00, 51.59it/s]\u001B[A\n",
      "  3%|█▍                                        | 11/315 [00:03<00:42,  7.16it/s]"
     ]
    },
    {
     "name": "stdout",
     "output_type": "stream",
     "text": [
      " - Generating structure embeddings for jazzband/django-taggit - \n"
     ]
    },
    {
     "name": "stderr",
     "output_type": "stream",
     "text": [
      "\n",
      "  0%|                                                     | 0/6 [00:00<?, ?it/s]\u001B[A"
     ]
    },
    {
     "name": "stdout",
     "output_type": "stream",
     "text": [
      " - Using sentence-transformers/all-mpnet-base-v2 model - \n",
      " - Using sentence-transformers/multi-qa-mpnet-base-cos-v1 model - \n",
      " - Using sentence-transformers/bert-base-nli-mean-tokens model - \n",
      " - Using sentence-transformers/paraphrase-multilingual-mpnet-base-v2 model - \n",
      " - Using sentence-transformers/all-distilroberta-v1 model - \n",
      " - Using sentence-transformers/distilbert-base-nli-mean-tokens model - \n"
     ]
    },
    {
     "name": "stderr",
     "output_type": "stream",
     "text": [
      "\n",
      "100%|█████████████████████████████████████████████| 6/6 [00:00<00:00, 53.23it/s]\u001B[A\n",
      "  4%|█▌                                        | 12/315 [00:03<00:39,  7.58it/s]"
     ]
    },
    {
     "name": "stdout",
     "output_type": "stream",
     "text": [
      " - Generating structure embeddings for moggers87/salmon - \n"
     ]
    },
    {
     "name": "stderr",
     "output_type": "stream",
     "text": [
      "\n",
      "  0%|                                                     | 0/6 [00:00<?, ?it/s]\u001B[A"
     ]
    },
    {
     "name": "stdout",
     "output_type": "stream",
     "text": [
      " - Using sentence-transformers/all-mpnet-base-v2 model - \n",
      " - Using sentence-transformers/multi-qa-mpnet-base-cos-v1 model - \n",
      " - Using sentence-transformers/bert-base-nli-mean-tokens model - \n",
      " - Using sentence-transformers/paraphrase-multilingual-mpnet-base-v2 model - \n",
      " - Using sentence-transformers/all-distilroberta-v1 model - \n"
     ]
    },
    {
     "name": "stderr",
     "output_type": "stream",
     "text": [
      "\n",
      "100%|█████████████████████████████████████████████| 6/6 [00:00<00:00, 59.35it/s]\u001B[A\n",
      "  4%|█▋                                        | 13/315 [00:03<00:37,  8.12it/s]"
     ]
    },
    {
     "name": "stdout",
     "output_type": "stream",
     "text": [
      " - Using sentence-transformers/distilbert-base-nli-mean-tokens model - \n",
      " - Generating structure embeddings for glamp/bashplotlib - \n"
     ]
    },
    {
     "name": "stderr",
     "output_type": "stream",
     "text": [
      "\n",
      "  0%|                                                     | 0/6 [00:00<?, ?it/s]\u001B[A"
     ]
    },
    {
     "name": "stdout",
     "output_type": "stream",
     "text": [
      " - Using sentence-transformers/all-mpnet-base-v2 model - \n",
      " - Using sentence-transformers/multi-qa-mpnet-base-cos-v1 model - \n",
      " - Using sentence-transformers/bert-base-nli-mean-tokens model - \n",
      " - Using sentence-transformers/paraphrase-multilingual-mpnet-base-v2 model - \n",
      " - Using sentence-transformers/all-distilroberta-v1 model - \n"
     ]
    },
    {
     "name": "stderr",
     "output_type": "stream",
     "text": [
      "\n",
      "100%|█████████████████████████████████████████████| 6/6 [00:00<00:00, 52.19it/s]\u001B[A\n",
      "  4%|█▊                                        | 14/315 [00:03<00:36,  8.24it/s]"
     ]
    },
    {
     "name": "stdout",
     "output_type": "stream",
     "text": [
      " - Using sentence-transformers/distilbert-base-nli-mean-tokens model - \n",
      " - Generating structure embeddings for PyCQA/prospector - \n"
     ]
    },
    {
     "name": "stderr",
     "output_type": "stream",
     "text": [
      "\n",
      "  0%|                                                     | 0/6 [00:00<?, ?it/s]\u001B[A"
     ]
    },
    {
     "name": "stdout",
     "output_type": "stream",
     "text": [
      " - Using sentence-transformers/all-mpnet-base-v2 model - \n"
     ]
    },
    {
     "name": "stderr",
     "output_type": "stream",
     "text": [
      "\n",
      " 17%|███████▌                                     | 1/6 [00:00<00:00,  9.90it/s]\u001B[A"
     ]
    },
    {
     "name": "stdout",
     "output_type": "stream",
     "text": [
      " - Using sentence-transformers/multi-qa-mpnet-base-cos-v1 model - \n",
      " - Using sentence-transformers/bert-base-nli-mean-tokens model - \n",
      " - Using sentence-transformers/paraphrase-multilingual-mpnet-base-v2 model - \n",
      " - Using sentence-transformers/all-distilroberta-v1 model - \n"
     ]
    },
    {
     "name": "stderr",
     "output_type": "stream",
     "text": [
      "\n",
      "100%|█████████████████████████████████████████████| 6/6 [00:00<00:00, 24.60it/s]\u001B[A\n",
      "  5%|██                                        | 15/315 [00:04<00:47,  6.30it/s]"
     ]
    },
    {
     "name": "stdout",
     "output_type": "stream",
     "text": [
      " - Using sentence-transformers/distilbert-base-nli-mean-tokens model - \n",
      " - Generating structure embeddings for twisted/treq - \n"
     ]
    },
    {
     "name": "stderr",
     "output_type": "stream",
     "text": [
      "\n",
      "  0%|                                                     | 0/6 [00:00<?, ?it/s]\u001B[A"
     ]
    },
    {
     "name": "stdout",
     "output_type": "stream",
     "text": [
      " - Using sentence-transformers/all-mpnet-base-v2 model - \n",
      " - Using sentence-transformers/multi-qa-mpnet-base-cos-v1 model - \n",
      " - Using sentence-transformers/bert-base-nli-mean-tokens model - \n",
      " - Using sentence-transformers/paraphrase-multilingual-mpnet-base-v2 model - \n"
     ]
    },
    {
     "name": "stderr",
     "output_type": "stream",
     "text": [
      "\n",
      " 83%|█████████████████████████████████████▌       | 5/6 [00:00<00:00, 49.96it/s]\u001B[A"
     ]
    },
    {
     "name": "stdout",
     "output_type": "stream",
     "text": [
      " - Using sentence-transformers/all-distilroberta-v1 model - \n",
      " - Using sentence-transformers/distilbert-base-nli-mean-tokens model - \n"
     ]
    },
    {
     "name": "stderr",
     "output_type": "stream",
     "text": [
      "100%|█████████████████████████████████████████████| 6/6 [00:00<00:00, 52.84it/s]\n",
      "  5%|██▏                                       | 16/315 [00:04<00:43,  6.87it/s]"
     ]
    },
    {
     "name": "stdout",
     "output_type": "stream",
     "text": [
      " - Generating structure embeddings for bbangert/beaker - \n"
     ]
    },
    {
     "name": "stderr",
     "output_type": "stream",
     "text": [
      "\n",
      "  0%|                                                     | 0/6 [00:00<?, ?it/s]\u001B[A"
     ]
    },
    {
     "name": "stdout",
     "output_type": "stream",
     "text": [
      " - Using sentence-transformers/all-mpnet-base-v2 model - \n",
      " - Using sentence-transformers/multi-qa-mpnet-base-cos-v1 model - \n",
      " - Using sentence-transformers/bert-base-nli-mean-tokens model - \n",
      " - Using sentence-transformers/paraphrase-multilingual-mpnet-base-v2 model - \n"
     ]
    },
    {
     "name": "stderr",
     "output_type": "stream",
     "text": [
      "\n",
      "100%|█████████████████████████████████████████████| 6/6 [00:00<00:00, 50.04it/s]\u001B[A\n",
      "  5%|██▎                                       | 17/315 [00:04<00:41,  7.22it/s]"
     ]
    },
    {
     "name": "stdout",
     "output_type": "stream",
     "text": [
      " - Using sentence-transformers/all-distilroberta-v1 model - \n",
      " - Using sentence-transformers/distilbert-base-nli-mean-tokens model - \n",
      " - Generating structure embeddings for pypa/bandersnatch - \n"
     ]
    },
    {
     "name": "stderr",
     "output_type": "stream",
     "text": [
      "\n",
      "  0%|                                                     | 0/6 [00:00<?, ?it/s]\u001B[A"
     ]
    },
    {
     "name": "stdout",
     "output_type": "stream",
     "text": [
      " - Using sentence-transformers/all-mpnet-base-v2 model - \n",
      " - Using sentence-transformers/multi-qa-mpnet-base-cos-v1 model - \n",
      " - Using sentence-transformers/bert-base-nli-mean-tokens model - \n",
      " - Using sentence-transformers/paraphrase-multilingual-mpnet-base-v2 model - \n"
     ]
    },
    {
     "name": "stderr",
     "output_type": "stream",
     "text": [
      "\n",
      "100%|█████████████████████████████████████████████| 6/6 [00:00<00:00, 53.72it/s]\u001B[A\n",
      "  6%|██▍                                       | 18/315 [00:04<00:38,  7.65it/s]"
     ]
    },
    {
     "name": "stdout",
     "output_type": "stream",
     "text": [
      " - Using sentence-transformers/all-distilroberta-v1 model - \n",
      " - Using sentence-transformers/distilbert-base-nli-mean-tokens model - \n",
      " - Generating structure embeddings for zachwill/moment - \n"
     ]
    },
    {
     "name": "stderr",
     "output_type": "stream",
     "text": [
      "\n",
      "  0%|                                                     | 0/6 [00:00<?, ?it/s]\u001B[A"
     ]
    },
    {
     "name": "stdout",
     "output_type": "stream",
     "text": [
      " - Using sentence-transformers/all-mpnet-base-v2 model - \n",
      " - Using sentence-transformers/multi-qa-mpnet-base-cos-v1 model - \n",
      " - Using sentence-transformers/bert-base-nli-mean-tokens model - \n",
      " - Using sentence-transformers/paraphrase-multilingual-mpnet-base-v2 model - \n",
      " - Using sentence-transformers/all-distilroberta-v1 model - \n"
     ]
    },
    {
     "name": "stderr",
     "output_type": "stream",
     "text": [
      "\n",
      "100%|█████████████████████████████████████████████| 6/6 [00:00<00:00, 52.50it/s]\u001B[A\n",
      "  6%|██▌                                       | 19/315 [00:04<00:37,  7.92it/s]"
     ]
    },
    {
     "name": "stdout",
     "output_type": "stream",
     "text": [
      " - Using sentence-transformers/distilbert-base-nli-mean-tokens model - \n",
      " - Generating structure embeddings for encode/apistar - \n"
     ]
    },
    {
     "name": "stderr",
     "output_type": "stream",
     "text": [
      "\n",
      "  0%|                                                     | 0/6 [00:00<?, ?it/s]\u001B[A"
     ]
    },
    {
     "name": "stdout",
     "output_type": "stream",
     "text": [
      " - Using sentence-transformers/all-mpnet-base-v2 model - \n",
      " - Using sentence-transformers/multi-qa-mpnet-base-cos-v1 model - \n",
      " - Using sentence-transformers/bert-base-nli-mean-tokens model - \n",
      " - Using sentence-transformers/paraphrase-multilingual-mpnet-base-v2 model - \n",
      " - Using sentence-transformers/all-distilroberta-v1 model - \n"
     ]
    },
    {
     "name": "stderr",
     "output_type": "stream",
     "text": [
      "\n",
      "100%|█████████████████████████████████████████████| 6/6 [00:00<00:00, 50.28it/s]\u001B[A\n",
      "  6%|██▋                                       | 20/315 [00:04<00:36,  8.02it/s]"
     ]
    },
    {
     "name": "stdout",
     "output_type": "stream",
     "text": [
      " - Using sentence-transformers/distilbert-base-nli-mean-tokens model - \n",
      " - Generating structure embeddings for pyinvoke/invoke - \n"
     ]
    },
    {
     "name": "stderr",
     "output_type": "stream",
     "text": [
      "\n",
      "  0%|                                                     | 0/6 [00:00<?, ?it/s]\u001B[A"
     ]
    },
    {
     "name": "stdout",
     "output_type": "stream",
     "text": [
      " - Using sentence-transformers/all-mpnet-base-v2 model - \n",
      " - Using sentence-transformers/multi-qa-mpnet-base-cos-v1 model - \n",
      " - Using sentence-transformers/bert-base-nli-mean-tokens model - \n",
      " - Using sentence-transformers/paraphrase-multilingual-mpnet-base-v2 model - \n",
      " - Using sentence-transformers/all-distilroberta-v1 model - \n",
      " - Using sentence-transformers/distilbert-base-nli-mean-tokens model - \n"
     ]
    },
    {
     "name": "stderr",
     "output_type": "stream",
     "text": [
      "\n",
      "100%|█████████████████████████████████████████████| 6/6 [00:00<00:00, 52.93it/s]\u001B[A\n",
      "  7%|██▊                                       | 21/315 [00:04<00:35,  8.21it/s]"
     ]
    },
    {
     "name": "stdout",
     "output_type": "stream",
     "text": [
      " - Generating structure embeddings for skorokithakis/shortuuid - \n"
     ]
    },
    {
     "name": "stderr",
     "output_type": "stream",
     "text": [
      "\n",
      "  0%|                                                     | 0/6 [00:00<?, ?it/s]\u001B[A"
     ]
    },
    {
     "name": "stdout",
     "output_type": "stream",
     "text": [
      " - Using sentence-transformers/all-mpnet-base-v2 model - \n",
      " - Using sentence-transformers/multi-qa-mpnet-base-cos-v1 model - \n",
      " - Using sentence-transformers/bert-base-nli-mean-tokens model - \n",
      " - Using sentence-transformers/paraphrase-multilingual-mpnet-base-v2 model - \n",
      " - Using sentence-transformers/all-distilroberta-v1 model - \n"
     ]
    },
    {
     "name": "stderr",
     "output_type": "stream",
     "text": [
      "\n",
      " 83%|█████████████████████████████████████▌       | 5/6 [00:00<00:00, 48.47it/s]\u001B[A"
     ]
    },
    {
     "name": "stdout",
     "output_type": "stream",
     "text": [
      " - Using sentence-transformers/distilbert-base-nli-mean-tokens model - \n"
     ]
    },
    {
     "name": "stderr",
     "output_type": "stream",
     "text": [
      "100%|█████████████████████████████████████████████| 6/6 [00:00<00:00, 51.57it/s]\n",
      "  7%|██▉                                       | 22/315 [00:04<00:35,  8.28it/s]"
     ]
    },
    {
     "name": "stdout",
     "output_type": "stream",
     "text": [
      " - Generating structure embeddings for s3tools/s3cmd - \n"
     ]
    },
    {
     "name": "stderr",
     "output_type": "stream",
     "text": [
      "\n",
      "  0%|                                                     | 0/6 [00:00<?, ?it/s]\u001B[A"
     ]
    },
    {
     "name": "stdout",
     "output_type": "stream",
     "text": [
      " - Using sentence-transformers/all-mpnet-base-v2 model - \n",
      " - Using sentence-transformers/multi-qa-mpnet-base-cos-v1 model - \n",
      " - Using sentence-transformers/bert-base-nli-mean-tokens model - \n"
     ]
    },
    {
     "name": "stderr",
     "output_type": "stream",
     "text": [
      "\n",
      " 50%|██████████████████████▌                      | 3/6 [00:00<00:00, 23.92it/s]\u001B[A"
     ]
    },
    {
     "name": "stdout",
     "output_type": "stream",
     "text": [
      " - Using sentence-transformers/paraphrase-multilingual-mpnet-base-v2 model - \n",
      " - Using sentence-transformers/all-distilroberta-v1 model - \n",
      " - Using sentence-transformers/distilbert-base-nli-mean-tokens model - \n"
     ]
    },
    {
     "name": "stderr",
     "output_type": "stream",
     "text": [
      "100%|█████████████████████████████████████████████| 6/6 [00:00<00:00, 33.59it/s]\n",
      "  7%|███                                       | 23/315 [00:05<00:40,  7.21it/s]"
     ]
    },
    {
     "name": "stdout",
     "output_type": "stream",
     "text": [
      " - Generating structure embeddings for pyenv/pyenv - \n"
     ]
    },
    {
     "name": "stderr",
     "output_type": "stream",
     "text": [
      "\n",
      "  0%|                                                     | 0/6 [00:00<?, ?it/s]\u001B[A"
     ]
    },
    {
     "name": "stdout",
     "output_type": "stream",
     "text": [
      " - Using sentence-transformers/all-mpnet-base-v2 model - \n",
      " - Using sentence-transformers/multi-qa-mpnet-base-cos-v1 model - \n",
      " - Using sentence-transformers/bert-base-nli-mean-tokens model - \n",
      " - Using sentence-transformers/paraphrase-multilingual-mpnet-base-v2 model - \n",
      " - Using sentence-transformers/all-distilroberta-v1 model - \n"
     ]
    },
    {
     "name": "stderr",
     "output_type": "stream",
     "text": [
      "\n",
      "100%|█████████████████████████████████████████████| 6/6 [00:00<00:00, 51.54it/s]\u001B[A\n",
      "  8%|███▏                                      | 24/315 [00:05<00:38,  7.55it/s]"
     ]
    },
    {
     "name": "stdout",
     "output_type": "stream",
     "text": [
      " - Using sentence-transformers/distilbert-base-nli-mean-tokens model - \n",
      " - Generating structure embeddings for stchris/untangle - \n"
     ]
    },
    {
     "name": "stderr",
     "output_type": "stream",
     "text": [
      "\n",
      "  0%|                                                     | 0/6 [00:00<?, ?it/s]\u001B[A"
     ]
    },
    {
     "name": "stdout",
     "output_type": "stream",
     "text": [
      " - Using sentence-transformers/all-mpnet-base-v2 model - \n",
      " - Using sentence-transformers/multi-qa-mpnet-base-cos-v1 model - \n",
      " - Using sentence-transformers/bert-base-nli-mean-tokens model - \n",
      " - Using sentence-transformers/paraphrase-multilingual-mpnet-base-v2 model - \n",
      " - Using sentence-transformers/all-distilroberta-v1 model - \n",
      " - Using sentence-transformers/distilbert-base-nli-mean-tokens model - \n"
     ]
    },
    {
     "name": "stderr",
     "output_type": "stream",
     "text": [
      "\n",
      "100%|█████████████████████████████████████████████| 6/6 [00:00<00:00, 54.08it/s]\u001B[A\n",
      "  8%|███▎                                      | 25/315 [00:05<00:36,  7.90it/s]"
     ]
    },
    {
     "name": "stdout",
     "output_type": "stream",
     "text": [
      " - Generating structure embeddings for nvdv/vprof - \n"
     ]
    },
    {
     "name": "stderr",
     "output_type": "stream",
     "text": [
      "\n",
      "  0%|                                                     | 0/6 [00:00<?, ?it/s]\u001B[A"
     ]
    },
    {
     "name": "stdout",
     "output_type": "stream",
     "text": [
      " - Using sentence-transformers/all-mpnet-base-v2 model - \n",
      " - Using sentence-transformers/multi-qa-mpnet-base-cos-v1 model - \n",
      " - Using sentence-transformers/bert-base-nli-mean-tokens model - \n",
      " - Using sentence-transformers/paraphrase-multilingual-mpnet-base-v2 model - \n"
     ]
    },
    {
     "name": "stderr",
     "output_type": "stream",
     "text": [
      "\n",
      " 67%|██████████████████████████████               | 4/6 [00:00<00:00, 36.35it/s]\u001B[A"
     ]
    },
    {
     "name": "stdout",
     "output_type": "stream",
     "text": [
      " - Using sentence-transformers/all-distilroberta-v1 model - \n",
      " - Using sentence-transformers/distilbert-base-nli-mean-tokens model - \n"
     ]
    },
    {
     "name": "stderr",
     "output_type": "stream",
     "text": [
      "100%|█████████████████████████████████████████████| 6/6 [00:00<00:00, 42.44it/s]\n",
      "  8%|███▍                                      | 26/315 [00:05<00:38,  7.60it/s]"
     ]
    },
    {
     "name": "stdout",
     "output_type": "stream",
     "text": [
      " - Generating structure embeddings for h2oai/h2o-3 - \n"
     ]
    },
    {
     "name": "stderr",
     "output_type": "stream",
     "text": [
      "\n",
      "  0%|                                                     | 0/6 [00:00<?, ?it/s]\u001B[A"
     ]
    },
    {
     "name": "stdout",
     "output_type": "stream",
     "text": [
      " - Using sentence-transformers/all-mpnet-base-v2 model - \n",
      " - Using sentence-transformers/multi-qa-mpnet-base-cos-v1 model - \n",
      " - Using sentence-transformers/bert-base-nli-mean-tokens model - \n",
      " - Using sentence-transformers/paraphrase-multilingual-mpnet-base-v2 model - \n"
     ]
    },
    {
     "name": "stderr",
     "output_type": "stream",
     "text": [
      "\n",
      "100%|█████████████████████████████████████████████| 6/6 [00:00<00:00, 50.72it/s]\u001B[A\n",
      "  9%|███▌                                      | 27/315 [00:05<00:36,  7.79it/s]"
     ]
    },
    {
     "name": "stdout",
     "output_type": "stream",
     "text": [
      " - Using sentence-transformers/all-distilroberta-v1 model - \n",
      " - Using sentence-transformers/distilbert-base-nli-mean-tokens model - \n",
      " - Generating structure embeddings for benhamner/Metrics - \n"
     ]
    },
    {
     "name": "stderr",
     "output_type": "stream",
     "text": [
      "\n",
      "  0%|                                                     | 0/6 [00:00<?, ?it/s]\u001B[A"
     ]
    },
    {
     "name": "stdout",
     "output_type": "stream",
     "text": [
      " - Using sentence-transformers/all-mpnet-base-v2 model - \n",
      " - Using sentence-transformers/multi-qa-mpnet-base-cos-v1 model - \n",
      " - Using sentence-transformers/bert-base-nli-mean-tokens model - \n",
      " - Using sentence-transformers/paraphrase-multilingual-mpnet-base-v2 model - \n",
      " - Using sentence-transformers/all-distilroberta-v1 model - \n"
     ]
    },
    {
     "name": "stderr",
     "output_type": "stream",
     "text": [
      "\n",
      "100%|█████████████████████████████████████████████| 6/6 [00:00<00:00, 51.42it/s]\u001B[A\n",
      "  9%|███▋                                      | 28/315 [00:05<00:35,  7.98it/s]"
     ]
    },
    {
     "name": "stdout",
     "output_type": "stream",
     "text": [
      " - Using sentence-transformers/distilbert-base-nli-mean-tokens model - \n",
      " - Generating structure embeddings for jmcarp/robobrowser - \n"
     ]
    },
    {
     "name": "stderr",
     "output_type": "stream",
     "text": [
      "\n",
      "  0%|                                                     | 0/6 [00:00<?, ?it/s]\u001B[A"
     ]
    },
    {
     "name": "stdout",
     "output_type": "stream",
     "text": [
      " - Using sentence-transformers/all-mpnet-base-v2 model - \n",
      " - Using sentence-transformers/multi-qa-mpnet-base-cos-v1 model - \n",
      " - Using sentence-transformers/bert-base-nli-mean-tokens model - \n",
      " - Using sentence-transformers/paraphrase-multilingual-mpnet-base-v2 model - \n"
     ]
    },
    {
     "name": "stderr",
     "output_type": "stream",
     "text": [
      "\n",
      " 83%|█████████████████████████████████████▌       | 5/6 [00:00<00:00, 43.82it/s]\u001B[A"
     ]
    },
    {
     "name": "stdout",
     "output_type": "stream",
     "text": [
      " - Using sentence-transformers/all-distilroberta-v1 model - \n",
      " - Using sentence-transformers/distilbert-base-nli-mean-tokens model - \n"
     ]
    },
    {
     "name": "stderr",
     "output_type": "stream",
     "text": [
      "100%|█████████████████████████████████████████████| 6/6 [00:00<00:00, 46.87it/s]\n",
      "  9%|███▊                                      | 29/315 [00:05<00:36,  7.89it/s]"
     ]
    },
    {
     "name": "stdout",
     "output_type": "stream",
     "text": [
      " - Generating structure embeddings for WiserTogether/django-remote-forms - \n"
     ]
    },
    {
     "name": "stderr",
     "output_type": "stream",
     "text": [
      "\n",
      "  0%|                                                     | 0/6 [00:00<?, ?it/s]\u001B[A"
     ]
    },
    {
     "name": "stdout",
     "output_type": "stream",
     "text": [
      " - Using sentence-transformers/all-mpnet-base-v2 model - \n",
      " - Using sentence-transformers/multi-qa-mpnet-base-cos-v1 model - \n",
      " - Using sentence-transformers/bert-base-nli-mean-tokens model - \n",
      " - Using sentence-transformers/paraphrase-multilingual-mpnet-base-v2 model - \n",
      " - Using sentence-transformers/all-distilroberta-v1 model - \n"
     ]
    },
    {
     "name": "stderr",
     "output_type": "stream",
     "text": [
      "\n",
      " 83%|█████████████████████████████████████▌       | 5/6 [00:00<00:00, 45.89it/s]\u001B[A"
     ]
    },
    {
     "name": "stdout",
     "output_type": "stream",
     "text": [
      " - Using sentence-transformers/distilbert-base-nli-mean-tokens model - \n"
     ]
    },
    {
     "name": "stderr",
     "output_type": "stream",
     "text": [
      "100%|█████████████████████████████████████████████| 6/6 [00:00<00:00, 48.51it/s]\n",
      " 10%|████                                      | 30/315 [00:06<00:35,  7.92it/s]"
     ]
    },
    {
     "name": "stdout",
     "output_type": "stream",
     "text": [
      " - Generating structure embeddings for mahmoud/boltons - \n"
     ]
    },
    {
     "name": "stderr",
     "output_type": "stream",
     "text": [
      "\n",
      "  0%|                                                     | 0/6 [00:00<?, ?it/s]\u001B[A"
     ]
    },
    {
     "name": "stdout",
     "output_type": "stream",
     "text": [
      " - Using sentence-transformers/all-mpnet-base-v2 model - \n",
      " - Using sentence-transformers/multi-qa-mpnet-base-cos-v1 model - \n",
      " - Using sentence-transformers/bert-base-nli-mean-tokens model - \n",
      " - Using sentence-transformers/paraphrase-multilingual-mpnet-base-v2 model - \n",
      " - Using sentence-transformers/all-distilroberta-v1 model - \n"
     ]
    },
    {
     "name": "stderr",
     "output_type": "stream",
     "text": [
      "\n",
      "100%|█████████████████████████████████████████████| 6/6 [00:00<00:00, 52.06it/s]\u001B[A\n",
      " 10%|████▏                                     | 31/315 [00:06<00:35,  8.09it/s]"
     ]
    },
    {
     "name": "stdout",
     "output_type": "stream",
     "text": [
      " - Using sentence-transformers/distilbert-base-nli-mean-tokens model - \n",
      " - Generating structure embeddings for stanfordnlp/stanza - \n"
     ]
    },
    {
     "name": "stderr",
     "output_type": "stream",
     "text": [
      "\n",
      "  0%|                                                     | 0/6 [00:00<?, ?it/s]\u001B[A"
     ]
    },
    {
     "name": "stdout",
     "output_type": "stream",
     "text": [
      " - Using sentence-transformers/all-mpnet-base-v2 model - \n",
      " - Using sentence-transformers/multi-qa-mpnet-base-cos-v1 model - \n",
      " - Using sentence-transformers/bert-base-nli-mean-tokens model - \n",
      " - Using sentence-transformers/paraphrase-multilingual-mpnet-base-v2 model - \n"
     ]
    },
    {
     "name": "stderr",
     "output_type": "stream",
     "text": [
      "\n",
      "100%|█████████████████████████████████████████████| 6/6 [00:00<00:00, 52.40it/s]\u001B[A\n",
      " 10%|████▎                                     | 32/315 [00:06<00:34,  8.23it/s]"
     ]
    },
    {
     "name": "stdout",
     "output_type": "stream",
     "text": [
      " - Using sentence-transformers/all-distilroberta-v1 model - \n",
      " - Using sentence-transformers/distilbert-base-nli-mean-tokens model - \n",
      " - Generating structure embeddings for keon/algorithms - \n"
     ]
    },
    {
     "name": "stderr",
     "output_type": "stream",
     "text": [
      "\n",
      "  0%|                                                     | 0/6 [00:00<?, ?it/s]\u001B[A"
     ]
    },
    {
     "name": "stdout",
     "output_type": "stream",
     "text": [
      " - Using sentence-transformers/all-mpnet-base-v2 model - \n",
      " - Using sentence-transformers/multi-qa-mpnet-base-cos-v1 model - \n",
      " - Using sentence-transformers/bert-base-nli-mean-tokens model - \n",
      " - Using sentence-transformers/paraphrase-multilingual-mpnet-base-v2 model - \n"
     ]
    },
    {
     "name": "stderr",
     "output_type": "stream",
     "text": [
      "\n",
      " 83%|█████████████████████████████████████▌       | 5/6 [00:00<00:00, 43.08it/s]\u001B[A"
     ]
    },
    {
     "name": "stdout",
     "output_type": "stream",
     "text": [
      " - Using sentence-transformers/all-distilroberta-v1 model - \n",
      " - Using sentence-transformers/distilbert-base-nli-mean-tokens model - \n"
     ]
    },
    {
     "name": "stderr",
     "output_type": "stream",
     "text": [
      "100%|█████████████████████████████████████████████| 6/6 [00:00<00:00, 45.95it/s]\n",
      " 10%|████▍                                     | 33/315 [00:06<00:35,  7.99it/s]"
     ]
    },
    {
     "name": "stdout",
     "output_type": "stream",
     "text": [
      " - Generating structure embeddings for esnme/ultrajson - \n"
     ]
    },
    {
     "name": "stderr",
     "output_type": "stream",
     "text": [
      "\n",
      "  0%|                                                     | 0/6 [00:00<?, ?it/s]\u001B[A"
     ]
    },
    {
     "name": "stdout",
     "output_type": "stream",
     "text": [
      " - Using sentence-transformers/all-mpnet-base-v2 model - \n",
      " - Using sentence-transformers/multi-qa-mpnet-base-cos-v1 model - \n",
      " - Using sentence-transformers/bert-base-nli-mean-tokens model - \n",
      " - Using sentence-transformers/paraphrase-multilingual-mpnet-base-v2 model - \n",
      " - Using sentence-transformers/all-distilroberta-v1 model - \n"
     ]
    },
    {
     "name": "stderr",
     "output_type": "stream",
     "text": [
      "\n",
      "100%|█████████████████████████████████████████████| 6/6 [00:00<00:00, 52.68it/s]\u001B[A\n",
      " 11%|████▌                                     | 34/315 [00:06<00:34,  8.18it/s]"
     ]
    },
    {
     "name": "stdout",
     "output_type": "stream",
     "text": [
      " - Using sentence-transformers/distilbert-base-nli-mean-tokens model - \n",
      " - Generating structure embeddings for boto/boto3 - \n"
     ]
    },
    {
     "name": "stderr",
     "output_type": "stream",
     "text": [
      "\n",
      "  0%|                                                     | 0/6 [00:00<?, ?it/s]\u001B[A"
     ]
    },
    {
     "name": "stdout",
     "output_type": "stream",
     "text": [
      " - Using sentence-transformers/all-mpnet-base-v2 model - \n",
      " - Using sentence-transformers/multi-qa-mpnet-base-cos-v1 model - \n",
      " - Using sentence-transformers/bert-base-nli-mean-tokens model - \n",
      " - Using sentence-transformers/paraphrase-multilingual-mpnet-base-v2 model - \n",
      " - Using sentence-transformers/all-distilroberta-v1 model - \n"
     ]
    },
    {
     "name": "stderr",
     "output_type": "stream",
     "text": [
      "\n",
      " 83%|█████████████████████████████████████▌       | 5/6 [00:00<00:00, 43.05it/s]\u001B[A"
     ]
    },
    {
     "name": "stdout",
     "output_type": "stream",
     "text": [
      " - Using sentence-transformers/distilbert-base-nli-mean-tokens model - \n"
     ]
    },
    {
     "name": "stderr",
     "output_type": "stream",
     "text": [
      "100%|█████████████████████████████████████████████| 6/6 [00:00<00:00, 44.87it/s]\n",
      " 11%|████▋                                     | 35/315 [00:06<00:35,  7.92it/s]"
     ]
    },
    {
     "name": "stdout",
     "output_type": "stream",
     "text": [
      " - Generating structure embeddings for geopy/geopy - \n"
     ]
    },
    {
     "name": "stderr",
     "output_type": "stream",
     "text": [
      "\n",
      "  0%|                                                     | 0/6 [00:00<?, ?it/s]\u001B[A"
     ]
    },
    {
     "name": "stdout",
     "output_type": "stream",
     "text": [
      " - Using sentence-transformers/all-mpnet-base-v2 model - \n",
      " - Using sentence-transformers/multi-qa-mpnet-base-cos-v1 model - \n",
      " - Using sentence-transformers/bert-base-nli-mean-tokens model - \n",
      " - Using sentence-transformers/paraphrase-multilingual-mpnet-base-v2 model - \n",
      " - Using sentence-transformers/all-distilroberta-v1 model - \n"
     ]
    },
    {
     "name": "stderr",
     "output_type": "stream",
     "text": [
      "\n",
      " 83%|█████████████████████████████████████▌       | 5/6 [00:00<00:00, 49.25it/s]\u001B[A"
     ]
    },
    {
     "name": "stdout",
     "output_type": "stream",
     "text": [
      " - Using sentence-transformers/distilbert-base-nli-mean-tokens model - \n"
     ]
    },
    {
     "name": "stderr",
     "output_type": "stream",
     "text": [
      "100%|█████████████████████████████████████████████| 6/6 [00:00<00:00, 51.76it/s]\n",
      " 11%|████▊                                     | 36/315 [00:06<00:34,  8.04it/s]"
     ]
    },
    {
     "name": "stdout",
     "output_type": "stream",
     "text": [
      " - Generating structure embeddings for sdispater/pendulum - \n"
     ]
    },
    {
     "name": "stderr",
     "output_type": "stream",
     "text": [
      "\n",
      "  0%|                                                     | 0/6 [00:00<?, ?it/s]\u001B[A"
     ]
    },
    {
     "name": "stdout",
     "output_type": "stream",
     "text": [
      " - Using sentence-transformers/all-mpnet-base-v2 model - \n",
      " - Using sentence-transformers/multi-qa-mpnet-base-cos-v1 model - \n",
      " - Using sentence-transformers/bert-base-nli-mean-tokens model - \n",
      " - Using sentence-transformers/paraphrase-multilingual-mpnet-base-v2 model - \n"
     ]
    },
    {
     "name": "stderr",
     "output_type": "stream",
     "text": [
      "\n",
      "100%|█████████████████████████████████████████████| 6/6 [00:00<00:00, 48.28it/s]\u001B[A\n",
      " 12%|████▉                                     | 37/315 [00:06<00:34,  8.02it/s]"
     ]
    },
    {
     "name": "stdout",
     "output_type": "stream",
     "text": [
      " - Using sentence-transformers/all-distilroberta-v1 model - \n",
      " - Using sentence-transformers/distilbert-base-nli-mean-tokens model - \n",
      " - Generating structure embeddings for omab/python-social-auth - \n"
     ]
    },
    {
     "name": "stderr",
     "output_type": "stream",
     "text": [
      "\n",
      "  0%|                                                     | 0/6 [00:00<?, ?it/s]\u001B[A"
     ]
    },
    {
     "name": "stdout",
     "output_type": "stream",
     "text": [
      " - Using sentence-transformers/all-mpnet-base-v2 model - \n",
      " - Using sentence-transformers/multi-qa-mpnet-base-cos-v1 model - \n",
      " - Using sentence-transformers/bert-base-nli-mean-tokens model - \n",
      " - Using sentence-transformers/paraphrase-multilingual-mpnet-base-v2 model - \n",
      " - Using sentence-transformers/all-distilroberta-v1 model - \n"
     ]
    },
    {
     "name": "stderr",
     "output_type": "stream",
     "text": [
      "\n",
      "100%|█████████████████████████████████████████████| 6/6 [00:00<00:00, 49.19it/s]\u001B[A\n",
      " 12%|█████                                     | 38/315 [00:07<00:34,  8.04it/s]"
     ]
    },
    {
     "name": "stdout",
     "output_type": "stream",
     "text": [
      " - Using sentence-transformers/distilbert-base-nli-mean-tokens model - \n",
      " - Generating structure embeddings for django-guardian/django-guardian - \n"
     ]
    },
    {
     "name": "stderr",
     "output_type": "stream",
     "text": [
      "\n",
      "  0%|                                                     | 0/6 [00:00<?, ?it/s]\u001B[A"
     ]
    },
    {
     "name": "stdout",
     "output_type": "stream",
     "text": [
      " - Using sentence-transformers/all-mpnet-base-v2 model - \n",
      " - Using sentence-transformers/multi-qa-mpnet-base-cos-v1 model - \n",
      " - Using sentence-transformers/bert-base-nli-mean-tokens model - \n",
      " - Using sentence-transformers/paraphrase-multilingual-mpnet-base-v2 model - \n",
      " - Using sentence-transformers/all-distilroberta-v1 model - \n"
     ]
    },
    {
     "name": "stderr",
     "output_type": "stream",
     "text": [
      "\n",
      "100%|█████████████████████████████████████████████| 6/6 [00:00<00:00, 52.75it/s]\u001B[A\n",
      " 12%|█████▏                                    | 39/315 [00:07<00:33,  8.22it/s]"
     ]
    },
    {
     "name": "stdout",
     "output_type": "stream",
     "text": [
      " - Using sentence-transformers/distilbert-base-nli-mean-tokens model - \n",
      " - Generating structure embeddings for mongodb/motor - \n"
     ]
    },
    {
     "name": "stderr",
     "output_type": "stream",
     "text": [
      "\n",
      "  0%|                                                     | 0/6 [00:00<?, ?it/s]\u001B[A"
     ]
    },
    {
     "name": "stdout",
     "output_type": "stream",
     "text": [
      " - Using sentence-transformers/all-mpnet-base-v2 model - \n",
      " - Using sentence-transformers/multi-qa-mpnet-base-cos-v1 model - \n",
      " - Using sentence-transformers/bert-base-nli-mean-tokens model - \n",
      " - Using sentence-transformers/paraphrase-multilingual-mpnet-base-v2 model - \n"
     ]
    },
    {
     "name": "stderr",
     "output_type": "stream",
     "text": [
      "\n",
      " 83%|█████████████████████████████████████▌       | 5/6 [00:00<00:00, 46.72it/s]\u001B[A"
     ]
    },
    {
     "name": "stdout",
     "output_type": "stream",
     "text": [
      " - Using sentence-transformers/all-distilroberta-v1 model - \n",
      " - Using sentence-transformers/distilbert-base-nli-mean-tokens model - \n"
     ]
    },
    {
     "name": "stderr",
     "output_type": "stream",
     "text": [
      "100%|█████████████████████████████████████████████| 6/6 [00:00<00:00, 49.81it/s]\n",
      " 13%|█████▎                                    | 40/315 [00:07<00:33,  8.20it/s]"
     ]
    },
    {
     "name": "stdout",
     "output_type": "stream",
     "text": [
      " - Generating structure embeddings for napalm-automation/napalm - \n"
     ]
    },
    {
     "name": "stderr",
     "output_type": "stream",
     "text": [
      "\n",
      "  0%|                                                     | 0/6 [00:00<?, ?it/s]\u001B[A"
     ]
    },
    {
     "name": "stdout",
     "output_type": "stream",
     "text": [
      " - Using sentence-transformers/all-mpnet-base-v2 model - \n",
      " - Using sentence-transformers/multi-qa-mpnet-base-cos-v1 model - \n",
      " - Using sentence-transformers/bert-base-nli-mean-tokens model - \n",
      " - Using sentence-transformers/paraphrase-multilingual-mpnet-base-v2 model - \n",
      " - Using sentence-transformers/all-distilroberta-v1 model - \n"
     ]
    },
    {
     "name": "stderr",
     "output_type": "stream",
     "text": [
      "\n",
      " 83%|█████████████████████████████████████▌       | 5/6 [00:00<00:00, 45.23it/s]\u001B[A"
     ]
    },
    {
     "name": "stdout",
     "output_type": "stream",
     "text": [
      " - Using sentence-transformers/distilbert-base-nli-mean-tokens model - \n"
     ]
    },
    {
     "name": "stderr",
     "output_type": "stream",
     "text": [
      "100%|█████████████████████████████████████████████| 6/6 [00:00<00:00, 47.25it/s]\n",
      " 13%|█████▍                                    | 41/315 [00:07<00:34,  8.05it/s]"
     ]
    },
    {
     "name": "stdout",
     "output_type": "stream",
     "text": [
      " - Generating structure embeddings for django-crispy-forms/django-crispy-forms - \n"
     ]
    },
    {
     "name": "stderr",
     "output_type": "stream",
     "text": [
      "\n",
      "  0%|                                                     | 0/6 [00:00<?, ?it/s]\u001B[A"
     ]
    },
    {
     "name": "stdout",
     "output_type": "stream",
     "text": [
      " - Using sentence-transformers/all-mpnet-base-v2 model - \n",
      " - Using sentence-transformers/multi-qa-mpnet-base-cos-v1 model - \n",
      " - Using sentence-transformers/bert-base-nli-mean-tokens model - \n",
      " - Using sentence-transformers/paraphrase-multilingual-mpnet-base-v2 model - \n"
     ]
    },
    {
     "name": "stderr",
     "output_type": "stream",
     "text": [
      "\n",
      " 83%|█████████████████████████████████████▌       | 5/6 [00:00<00:00, 46.29it/s]\u001B[A"
     ]
    },
    {
     "name": "stdout",
     "output_type": "stream",
     "text": [
      " - Using sentence-transformers/all-distilroberta-v1 model - \n",
      " - Using sentence-transformers/distilbert-base-nli-mean-tokens model - \n"
     ]
    },
    {
     "name": "stderr",
     "output_type": "stream",
     "text": [
      "100%|█████████████████████████████████████████████| 6/6 [00:00<00:00, 49.41it/s]\n",
      " 13%|█████▌                                    | 42/315 [00:07<00:33,  8.06it/s]"
     ]
    },
    {
     "name": "stdout",
     "output_type": "stream",
     "text": [
      " - Generating structure embeddings for mymarilyn/clickhouse-driver - \n"
     ]
    },
    {
     "name": "stderr",
     "output_type": "stream",
     "text": [
      "\n",
      "  0%|                                                     | 0/6 [00:00<?, ?it/s]\u001B[A"
     ]
    },
    {
     "name": "stdout",
     "output_type": "stream",
     "text": [
      " - Using sentence-transformers/all-mpnet-base-v2 model - \n",
      " - Using sentence-transformers/multi-qa-mpnet-base-cos-v1 model - \n",
      " - Using sentence-transformers/bert-base-nli-mean-tokens model - \n",
      " - Using sentence-transformers/paraphrase-multilingual-mpnet-base-v2 model - \n",
      " - Using sentence-transformers/all-distilroberta-v1 model - \n"
     ]
    },
    {
     "name": "stderr",
     "output_type": "stream",
     "text": [
      "\n",
      "100%|█████████████████████████████████████████████| 6/6 [00:00<00:00, 49.14it/s]\u001B[A"
     ]
    },
    {
     "name": "stdout",
     "output_type": "stream",
     "text": [
      " - Using sentence-transformers/distilbert-base-nli-mean-tokens model - \n"
     ]
    },
    {
     "name": "stderr",
     "output_type": "stream",
     "text": [
      "\n",
      "\r",
      " 14%|█████▋                                    | 43/315 [00:07<00:33,  8.06it/s]"
     ]
    },
    {
     "name": "stdout",
     "output_type": "stream",
     "text": [
      " - Generating structure embeddings for sdispater/orator - \n"
     ]
    },
    {
     "name": "stderr",
     "output_type": "stream",
     "text": [
      "\n",
      "  0%|                                                     | 0/6 [00:00<?, ?it/s]\u001B[A"
     ]
    },
    {
     "name": "stdout",
     "output_type": "stream",
     "text": [
      " - Using sentence-transformers/all-mpnet-base-v2 model - \n",
      " - Using sentence-transformers/multi-qa-mpnet-base-cos-v1 model - \n",
      " - Using sentence-transformers/bert-base-nli-mean-tokens model - \n",
      " - Using sentence-transformers/paraphrase-multilingual-mpnet-base-v2 model - \n",
      " - Using sentence-transformers/all-distilroberta-v1 model - \n"
     ]
    },
    {
     "name": "stderr",
     "output_type": "stream",
     "text": [
      "\n",
      "100%|█████████████████████████████████████████████| 6/6 [00:00<00:00, 49.16it/s]\u001B[A\n",
      " 14%|█████▊                                    | 44/315 [00:07<00:33,  8.05it/s]"
     ]
    },
    {
     "name": "stdout",
     "output_type": "stream",
     "text": [
      " - Using sentence-transformers/distilbert-base-nli-mean-tokens model - \n",
      " - Generating structure embeddings for codelucas/newspaper - \n"
     ]
    },
    {
     "name": "stderr",
     "output_type": "stream",
     "text": [
      "\n",
      "  0%|                                                     | 0/6 [00:00<?, ?it/s]\u001B[A"
     ]
    },
    {
     "name": "stdout",
     "output_type": "stream",
     "text": [
      " - Using sentence-transformers/all-mpnet-base-v2 model - \n",
      " - Using sentence-transformers/multi-qa-mpnet-base-cos-v1 model - \n",
      " - Using sentence-transformers/bert-base-nli-mean-tokens model - \n",
      " - Using sentence-transformers/paraphrase-multilingual-mpnet-base-v2 model - \n"
     ]
    },
    {
     "name": "stderr",
     "output_type": "stream",
     "text": [
      "\n",
      "100%|█████████████████████████████████████████████| 6/6 [00:00<00:00, 48.10it/s]\u001B[A\n",
      " 14%|██████                                    | 45/315 [00:07<00:33,  8.00it/s]"
     ]
    },
    {
     "name": "stdout",
     "output_type": "stream",
     "text": [
      " - Using sentence-transformers/all-distilroberta-v1 model - \n",
      " - Using sentence-transformers/distilbert-base-nli-mean-tokens model - \n",
      " - Generating structure embeddings for coleifer/huey - \n"
     ]
    },
    {
     "name": "stderr",
     "output_type": "stream",
     "text": [
      "\n",
      "  0%|                                                     | 0/6 [00:00<?, ?it/s]\u001B[A"
     ]
    },
    {
     "name": "stdout",
     "output_type": "stream",
     "text": [
      " - Using sentence-transformers/all-mpnet-base-v2 model - \n",
      " - Using sentence-transformers/multi-qa-mpnet-base-cos-v1 model - \n",
      " - Using sentence-transformers/bert-base-nli-mean-tokens model - \n",
      " - Using sentence-transformers/paraphrase-multilingual-mpnet-base-v2 model - \n"
     ]
    },
    {
     "name": "stderr",
     "output_type": "stream",
     "text": [
      "\n",
      " 83%|█████████████████████████████████████▌       | 5/6 [00:00<00:00, 44.83it/s]\u001B[A"
     ]
    },
    {
     "name": "stdout",
     "output_type": "stream",
     "text": [
      " - Using sentence-transformers/all-distilroberta-v1 model - \n",
      " - Using sentence-transformers/distilbert-base-nli-mean-tokens model - \n"
     ]
    },
    {
     "name": "stderr",
     "output_type": "stream",
     "text": [
      "100%|█████████████████████████████████████████████| 6/6 [00:00<00:00, 48.25it/s]\n",
      " 15%|██████▏                                   | 46/315 [00:07<00:33,  7.98it/s]"
     ]
    },
    {
     "name": "stdout",
     "output_type": "stream",
     "text": [
      " - Generating structure embeddings for sympy/sympy - \n"
     ]
    },
    {
     "name": "stderr",
     "output_type": "stream",
     "text": [
      "\n",
      "  0%|                                                     | 0/6 [00:00<?, ?it/s]\u001B[A"
     ]
    },
    {
     "name": "stdout",
     "output_type": "stream",
     "text": [
      " - Using sentence-transformers/all-mpnet-base-v2 model - \n",
      " - Using sentence-transformers/multi-qa-mpnet-base-cos-v1 model - \n",
      " - Using sentence-transformers/bert-base-nli-mean-tokens model - \n",
      " - Using sentence-transformers/paraphrase-multilingual-mpnet-base-v2 model - \n",
      " - Using sentence-transformers/all-distilroberta-v1 model - \n",
      " - Using sentence-transformers/distilbert-base-nli-mean-tokens model - \n"
     ]
    },
    {
     "name": "stderr",
     "output_type": "stream",
     "text": [
      "\n",
      "100%|█████████████████████████████████████████████| 6/6 [00:00<00:00, 55.77it/s]\u001B[A\n",
      " 15%|██████▎                                   | 47/315 [00:08<00:32,  8.30it/s]"
     ]
    },
    {
     "name": "stdout",
     "output_type": "stream",
     "text": [
      " - Generating structure embeddings for gabrielfalcao/HTTPretty - \n"
     ]
    },
    {
     "name": "stderr",
     "output_type": "stream",
     "text": [
      "\n",
      "  0%|                                                     | 0/6 [00:00<?, ?it/s]\u001B[A"
     ]
    },
    {
     "name": "stdout",
     "output_type": "stream",
     "text": [
      " - Using sentence-transformers/all-mpnet-base-v2 model - \n",
      " - Using sentence-transformers/multi-qa-mpnet-base-cos-v1 model - \n",
      " - Using sentence-transformers/bert-base-nli-mean-tokens model - \n",
      " - Using sentence-transformers/paraphrase-multilingual-mpnet-base-v2 model - \n",
      " - Using sentence-transformers/all-distilroberta-v1 model - \n",
      " - Using sentence-transformers/distilbert-base-nli-mean-tokens model - \n"
     ]
    },
    {
     "name": "stderr",
     "output_type": "stream",
     "text": [
      "\n",
      "100%|█████████████████████████████████████████████| 6/6 [00:00<00:00, 51.20it/s]\u001B[A\n",
      " 15%|██████▍                                   | 48/315 [00:08<00:32,  8.34it/s]"
     ]
    },
    {
     "name": "stdout",
     "output_type": "stream",
     "text": [
      " - Generating structure embeddings for elapouya/python-docx-template - \n"
     ]
    },
    {
     "name": "stderr",
     "output_type": "stream",
     "text": [
      "\n",
      "  0%|                                                     | 0/6 [00:00<?, ?it/s]\u001B[A"
     ]
    },
    {
     "name": "stdout",
     "output_type": "stream",
     "text": [
      " - Using sentence-transformers/all-mpnet-base-v2 model - \n",
      " - Using sentence-transformers/multi-qa-mpnet-base-cos-v1 model - \n",
      " - Using sentence-transformers/bert-base-nli-mean-tokens model - \n",
      " - Using sentence-transformers/paraphrase-multilingual-mpnet-base-v2 model - \n"
     ]
    },
    {
     "name": "stderr",
     "output_type": "stream",
     "text": [
      "\n",
      " 83%|█████████████████████████████████████▌       | 5/6 [00:00<00:00, 49.35it/s]\u001B[A"
     ]
    },
    {
     "name": "stdout",
     "output_type": "stream",
     "text": [
      " - Using sentence-transformers/all-distilroberta-v1 model - \n",
      " - Using sentence-transformers/distilbert-base-nli-mean-tokens model - \n"
     ]
    },
    {
     "name": "stderr",
     "output_type": "stream",
     "text": [
      "100%|█████████████████████████████████████████████| 6/6 [00:00<00:00, 51.71it/s]\n",
      " 16%|██████▌                                   | 49/315 [00:08<00:31,  8.39it/s]"
     ]
    },
    {
     "name": "stdout",
     "output_type": "stream",
     "text": [
      " - Generating structure embeddings for dahlia/wand - \n"
     ]
    },
    {
     "name": "stderr",
     "output_type": "stream",
     "text": [
      "\n",
      "  0%|                                                     | 0/6 [00:00<?, ?it/s]\u001B[A"
     ]
    },
    {
     "name": "stdout",
     "output_type": "stream",
     "text": [
      " - Using sentence-transformers/all-mpnet-base-v2 model - \n",
      " - Using sentence-transformers/multi-qa-mpnet-base-cos-v1 model - \n",
      " - Using sentence-transformers/bert-base-nli-mean-tokens model - \n",
      " - Using sentence-transformers/paraphrase-multilingual-mpnet-base-v2 model - \n"
     ]
    },
    {
     "name": "stderr",
     "output_type": "stream",
     "text": [
      "\n",
      "100%|█████████████████████████████████████████████| 6/6 [00:00<00:00, 51.88it/s]\u001B[A\n",
      " 16%|██████▋                                   | 50/315 [00:08<00:31,  8.42it/s]"
     ]
    },
    {
     "name": "stdout",
     "output_type": "stream",
     "text": [
      " - Using sentence-transformers/all-distilroberta-v1 model - \n",
      " - Using sentence-transformers/distilbert-base-nli-mean-tokens model - \n",
      " - Generating structure embeddings for mpdavis/python-jose - \n"
     ]
    },
    {
     "name": "stderr",
     "output_type": "stream",
     "text": [
      "\n",
      "  0%|                                                     | 0/6 [00:00<?, ?it/s]\u001B[A"
     ]
    },
    {
     "name": "stdout",
     "output_type": "stream",
     "text": [
      " - Using sentence-transformers/all-mpnet-base-v2 model - \n",
      " - Using sentence-transformers/multi-qa-mpnet-base-cos-v1 model - \n",
      " - Using sentence-transformers/bert-base-nli-mean-tokens model - \n",
      " - Using sentence-transformers/paraphrase-multilingual-mpnet-base-v2 model - \n"
     ]
    },
    {
     "name": "stderr",
     "output_type": "stream",
     "text": [
      "\n",
      " 67%|██████████████████████████████               | 4/6 [00:00<00:00, 35.82it/s]\u001B[A"
     ]
    },
    {
     "name": "stdout",
     "output_type": "stream",
     "text": [
      " - Using sentence-transformers/all-distilroberta-v1 model - \n",
      " - Using sentence-transformers/distilbert-base-nli-mean-tokens model - \n"
     ]
    },
    {
     "name": "stderr",
     "output_type": "stream",
     "text": [
      "100%|█████████████████████████████████████████████| 6/6 [00:00<00:00, 41.83it/s]\n",
      " 16%|██████▊                                   | 51/315 [00:08<00:33,  7.89it/s]"
     ]
    },
    {
     "name": "stdout",
     "output_type": "stream",
     "text": [
      " - Generating structure embeddings for shinux/PyTime - \n"
     ]
    },
    {
     "name": "stderr",
     "output_type": "stream",
     "text": [
      "\n",
      "  0%|                                                     | 0/6 [00:00<?, ?it/s]\u001B[A"
     ]
    },
    {
     "name": "stdout",
     "output_type": "stream",
     "text": [
      " - Using sentence-transformers/all-mpnet-base-v2 model - \n",
      " - Using sentence-transformers/multi-qa-mpnet-base-cos-v1 model - \n",
      " - Using sentence-transformers/bert-base-nli-mean-tokens model - \n",
      " - Using sentence-transformers/paraphrase-multilingual-mpnet-base-v2 model - \n"
     ]
    },
    {
     "name": "stderr",
     "output_type": "stream",
     "text": [
      "\n",
      " 67%|██████████████████████████████               | 4/6 [00:00<00:00, 38.89it/s]\u001B[A"
     ]
    },
    {
     "name": "stdout",
     "output_type": "stream",
     "text": [
      " - Using sentence-transformers/all-distilroberta-v1 model - \n"
     ]
    },
    {
     "name": "stderr",
     "output_type": "stream",
     "text": [
      "100%|█████████████████████████████████████████████| 6/6 [00:00<00:00, 44.36it/s]\n",
      " 17%|██████▉                                   | 52/315 [00:08<00:34,  7.69it/s]"
     ]
    },
    {
     "name": "stdout",
     "output_type": "stream",
     "text": [
      " - Using sentence-transformers/distilbert-base-nli-mean-tokens model - \n",
      " - Generating structure embeddings for pymc-devs/pymc3 - \n"
     ]
    },
    {
     "name": "stderr",
     "output_type": "stream",
     "text": [
      "\n",
      "  0%|                                                     | 0/6 [00:00<?, ?it/s]\u001B[A"
     ]
    },
    {
     "name": "stdout",
     "output_type": "stream",
     "text": [
      " - Using sentence-transformers/all-mpnet-base-v2 model - \n",
      " - Using sentence-transformers/multi-qa-mpnet-base-cos-v1 model - \n",
      " - Using sentence-transformers/bert-base-nli-mean-tokens model - \n",
      " - Using sentence-transformers/paraphrase-multilingual-mpnet-base-v2 model - \n"
     ]
    },
    {
     "name": "stderr",
     "output_type": "stream",
     "text": [
      "\n",
      " 83%|█████████████████████████████████████▌       | 5/6 [00:00<00:00, 44.11it/s]\u001B[A"
     ]
    },
    {
     "name": "stdout",
     "output_type": "stream",
     "text": [
      " - Using sentence-transformers/all-distilroberta-v1 model - \n",
      " - Using sentence-transformers/distilbert-base-nli-mean-tokens model - \n"
     ]
    },
    {
     "name": "stderr",
     "output_type": "stream",
     "text": [
      "100%|█████████████████████████████████████████████| 6/6 [00:00<00:00, 45.59it/s]\n",
      " 17%|███████                                   | 53/315 [00:08<00:34,  7.63it/s]"
     ]
    },
    {
     "name": "stdout",
     "output_type": "stream",
     "text": [
      " - Generating structure embeddings for TheAlgorithms/Python - \n"
     ]
    },
    {
     "name": "stderr",
     "output_type": "stream",
     "text": [
      "\n",
      "  0%|                                                     | 0/6 [00:00<?, ?it/s]\u001B[A"
     ]
    },
    {
     "name": "stdout",
     "output_type": "stream",
     "text": [
      " - Using sentence-transformers/all-mpnet-base-v2 model - \n",
      " - Using sentence-transformers/multi-qa-mpnet-base-cos-v1 model - \n",
      " - Using sentence-transformers/bert-base-nli-mean-tokens model - \n",
      " - Using sentence-transformers/paraphrase-multilingual-mpnet-base-v2 model - \n"
     ]
    },
    {
     "name": "stderr",
     "output_type": "stream",
     "text": [
      "\n",
      " 83%|█████████████████████████████████████▌       | 5/6 [00:00<00:00, 44.19it/s]\u001B[A"
     ]
    },
    {
     "name": "stdout",
     "output_type": "stream",
     "text": [
      " - Using sentence-transformers/all-distilroberta-v1 model - \n",
      " - Using sentence-transformers/distilbert-base-nli-mean-tokens model - \n"
     ]
    },
    {
     "name": "stderr",
     "output_type": "stream",
     "text": [
      "100%|█████████████████████████████████████████████| 6/6 [00:00<00:00, 46.21it/s]\n",
      " 17%|███████▏                                  | 54/315 [00:09<00:34,  7.62it/s]"
     ]
    },
    {
     "name": "stdout",
     "output_type": "stream",
     "text": [
      " - Generating structure embeddings for fabric/fabric - \n"
     ]
    },
    {
     "name": "stderr",
     "output_type": "stream",
     "text": [
      "\n",
      "  0%|                                                     | 0/6 [00:00<?, ?it/s]\u001B[A"
     ]
    },
    {
     "name": "stdout",
     "output_type": "stream",
     "text": [
      " - Using sentence-transformers/all-mpnet-base-v2 model - \n",
      " - Using sentence-transformers/multi-qa-mpnet-base-cos-v1 model - \n",
      " - Using sentence-transformers/bert-base-nli-mean-tokens model - \n"
     ]
    },
    {
     "name": "stderr",
     "output_type": "stream",
     "text": [
      "\n",
      " 83%|█████████████████████████████████████▌       | 5/6 [00:00<00:00, 44.39it/s]\u001B[A"
     ]
    },
    {
     "name": "stdout",
     "output_type": "stream",
     "text": [
      " - Using sentence-transformers/paraphrase-multilingual-mpnet-base-v2 model - \n",
      " - Using sentence-transformers/all-distilroberta-v1 model - \n",
      " - Using sentence-transformers/distilbert-base-nli-mean-tokens model - \n"
     ]
    },
    {
     "name": "stderr",
     "output_type": "stream",
     "text": [
      "100%|█████████████████████████████████████████████| 6/6 [00:00<00:00, 46.42it/s]\n",
      " 17%|███████▎                                  | 55/315 [00:09<00:34,  7.60it/s]"
     ]
    },
    {
     "name": "stdout",
     "output_type": "stream",
     "text": [
      " - Generating structure embeddings for mindflayer/python-mocket - \n"
     ]
    },
    {
     "name": "stderr",
     "output_type": "stream",
     "text": [
      "\n",
      "  0%|                                                     | 0/6 [00:00<?, ?it/s]\u001B[A"
     ]
    },
    {
     "name": "stdout",
     "output_type": "stream",
     "text": [
      " - Using sentence-transformers/all-mpnet-base-v2 model - \n",
      " - Using sentence-transformers/multi-qa-mpnet-base-cos-v1 model - \n",
      " - Using sentence-transformers/bert-base-nli-mean-tokens model - \n",
      " - Using sentence-transformers/paraphrase-multilingual-mpnet-base-v2 model - \n"
     ]
    },
    {
     "name": "stderr",
     "output_type": "stream",
     "text": [
      "\n",
      " 67%|██████████████████████████████               | 4/6 [00:00<00:00, 39.11it/s]\u001B[A"
     ]
    },
    {
     "name": "stdout",
     "output_type": "stream",
     "text": [
      " - Using sentence-transformers/all-distilroberta-v1 model - \n",
      " - Using sentence-transformers/distilbert-base-nli-mean-tokens model - \n"
     ]
    },
    {
     "name": "stderr",
     "output_type": "stream",
     "text": [
      "100%|█████████████████████████████████████████████| 6/6 [00:00<00:00, 43.49it/s]\n",
      " 18%|███████▍                                  | 56/315 [00:09<00:34,  7.46it/s]"
     ]
    },
    {
     "name": "stdout",
     "output_type": "stream",
     "text": [
      " - Generating structure embeddings for benfred/py-spy - \n"
     ]
    },
    {
     "name": "stderr",
     "output_type": "stream",
     "text": [
      "\n",
      "  0%|                                                     | 0/6 [00:00<?, ?it/s]\u001B[A"
     ]
    },
    {
     "name": "stdout",
     "output_type": "stream",
     "text": [
      " - Using sentence-transformers/all-mpnet-base-v2 model - \n",
      " - Using sentence-transformers/multi-qa-mpnet-base-cos-v1 model - \n",
      " - Using sentence-transformers/bert-base-nli-mean-tokens model - \n",
      " - Using sentence-transformers/paraphrase-multilingual-mpnet-base-v2 model - \n"
     ]
    },
    {
     "name": "stderr",
     "output_type": "stream",
     "text": [
      "\n",
      " 67%|██████████████████████████████               | 4/6 [00:00<00:00, 39.36it/s]\u001B[A"
     ]
    },
    {
     "name": "stdout",
     "output_type": "stream",
     "text": [
      " - Using sentence-transformers/all-distilroberta-v1 model - \n"
     ]
    },
    {
     "name": "stderr",
     "output_type": "stream",
     "text": [
      "100%|█████████████████████████████████████████████| 6/6 [00:00<00:00, 44.63it/s]\n",
      " 18%|███████▌                                  | 57/315 [00:09<00:34,  7.42it/s]"
     ]
    },
    {
     "name": "stdout",
     "output_type": "stream",
     "text": [
      " - Using sentence-transformers/distilbert-base-nli-mean-tokens model - \n",
      " - Generating structure embeddings for mikeorr/Unipath - \n"
     ]
    },
    {
     "name": "stderr",
     "output_type": "stream",
     "text": [
      "\n",
      "  0%|                                                     | 0/6 [00:00<?, ?it/s]\u001B[A"
     ]
    },
    {
     "name": "stdout",
     "output_type": "stream",
     "text": [
      " - Using sentence-transformers/all-mpnet-base-v2 model - \n",
      " - Using sentence-transformers/multi-qa-mpnet-base-cos-v1 model - \n",
      " - Using sentence-transformers/bert-base-nli-mean-tokens model - \n",
      " - Using sentence-transformers/paraphrase-multilingual-mpnet-base-v2 model - \n"
     ]
    },
    {
     "name": "stderr",
     "output_type": "stream",
     "text": [
      "\n",
      "100%|█████████████████████████████████████████████| 6/6 [00:00<00:00, 44.62it/s]\u001B[A\n",
      " 18%|███████▋                                  | 58/315 [00:09<00:34,  7.40it/s]"
     ]
    },
    {
     "name": "stdout",
     "output_type": "stream",
     "text": [
      " - Using sentence-transformers/all-distilroberta-v1 model - \n",
      " - Using sentence-transformers/distilbert-base-nli-mean-tokens model - \n",
      " - Generating structure embeddings for unoconv/unoconv - \n"
     ]
    },
    {
     "name": "stderr",
     "output_type": "stream",
     "text": [
      "\n",
      "  0%|                                                     | 0/6 [00:00<?, ?it/s]\u001B[A"
     ]
    },
    {
     "name": "stdout",
     "output_type": "stream",
     "text": [
      " - Using sentence-transformers/all-mpnet-base-v2 model - \n",
      " - Using sentence-transformers/multi-qa-mpnet-base-cos-v1 model - \n",
      " - Using sentence-transformers/bert-base-nli-mean-tokens model - \n",
      " - Using sentence-transformers/paraphrase-multilingual-mpnet-base-v2 model - \n"
     ]
    },
    {
     "name": "stderr",
     "output_type": "stream",
     "text": [
      "\n",
      "100%|█████████████████████████████████████████████| 6/6 [00:00<00:00, 43.82it/s]\u001B[A\n",
      " 19%|███████▊                                  | 59/315 [00:09<00:34,  7.33it/s]"
     ]
    },
    {
     "name": "stdout",
     "output_type": "stream",
     "text": [
      " - Using sentence-transformers/all-distilroberta-v1 model - \n",
      " - Using sentence-transformers/distilbert-base-nli-mean-tokens model - \n",
      " - Generating structure embeddings for google/google-api-python-client - \n"
     ]
    },
    {
     "name": "stderr",
     "output_type": "stream",
     "text": [
      "\n",
      "  0%|                                                     | 0/6 [00:00<?, ?it/s]\u001B[A"
     ]
    },
    {
     "name": "stdout",
     "output_type": "stream",
     "text": [
      " - Using sentence-transformers/all-mpnet-base-v2 model - \n",
      " - Using sentence-transformers/multi-qa-mpnet-base-cos-v1 model - \n",
      " - Using sentence-transformers/bert-base-nli-mean-tokens model - \n",
      " - Using sentence-transformers/paraphrase-multilingual-mpnet-base-v2 model - \n"
     ]
    },
    {
     "name": "stderr",
     "output_type": "stream",
     "text": [
      "\n",
      " 83%|█████████████████████████████████████▌       | 5/6 [00:00<00:00, 45.54it/s]\u001B[A"
     ]
    },
    {
     "name": "stdout",
     "output_type": "stream",
     "text": [
      " - Using sentence-transformers/all-distilroberta-v1 model - \n",
      " - Using sentence-transformers/distilbert-base-nli-mean-tokens model - \n"
     ]
    },
    {
     "name": "stderr",
     "output_type": "stream",
     "text": [
      "100%|█████████████████████████████████████████████| 6/6 [00:00<00:00, 47.15it/s]\n",
      " 19%|████████                                  | 60/315 [00:09<00:34,  7.45it/s]"
     ]
    },
    {
     "name": "stdout",
     "output_type": "stream",
     "text": [
      " - Generating structure embeddings for sdispater/poetry - \n"
     ]
    },
    {
     "name": "stderr",
     "output_type": "stream",
     "text": [
      "\n",
      "  0%|                                                     | 0/6 [00:00<?, ?it/s]\u001B[A"
     ]
    },
    {
     "name": "stdout",
     "output_type": "stream",
     "text": [
      " - Using sentence-transformers/all-mpnet-base-v2 model - \n",
      " - Using sentence-transformers/multi-qa-mpnet-base-cos-v1 model - \n",
      " - Using sentence-transformers/bert-base-nli-mean-tokens model - \n",
      " - Using sentence-transformers/paraphrase-multilingual-mpnet-base-v2 model - \n"
     ]
    },
    {
     "name": "stderr",
     "output_type": "stream",
     "text": [
      "\n",
      "100%|█████████████████████████████████████████████| 6/6 [00:00<00:00, 44.64it/s]\u001B[A\n",
      " 19%|████████▏                                 | 61/315 [00:09<00:34,  7.40it/s]"
     ]
    },
    {
     "name": "stdout",
     "output_type": "stream",
     "text": [
      " - Using sentence-transformers/all-distilroberta-v1 model - \n",
      " - Using sentence-transformers/distilbert-base-nli-mean-tokens model - \n",
      " - Generating structure embeddings for dbader/schedule - \n"
     ]
    },
    {
     "name": "stderr",
     "output_type": "stream",
     "text": [
      "\n",
      "  0%|                                                     | 0/6 [00:00<?, ?it/s]\u001B[A"
     ]
    },
    {
     "name": "stdout",
     "output_type": "stream",
     "text": [
      " - Using sentence-transformers/all-mpnet-base-v2 model - \n",
      " - Using sentence-transformers/multi-qa-mpnet-base-cos-v1 model - \n",
      " - Using sentence-transformers/bert-base-nli-mean-tokens model - \n",
      " - Using sentence-transformers/paraphrase-multilingual-mpnet-base-v2 model - \n"
     ]
    },
    {
     "name": "stderr",
     "output_type": "stream",
     "text": [
      "\n",
      " 67%|██████████████████████████████               | 4/6 [00:00<00:00, 39.03it/s]\u001B[A"
     ]
    },
    {
     "name": "stdout",
     "output_type": "stream",
     "text": [
      " - Using sentence-transformers/all-distilroberta-v1 model - \n",
      " - Using sentence-transformers/distilbert-base-nli-mean-tokens model - \n"
     ]
    },
    {
     "name": "stderr",
     "output_type": "stream",
     "text": [
      "100%|█████████████████████████████████████████████| 6/6 [00:00<00:00, 45.36it/s]\n",
      " 20%|████████▎                                 | 62/315 [00:10<00:34,  7.42it/s]"
     ]
    },
    {
     "name": "stdout",
     "output_type": "stream",
     "text": [
      " - Generating structure embeddings for dimka665/awesome-slugify - \n"
     ]
    },
    {
     "name": "stderr",
     "output_type": "stream",
     "text": [
      "\n",
      "  0%|                                                     | 0/6 [00:00<?, ?it/s]\u001B[A"
     ]
    },
    {
     "name": "stdout",
     "output_type": "stream",
     "text": [
      " - Using sentence-transformers/all-mpnet-base-v2 model - \n",
      " - Using sentence-transformers/multi-qa-mpnet-base-cos-v1 model - \n",
      " - Using sentence-transformers/bert-base-nli-mean-tokens model - \n",
      " - Using sentence-transformers/paraphrase-multilingual-mpnet-base-v2 model - \n"
     ]
    },
    {
     "name": "stderr",
     "output_type": "stream",
     "text": [
      "\n",
      " 67%|██████████████████████████████               | 4/6 [00:00<00:00, 39.70it/s]\u001B[A"
     ]
    },
    {
     "name": "stdout",
     "output_type": "stream",
     "text": [
      " - Using sentence-transformers/all-distilroberta-v1 model - \n",
      " - Using sentence-transformers/distilbert-base-nli-mean-tokens model - \n"
     ]
    },
    {
     "name": "stderr",
     "output_type": "stream",
     "text": [
      "100%|█████████████████████████████████████████████| 6/6 [00:00<00:00, 45.04it/s]\n",
      " 20%|████████▍                                 | 63/315 [00:10<00:34,  7.41it/s]"
     ]
    },
    {
     "name": "stdout",
     "output_type": "stream",
     "text": [
      " - Generating structure embeddings for timothycrosley/isort - \n"
     ]
    },
    {
     "name": "stderr",
     "output_type": "stream",
     "text": [
      "\n",
      "  0%|                                                     | 0/6 [00:00<?, ?it/s]\u001B[A"
     ]
    },
    {
     "name": "stdout",
     "output_type": "stream",
     "text": [
      " - Using sentence-transformers/all-mpnet-base-v2 model - \n",
      " - Using sentence-transformers/multi-qa-mpnet-base-cos-v1 model - \n",
      " - Using sentence-transformers/bert-base-nli-mean-tokens model - \n",
      " - Using sentence-transformers/paraphrase-multilingual-mpnet-base-v2 model - \n"
     ]
    },
    {
     "name": "stderr",
     "output_type": "stream",
     "text": [
      "\n",
      " 67%|██████████████████████████████               | 4/6 [00:00<00:00, 38.71it/s]\u001B[A"
     ]
    },
    {
     "name": "stdout",
     "output_type": "stream",
     "text": [
      " - Using sentence-transformers/all-distilroberta-v1 model - \n"
     ]
    },
    {
     "name": "stderr",
     "output_type": "stream",
     "text": [
      "100%|█████████████████████████████████████████████| 6/6 [00:00<00:00, 44.15it/s]\n",
      " 20%|████████▌                                 | 64/315 [00:10<00:34,  7.36it/s]"
     ]
    },
    {
     "name": "stdout",
     "output_type": "stream",
     "text": [
      " - Using sentence-transformers/distilbert-base-nli-mean-tokens model - \n",
      " - Generating structure embeddings for mobolic/facebook-sdk - \n"
     ]
    },
    {
     "name": "stderr",
     "output_type": "stream",
     "text": [
      "\n",
      "  0%|                                                     | 0/6 [00:00<?, ?it/s]\u001B[A"
     ]
    },
    {
     "name": "stdout",
     "output_type": "stream",
     "text": [
      " - Using sentence-transformers/all-mpnet-base-v2 model - \n",
      " - Using sentence-transformers/multi-qa-mpnet-base-cos-v1 model - \n",
      " - Using sentence-transformers/bert-base-nli-mean-tokens model - \n",
      " - Using sentence-transformers/paraphrase-multilingual-mpnet-base-v2 model - \n"
     ]
    },
    {
     "name": "stderr",
     "output_type": "stream",
     "text": [
      "\n",
      " 67%|██████████████████████████████               | 4/6 [00:00<00:00, 39.47it/s]\u001B[A"
     ]
    },
    {
     "name": "stdout",
     "output_type": "stream",
     "text": [
      " - Using sentence-transformers/all-distilroberta-v1 model - \n"
     ]
    },
    {
     "name": "stderr",
     "output_type": "stream",
     "text": [
      "100%|█████████████████████████████████████████████| 6/6 [00:00<00:00, 44.52it/s]\n",
      " 21%|████████▋                                 | 65/315 [00:10<00:34,  7.35it/s]"
     ]
    },
    {
     "name": "stdout",
     "output_type": "stream",
     "text": [
      " - Using sentence-transformers/distilbert-base-nli-mean-tokens model - \n",
      " - Generating structure embeddings for wemake-services/wemake-python-styleguide - \n"
     ]
    },
    {
     "name": "stderr",
     "output_type": "stream",
     "text": [
      "\n",
      "  0%|                                                     | 0/6 [00:00<?, ?it/s]\u001B[A"
     ]
    },
    {
     "name": "stdout",
     "output_type": "stream",
     "text": [
      " - Using sentence-transformers/all-mpnet-base-v2 model - \n",
      " - Using sentence-transformers/multi-qa-mpnet-base-cos-v1 model - \n",
      " - Using sentence-transformers/bert-base-nli-mean-tokens model - \n",
      " - Using sentence-transformers/paraphrase-multilingual-mpnet-base-v2 model - \n"
     ]
    },
    {
     "name": "stderr",
     "output_type": "stream",
     "text": [
      "\n",
      " 67%|██████████████████████████████               | 4/6 [00:00<00:00, 39.44it/s]\u001B[A"
     ]
    },
    {
     "name": "stdout",
     "output_type": "stream",
     "text": [
      " - Using sentence-transformers/all-distilroberta-v1 model - \n"
     ]
    },
    {
     "name": "stderr",
     "output_type": "stream",
     "text": [
      "100%|█████████████████████████████████████████████| 6/6 [00:00<00:00, 44.94it/s]\n",
      " 21%|████████▊                                 | 66/315 [00:10<00:33,  7.34it/s]"
     ]
    },
    {
     "name": "stdout",
     "output_type": "stream",
     "text": [
      " - Using sentence-transformers/distilbert-base-nli-mean-tokens model - \n",
      " - Generating structure embeddings for dirn/When.py - \n"
     ]
    },
    {
     "name": "stderr",
     "output_type": "stream",
     "text": [
      "\n",
      "  0%|                                                     | 0/6 [00:00<?, ?it/s]\u001B[A"
     ]
    },
    {
     "name": "stdout",
     "output_type": "stream",
     "text": [
      " - Using sentence-transformers/all-mpnet-base-v2 model - \n",
      " - Using sentence-transformers/multi-qa-mpnet-base-cos-v1 model - \n",
      " - Using sentence-transformers/bert-base-nli-mean-tokens model - \n",
      " - Using sentence-transformers/paraphrase-multilingual-mpnet-base-v2 model - \n"
     ]
    },
    {
     "name": "stderr",
     "output_type": "stream",
     "text": [
      "\n",
      " 83%|█████████████████████████████████████▌       | 5/6 [00:00<00:00, 44.65it/s]\u001B[A"
     ]
    },
    {
     "name": "stdout",
     "output_type": "stream",
     "text": [
      " - Using sentence-transformers/all-distilroberta-v1 model - \n",
      " - Using sentence-transformers/distilbert-base-nli-mean-tokens model - \n"
     ]
    },
    {
     "name": "stderr",
     "output_type": "stream",
     "text": [
      "100%|█████████████████████████████████████████████| 6/6 [00:00<00:00, 46.87it/s]\n",
      " 21%|████████▉                                 | 67/315 [00:10<00:33,  7.43it/s]"
     ]
    },
    {
     "name": "stdout",
     "output_type": "stream",
     "text": [
      " - Generating structure embeddings for miso-belica/sumy - \n"
     ]
    },
    {
     "name": "stderr",
     "output_type": "stream",
     "text": [
      "\n",
      "  0%|                                                     | 0/6 [00:00<?, ?it/s]\u001B[A"
     ]
    },
    {
     "name": "stdout",
     "output_type": "stream",
     "text": [
      " - Using sentence-transformers/all-mpnet-base-v2 model - \n",
      " - Using sentence-transformers/multi-qa-mpnet-base-cos-v1 model - \n",
      " - Using sentence-transformers/bert-base-nli-mean-tokens model - \n",
      " - Using sentence-transformers/paraphrase-multilingual-mpnet-base-v2 model - \n"
     ]
    },
    {
     "name": "stderr",
     "output_type": "stream",
     "text": [
      "\n",
      " 67%|██████████████████████████████               | 4/6 [00:00<00:00, 39.03it/s]\u001B[A"
     ]
    },
    {
     "name": "stdout",
     "output_type": "stream",
     "text": [
      " - Using sentence-transformers/all-distilroberta-v1 model - \n",
      " - Using sentence-transformers/distilbert-base-nli-mean-tokens model - \n"
     ]
    },
    {
     "name": "stderr",
     "output_type": "stream",
     "text": [
      "100%|█████████████████████████████████████████████| 6/6 [00:00<00:00, 44.91it/s]\n",
      " 22%|█████████                                 | 68/315 [00:10<00:33,  7.42it/s]"
     ]
    },
    {
     "name": "stdout",
     "output_type": "stream",
     "text": [
      " - Generating structure embeddings for davidaurelio/hashids-python - \n"
     ]
    },
    {
     "name": "stderr",
     "output_type": "stream",
     "text": [
      "\n",
      "  0%|                                                     | 0/6 [00:00<?, ?it/s]\u001B[A"
     ]
    },
    {
     "name": "stdout",
     "output_type": "stream",
     "text": [
      " - Using sentence-transformers/all-mpnet-base-v2 model - \n",
      " - Using sentence-transformers/multi-qa-mpnet-base-cos-v1 model - \n",
      " - Using sentence-transformers/bert-base-nli-mean-tokens model - \n",
      " - Using sentence-transformers/paraphrase-multilingual-mpnet-base-v2 model - \n"
     ]
    },
    {
     "name": "stderr",
     "output_type": "stream",
     "text": [
      "\n",
      " 67%|██████████████████████████████               | 4/6 [00:00<00:00, 39.40it/s]\u001B[A"
     ]
    },
    {
     "name": "stdout",
     "output_type": "stream",
     "text": [
      " - Using sentence-transformers/all-distilroberta-v1 model - \n",
      " - Using sentence-transformers/distilbert-base-nli-mean-tokens model - \n"
     ]
    },
    {
     "name": "stderr",
     "output_type": "stream",
     "text": [
      "100%|█████████████████████████████████████████████| 6/6 [00:00<00:00, 45.33it/s]\n",
      " 22%|█████████▏                                | 69/315 [00:11<00:33,  7.43it/s]"
     ]
    },
    {
     "name": "stdout",
     "output_type": "stream",
     "text": [
      " - Generating structure embeddings for noxrepo/pox - \n"
     ]
    },
    {
     "name": "stderr",
     "output_type": "stream",
     "text": [
      "\n",
      "  0%|                                                     | 0/6 [00:00<?, ?it/s]\u001B[A"
     ]
    },
    {
     "name": "stdout",
     "output_type": "stream",
     "text": [
      " - Using sentence-transformers/all-mpnet-base-v2 model - \n",
      " - Using sentence-transformers/multi-qa-mpnet-base-cos-v1 model - \n",
      " - Using sentence-transformers/bert-base-nli-mean-tokens model - \n",
      " - Using sentence-transformers/paraphrase-multilingual-mpnet-base-v2 model - \n"
     ]
    },
    {
     "name": "stderr",
     "output_type": "stream",
     "text": [
      "\n",
      " 67%|██████████████████████████████               | 4/6 [00:00<00:00, 39.74it/s]\u001B[A"
     ]
    },
    {
     "name": "stdout",
     "output_type": "stream",
     "text": [
      " - Using sentence-transformers/all-distilroberta-v1 model - \n",
      " - Using sentence-transformers/distilbert-base-nli-mean-tokens model - \n"
     ]
    },
    {
     "name": "stderr",
     "output_type": "stream",
     "text": [
      "100%|█████████████████████████████████████████████| 6/6 [00:00<00:00, 46.16it/s]\n",
      " 22%|█████████▎                                | 70/315 [00:11<00:32,  7.46it/s]"
     ]
    },
    {
     "name": "stdout",
     "output_type": "stream",
     "text": [
      " - Generating structure embeddings for sqlmapproject/sqlmap - \n"
     ]
    },
    {
     "name": "stderr",
     "output_type": "stream",
     "text": [
      "\n",
      "  0%|                                                     | 0/6 [00:00<?, ?it/s]\u001B[A"
     ]
    },
    {
     "name": "stdout",
     "output_type": "stream",
     "text": [
      " - Using sentence-transformers/all-mpnet-base-v2 model - \n",
      " - Using sentence-transformers/multi-qa-mpnet-base-cos-v1 model - \n",
      " - Using sentence-transformers/bert-base-nli-mean-tokens model - \n",
      " - Using sentence-transformers/paraphrase-multilingual-mpnet-base-v2 model - \n",
      " - Using sentence-transformers/all-distilroberta-v1 model - \n"
     ]
    },
    {
     "name": "stderr",
     "output_type": "stream",
     "text": [
      "\n",
      " 83%|█████████████████████████████████████▌       | 5/6 [00:00<00:00, 44.69it/s]\u001B[A"
     ]
    },
    {
     "name": "stdout",
     "output_type": "stream",
     "text": [
      " - Using sentence-transformers/distilbert-base-nli-mean-tokens model - \n"
     ]
    },
    {
     "name": "stderr",
     "output_type": "stream",
     "text": [
      "100%|█████████████████████████████████████████████| 6/6 [00:00<00:00, 46.65it/s]\n",
      " 23%|█████████▍                                | 71/315 [00:11<00:32,  7.52it/s]"
     ]
    },
    {
     "name": "stdout",
     "output_type": "stream",
     "text": [
      " - Generating structure embeddings for errbotio/errbot - \n"
     ]
    },
    {
     "name": "stderr",
     "output_type": "stream",
     "text": [
      "\n",
      "  0%|                                                     | 0/6 [00:00<?, ?it/s]\u001B[A"
     ]
    },
    {
     "name": "stdout",
     "output_type": "stream",
     "text": [
      " - Using sentence-transformers/all-mpnet-base-v2 model - \n",
      " - Using sentence-transformers/multi-qa-mpnet-base-cos-v1 model - \n",
      " - Using sentence-transformers/bert-base-nli-mean-tokens model - \n",
      " - Using sentence-transformers/paraphrase-multilingual-mpnet-base-v2 model - \n"
     ]
    },
    {
     "name": "stderr",
     "output_type": "stream",
     "text": [
      "\n",
      " 67%|██████████████████████████████               | 4/6 [00:00<00:00, 34.91it/s]\u001B[A"
     ]
    },
    {
     "name": "stdout",
     "output_type": "stream",
     "text": [
      " - Using sentence-transformers/all-distilroberta-v1 model - \n"
     ]
    },
    {
     "name": "stderr",
     "output_type": "stream",
     "text": [
      "\r",
      "100%|█████████████████████████████████████████████| 6/6 [00:00<00:00, 41.04it/s]"
     ]
    },
    {
     "name": "stdout",
     "output_type": "stream",
     "text": [
      " - Using sentence-transformers/distilbert-base-nli-mean-tokens model - \n"
     ]
    },
    {
     "name": "stderr",
     "output_type": "stream",
     "text": [
      "\n",
      "\r",
      " 23%|█████████▌                                | 72/315 [00:11<00:33,  7.26it/s]"
     ]
    },
    {
     "name": "stdout",
     "output_type": "stream",
     "text": [
      " - Generating structure embeddings for jonathanslenders/python-prompt-toolkit - \n"
     ]
    },
    {
     "name": "stderr",
     "output_type": "stream",
     "text": [
      "\n",
      "  0%|                                                     | 0/6 [00:00<?, ?it/s]\u001B[A"
     ]
    },
    {
     "name": "stdout",
     "output_type": "stream",
     "text": [
      " - Using sentence-transformers/all-mpnet-base-v2 model - \n",
      " - Using sentence-transformers/multi-qa-mpnet-base-cos-v1 model - \n",
      " - Using sentence-transformers/bert-base-nli-mean-tokens model - \n",
      " - Using sentence-transformers/paraphrase-multilingual-mpnet-base-v2 model - \n"
     ]
    },
    {
     "name": "stderr",
     "output_type": "stream",
     "text": [
      "\n",
      " 83%|█████████████████████████████████████▌       | 5/6 [00:00<00:00, 44.86it/s]\u001B[A"
     ]
    },
    {
     "name": "stdout",
     "output_type": "stream",
     "text": [
      " - Using sentence-transformers/all-distilroberta-v1 model - \n",
      " - Using sentence-transformers/distilbert-base-nli-mean-tokens model - \n"
     ]
    },
    {
     "name": "stderr",
     "output_type": "stream",
     "text": [
      "100%|█████████████████████████████████████████████| 6/6 [00:00<00:00, 46.89it/s]\n",
      " 23%|█████████▋                                | 73/315 [00:11<00:32,  7.38it/s]"
     ]
    },
    {
     "name": "stdout",
     "output_type": "stream",
     "text": [
      " - Generating structure embeddings for jakubroztocil/httpie - \n"
     ]
    },
    {
     "name": "stderr",
     "output_type": "stream",
     "text": [
      "\n",
      "  0%|                                                     | 0/6 [00:00<?, ?it/s]\u001B[A"
     ]
    },
    {
     "name": "stdout",
     "output_type": "stream",
     "text": [
      " - Using sentence-transformers/all-mpnet-base-v2 model - \n",
      " - Using sentence-transformers/multi-qa-mpnet-base-cos-v1 model - \n",
      " - Using sentence-transformers/bert-base-nli-mean-tokens model - \n"
     ]
    },
    {
     "name": "stderr",
     "output_type": "stream",
     "text": [
      "\n",
      " 67%|██████████████████████████████               | 4/6 [00:00<00:00, 37.71it/s]\u001B[A"
     ]
    },
    {
     "name": "stdout",
     "output_type": "stream",
     "text": [
      " - Using sentence-transformers/paraphrase-multilingual-mpnet-base-v2 model - \n",
      " - Using sentence-transformers/all-distilroberta-v1 model - \n",
      " - Using sentence-transformers/distilbert-base-nli-mean-tokens model - \n"
     ]
    },
    {
     "name": "stderr",
     "output_type": "stream",
     "text": [
      "100%|█████████████████████████████████████████████| 6/6 [00:00<00:00, 37.87it/s]\n",
      " 23%|█████████▊                                | 74/315 [00:11<00:34,  6.99it/s]"
     ]
    },
    {
     "name": "stdout",
     "output_type": "stream",
     "text": [
      " - Generating structure embeddings for cdgriffith/Box - \n"
     ]
    },
    {
     "name": "stderr",
     "output_type": "stream",
     "text": [
      "\n",
      "  0%|                                                     | 0/6 [00:00<?, ?it/s]\u001B[A"
     ]
    },
    {
     "name": "stdout",
     "output_type": "stream",
     "text": [
      " - Using sentence-transformers/all-mpnet-base-v2 model - \n",
      " - Using sentence-transformers/multi-qa-mpnet-base-cos-v1 model - \n",
      " - Using sentence-transformers/bert-base-nli-mean-tokens model - \n",
      " - Using sentence-transformers/paraphrase-multilingual-mpnet-base-v2 model - \n"
     ]
    },
    {
     "name": "stderr",
     "output_type": "stream",
     "text": [
      "\n",
      "100%|█████████████████████████████████████████████| 6/6 [00:00<00:00, 40.61it/s]\u001B[A\n",
      " 24%|██████████                                | 75/315 [00:11<00:34,  6.88it/s]"
     ]
    },
    {
     "name": "stdout",
     "output_type": "stream",
     "text": [
      " - Using sentence-transformers/all-distilroberta-v1 model - \n",
      " - Using sentence-transformers/distilbert-base-nli-mean-tokens model - \n",
      " - Generating structure embeddings for python-openxml/python-docx - \n"
     ]
    },
    {
     "name": "stderr",
     "output_type": "stream",
     "text": [
      "\n",
      "  0%|                                                     | 0/6 [00:00<?, ?it/s]\u001B[A"
     ]
    },
    {
     "name": "stdout",
     "output_type": "stream",
     "text": [
      " - Using sentence-transformers/all-mpnet-base-v2 model - \n",
      " - Using sentence-transformers/multi-qa-mpnet-base-cos-v1 model - \n",
      " - Using sentence-transformers/bert-base-nli-mean-tokens model - \n",
      " - Using sentence-transformers/paraphrase-multilingual-mpnet-base-v2 model - \n"
     ]
    },
    {
     "name": "stderr",
     "output_type": "stream",
     "text": [
      "\n",
      " 83%|█████████████████████████████████████▌       | 5/6 [00:00<00:00, 45.79it/s]\u001B[A"
     ]
    },
    {
     "name": "stdout",
     "output_type": "stream",
     "text": [
      " - Using sentence-transformers/all-distilroberta-v1 model - \n",
      " - Using sentence-transformers/distilbert-base-nli-mean-tokens model - \n"
     ]
    },
    {
     "name": "stderr",
     "output_type": "stream",
     "text": [
      "100%|█████████████████████████████████████████████| 6/6 [00:00<00:00, 47.70it/s]\n",
      " 24%|██████████▏                               | 76/315 [00:12<00:33,  7.14it/s]"
     ]
    },
    {
     "name": "stdout",
     "output_type": "stream",
     "text": [
      " - Generating structure embeddings for gleitz/howdoi - \n"
     ]
    },
    {
     "name": "stderr",
     "output_type": "stream",
     "text": [
      "\n",
      "  0%|                                                     | 0/6 [00:00<?, ?it/s]\u001B[A"
     ]
    },
    {
     "name": "stdout",
     "output_type": "stream",
     "text": [
      " - Using sentence-transformers/all-mpnet-base-v2 model - \n",
      " - Using sentence-transformers/multi-qa-mpnet-base-cos-v1 model - \n",
      " - Using sentence-transformers/bert-base-nli-mean-tokens model - \n",
      " - Using sentence-transformers/paraphrase-multilingual-mpnet-base-v2 model - \n"
     ]
    },
    {
     "name": "stderr",
     "output_type": "stream",
     "text": [
      "\n",
      "100%|█████████████████████████████████████████████| 6/6 [00:00<00:00, 56.23it/s]\u001B[A\n",
      " 24%|██████████▎                               | 77/315 [00:12<00:31,  7.64it/s]"
     ]
    },
    {
     "name": "stdout",
     "output_type": "stream",
     "text": [
      " - Using sentence-transformers/all-distilroberta-v1 model - \n",
      " - Using sentence-transformers/distilbert-base-nli-mean-tokens model - \n",
      " - Generating structure embeddings for vinta/pangu.py - \n"
     ]
    },
    {
     "name": "stderr",
     "output_type": "stream",
     "text": [
      "\n",
      "  0%|                                                     | 0/6 [00:00<?, ?it/s]\u001B[A"
     ]
    },
    {
     "name": "stdout",
     "output_type": "stream",
     "text": [
      " - Using sentence-transformers/all-mpnet-base-v2 model - \n",
      " - Using sentence-transformers/multi-qa-mpnet-base-cos-v1 model - \n",
      " - Using sentence-transformers/bert-base-nli-mean-tokens model - \n",
      " - Using sentence-transformers/paraphrase-multilingual-mpnet-base-v2 model - \n"
     ]
    },
    {
     "name": "stderr",
     "output_type": "stream",
     "text": [
      "\n",
      " 67%|██████████████████████████████               | 4/6 [00:00<00:00, 38.70it/s]\u001B[A"
     ]
    },
    {
     "name": "stdout",
     "output_type": "stream",
     "text": [
      " - Using sentence-transformers/all-distilroberta-v1 model - \n",
      " - Using sentence-transformers/distilbert-base-nli-mean-tokens model - \n"
     ]
    },
    {
     "name": "stderr",
     "output_type": "stream",
     "text": [
      "100%|█████████████████████████████████████████████| 6/6 [00:00<00:00, 41.33it/s]\n",
      " 25%|██████████▍                               | 78/315 [00:12<00:32,  7.37it/s]"
     ]
    },
    {
     "name": "stdout",
     "output_type": "stream",
     "text": [
      " - Generating structure embeddings for derek73/python-nameparser - \n"
     ]
    },
    {
     "name": "stderr",
     "output_type": "stream",
     "text": [
      "\n",
      "  0%|                                                     | 0/6 [00:00<?, ?it/s]\u001B[A"
     ]
    },
    {
     "name": "stdout",
     "output_type": "stream",
     "text": [
      " - Using sentence-transformers/all-mpnet-base-v2 model - \n",
      " - Using sentence-transformers/multi-qa-mpnet-base-cos-v1 model - \n",
      " - Using sentence-transformers/bert-base-nli-mean-tokens model - \n",
      " - Using sentence-transformers/paraphrase-multilingual-mpnet-base-v2 model - \n"
     ]
    },
    {
     "name": "stderr",
     "output_type": "stream",
     "text": [
      "\n",
      "100%|█████████████████████████████████████████████| 6/6 [00:00<00:00, 48.25it/s]\u001B[A\n",
      " 25%|██████████▌                               | 79/315 [00:12<00:31,  7.53it/s]"
     ]
    },
    {
     "name": "stdout",
     "output_type": "stream",
     "text": [
      " - Using sentence-transformers/all-distilroberta-v1 model - \n",
      " - Using sentence-transformers/distilbert-base-nli-mean-tokens model - \n",
      " - Generating structure embeddings for cobrateam/splinter - \n"
     ]
    },
    {
     "name": "stderr",
     "output_type": "stream",
     "text": [
      "\n",
      "  0%|                                                     | 0/6 [00:00<?, ?it/s]\u001B[A"
     ]
    },
    {
     "name": "stdout",
     "output_type": "stream",
     "text": [
      " - Using sentence-transformers/all-mpnet-base-v2 model - \n",
      " - Using sentence-transformers/multi-qa-mpnet-base-cos-v1 model - \n",
      " - Using sentence-transformers/bert-base-nli-mean-tokens model - \n",
      " - Using sentence-transformers/paraphrase-multilingual-mpnet-base-v2 model - \n"
     ]
    },
    {
     "name": "stderr",
     "output_type": "stream",
     "text": [
      "\n",
      " 83%|█████████████████████████████████████▌       | 5/6 [00:00<00:00, 44.16it/s]\u001B[A"
     ]
    },
    {
     "name": "stdout",
     "output_type": "stream",
     "text": [
      " - Using sentence-transformers/all-distilroberta-v1 model - \n",
      " - Using sentence-transformers/distilbert-base-nli-mean-tokens model - \n"
     ]
    },
    {
     "name": "stderr",
     "output_type": "stream",
     "text": [
      "100%|█████████████████████████████████████████████| 6/6 [00:00<00:00, 46.16it/s]\n",
      " 25%|██████████▋                               | 80/315 [00:12<00:31,  7.55it/s]"
     ]
    },
    {
     "name": "stdout",
     "output_type": "stream",
     "text": [
      " - Generating structure embeddings for keras-team/keras - \n"
     ]
    },
    {
     "name": "stderr",
     "output_type": "stream",
     "text": [
      "\n",
      "  0%|                                                     | 0/6 [00:00<?, ?it/s]\u001B[A"
     ]
    },
    {
     "name": "stdout",
     "output_type": "stream",
     "text": [
      " - Using sentence-transformers/all-mpnet-base-v2 model - \n",
      " - Using sentence-transformers/multi-qa-mpnet-base-cos-v1 model - \n",
      " - Using sentence-transformers/bert-base-nli-mean-tokens model - \n",
      " - Using sentence-transformers/paraphrase-multilingual-mpnet-base-v2 model - \n",
      " - Using sentence-transformers/all-distilroberta-v1 model - \n"
     ]
    },
    {
     "name": "stderr",
     "output_type": "stream",
     "text": [
      "\n",
      " 83%|█████████████████████████████████████▌       | 5/6 [00:00<00:00, 44.48it/s]\u001B[A"
     ]
    },
    {
     "name": "stdout",
     "output_type": "stream",
     "text": [
      " - Using sentence-transformers/distilbert-base-nli-mean-tokens model - \n"
     ]
    },
    {
     "name": "stderr",
     "output_type": "stream",
     "text": [
      "100%|█████████████████████████████████████████████| 6/6 [00:00<00:00, 45.54it/s]\n",
      " 26%|██████████▊                               | 81/315 [00:12<00:31,  7.53it/s]"
     ]
    },
    {
     "name": "stdout",
     "output_type": "stream",
     "text": [
      " - Generating structure embeddings for Pylons/deform - \n"
     ]
    },
    {
     "name": "stderr",
     "output_type": "stream",
     "text": [
      "\n",
      "  0%|                                                     | 0/6 [00:00<?, ?it/s]\u001B[A"
     ]
    },
    {
     "name": "stdout",
     "output_type": "stream",
     "text": [
      " - Using sentence-transformers/all-mpnet-base-v2 model - \n",
      " - Using sentence-transformers/multi-qa-mpnet-base-cos-v1 model - \n",
      " - Using sentence-transformers/bert-base-nli-mean-tokens model - \n",
      " - Using sentence-transformers/paraphrase-multilingual-mpnet-base-v2 model - \n",
      " - Using sentence-transformers/all-distilroberta-v1 model - \n"
     ]
    },
    {
     "name": "stderr",
     "output_type": "stream",
     "text": [
      "\n",
      " 83%|█████████████████████████████████████▌       | 5/6 [00:00<00:00, 47.93it/s]\u001B[A"
     ]
    },
    {
     "name": "stdout",
     "output_type": "stream",
     "text": [
      " - Using sentence-transformers/distilbert-base-nli-mean-tokens model - \n"
     ]
    },
    {
     "name": "stderr",
     "output_type": "stream",
     "text": [
      "100%|█████████████████████████████████████████████| 6/6 [00:00<00:00, 49.45it/s]\n",
      " 26%|██████████▉                               | 82/315 [00:12<00:30,  7.70it/s]"
     ]
    },
    {
     "name": "stdout",
     "output_type": "stream",
     "text": [
      " - Generating structure embeddings for facebook/pyre-check - \n"
     ]
    },
    {
     "name": "stderr",
     "output_type": "stream",
     "text": [
      "\n",
      "  0%|                                                     | 0/6 [00:00<?, ?it/s]\u001B[A"
     ]
    },
    {
     "name": "stdout",
     "output_type": "stream",
     "text": [
      " - Using sentence-transformers/all-mpnet-base-v2 model - \n",
      " - Using sentence-transformers/multi-qa-mpnet-base-cos-v1 model - \n",
      " - Using sentence-transformers/bert-base-nli-mean-tokens model - \n",
      " - Using sentence-transformers/paraphrase-multilingual-mpnet-base-v2 model - \n"
     ]
    },
    {
     "name": "stderr",
     "output_type": "stream",
     "text": [
      "\n",
      " 83%|█████████████████████████████████████▌       | 5/6 [00:00<00:00, 44.59it/s]\u001B[A"
     ]
    },
    {
     "name": "stdout",
     "output_type": "stream",
     "text": [
      " - Using sentence-transformers/all-distilroberta-v1 model - \n",
      " - Using sentence-transformers/distilbert-base-nli-mean-tokens model - \n"
     ]
    },
    {
     "name": "stderr",
     "output_type": "stream",
     "text": [
      "100%|█████████████████████████████████████████████| 6/6 [00:00<00:00, 47.03it/s]\n",
      " 26%|███████████                               | 83/315 [00:12<00:30,  7.69it/s]"
     ]
    },
    {
     "name": "stdout",
     "output_type": "stream",
     "text": [
      " - Generating structure embeddings for DiffSK/configobj - \n"
     ]
    },
    {
     "name": "stderr",
     "output_type": "stream",
     "text": [
      "\n",
      "  0%|                                                     | 0/6 [00:00<?, ?it/s]\u001B[A"
     ]
    },
    {
     "name": "stdout",
     "output_type": "stream",
     "text": [
      " - Using sentence-transformers/all-mpnet-base-v2 model - \n",
      " - Using sentence-transformers/multi-qa-mpnet-base-cos-v1 model - \n",
      " - Using sentence-transformers/bert-base-nli-mean-tokens model - \n"
     ]
    },
    {
     "name": "stderr",
     "output_type": "stream",
     "text": [
      "\n",
      " 83%|█████████████████████████████████████▌       | 5/6 [00:00<00:00, 45.62it/s]\u001B[A"
     ]
    },
    {
     "name": "stdout",
     "output_type": "stream",
     "text": [
      " - Using sentence-transformers/paraphrase-multilingual-mpnet-base-v2 model - \n",
      " - Using sentence-transformers/all-distilroberta-v1 model - \n",
      " - Using sentence-transformers/distilbert-base-nli-mean-tokens model - \n"
     ]
    },
    {
     "name": "stderr",
     "output_type": "stream",
     "text": [
      "100%|█████████████████████████████████████████████| 6/6 [00:00<00:00, 47.73it/s]\n",
      " 27%|███████████▏                              | 84/315 [00:13<00:29,  7.74it/s]"
     ]
    },
    {
     "name": "stdout",
     "output_type": "stream",
     "text": [
      " - Generating structure embeddings for binux/pyspider - \n"
     ]
    },
    {
     "name": "stderr",
     "output_type": "stream",
     "text": [
      "\n",
      "  0%|                                                     | 0/6 [00:00<?, ?it/s]\u001B[A"
     ]
    },
    {
     "name": "stdout",
     "output_type": "stream",
     "text": [
      " - Using sentence-transformers/all-mpnet-base-v2 model - \n",
      " - Using sentence-transformers/multi-qa-mpnet-base-cos-v1 model - \n",
      " - Using sentence-transformers/bert-base-nli-mean-tokens model - \n"
     ]
    },
    {
     "name": "stderr",
     "output_type": "stream",
     "text": [
      "\n",
      " 83%|█████████████████████████████████████▌       | 5/6 [00:00<00:00, 44.88it/s]\u001B[A"
     ]
    },
    {
     "name": "stdout",
     "output_type": "stream",
     "text": [
      " - Using sentence-transformers/paraphrase-multilingual-mpnet-base-v2 model - \n",
      " - Using sentence-transformers/all-distilroberta-v1 model - \n",
      " - Using sentence-transformers/distilbert-base-nli-mean-tokens model - \n"
     ]
    },
    {
     "name": "stderr",
     "output_type": "stream",
     "text": [
      "100%|█████████████████████████████████████████████| 6/6 [00:00<00:00, 47.79it/s]\n",
      " 27%|███████████▎                              | 85/315 [00:13<00:29,  7.77it/s]"
     ]
    },
    {
     "name": "stdout",
     "output_type": "stream",
     "text": [
      " - Generating structure embeddings for getnikola/nikola - \n"
     ]
    },
    {
     "name": "stderr",
     "output_type": "stream",
     "text": [
      "\n",
      "  0%|                                                     | 0/6 [00:00<?, ?it/s]\u001B[A"
     ]
    },
    {
     "name": "stdout",
     "output_type": "stream",
     "text": [
      " - Using sentence-transformers/all-mpnet-base-v2 model - \n",
      " - Using sentence-transformers/multi-qa-mpnet-base-cos-v1 model - \n",
      " - Using sentence-transformers/bert-base-nli-mean-tokens model - \n",
      " - Using sentence-transformers/paraphrase-multilingual-mpnet-base-v2 model - \n",
      " - Using sentence-transformers/all-distilroberta-v1 model - \n"
     ]
    },
    {
     "name": "stderr",
     "output_type": "stream",
     "text": [
      "\n",
      " 83%|█████████████████████████████████████▌       | 5/6 [00:00<00:00, 45.10it/s]\u001B[A"
     ]
    },
    {
     "name": "stdout",
     "output_type": "stream",
     "text": [
      " - Using sentence-transformers/distilbert-base-nli-mean-tokens model - \n"
     ]
    },
    {
     "name": "stderr",
     "output_type": "stream",
     "text": [
      "100%|█████████████████████████████████████████████| 6/6 [00:00<00:00, 47.08it/s]\n",
      " 27%|███████████▍                              | 86/315 [00:13<00:29,  7.74it/s]"
     ]
    },
    {
     "name": "stdout",
     "output_type": "stream",
     "text": [
      " - Generating structure embeddings for dask/dask - \n"
     ]
    },
    {
     "name": "stderr",
     "output_type": "stream",
     "text": [
      "\n",
      "  0%|                                                     | 0/6 [00:00<?, ?it/s]\u001B[A"
     ]
    },
    {
     "name": "stdout",
     "output_type": "stream",
     "text": [
      " - Using sentence-transformers/all-mpnet-base-v2 model - \n",
      " - Using sentence-transformers/multi-qa-mpnet-base-cos-v1 model - \n",
      " - Using sentence-transformers/bert-base-nli-mean-tokens model - \n",
      " - Using sentence-transformers/paraphrase-multilingual-mpnet-base-v2 model - \n",
      " - Using sentence-transformers/all-distilroberta-v1 model - \n"
     ]
    },
    {
     "name": "stderr",
     "output_type": "stream",
     "text": [
      "\n",
      "100%|█████████████████████████████████████████████| 6/6 [00:00<00:00, 46.78it/s]\u001B[A\n",
      " 28%|███████████▌                              | 87/315 [00:13<00:29,  7.69it/s]"
     ]
    },
    {
     "name": "stdout",
     "output_type": "stream",
     "text": [
      " - Using sentence-transformers/distilbert-base-nli-mean-tokens model - \n",
      " - Generating structure embeddings for mozilla/unicode-slugify - \n"
     ]
    },
    {
     "name": "stderr",
     "output_type": "stream",
     "text": [
      "\n",
      "  0%|                                                     | 0/6 [00:00<?, ?it/s]\u001B[A"
     ]
    },
    {
     "name": "stdout",
     "output_type": "stream",
     "text": [
      " - Using sentence-transformers/all-mpnet-base-v2 model - \n",
      " - Using sentence-transformers/multi-qa-mpnet-base-cos-v1 model - \n",
      " - Using sentence-transformers/bert-base-nli-mean-tokens model - \n",
      " - Using sentence-transformers/paraphrase-multilingual-mpnet-base-v2 model - \n"
     ]
    },
    {
     "name": "stderr",
     "output_type": "stream",
     "text": [
      "\n",
      "100%|█████████████████████████████████████████████| 6/6 [00:00<00:00, 45.14it/s]\u001B[A\n",
      " 28%|███████████▋                              | 88/315 [00:13<00:29,  7.60it/s]"
     ]
    },
    {
     "name": "stdout",
     "output_type": "stream",
     "text": [
      " - Using sentence-transformers/all-distilroberta-v1 model - \n",
      " - Using sentence-transformers/distilbert-base-nli-mean-tokens model - \n",
      " - Generating structure embeddings for devsnd/tinytag - \n"
     ]
    },
    {
     "name": "stderr",
     "output_type": "stream",
     "text": [
      "\n",
      "  0%|                                                     | 0/6 [00:00<?, ?it/s]\u001B[A"
     ]
    },
    {
     "name": "stdout",
     "output_type": "stream",
     "text": [
      " - Using sentence-transformers/all-mpnet-base-v2 model - \n",
      " - Using sentence-transformers/multi-qa-mpnet-base-cos-v1 model - \n",
      " - Using sentence-transformers/bert-base-nli-mean-tokens model - \n",
      " - Using sentence-transformers/paraphrase-multilingual-mpnet-base-v2 model - \n"
     ]
    },
    {
     "name": "stderr",
     "output_type": "stream",
     "text": [
      "\n",
      " 67%|██████████████████████████████               | 4/6 [00:00<00:00, 37.29it/s]\u001B[A"
     ]
    },
    {
     "name": "stdout",
     "output_type": "stream",
     "text": [
      " - Using sentence-transformers/all-distilroberta-v1 model - \n"
     ]
    },
    {
     "name": "stderr",
     "output_type": "stream",
     "text": [
      "100%|█████████████████████████████████████████████| 6/6 [00:00<00:00, 43.06it/s]\n",
      " 28%|███████████▊                              | 89/315 [00:13<00:30,  7.43it/s]"
     ]
    },
    {
     "name": "stdout",
     "output_type": "stream",
     "text": [
      " - Using sentence-transformers/distilbert-base-nli-mean-tokens model - \n",
      " - Generating structure embeddings for jazzband/pip-tools - \n"
     ]
    },
    {
     "name": "stderr",
     "output_type": "stream",
     "text": [
      "\n",
      "  0%|                                                     | 0/6 [00:00<?, ?it/s]\u001B[A"
     ]
    },
    {
     "name": "stdout",
     "output_type": "stream",
     "text": [
      " - Using sentence-transformers/all-mpnet-base-v2 model - \n",
      " - Using sentence-transformers/multi-qa-mpnet-base-cos-v1 model - \n",
      " - Using sentence-transformers/bert-base-nli-mean-tokens model - \n",
      " - Using sentence-transformers/paraphrase-multilingual-mpnet-base-v2 model - \n"
     ]
    },
    {
     "name": "stderr",
     "output_type": "stream",
     "text": [
      "\n",
      " 67%|██████████████████████████████               | 4/6 [00:00<00:00, 37.94it/s]\u001B[A"
     ]
    },
    {
     "name": "stdout",
     "output_type": "stream",
     "text": [
      " - Using sentence-transformers/all-distilroberta-v1 model - \n"
     ]
    },
    {
     "name": "stderr",
     "output_type": "stream",
     "text": [
      "100%|█████████████████████████████████████████████| 6/6 [00:00<00:00, 42.63it/s]\n",
      " 29%|████████████                              | 90/315 [00:13<00:30,  7.29it/s]"
     ]
    },
    {
     "name": "stdout",
     "output_type": "stream",
     "text": [
      " - Using sentence-transformers/distilbert-base-nli-mean-tokens model - \n",
      " - Generating structure embeddings for gmr/queries - \n"
     ]
    },
    {
     "name": "stderr",
     "output_type": "stream",
     "text": [
      "\n",
      "  0%|                                                     | 0/6 [00:00<?, ?it/s]\u001B[A"
     ]
    },
    {
     "name": "stdout",
     "output_type": "stream",
     "text": [
      " - Using sentence-transformers/all-mpnet-base-v2 model - \n",
      " - Using sentence-transformers/multi-qa-mpnet-base-cos-v1 model - \n",
      " - Using sentence-transformers/bert-base-nli-mean-tokens model - \n",
      " - Using sentence-transformers/paraphrase-multilingual-mpnet-base-v2 model - \n"
     ]
    },
    {
     "name": "stderr",
     "output_type": "stream",
     "text": [
      "\n",
      "100%|█████████████████████████████████████████████| 6/6 [00:00<00:00, 44.77it/s]\u001B[A\n",
      " 29%|████████████▏                             | 91/315 [00:13<00:30,  7.30it/s]"
     ]
    },
    {
     "name": "stdout",
     "output_type": "stream",
     "text": [
      " - Using sentence-transformers/all-distilroberta-v1 model - \n",
      " - Using sentence-transformers/distilbert-base-nli-mean-tokens model - \n",
      " - Generating structure embeddings for getsentry/sentry-python - \n"
     ]
    },
    {
     "name": "stderr",
     "output_type": "stream",
     "text": [
      "\n",
      "  0%|                                                     | 0/6 [00:00<?, ?it/s]\u001B[A"
     ]
    },
    {
     "name": "stdout",
     "output_type": "stream",
     "text": [
      " - Using sentence-transformers/all-mpnet-base-v2 model - \n",
      " - Using sentence-transformers/multi-qa-mpnet-base-cos-v1 model - \n",
      " - Using sentence-transformers/bert-base-nli-mean-tokens model - \n",
      " - Using sentence-transformers/paraphrase-multilingual-mpnet-base-v2 model - \n"
     ]
    },
    {
     "name": "stderr",
     "output_type": "stream",
     "text": [
      "\n",
      " 83%|█████████████████████████████████████▌       | 5/6 [00:00<00:00, 44.25it/s]\u001B[A"
     ]
    },
    {
     "name": "stdout",
     "output_type": "stream",
     "text": [
      " - Using sentence-transformers/all-distilroberta-v1 model - \n",
      " - Using sentence-transformers/distilbert-base-nli-mean-tokens model - \n"
     ]
    },
    {
     "name": "stderr",
     "output_type": "stream",
     "text": [
      "100%|█████████████████████████████████████████████| 6/6 [00:00<00:00, 45.91it/s]\n",
      " 29%|████████████▎                             | 92/315 [00:14<00:30,  7.37it/s]"
     ]
    },
    {
     "name": "stdout",
     "output_type": "stream",
     "text": [
      " - Generating structure embeddings for pallets/jinja - \n"
     ]
    },
    {
     "name": "stderr",
     "output_type": "stream",
     "text": [
      "\n",
      "  0%|                                                     | 0/6 [00:00<?, ?it/s]\u001B[A"
     ]
    },
    {
     "name": "stdout",
     "output_type": "stream",
     "text": [
      " - Using sentence-transformers/all-mpnet-base-v2 model - \n",
      " - Using sentence-transformers/multi-qa-mpnet-base-cos-v1 model - \n",
      " - Using sentence-transformers/bert-base-nli-mean-tokens model - \n",
      " - Using sentence-transformers/paraphrase-multilingual-mpnet-base-v2 model - \n"
     ]
    },
    {
     "name": "stderr",
     "output_type": "stream",
     "text": [
      "\n",
      " 67%|██████████████████████████████               | 4/6 [00:00<00:00, 39.56it/s]\u001B[A"
     ]
    },
    {
     "name": "stdout",
     "output_type": "stream",
     "text": [
      " - Using sentence-transformers/all-distilroberta-v1 model - \n",
      " - Using sentence-transformers/distilbert-base-nli-mean-tokens model - \n"
     ]
    },
    {
     "name": "stderr",
     "output_type": "stream",
     "text": [
      "100%|█████████████████████████████████████████████| 6/6 [00:00<00:00, 44.58it/s]\n",
      " 30%|████████████▍                             | 93/315 [00:14<00:30,  7.36it/s]"
     ]
    },
    {
     "name": "stdout",
     "output_type": "stream",
     "text": [
      " - Generating structure embeddings for rkern/line_profiler - \n"
     ]
    },
    {
     "name": "stderr",
     "output_type": "stream",
     "text": [
      "\n",
      "  0%|                                                     | 0/6 [00:00<?, ?it/s]\u001B[A"
     ]
    },
    {
     "name": "stdout",
     "output_type": "stream",
     "text": [
      " - Using sentence-transformers/all-mpnet-base-v2 model - \n",
      " - Using sentence-transformers/multi-qa-mpnet-base-cos-v1 model - \n",
      " - Using sentence-transformers/bert-base-nli-mean-tokens model - \n",
      " - Using sentence-transformers/paraphrase-multilingual-mpnet-base-v2 model - \n"
     ]
    },
    {
     "name": "stderr",
     "output_type": "stream",
     "text": [
      "\n",
      " 67%|██████████████████████████████               | 4/6 [00:00<00:00, 35.76it/s]\u001B[A"
     ]
    },
    {
     "name": "stdout",
     "output_type": "stream",
     "text": [
      " - Using sentence-transformers/all-distilroberta-v1 model - \n",
      " - Using sentence-transformers/distilbert-base-nli-mean-tokens model - \n"
     ]
    },
    {
     "name": "stderr",
     "output_type": "stream",
     "text": [
      "100%|█████████████████████████████████████████████| 6/6 [00:00<00:00, 41.78it/s]\n",
      " 30%|████████████▌                             | 94/315 [00:14<00:30,  7.20it/s]"
     ]
    },
    {
     "name": "stdout",
     "output_type": "stream",
     "text": [
      " - Generating structure embeddings for marrow/mailer - \n"
     ]
    },
    {
     "name": "stderr",
     "output_type": "stream",
     "text": [
      "\n",
      "  0%|                                                     | 0/6 [00:00<?, ?it/s]\u001B[A"
     ]
    },
    {
     "name": "stdout",
     "output_type": "stream",
     "text": [
      " - Using sentence-transformers/all-mpnet-base-v2 model - \n",
      " - Using sentence-transformers/multi-qa-mpnet-base-cos-v1 model - \n",
      " - Using sentence-transformers/bert-base-nli-mean-tokens model - \n",
      " - Using sentence-transformers/paraphrase-multilingual-mpnet-base-v2 model - \n"
     ]
    },
    {
     "name": "stderr",
     "output_type": "stream",
     "text": [
      "\n",
      " 83%|█████████████████████████████████████▌       | 5/6 [00:00<00:00, 44.41it/s]\u001B[A"
     ]
    },
    {
     "name": "stdout",
     "output_type": "stream",
     "text": [
      " - Using sentence-transformers/all-distilroberta-v1 model - \n",
      " - Using sentence-transformers/distilbert-base-nli-mean-tokens model - \n"
     ]
    },
    {
     "name": "stderr",
     "output_type": "stream",
     "text": [
      "100%|█████████████████████████████████████████████| 6/6 [00:00<00:00, 46.37it/s]\n",
      " 30%|████████████▋                             | 95/315 [00:14<00:30,  7.32it/s]"
     ]
    },
    {
     "name": "stdout",
     "output_type": "stream",
     "text": [
      " - Generating structure embeddings for gawel/pyquery - \n"
     ]
    },
    {
     "name": "stderr",
     "output_type": "stream",
     "text": [
      "\n",
      "  0%|                                                     | 0/6 [00:00<?, ?it/s]\u001B[A"
     ]
    },
    {
     "name": "stdout",
     "output_type": "stream",
     "text": [
      " - Using sentence-transformers/all-mpnet-base-v2 model - \n",
      " - Using sentence-transformers/multi-qa-mpnet-base-cos-v1 model - \n",
      " - Using sentence-transformers/bert-base-nli-mean-tokens model - \n",
      " - Using sentence-transformers/paraphrase-multilingual-mpnet-base-v2 model - \n"
     ]
    },
    {
     "name": "stderr",
     "output_type": "stream",
     "text": [
      "\n",
      "100%|█████████████████████████████████████████████| 6/6 [00:00<00:00, 45.90it/s]\u001B[A\n",
      " 30%|████████████▊                             | 96/315 [00:14<00:29,  7.37it/s]"
     ]
    },
    {
     "name": "stdout",
     "output_type": "stream",
     "text": [
      " - Using sentence-transformers/all-distilroberta-v1 model - \n",
      " - Using sentence-transformers/distilbert-base-nli-mean-tokens model - \n",
      " - Generating structure embeddings for spotify/luigi - \n"
     ]
    },
    {
     "name": "stderr",
     "output_type": "stream",
     "text": [
      "\n",
      "  0%|                                                     | 0/6 [00:00<?, ?it/s]\u001B[A"
     ]
    },
    {
     "name": "stdout",
     "output_type": "stream",
     "text": [
      " - Using sentence-transformers/all-mpnet-base-v2 model - \n",
      " - Using sentence-transformers/multi-qa-mpnet-base-cos-v1 model - \n",
      " - Using sentence-transformers/bert-base-nli-mean-tokens model - \n",
      " - Using sentence-transformers/paraphrase-multilingual-mpnet-base-v2 model - \n"
     ]
    },
    {
     "name": "stderr",
     "output_type": "stream",
     "text": [
      "\n",
      " 67%|██████████████████████████████               | 4/6 [00:00<00:00, 37.33it/s]\u001B[A"
     ]
    },
    {
     "name": "stdout",
     "output_type": "stream",
     "text": [
      " - Using sentence-transformers/all-distilroberta-v1 model - \n",
      " - Using sentence-transformers/distilbert-base-nli-mean-tokens model - \n"
     ]
    },
    {
     "name": "stderr",
     "output_type": "stream",
     "text": [
      "100%|█████████████████████████████████████████████| 6/6 [00:00<00:00, 43.67it/s]\n",
      " 31%|████████████▉                             | 97/315 [00:14<00:29,  7.32it/s]"
     ]
    },
    {
     "name": "stdout",
     "output_type": "stream",
     "text": [
      " - Generating structure embeddings for devpi/devpi - \n"
     ]
    },
    {
     "name": "stderr",
     "output_type": "stream",
     "text": [
      "\n",
      "  0%|                                                     | 0/6 [00:00<?, ?it/s]\u001B[A"
     ]
    },
    {
     "name": "stdout",
     "output_type": "stream",
     "text": [
      " - Using sentence-transformers/all-mpnet-base-v2 model - \n",
      " - Using sentence-transformers/multi-qa-mpnet-base-cos-v1 model - \n",
      " - Using sentence-transformers/bert-base-nli-mean-tokens model - \n",
      " - Using sentence-transformers/paraphrase-multilingual-mpnet-base-v2 model - \n"
     ]
    },
    {
     "name": "stderr",
     "output_type": "stream",
     "text": [
      "\n",
      " 67%|██████████████████████████████               | 4/6 [00:00<00:00, 39.89it/s]\u001B[A"
     ]
    },
    {
     "name": "stdout",
     "output_type": "stream",
     "text": [
      " - Using sentence-transformers/all-distilroberta-v1 model - \n",
      " - Using sentence-transformers/distilbert-base-nli-mean-tokens model - \n"
     ]
    },
    {
     "name": "stderr",
     "output_type": "stream",
     "text": [
      "100%|█████████████████████████████████████████████| 6/6 [00:00<00:00, 44.89it/s]\n",
      " 31%|█████████████                             | 98/315 [00:14<00:29,  7.34it/s]"
     ]
    },
    {
     "name": "stdout",
     "output_type": "stream",
     "text": [
      " - Generating structure embeddings for modoboa/modoboa - \n"
     ]
    },
    {
     "name": "stderr",
     "output_type": "stream",
     "text": [
      "\n",
      "  0%|                                                     | 0/6 [00:00<?, ?it/s]\u001B[A"
     ]
    },
    {
     "name": "stdout",
     "output_type": "stream",
     "text": [
      " - Using sentence-transformers/all-mpnet-base-v2 model - \n",
      " - Using sentence-transformers/multi-qa-mpnet-base-cos-v1 model - \n",
      " - Using sentence-transformers/bert-base-nli-mean-tokens model - \n",
      " - Using sentence-transformers/paraphrase-multilingual-mpnet-base-v2 model - \n"
     ]
    },
    {
     "name": "stderr",
     "output_type": "stream",
     "text": [
      "\n",
      " 67%|██████████████████████████████               | 4/6 [00:00<00:00, 38.65it/s]\u001B[A"
     ]
    },
    {
     "name": "stdout",
     "output_type": "stream",
     "text": [
      " - Using sentence-transformers/all-distilroberta-v1 model - \n"
     ]
    },
    {
     "name": "stderr",
     "output_type": "stream",
     "text": [
      "100%|█████████████████████████████████████████████| 6/6 [00:00<00:00, 44.11it/s]\n",
      " 31%|█████████████▏                            | 99/315 [00:15<00:29,  7.31it/s]"
     ]
    },
    {
     "name": "stdout",
     "output_type": "stream",
     "text": [
      " - Using sentence-transformers/distilbert-base-nli-mean-tokens model - \n",
      " - Generating structure embeddings for falconry/falcon - \n"
     ]
    },
    {
     "name": "stderr",
     "output_type": "stream",
     "text": [
      "\n",
      "  0%|                                                     | 0/6 [00:00<?, ?it/s]\u001B[A"
     ]
    },
    {
     "name": "stdout",
     "output_type": "stream",
     "text": [
      " - Using sentence-transformers/all-mpnet-base-v2 model - \n",
      " - Using sentence-transformers/multi-qa-mpnet-base-cos-v1 model - \n",
      " - Using sentence-transformers/bert-base-nli-mean-tokens model - \n",
      " - Using sentence-transformers/paraphrase-multilingual-mpnet-base-v2 model - \n"
     ]
    },
    {
     "name": "stderr",
     "output_type": "stream",
     "text": [
      "\n",
      " 67%|██████████████████████████████               | 4/6 [00:00<00:00, 39.93it/s]\u001B[A"
     ]
    },
    {
     "name": "stdout",
     "output_type": "stream",
     "text": [
      " - Using sentence-transformers/all-distilroberta-v1 model - \n"
     ]
    },
    {
     "name": "stderr",
     "output_type": "stream",
     "text": [
      "100%|█████████████████████████████████████████████| 6/6 [00:00<00:00, 45.56it/s]\n",
      " 32%|█████████████                            | 100/315 [00:15<00:29,  7.35it/s]"
     ]
    },
    {
     "name": "stdout",
     "output_type": "stream",
     "text": [
      " - Using sentence-transformers/distilbert-base-nli-mean-tokens model - \n",
      " - Generating structure embeddings for django-cache-machine/django-cache-machine - \n"
     ]
    },
    {
     "name": "stderr",
     "output_type": "stream",
     "text": [
      "\n",
      "  0%|                                                     | 0/6 [00:00<?, ?it/s]\u001B[A"
     ]
    },
    {
     "name": "stdout",
     "output_type": "stream",
     "text": [
      " - Using sentence-transformers/all-mpnet-base-v2 model - \n",
      " - Using sentence-transformers/multi-qa-mpnet-base-cos-v1 model - \n",
      " - Using sentence-transformers/bert-base-nli-mean-tokens model - \n",
      " - Using sentence-transformers/paraphrase-multilingual-mpnet-base-v2 model - \n"
     ]
    },
    {
     "name": "stderr",
     "output_type": "stream",
     "text": [
      "\n",
      "100%|█████████████████████████████████████████████| 6/6 [00:00<00:00, 46.03it/s]\u001B[A\n",
      " 32%|█████████████▏                           | 101/315 [00:15<00:28,  7.39it/s]"
     ]
    },
    {
     "name": "stdout",
     "output_type": "stream",
     "text": [
      " - Using sentence-transformers/all-distilroberta-v1 model - \n",
      " - Using sentence-transformers/distilbert-base-nli-mean-tokens model - \n",
      " - Generating structure embeddings for martinrusev/imbox - \n"
     ]
    },
    {
     "name": "stderr",
     "output_type": "stream",
     "text": [
      "\n",
      "  0%|                                                     | 0/6 [00:00<?, ?it/s]\u001B[A"
     ]
    },
    {
     "name": "stdout",
     "output_type": "stream",
     "text": [
      " - Using sentence-transformers/all-mpnet-base-v2 model - \n",
      " - Using sentence-transformers/multi-qa-mpnet-base-cos-v1 model - \n",
      " - Using sentence-transformers/bert-base-nli-mean-tokens model - \n",
      " - Using sentence-transformers/paraphrase-multilingual-mpnet-base-v2 model - \n"
     ]
    },
    {
     "name": "stderr",
     "output_type": "stream",
     "text": [
      "\n",
      " 67%|██████████████████████████████               | 4/6 [00:00<00:00, 38.45it/s]\u001B[A"
     ]
    },
    {
     "name": "stdout",
     "output_type": "stream",
     "text": [
      " - Using sentence-transformers/all-distilroberta-v1 model - \n",
      " - Using sentence-transformers/distilbert-base-nli-mean-tokens model - \n"
     ]
    },
    {
     "name": "stderr",
     "output_type": "stream",
     "text": [
      "100%|█████████████████████████████████████████████| 6/6 [00:00<00:00, 44.60it/s]\n",
      " 32%|█████████████▎                           | 102/315 [00:15<00:28,  7.37it/s]"
     ]
    },
    {
     "name": "stdout",
     "output_type": "stream",
     "text": [
      " - Generating structure embeddings for lektor/lektor - \n"
     ]
    },
    {
     "name": "stderr",
     "output_type": "stream",
     "text": [
      "\n",
      "  0%|                                                     | 0/6 [00:00<?, ?it/s]\u001B[A"
     ]
    },
    {
     "name": "stdout",
     "output_type": "stream",
     "text": [
      " - Using sentence-transformers/all-mpnet-base-v2 model - \n",
      " - Using sentence-transformers/multi-qa-mpnet-base-cos-v1 model - \n",
      " - Using sentence-transformers/bert-base-nli-mean-tokens model - \n",
      " - Using sentence-transformers/paraphrase-multilingual-mpnet-base-v2 model - \n"
     ]
    },
    {
     "name": "stderr",
     "output_type": "stream",
     "text": [
      "\n",
      " 83%|█████████████████████████████████████▌       | 5/6 [00:00<00:00, 44.45it/s]\u001B[A"
     ]
    },
    {
     "name": "stdout",
     "output_type": "stream",
     "text": [
      " - Using sentence-transformers/all-distilroberta-v1 model - \n",
      " - Using sentence-transformers/distilbert-base-nli-mean-tokens model - \n"
     ]
    },
    {
     "name": "stderr",
     "output_type": "stream",
     "text": [
      "100%|█████████████████████████████████████████████| 6/6 [00:00<00:00, 45.84it/s]\n",
      " 33%|█████████████▍                           | 103/315 [00:15<00:28,  7.38it/s]"
     ]
    },
    {
     "name": "stdout",
     "output_type": "stream",
     "text": [
      " - Generating structure embeddings for spotify/annoy - \n"
     ]
    },
    {
     "name": "stderr",
     "output_type": "stream",
     "text": [
      "\n",
      "  0%|                                                     | 0/6 [00:00<?, ?it/s]\u001B[A"
     ]
    },
    {
     "name": "stdout",
     "output_type": "stream",
     "text": [
      " - Using sentence-transformers/all-mpnet-base-v2 model - \n",
      " - Using sentence-transformers/multi-qa-mpnet-base-cos-v1 model - \n",
      " - Using sentence-transformers/bert-base-nli-mean-tokens model - \n",
      " - Using sentence-transformers/paraphrase-multilingual-mpnet-base-v2 model - \n"
     ]
    },
    {
     "name": "stderr",
     "output_type": "stream",
     "text": [
      "\n",
      " 67%|██████████████████████████████               | 4/6 [00:00<00:00, 38.55it/s]\u001B[A"
     ]
    },
    {
     "name": "stdout",
     "output_type": "stream",
     "text": [
      " - Using sentence-transformers/all-distilroberta-v1 model - \n",
      " - Using sentence-transformers/distilbert-base-nli-mean-tokens model - \n"
     ]
    },
    {
     "name": "stderr",
     "output_type": "stream",
     "text": [
      "100%|█████████████████████████████████████████████| 6/6 [00:00<00:00, 44.24it/s]\n",
      " 33%|█████████████▌                           | 104/315 [00:15<00:28,  7.35it/s]"
     ]
    },
    {
     "name": "stdout",
     "output_type": "stream",
     "text": [
      " - Generating structure embeddings for lincolnloop/python-qrcode - \n"
     ]
    },
    {
     "name": "stderr",
     "output_type": "stream",
     "text": [
      "\n",
      "  0%|                                                     | 0/6 [00:00<?, ?it/s]\u001B[A"
     ]
    },
    {
     "name": "stdout",
     "output_type": "stream",
     "text": [
      " - Using sentence-transformers/all-mpnet-base-v2 model - \n",
      " - Using sentence-transformers/multi-qa-mpnet-base-cos-v1 model - \n",
      " - Using sentence-transformers/bert-base-nli-mean-tokens model - \n",
      " - Using sentence-transformers/paraphrase-multilingual-mpnet-base-v2 model - \n"
     ]
    },
    {
     "name": "stderr",
     "output_type": "stream",
     "text": [
      "\n",
      " 83%|█████████████████████████████████████▌       | 5/6 [00:00<00:00, 45.99it/s]\u001B[A"
     ]
    },
    {
     "name": "stdout",
     "output_type": "stream",
     "text": [
      " - Using sentence-transformers/all-distilroberta-v1 model - \n",
      " - Using sentence-transformers/distilbert-base-nli-mean-tokens model - \n"
     ]
    },
    {
     "name": "stderr",
     "output_type": "stream",
     "text": [
      "100%|█████████████████████████████████████████████| 6/6 [00:00<00:00, 48.42it/s]\n",
      " 33%|█████████████▋                           | 105/315 [00:15<00:27,  7.52it/s]"
     ]
    },
    {
     "name": "stdout",
     "output_type": "stream",
     "text": [
      " - Generating structure embeddings for miracle2k/flask-assets - \n"
     ]
    },
    {
     "name": "stderr",
     "output_type": "stream",
     "text": [
      "\n",
      "  0%|                                                     | 0/6 [00:00<?, ?it/s]\u001B[A"
     ]
    },
    {
     "name": "stdout",
     "output_type": "stream",
     "text": [
      " - Using sentence-transformers/all-mpnet-base-v2 model - \n",
      " - Using sentence-transformers/multi-qa-mpnet-base-cos-v1 model - \n",
      " - Using sentence-transformers/bert-base-nli-mean-tokens model - \n"
     ]
    },
    {
     "name": "stderr",
     "output_type": "stream",
     "text": [
      "\n",
      " 50%|██████████████████████▌                      | 3/6 [00:00<00:00, 27.29it/s]\u001B[A"
     ]
    },
    {
     "name": "stdout",
     "output_type": "stream",
     "text": [
      " - Using sentence-transformers/paraphrase-multilingual-mpnet-base-v2 model - \n",
      " - Using sentence-transformers/all-distilroberta-v1 model - \n",
      " - Using sentence-transformers/distilbert-base-nli-mean-tokens model - \n"
     ]
    },
    {
     "name": "stderr",
     "output_type": "stream",
     "text": [
      "100%|█████████████████████████████████████████████| 6/6 [00:00<00:00, 34.08it/s]\n",
      " 34%|█████████████▊                           | 106/315 [00:16<00:30,  6.82it/s]"
     ]
    },
    {
     "name": "stdout",
     "output_type": "stream",
     "text": [
      " - Generating structure embeddings for hhatto/nude.py - \n"
     ]
    },
    {
     "name": "stderr",
     "output_type": "stream",
     "text": [
      "\n",
      "  0%|                                                     | 0/6 [00:00<?, ?it/s]\u001B[A"
     ]
    },
    {
     "name": "stdout",
     "output_type": "stream",
     "text": [
      " - Using sentence-transformers/all-mpnet-base-v2 model - \n",
      " - Using sentence-transformers/multi-qa-mpnet-base-cos-v1 model - \n",
      " - Using sentence-transformers/bert-base-nli-mean-tokens model - \n",
      " - Using sentence-transformers/paraphrase-multilingual-mpnet-base-v2 model - \n"
     ]
    },
    {
     "name": "stderr",
     "output_type": "stream",
     "text": [
      "\n",
      "100%|█████████████████████████████████████████████| 6/6 [00:00<00:00, 46.71it/s]\u001B[A\n",
      " 34%|█████████████▉                           | 107/315 [00:16<00:29,  7.05it/s]"
     ]
    },
    {
     "name": "stdout",
     "output_type": "stream",
     "text": [
      " - Using sentence-transformers/all-distilroberta-v1 model - \n",
      " - Using sentence-transformers/distilbert-base-nli-mean-tokens model - \n",
      " - Generating structure embeddings for timofurrer/maya - \n"
     ]
    },
    {
     "name": "stderr",
     "output_type": "stream",
     "text": [
      "\n",
      "  0%|                                                     | 0/6 [00:00<?, ?it/s]\u001B[A"
     ]
    },
    {
     "name": "stdout",
     "output_type": "stream",
     "text": [
      " - Using sentence-transformers/all-mpnet-base-v2 model - \n",
      " - Using sentence-transformers/multi-qa-mpnet-base-cos-v1 model - \n",
      " - Using sentence-transformers/bert-base-nli-mean-tokens model - \n",
      " - Using sentence-transformers/paraphrase-multilingual-mpnet-base-v2 model - \n",
      " - Using sentence-transformers/all-distilroberta-v1 model - \n"
     ]
    },
    {
     "name": "stderr",
     "output_type": "stream",
     "text": [
      "\n",
      "100%|█████████████████████████████████████████████| 6/6 [00:00<00:00, 48.26it/s]\u001B[A"
     ]
    },
    {
     "name": "stdout",
     "output_type": "stream",
     "text": [
      " - Using sentence-transformers/distilbert-base-nli-mean-tokens model - \n"
     ]
    },
    {
     "name": "stderr",
     "output_type": "stream",
     "text": [
      "\n",
      "\r",
      " 34%|██████████████                           | 108/315 [00:16<00:28,  7.29it/s]"
     ]
    },
    {
     "name": "stdout",
     "output_type": "stream",
     "text": [
      " - Generating structure embeddings for MicroPyramid/forex-python - \n"
     ]
    },
    {
     "name": "stderr",
     "output_type": "stream",
     "text": [
      "\n",
      "  0%|                                                     | 0/6 [00:00<?, ?it/s]\u001B[A"
     ]
    },
    {
     "name": "stdout",
     "output_type": "stream",
     "text": [
      " - Using sentence-transformers/all-mpnet-base-v2 model - \n",
      " - Using sentence-transformers/multi-qa-mpnet-base-cos-v1 model - \n",
      " - Using sentence-transformers/bert-base-nli-mean-tokens model - \n",
      " - Using sentence-transformers/paraphrase-multilingual-mpnet-base-v2 model - \n",
      " - Using sentence-transformers/all-distilroberta-v1 model - \n"
     ]
    },
    {
     "name": "stderr",
     "output_type": "stream",
     "text": [
      "\n",
      "100%|█████████████████████████████████████████████| 6/6 [00:00<00:00, 42.48it/s]\u001B[A\n",
      " 35%|██████████████▏                          | 109/315 [00:16<00:28,  7.20it/s]"
     ]
    },
    {
     "name": "stdout",
     "output_type": "stream",
     "text": [
      " - Using sentence-transformers/distilbert-base-nli-mean-tokens model - \n",
      " - Generating structure embeddings for codeinthehole/purl - \n"
     ]
    },
    {
     "name": "stderr",
     "output_type": "stream",
     "text": [
      "\n",
      "  0%|                                                     | 0/6 [00:00<?, ?it/s]\u001B[A"
     ]
    },
    {
     "name": "stdout",
     "output_type": "stream",
     "text": [
      " - Using sentence-transformers/all-mpnet-base-v2 model - \n",
      " - Using sentence-transformers/multi-qa-mpnet-base-cos-v1 model - \n",
      " - Using sentence-transformers/bert-base-nli-mean-tokens model - \n"
     ]
    },
    {
     "name": "stderr",
     "output_type": "stream",
     "text": [
      "100%|█████████████████████████████████████████████| 6/6 [00:00<00:00, 61.13it/s]\n"
     ]
    },
    {
     "name": "stdout",
     "output_type": "stream",
     "text": [
      " - Using sentence-transformers/paraphrase-multilingual-mpnet-base-v2 model - \n",
      " - Using sentence-transformers/all-distilroberta-v1 model - \n",
      " - Using sentence-transformers/distilbert-base-nli-mean-tokens model - \n",
      " - Generating structure embeddings for khamidou/lptrace - \n"
     ]
    },
    {
     "name": "stderr",
     "output_type": "stream",
     "text": [
      "\n",
      "  0%|                                                     | 0/6 [00:00<?, ?it/s]\u001B[A"
     ]
    },
    {
     "name": "stdout",
     "output_type": "stream",
     "text": [
      " - Using sentence-transformers/all-mpnet-base-v2 model - \n",
      " - Using sentence-transformers/multi-qa-mpnet-base-cos-v1 model - \n",
      " - Using sentence-transformers/bert-base-nli-mean-tokens model - \n",
      " - Using sentence-transformers/paraphrase-multilingual-mpnet-base-v2 model - \n"
     ]
    },
    {
     "name": "stderr",
     "output_type": "stream",
     "text": [
      "\n",
      " 67%|██████████████████████████████               | 4/6 [00:00<00:00, 37.51it/s]\u001B[A"
     ]
    },
    {
     "name": "stdout",
     "output_type": "stream",
     "text": [
      " - Using sentence-transformers/all-distilroberta-v1 model - \n"
     ]
    },
    {
     "name": "stderr",
     "output_type": "stream",
     "text": [
      "100%|█████████████████████████████████████████████| 6/6 [00:00<00:00, 43.78it/s]\n",
      " 35%|██████████████▍                          | 111/315 [00:16<00:26,  7.70it/s]"
     ]
    },
    {
     "name": "stdout",
     "output_type": "stream",
     "text": [
      " - Using sentence-transformers/distilbert-base-nli-mean-tokens model - \n",
      " - Generating structure embeddings for altair-viz/altair - \n"
     ]
    },
    {
     "name": "stderr",
     "output_type": "stream",
     "text": [
      "\n",
      "  0%|                                                     | 0/6 [00:00<?, ?it/s]\u001B[A"
     ]
    },
    {
     "name": "stdout",
     "output_type": "stream",
     "text": [
      " - Using sentence-transformers/all-mpnet-base-v2 model - \n",
      " - Using sentence-transformers/multi-qa-mpnet-base-cos-v1 model - \n",
      " - Using sentence-transformers/bert-base-nli-mean-tokens model - \n",
      " - Using sentence-transformers/paraphrase-multilingual-mpnet-base-v2 model - \n"
     ]
    },
    {
     "name": "stderr",
     "output_type": "stream",
     "text": [
      "\n",
      " 67%|██████████████████████████████               | 4/6 [00:00<00:00, 39.17it/s]\u001B[A"
     ]
    },
    {
     "name": "stdout",
     "output_type": "stream",
     "text": [
      " - Using sentence-transformers/all-distilroberta-v1 model - \n"
     ]
    },
    {
     "name": "stderr",
     "output_type": "stream",
     "text": [
      "100%|█████████████████████████████████████████████| 6/6 [00:00<00:00, 43.51it/s]\n",
      " 36%|██████████████▌                          | 112/315 [00:16<00:26,  7.56it/s]"
     ]
    },
    {
     "name": "stdout",
     "output_type": "stream",
     "text": [
      " - Using sentence-transformers/distilbert-base-nli-mean-tokens model - \n",
      " - Generating structure embeddings for jendrikseipp/vulture - \n"
     ]
    },
    {
     "name": "stderr",
     "output_type": "stream",
     "text": [
      "\n",
      "  0%|                                                     | 0/6 [00:00<?, ?it/s]\u001B[A"
     ]
    },
    {
     "name": "stdout",
     "output_type": "stream",
     "text": [
      " - Using sentence-transformers/all-mpnet-base-v2 model - \n",
      " - Using sentence-transformers/multi-qa-mpnet-base-cos-v1 model - \n",
      " - Using sentence-transformers/bert-base-nli-mean-tokens model - \n",
      " - Using sentence-transformers/paraphrase-multilingual-mpnet-base-v2 model - \n",
      " - Using sentence-transformers/all-distilroberta-v1 model - \n",
      " - Using sentence-transformers/distilbert-base-nli-mean-tokens model - \n"
     ]
    },
    {
     "name": "stderr",
     "output_type": "stream",
     "text": [
      "\n",
      "100%|█████████████████████████████████████████████| 6/6 [00:00<00:00, 53.13it/s]\u001B[A\n",
      " 36%|██████████████▋                          | 113/315 [00:16<00:25,  7.83it/s]"
     ]
    },
    {
     "name": "stdout",
     "output_type": "stream",
     "text": [
      " - Generating structure embeddings for Pylons/waitress - \n"
     ]
    },
    {
     "name": "stderr",
     "output_type": "stream",
     "text": [
      "\n",
      "  0%|                                                     | 0/6 [00:00<?, ?it/s]\u001B[A"
     ]
    },
    {
     "name": "stdout",
     "output_type": "stream",
     "text": [
      " - Using sentence-transformers/all-mpnet-base-v2 model - \n",
      " - Using sentence-transformers/multi-qa-mpnet-base-cos-v1 model - \n",
      " - Using sentence-transformers/bert-base-nli-mean-tokens model - \n"
     ]
    },
    {
     "name": "stderr",
     "output_type": "stream",
     "text": [
      "\n",
      " 67%|██████████████████████████████               | 4/6 [00:00<00:00, 36.44it/s]\u001B[A"
     ]
    },
    {
     "name": "stdout",
     "output_type": "stream",
     "text": [
      " - Using sentence-transformers/paraphrase-multilingual-mpnet-base-v2 model - \n",
      " - Using sentence-transformers/all-distilroberta-v1 model - \n",
      " - Using sentence-transformers/distilbert-base-nli-mean-tokens model - \n"
     ]
    },
    {
     "name": "stderr",
     "output_type": "stream",
     "text": [
      "100%|█████████████████████████████████████████████| 6/6 [00:00<00:00, 41.31it/s]\n",
      " 36%|██████████████▊                          | 114/315 [00:17<00:26,  7.53it/s]"
     ]
    },
    {
     "name": "stdout",
     "output_type": "stream",
     "text": [
      " - Generating structure embeddings for SerpentAI/SerpentAI - \n"
     ]
    },
    {
     "name": "stderr",
     "output_type": "stream",
     "text": [
      "\n",
      "  0%|                                                     | 0/6 [00:00<?, ?it/s]\u001B[A"
     ]
    },
    {
     "name": "stdout",
     "output_type": "stream",
     "text": [
      " - Using sentence-transformers/all-mpnet-base-v2 model - \n",
      " - Using sentence-transformers/multi-qa-mpnet-base-cos-v1 model - \n",
      " - Using sentence-transformers/bert-base-nli-mean-tokens model - \n",
      " - Using sentence-transformers/paraphrase-multilingual-mpnet-base-v2 model - \n"
     ]
    },
    {
     "name": "stderr",
     "output_type": "stream",
     "text": [
      "\n",
      " 83%|█████████████████████████████████████▌       | 5/6 [00:00<00:00, 45.25it/s]\u001B[A"
     ]
    },
    {
     "name": "stdout",
     "output_type": "stream",
     "text": [
      " - Using sentence-transformers/all-distilroberta-v1 model - \n",
      " - Using sentence-transformers/distilbert-base-nli-mean-tokens model - \n"
     ]
    },
    {
     "name": "stderr",
     "output_type": "stream",
     "text": [
      "100%|█████████████████████████████████████████████| 6/6 [00:00<00:00, 47.75it/s]\n",
      " 37%|██████████████▉                          | 115/315 [00:17<00:26,  7.58it/s]"
     ]
    },
    {
     "name": "stdout",
     "output_type": "stream",
     "text": [
      " - Generating structure embeddings for html5lib/html5lib-python - \n"
     ]
    },
    {
     "name": "stderr",
     "output_type": "stream",
     "text": [
      "\n",
      "  0%|                                                     | 0/6 [00:00<?, ?it/s]\u001B[A"
     ]
    },
    {
     "name": "stdout",
     "output_type": "stream",
     "text": [
      " - Using sentence-transformers/all-mpnet-base-v2 model - \n",
      " - Using sentence-transformers/multi-qa-mpnet-base-cos-v1 model - \n",
      " - Using sentence-transformers/bert-base-nli-mean-tokens model - \n",
      " - Using sentence-transformers/paraphrase-multilingual-mpnet-base-v2 model - \n"
     ]
    },
    {
     "name": "stderr",
     "output_type": "stream",
     "text": [
      "\n",
      "100%|█████████████████████████████████████████████| 6/6 [00:00<00:00, 48.87it/s]\u001B[A\n",
      " 37%|███████████████                          | 116/315 [00:17<00:26,  7.62it/s]"
     ]
    },
    {
     "name": "stdout",
     "output_type": "stream",
     "text": [
      " - Using sentence-transformers/all-distilroberta-v1 model - \n",
      " - Using sentence-transformers/distilbert-base-nli-mean-tokens model - \n",
      " - Generating structure embeddings for dmlc/mxnet - \n"
     ]
    },
    {
     "name": "stderr",
     "output_type": "stream",
     "text": [
      "\n",
      "  0%|                                                     | 0/6 [00:00<?, ?it/s]\u001B[A"
     ]
    },
    {
     "name": "stdout",
     "output_type": "stream",
     "text": [
      " - Using sentence-transformers/all-mpnet-base-v2 model - \n",
      " - Using sentence-transformers/multi-qa-mpnet-base-cos-v1 model - \n"
     ]
    },
    {
     "name": "stderr",
     "output_type": "stream",
     "text": [
      "\n",
      " 33%|███████████████                              | 2/6 [00:00<00:00, 18.03it/s]\u001B[A"
     ]
    },
    {
     "name": "stdout",
     "output_type": "stream",
     "text": [
      " - Using sentence-transformers/bert-base-nli-mean-tokens model - \n",
      " - Using sentence-transformers/paraphrase-multilingual-mpnet-base-v2 model - \n",
      " - Using sentence-transformers/all-distilroberta-v1 model - \n",
      " - Using sentence-transformers/distilbert-base-nli-mean-tokens model - \n"
     ]
    },
    {
     "name": "stderr",
     "output_type": "stream",
     "text": [
      "100%|█████████████████████████████████████████████| 6/6 [00:00<00:00, 29.83it/s]\n",
      " 37%|███████████████▏                         | 117/315 [00:17<00:30,  6.58it/s]"
     ]
    },
    {
     "name": "stdout",
     "output_type": "stream",
     "text": [
      " - Generating structure embeddings for django-haystack/pysolr - \n"
     ]
    },
    {
     "name": "stderr",
     "output_type": "stream",
     "text": [
      "\n",
      "  0%|                                                     | 0/6 [00:00<?, ?it/s]\u001B[A"
     ]
    },
    {
     "name": "stdout",
     "output_type": "stream",
     "text": [
      " - Using sentence-transformers/all-mpnet-base-v2 model - \n",
      " - Using sentence-transformers/multi-qa-mpnet-base-cos-v1 model - \n",
      " - Using sentence-transformers/bert-base-nli-mean-tokens model - \n",
      " - Using sentence-transformers/paraphrase-multilingual-mpnet-base-v2 model - \n",
      " - Using sentence-transformers/all-distilroberta-v1 model - \n"
     ]
    },
    {
     "name": "stderr",
     "output_type": "stream",
     "text": [
      "\n",
      "100%|█████████████████████████████████████████████| 6/6 [00:00<00:00, 46.35it/s]\u001B[A\n",
      " 37%|███████████████▎                         | 118/315 [00:17<00:28,  6.84it/s]"
     ]
    },
    {
     "name": "stdout",
     "output_type": "stream",
     "text": [
      " - Using sentence-transformers/distilbert-base-nli-mean-tokens model - \n",
      " - Generating structure embeddings for aizvorski/scikit-video - \n"
     ]
    },
    {
     "name": "stderr",
     "output_type": "stream",
     "text": [
      "\n",
      "  0%|                                                     | 0/6 [00:00<?, ?it/s]\u001B[A"
     ]
    },
    {
     "name": "stdout",
     "output_type": "stream",
     "text": [
      " - Using sentence-transformers/all-mpnet-base-v2 model - \n",
      " - Using sentence-transformers/multi-qa-mpnet-base-cos-v1 model - \n",
      " - Using sentence-transformers/bert-base-nli-mean-tokens model - \n"
     ]
    },
    {
     "name": "stderr",
     "output_type": "stream",
     "text": [
      "\n",
      "100%|█████████████████████████████████████████████| 6/6 [00:00<00:00, 47.40it/s]\u001B[A\n",
      " 38%|███████████████▍                         | 119/315 [00:17<00:27,  7.10it/s]"
     ]
    },
    {
     "name": "stdout",
     "output_type": "stream",
     "text": [
      " - Using sentence-transformers/paraphrase-multilingual-mpnet-base-v2 model - \n",
      " - Using sentence-transformers/all-distilroberta-v1 model - \n",
      " - Using sentence-transformers/distilbert-base-nli-mean-tokens model - \n",
      " - Generating structure embeddings for sergree/matchering - \n"
     ]
    },
    {
     "name": "stderr",
     "output_type": "stream",
     "text": [
      "\n",
      "  0%|                                                     | 0/6 [00:00<?, ?it/s]\u001B[A"
     ]
    },
    {
     "name": "stdout",
     "output_type": "stream",
     "text": [
      " - Using sentence-transformers/all-mpnet-base-v2 model - \n",
      " - Using sentence-transformers/multi-qa-mpnet-base-cos-v1 model - \n",
      " - Using sentence-transformers/bert-base-nli-mean-tokens model - \n",
      " - Using sentence-transformers/paraphrase-multilingual-mpnet-base-v2 model - \n"
     ]
    },
    {
     "name": "stderr",
     "output_type": "stream",
     "text": [
      "\n",
      "100%|█████████████████████████████████████████████| 6/6 [00:00<00:00, 54.13it/s]\u001B[A\n",
      " 38%|███████████████▌                         | 120/315 [00:17<00:25,  7.56it/s]"
     ]
    },
    {
     "name": "stdout",
     "output_type": "stream",
     "text": [
      " - Using sentence-transformers/all-distilroberta-v1 model - \n",
      " - Using sentence-transformers/distilbert-base-nli-mean-tokens model - \n",
      " - Generating structure embeddings for ZoomerAnalytics/xlwings - \n"
     ]
    },
    {
     "name": "stderr",
     "output_type": "stream",
     "text": [
      "\n",
      "  0%|                                                     | 0/6 [00:00<?, ?it/s]\u001B[A"
     ]
    },
    {
     "name": "stdout",
     "output_type": "stream",
     "text": [
      " - Using sentence-transformers/all-mpnet-base-v2 model - \n",
      " - Using sentence-transformers/multi-qa-mpnet-base-cos-v1 model - \n",
      " - Using sentence-transformers/bert-base-nli-mean-tokens model - \n",
      " - Using sentence-transformers/paraphrase-multilingual-mpnet-base-v2 model - \n"
     ]
    },
    {
     "name": "stderr",
     "output_type": "stream",
     "text": [
      "\n",
      "100%|█████████████████████████████████████████████| 6/6 [00:00<00:00, 48.81it/s]\u001B[A\n",
      " 38%|███████████████▋                         | 121/315 [00:18<00:25,  7.69it/s]"
     ]
    },
    {
     "name": "stdout",
     "output_type": "stream",
     "text": [
      " - Using sentence-transformers/all-distilroberta-v1 model - \n",
      " - Using sentence-transformers/distilbert-base-nli-mean-tokens model - \n",
      " - Generating structure embeddings for jazzband/django-pipeline - \n"
     ]
    },
    {
     "name": "stderr",
     "output_type": "stream",
     "text": [
      "\n",
      "  0%|                                                     | 0/6 [00:00<?, ?it/s]\u001B[A"
     ]
    },
    {
     "name": "stdout",
     "output_type": "stream",
     "text": [
      " - Using sentence-transformers/all-mpnet-base-v2 model - \n",
      " - Using sentence-transformers/multi-qa-mpnet-base-cos-v1 model - \n",
      " - Using sentence-transformers/bert-base-nli-mean-tokens model - \n",
      " - Using sentence-transformers/paraphrase-multilingual-mpnet-base-v2 model - \n",
      " - Using sentence-transformers/all-distilroberta-v1 model - \n"
     ]
    },
    {
     "name": "stderr",
     "output_type": "stream",
     "text": [
      "\n",
      " 83%|█████████████████████████████████████▌       | 5/6 [00:00<00:00, 45.65it/s]\u001B[A"
     ]
    },
    {
     "name": "stdout",
     "output_type": "stream",
     "text": [
      " - Using sentence-transformers/distilbert-base-nli-mean-tokens model - \n"
     ]
    },
    {
     "name": "stderr",
     "output_type": "stream",
     "text": [
      "100%|█████████████████████████████████████████████| 6/6 [00:00<00:00, 47.63it/s]\n",
      " 39%|███████████████▉                         | 122/315 [00:18<00:24,  7.73it/s]"
     ]
    },
    {
     "name": "stdout",
     "output_type": "stream",
     "text": [
      " - Generating structure embeddings for clips/pattern - \n"
     ]
    },
    {
     "name": "stderr",
     "output_type": "stream",
     "text": [
      "\n",
      "  0%|                                                     | 0/6 [00:00<?, ?it/s]\u001B[A"
     ]
    },
    {
     "name": "stdout",
     "output_type": "stream",
     "text": [
      " - Using sentence-transformers/all-mpnet-base-v2 model - \n",
      " - Using sentence-transformers/multi-qa-mpnet-base-cos-v1 model - \n",
      " - Using sentence-transformers/bert-base-nli-mean-tokens model - \n",
      " - Using sentence-transformers/paraphrase-multilingual-mpnet-base-v2 model - \n",
      " - Using sentence-transformers/all-distilroberta-v1 model - \n",
      " - Using sentence-transformers/distilbert-base-nli-mean-tokens model - \n"
     ]
    },
    {
     "name": "stderr",
     "output_type": "stream",
     "text": [
      "\n",
      "100%|█████████████████████████████████████████████| 6/6 [00:00<00:00, 52.99it/s]\u001B[A\n",
      " 39%|████████████████                         | 123/315 [00:18<00:24,  8.00it/s]"
     ]
    },
    {
     "name": "stdout",
     "output_type": "stream",
     "text": [
      " - Generating structure embeddings for fabianp/memory_profiler - \n"
     ]
    },
    {
     "name": "stderr",
     "output_type": "stream",
     "text": [
      "\n",
      "  0%|                                                     | 0/6 [00:00<?, ?it/s]\u001B[A"
     ]
    },
    {
     "name": "stdout",
     "output_type": "stream",
     "text": [
      " - Using sentence-transformers/all-mpnet-base-v2 model - \n",
      " - Using sentence-transformers/multi-qa-mpnet-base-cos-v1 model - \n",
      " - Using sentence-transformers/bert-base-nli-mean-tokens model - \n",
      " - Using sentence-transformers/paraphrase-multilingual-mpnet-base-v2 model - \n"
     ]
    },
    {
     "name": "stderr",
     "output_type": "stream",
     "text": [
      "\n",
      "100%|█████████████████████████████████████████████| 6/6 [00:00<00:00, 44.67it/s]\u001B[A\n",
      " 39%|████████████████▏                        | 124/315 [00:18<00:24,  7.79it/s]"
     ]
    },
    {
     "name": "stdout",
     "output_type": "stream",
     "text": [
      " - Using sentence-transformers/all-distilroberta-v1 model - \n",
      " - Using sentence-transformers/distilbert-base-nli-mean-tokens model - \n",
      " - Generating structure embeddings for mitsuhiko/unp - \n"
     ]
    },
    {
     "name": "stderr",
     "output_type": "stream",
     "text": [
      "\n",
      "  0%|                                                     | 0/6 [00:00<?, ?it/s]\u001B[A"
     ]
    },
    {
     "name": "stdout",
     "output_type": "stream",
     "text": [
      " - Using sentence-transformers/all-mpnet-base-v2 model - \n",
      " - Using sentence-transformers/multi-qa-mpnet-base-cos-v1 model - \n",
      " - Using sentence-transformers/bert-base-nli-mean-tokens model - \n",
      " - Using sentence-transformers/paraphrase-multilingual-mpnet-base-v2 model - \n"
     ]
    },
    {
     "name": "stderr",
     "output_type": "stream",
     "text": [
      "\n",
      "100%|█████████████████████████████████████████████| 6/6 [00:00<00:00, 53.04it/s]\u001B[A\n",
      " 40%|████████████████▎                        | 125/315 [00:18<00:23,  8.04it/s]"
     ]
    },
    {
     "name": "stdout",
     "output_type": "stream",
     "text": [
      " - Using sentence-transformers/all-distilroberta-v1 model - \n",
      " - Using sentence-transformers/distilbert-base-nli-mean-tokens model - \n",
      " - Generating structure embeddings for stephenmcd/hot-redis - \n"
     ]
    },
    {
     "name": "stderr",
     "output_type": "stream",
     "text": [
      "\n",
      "  0%|                                                     | 0/6 [00:00<?, ?it/s]\u001B[A"
     ]
    },
    {
     "name": "stdout",
     "output_type": "stream",
     "text": [
      " - Using sentence-transformers/all-mpnet-base-v2 model - \n",
      " - Using sentence-transformers/multi-qa-mpnet-base-cos-v1 model - \n",
      " - Using sentence-transformers/bert-base-nli-mean-tokens model - \n",
      " - Using sentence-transformers/paraphrase-multilingual-mpnet-base-v2 model - \n"
     ]
    },
    {
     "name": "stderr",
     "output_type": "stream",
     "text": [
      "\n",
      " 67%|██████████████████████████████               | 4/6 [00:00<00:00, 38.09it/s]\u001B[A"
     ]
    },
    {
     "name": "stdout",
     "output_type": "stream",
     "text": [
      " - Using sentence-transformers/all-distilroberta-v1 model - \n",
      " - Using sentence-transformers/distilbert-base-nli-mean-tokens model - \n"
     ]
    },
    {
     "name": "stderr",
     "output_type": "stream",
     "text": [
      "100%|█████████████████████████████████████████████| 6/6 [00:00<00:00, 42.66it/s]\n",
      " 40%|████████████████▍                        | 126/315 [00:18<00:24,  7.71it/s]"
     ]
    },
    {
     "name": "stdout",
     "output_type": "stream",
     "text": [
      " - Generating structure embeddings for henriquebastos/python-decouple - \n"
     ]
    },
    {
     "name": "stderr",
     "output_type": "stream",
     "text": [
      "\n",
      "  0%|                                                     | 0/6 [00:00<?, ?it/s]\u001B[A"
     ]
    },
    {
     "name": "stdout",
     "output_type": "stream",
     "text": [
      " - Using sentence-transformers/all-mpnet-base-v2 model - \n",
      " - Using sentence-transformers/multi-qa-mpnet-base-cos-v1 model - \n",
      " - Using sentence-transformers/bert-base-nli-mean-tokens model - \n",
      " - Using sentence-transformers/paraphrase-multilingual-mpnet-base-v2 model - \n"
     ]
    },
    {
     "name": "stderr",
     "output_type": "stream",
     "text": [
      "\n",
      " 67%|██████████████████████████████               | 4/6 [00:00<00:00, 37.82it/s]\u001B[A"
     ]
    },
    {
     "name": "stdout",
     "output_type": "stream",
     "text": [
      " - Using sentence-transformers/all-distilroberta-v1 model - \n",
      " - Using sentence-transformers/distilbert-base-nli-mean-tokens model - \n"
     ]
    },
    {
     "name": "stderr",
     "output_type": "stream",
     "text": [
      "100%|█████████████████████████████████████████████| 6/6 [00:00<00:00, 42.19it/s]\n",
      " 40%|████████████████▌                        | 127/315 [00:18<00:25,  7.45it/s]"
     ]
    },
    {
     "name": "stdout",
     "output_type": "stream",
     "text": [
      " - Generating structure embeddings for marshmallow-code/webargs - \n"
     ]
    },
    {
     "name": "stderr",
     "output_type": "stream",
     "text": [
      "\n",
      "  0%|                                                     | 0/6 [00:00<?, ?it/s]\u001B[A"
     ]
    },
    {
     "name": "stdout",
     "output_type": "stream",
     "text": [
      " - Using sentence-transformers/all-mpnet-base-v2 model - \n",
      " - Using sentence-transformers/multi-qa-mpnet-base-cos-v1 model - \n",
      " - Using sentence-transformers/bert-base-nli-mean-tokens model - \n",
      " - Using sentence-transformers/paraphrase-multilingual-mpnet-base-v2 model - \n",
      " - Using sentence-transformers/all-distilroberta-v1 model - \n",
      " - Using sentence-transformers/distilbert-base-nli-mean-tokens model - \n"
     ]
    },
    {
     "name": "stderr",
     "output_type": "stream",
     "text": [
      "\n",
      "100%|█████████████████████████████████████████████| 6/6 [00:00<00:00, 50.26it/s]\u001B[A\n",
      " 41%|████████████████▋                        | 128/315 [00:18<00:24,  7.68it/s]"
     ]
    },
    {
     "name": "stdout",
     "output_type": "stream",
     "text": [
      " - Generating structure embeddings for flask-api/flask-api - \n"
     ]
    },
    {
     "name": "stderr",
     "output_type": "stream",
     "text": [
      "\n",
      "  0%|                                                     | 0/6 [00:00<?, ?it/s]\u001B[A"
     ]
    },
    {
     "name": "stdout",
     "output_type": "stream",
     "text": [
      " - Using sentence-transformers/all-mpnet-base-v2 model - \n",
      " - Using sentence-transformers/multi-qa-mpnet-base-cos-v1 model - \n",
      " - Using sentence-transformers/bert-base-nli-mean-tokens model - \n",
      " - Using sentence-transformers/paraphrase-multilingual-mpnet-base-v2 model - \n",
      " - Using sentence-transformers/all-distilroberta-v1 model - \n"
     ]
    },
    {
     "name": "stderr",
     "output_type": "stream",
     "text": [
      "\n",
      "100%|█████████████████████████████████████████████| 6/6 [00:00<00:00, 48.59it/s]\u001B[A\n",
      " 41%|████████████████▊                        | 129/315 [00:19<00:23,  7.76it/s]"
     ]
    },
    {
     "name": "stdout",
     "output_type": "stream",
     "text": [
      " - Using sentence-transformers/distilbert-base-nli-mean-tokens model - \n",
      " - Generating structure embeddings for ansible/ansible - \n"
     ]
    },
    {
     "name": "stderr",
     "output_type": "stream",
     "text": [
      "\n",
      "  0%|                                                     | 0/6 [00:00<?, ?it/s]\u001B[A"
     ]
    },
    {
     "name": "stdout",
     "output_type": "stream",
     "text": [
      " - Using sentence-transformers/all-mpnet-base-v2 model - \n",
      " - Using sentence-transformers/multi-qa-mpnet-base-cos-v1 model - \n",
      " - Using sentence-transformers/bert-base-nli-mean-tokens model - \n",
      " - Using sentence-transformers/paraphrase-multilingual-mpnet-base-v2 model - \n",
      " - Using sentence-transformers/all-distilroberta-v1 model - \n"
     ]
    },
    {
     "name": "stderr",
     "output_type": "stream",
     "text": [
      "\n",
      "100%|█████████████████████████████████████████████| 6/6 [00:00<00:00, 49.17it/s]\u001B[A\n",
      " 41%|████████████████▉                        | 130/315 [00:19<00:23,  7.85it/s]"
     ]
    },
    {
     "name": "stdout",
     "output_type": "stream",
     "text": [
      " - Using sentence-transformers/distilbert-base-nli-mean-tokens model - \n",
      " - Generating structure embeddings for amitt001/delegator.py - \n"
     ]
    },
    {
     "name": "stderr",
     "output_type": "stream",
     "text": [
      "\n",
      "  0%|                                                     | 0/6 [00:00<?, ?it/s]\u001B[A"
     ]
    },
    {
     "name": "stdout",
     "output_type": "stream",
     "text": [
      " - Using sentence-transformers/all-mpnet-base-v2 model - \n",
      " - Using sentence-transformers/multi-qa-mpnet-base-cos-v1 model - \n",
      " - Using sentence-transformers/bert-base-nli-mean-tokens model - \n",
      " - Using sentence-transformers/paraphrase-multilingual-mpnet-base-v2 model - \n"
     ]
    },
    {
     "name": "stderr",
     "output_type": "stream",
     "text": [
      "\n",
      " 67%|██████████████████████████████               | 4/6 [00:00<00:00, 38.76it/s]\u001B[A"
     ]
    },
    {
     "name": "stdout",
     "output_type": "stream",
     "text": [
      " - Using sentence-transformers/all-distilroberta-v1 model - \n"
     ]
    },
    {
     "name": "stderr",
     "output_type": "stream",
     "text": [
      "100%|█████████████████████████████████████████████| 6/6 [00:00<00:00, 41.79it/s]\n",
      " 42%|█████████████████                        | 131/315 [00:19<00:24,  7.53it/s]"
     ]
    },
    {
     "name": "stdout",
     "output_type": "stream",
     "text": [
      " - Using sentence-transformers/distilbert-base-nli-mean-tokens model - \n",
      " - Generating structure embeddings for SavinaRoja/PyUserInput - \n"
     ]
    },
    {
     "name": "stderr",
     "output_type": "stream",
     "text": [
      "\n",
      "  0%|                                                     | 0/6 [00:00<?, ?it/s]\u001B[A"
     ]
    },
    {
     "name": "stdout",
     "output_type": "stream",
     "text": [
      " - Using sentence-transformers/all-mpnet-base-v2 model - \n",
      " - Using sentence-transformers/multi-qa-mpnet-base-cos-v1 model - \n",
      " - Using sentence-transformers/bert-base-nli-mean-tokens model - \n",
      " - Using sentence-transformers/paraphrase-multilingual-mpnet-base-v2 model - \n",
      " - Using sentence-transformers/all-distilroberta-v1 model - \n",
      " - Using sentence-transformers/distilbert-base-nli-mean-tokens model - \n"
     ]
    },
    {
     "name": "stderr",
     "output_type": "stream",
     "text": [
      "\n",
      "100%|█████████████████████████████████████████████| 6/6 [00:00<00:00, 53.04it/s]\u001B[A\n",
      " 42%|█████████████████▏                       | 132/315 [00:19<00:23,  7.86it/s]"
     ]
    },
    {
     "name": "stdout",
     "output_type": "stream",
     "text": [
      " - Generating structure embeddings for MongoEngine/mongoengine - \n"
     ]
    },
    {
     "name": "stderr",
     "output_type": "stream",
     "text": [
      "\n",
      "  0%|                                                     | 0/6 [00:00<?, ?it/s]\u001B[A"
     ]
    },
    {
     "name": "stdout",
     "output_type": "stream",
     "text": [
      " - Using sentence-transformers/all-mpnet-base-v2 model - \n",
      " - Using sentence-transformers/multi-qa-mpnet-base-cos-v1 model - \n",
      " - Using sentence-transformers/bert-base-nli-mean-tokens model - \n",
      " - Using sentence-transformers/paraphrase-multilingual-mpnet-base-v2 model - \n"
     ]
    },
    {
     "name": "stderr",
     "output_type": "stream",
     "text": [
      "\n",
      " 67%|██████████████████████████████               | 4/6 [00:00<00:00, 39.90it/s]\u001B[A"
     ]
    },
    {
     "name": "stdout",
     "output_type": "stream",
     "text": [
      " - Using sentence-transformers/all-distilroberta-v1 model - \n",
      " - Using sentence-transformers/distilbert-base-nli-mean-tokens model - \n"
     ]
    },
    {
     "name": "stderr",
     "output_type": "stream",
     "text": [
      "100%|█████████████████████████████████████████████| 6/6 [00:00<00:00, 46.35it/s]\n",
      " 42%|█████████████████▎                       | 133/315 [00:19<00:23,  7.78it/s]"
     ]
    },
    {
     "name": "stdout",
     "output_type": "stream",
     "text": [
      " - Generating structure embeddings for pybee/toga - \n"
     ]
    },
    {
     "name": "stderr",
     "output_type": "stream",
     "text": [
      "\n",
      "  0%|                                                     | 0/6 [00:00<?, ?it/s]\u001B[A"
     ]
    },
    {
     "name": "stdout",
     "output_type": "stream",
     "text": [
      " - Using sentence-transformers/all-mpnet-base-v2 model - \n",
      " - Using sentence-transformers/multi-qa-mpnet-base-cos-v1 model - \n",
      " - Using sentence-transformers/bert-base-nli-mean-tokens model - \n",
      " - Using sentence-transformers/paraphrase-multilingual-mpnet-base-v2 model - \n",
      " - Using sentence-transformers/all-distilroberta-v1 model - \n"
     ]
    },
    {
     "name": "stderr",
     "output_type": "stream",
     "text": [
      "\n",
      " 83%|█████████████████████████████████████▌       | 5/6 [00:00<00:00, 44.98it/s]\u001B[A"
     ]
    },
    {
     "name": "stdout",
     "output_type": "stream",
     "text": [
      " - Using sentence-transformers/distilbert-base-nli-mean-tokens model - \n"
     ]
    },
    {
     "name": "stderr",
     "output_type": "stream",
     "text": [
      "100%|█████████████████████████████████████████████| 6/6 [00:00<00:00, 46.77it/s]\n",
      " 43%|█████████████████▍                       | 134/315 [00:19<00:23,  7.74it/s]"
     ]
    },
    {
     "name": "stdout",
     "output_type": "stream",
     "text": [
      " - Generating structure embeddings for google/yapf - \n"
     ]
    },
    {
     "name": "stderr",
     "output_type": "stream",
     "text": [
      "\n",
      "  0%|                                                     | 0/6 [00:00<?, ?it/s]\u001B[A"
     ]
    },
    {
     "name": "stdout",
     "output_type": "stream",
     "text": [
      " - Using sentence-transformers/all-mpnet-base-v2 model - \n",
      " - Using sentence-transformers/multi-qa-mpnet-base-cos-v1 model - \n",
      " - Using sentence-transformers/bert-base-nli-mean-tokens model - \n",
      " - Using sentence-transformers/paraphrase-multilingual-mpnet-base-v2 model - \n"
     ]
    },
    {
     "name": "stderr",
     "output_type": "stream",
     "text": [
      "\n",
      " 67%|██████████████████████████████               | 4/6 [00:00<00:00, 39.77it/s]\u001B[A"
     ]
    },
    {
     "name": "stdout",
     "output_type": "stream",
     "text": [
      " - Using sentence-transformers/all-distilroberta-v1 model - \n",
      " - Using sentence-transformers/distilbert-base-nli-mean-tokens model - \n"
     ]
    },
    {
     "name": "stderr",
     "output_type": "stream",
     "text": [
      "100%|█████████████████████████████████████████████| 6/6 [00:00<00:00, 41.58it/s]\n",
      " 43%|█████████████████▌                       | 135/315 [00:19<00:24,  7.44it/s]"
     ]
    },
    {
     "name": "stdout",
     "output_type": "stream",
     "text": [
      " - Generating structure embeddings for Fizzadar/pyinfra - \n"
     ]
    },
    {
     "name": "stderr",
     "output_type": "stream",
     "text": [
      "\n",
      "  0%|                                                     | 0/6 [00:00<?, ?it/s]\u001B[A"
     ]
    },
    {
     "name": "stdout",
     "output_type": "stream",
     "text": [
      " - Using sentence-transformers/all-mpnet-base-v2 model - \n",
      " - Using sentence-transformers/multi-qa-mpnet-base-cos-v1 model - \n",
      " - Using sentence-transformers/bert-base-nli-mean-tokens model - \n",
      " - Using sentence-transformers/paraphrase-multilingual-mpnet-base-v2 model - \n",
      " - Using sentence-transformers/all-distilroberta-v1 model - \n"
     ]
    },
    {
     "name": "stderr",
     "output_type": "stream",
     "text": [
      "\n",
      "100%|█████████████████████████████████████████████| 6/6 [00:00<00:00, 46.51it/s]\u001B[A\n",
      " 43%|█████████████████▋                       | 136/315 [00:20<00:23,  7.49it/s]"
     ]
    },
    {
     "name": "stdout",
     "output_type": "stream",
     "text": [
      " - Using sentence-transformers/distilbert-base-nli-mean-tokens model - \n",
      " - Generating structure embeddings for istrategylabs/django-wordpress - \n"
     ]
    },
    {
     "name": "stderr",
     "output_type": "stream",
     "text": [
      "\n",
      "  0%|                                                     | 0/6 [00:00<?, ?it/s]\u001B[A"
     ]
    },
    {
     "name": "stdout",
     "output_type": "stream",
     "text": [
      " - Using sentence-transformers/all-mpnet-base-v2 model - \n",
      " - Using sentence-transformers/multi-qa-mpnet-base-cos-v1 model - \n",
      " - Using sentence-transformers/bert-base-nli-mean-tokens model - \n"
     ]
    },
    {
     "name": "stderr",
     "output_type": "stream",
     "text": [
      "\n",
      " 83%|█████████████████████████████████████▌       | 5/6 [00:00<00:00, 45.64it/s]\u001B[A"
     ]
    },
    {
     "name": "stdout",
     "output_type": "stream",
     "text": [
      " - Using sentence-transformers/paraphrase-multilingual-mpnet-base-v2 model - \n",
      " - Using sentence-transformers/all-distilroberta-v1 model - \n",
      " - Using sentence-transformers/distilbert-base-nli-mean-tokens model - \n"
     ]
    },
    {
     "name": "stderr",
     "output_type": "stream",
     "text": [
      "100%|█████████████████████████████████████████████| 6/6 [00:00<00:00, 47.61it/s]\n",
      " 43%|█████████████████▊                       | 137/315 [00:20<00:23,  7.57it/s]"
     ]
    },
    {
     "name": "stdout",
     "output_type": "stream",
     "text": [
      " - Generating structure embeddings for zopefoundation/ZODB - \n"
     ]
    },
    {
     "name": "stderr",
     "output_type": "stream",
     "text": [
      "\n",
      "  0%|                                                     | 0/6 [00:00<?, ?it/s]\u001B[A"
     ]
    },
    {
     "name": "stdout",
     "output_type": "stream",
     "text": [
      " - Using sentence-transformers/all-mpnet-base-v2 model - \n",
      " - Using sentence-transformers/multi-qa-mpnet-base-cos-v1 model - \n",
      " - Using sentence-transformers/bert-base-nli-mean-tokens model - \n",
      " - Using sentence-transformers/paraphrase-multilingual-mpnet-base-v2 model - \n",
      " - Using sentence-transformers/all-distilroberta-v1 model - \n"
     ]
    },
    {
     "name": "stderr",
     "output_type": "stream",
     "text": [
      "\n",
      "100%|█████████████████████████████████████████████| 6/6 [00:00<00:00, 46.65it/s]\u001B[A\n",
      " 44%|█████████████████▉                       | 138/315 [00:20<00:23,  7.59it/s]"
     ]
    },
    {
     "name": "stdout",
     "output_type": "stream",
     "text": [
      " - Using sentence-transformers/distilbert-base-nli-mean-tokens model - \n",
      " - Generating structure embeddings for boppreh/mouse - \n"
     ]
    },
    {
     "name": "stderr",
     "output_type": "stream",
     "text": [
      "\n",
      "  0%|                                                     | 0/6 [00:00<?, ?it/s]\u001B[A"
     ]
    },
    {
     "name": "stdout",
     "output_type": "stream",
     "text": [
      " - Using sentence-transformers/all-mpnet-base-v2 model - \n",
      " - Using sentence-transformers/multi-qa-mpnet-base-cos-v1 model - \n",
      " - Using sentence-transformers/bert-base-nli-mean-tokens model - \n",
      " - Using sentence-transformers/paraphrase-multilingual-mpnet-base-v2 model - \n"
     ]
    },
    {
     "name": "stderr",
     "output_type": "stream",
     "text": [
      "\n",
      " 83%|█████████████████████████████████████▌       | 5/6 [00:00<00:00, 43.96it/s]\u001B[A"
     ]
    },
    {
     "name": "stdout",
     "output_type": "stream",
     "text": [
      " - Using sentence-transformers/all-distilroberta-v1 model - \n",
      " - Using sentence-transformers/distilbert-base-nli-mean-tokens model - \n"
     ]
    },
    {
     "name": "stderr",
     "output_type": "stream",
     "text": [
      "100%|█████████████████████████████████████████████| 6/6 [00:00<00:00, 45.71it/s]\n",
      " 44%|██████████████████                       | 139/315 [00:20<00:23,  7.56it/s]"
     ]
    },
    {
     "name": "stdout",
     "output_type": "stream",
     "text": [
      " - Generating structure embeddings for justquick/django-activity-stream - \n"
     ]
    },
    {
     "name": "stderr",
     "output_type": "stream",
     "text": [
      "\n",
      "  0%|                                                     | 0/6 [00:00<?, ?it/s]\u001B[A"
     ]
    },
    {
     "name": "stdout",
     "output_type": "stream",
     "text": [
      " - Using sentence-transformers/all-mpnet-base-v2 model - \n",
      " - Using sentence-transformers/multi-qa-mpnet-base-cos-v1 model - \n",
      " - Using sentence-transformers/bert-base-nli-mean-tokens model - \n",
      " - Using sentence-transformers/paraphrase-multilingual-mpnet-base-v2 model - \n"
     ]
    },
    {
     "name": "stderr",
     "output_type": "stream",
     "text": [
      "\n",
      "100%|█████████████████████████████████████████████| 6/6 [00:00<00:00, 46.05it/s]\u001B[A\n",
      " 44%|██████████████████▏                      | 140/315 [00:20<00:23,  7.56it/s]"
     ]
    },
    {
     "name": "stdout",
     "output_type": "stream",
     "text": [
      " - Using sentence-transformers/all-distilroberta-v1 model - \n",
      " - Using sentence-transformers/distilbert-base-nli-mean-tokens model - \n",
      " - Generating structure embeddings for benoitc/gunicorn - \n"
     ]
    },
    {
     "name": "stderr",
     "output_type": "stream",
     "text": [
      "\n",
      "  0%|                                                     | 0/6 [00:00<?, ?it/s]\u001B[A"
     ]
    },
    {
     "name": "stdout",
     "output_type": "stream",
     "text": [
      " - Using sentence-transformers/all-mpnet-base-v2 model - \n",
      " - Using sentence-transformers/multi-qa-mpnet-base-cos-v1 model - \n",
      " - Using sentence-transformers/bert-base-nli-mean-tokens model - \n",
      " - Using sentence-transformers/paraphrase-multilingual-mpnet-base-v2 model - \n"
     ]
    },
    {
     "name": "stderr",
     "output_type": "stream",
     "text": [
      "\n",
      " 67%|██████████████████████████████               | 4/6 [00:00<00:00, 35.73it/s]\u001B[A"
     ]
    },
    {
     "name": "stdout",
     "output_type": "stream",
     "text": [
      " - Using sentence-transformers/all-distilroberta-v1 model - \n",
      " - Using sentence-transformers/distilbert-base-nli-mean-tokens model - \n"
     ]
    },
    {
     "name": "stderr",
     "output_type": "stream",
     "text": [
      "100%|█████████████████████████████████████████████| 6/6 [00:00<00:00, 41.02it/s]\n",
      " 45%|██████████████████▎                      | 141/315 [00:20<00:23,  7.30it/s]"
     ]
    },
    {
     "name": "stdout",
     "output_type": "stream",
     "text": [
      " - Generating structure embeddings for prabhupant/python-ds - \n"
     ]
    },
    {
     "name": "stderr",
     "output_type": "stream",
     "text": [
      "\n",
      "  0%|                                                     | 0/6 [00:00<?, ?it/s]\u001B[A"
     ]
    },
    {
     "name": "stdout",
     "output_type": "stream",
     "text": [
      " - Using sentence-transformers/all-mpnet-base-v2 model - \n",
      " - Using sentence-transformers/multi-qa-mpnet-base-cos-v1 model - \n",
      " - Using sentence-transformers/bert-base-nli-mean-tokens model - \n",
      " - Using sentence-transformers/paraphrase-multilingual-mpnet-base-v2 model - \n"
     ]
    },
    {
     "name": "stderr",
     "output_type": "stream",
     "text": [
      "\n",
      " 67%|██████████████████████████████               | 4/6 [00:00<00:00, 38.34it/s]\u001B[A"
     ]
    },
    {
     "name": "stdout",
     "output_type": "stream",
     "text": [
      " - Using sentence-transformers/all-distilroberta-v1 model - \n"
     ]
    },
    {
     "name": "stderr",
     "output_type": "stream",
     "text": [
      "100%|█████████████████████████████████████████████| 6/6 [00:00<00:00, 43.91it/s]\n",
      " 45%|██████████████████▍                      | 142/315 [00:20<00:23,  7.27it/s]"
     ]
    },
    {
     "name": "stdout",
     "output_type": "stream",
     "text": [
      " - Using sentence-transformers/distilbert-base-nli-mean-tokens model - \n",
      " - Generating structure embeddings for marshmallow-code/marshmallow - \n"
     ]
    },
    {
     "name": "stderr",
     "output_type": "stream",
     "text": [
      "\n",
      "  0%|                                                     | 0/6 [00:00<?, ?it/s]\u001B[A"
     ]
    },
    {
     "name": "stdout",
     "output_type": "stream",
     "text": [
      " - Using sentence-transformers/all-mpnet-base-v2 model - \n",
      " - Using sentence-transformers/multi-qa-mpnet-base-cos-v1 model - \n",
      " - Using sentence-transformers/bert-base-nli-mean-tokens model - \n",
      " - Using sentence-transformers/paraphrase-multilingual-mpnet-base-v2 model - \n"
     ]
    },
    {
     "name": "stderr",
     "output_type": "stream",
     "text": [
      "\n",
      " 67%|██████████████████████████████               | 4/6 [00:00<00:00, 39.09it/s]\u001B[A"
     ]
    },
    {
     "name": "stdout",
     "output_type": "stream",
     "text": [
      " - Using sentence-transformers/all-distilroberta-v1 model - \n"
     ]
    },
    {
     "name": "stderr",
     "output_type": "stream",
     "text": [
      "100%|█████████████████████████████████████████████| 6/6 [00:00<00:00, 44.37it/s]\n",
      " 45%|██████████████████▌                      | 143/315 [00:20<00:23,  7.28it/s]"
     ]
    },
    {
     "name": "stdout",
     "output_type": "stream",
     "text": [
      " - Using sentence-transformers/distilbert-base-nli-mean-tokens model - \n",
      " - Generating structure embeddings for coleifer/micawber - \n"
     ]
    },
    {
     "name": "stderr",
     "output_type": "stream",
     "text": [
      "\n",
      "  0%|                                                     | 0/6 [00:00<?, ?it/s]\u001B[A"
     ]
    },
    {
     "name": "stdout",
     "output_type": "stream",
     "text": [
      " - Using sentence-transformers/all-mpnet-base-v2 model - \n",
      " - Using sentence-transformers/multi-qa-mpnet-base-cos-v1 model - \n",
      " - Using sentence-transformers/bert-base-nli-mean-tokens model - \n",
      " - Using sentence-transformers/paraphrase-multilingual-mpnet-base-v2 model - \n"
     ]
    },
    {
     "name": "stderr",
     "output_type": "stream",
     "text": [
      "\n",
      " 67%|██████████████████████████████               | 4/6 [00:00<00:00, 37.71it/s]\u001B[A"
     ]
    },
    {
     "name": "stdout",
     "output_type": "stream",
     "text": [
      " - Using sentence-transformers/all-distilroberta-v1 model - \n"
     ]
    },
    {
     "name": "stderr",
     "output_type": "stream",
     "text": [
      "100%|█████████████████████████████████████████████| 6/6 [00:00<00:00, 43.26it/s]\n",
      " 46%|██████████████████▋                      | 144/315 [00:21<00:23,  7.20it/s]"
     ]
    },
    {
     "name": "stdout",
     "output_type": "stream",
     "text": [
      " - Using sentence-transformers/distilbert-base-nli-mean-tokens model - \n",
      " - Generating structure embeddings for getsentry/responses - \n"
     ]
    },
    {
     "name": "stderr",
     "output_type": "stream",
     "text": [
      "\n",
      "  0%|                                                     | 0/6 [00:00<?, ?it/s]\u001B[A"
     ]
    },
    {
     "name": "stdout",
     "output_type": "stream",
     "text": [
      " - Using sentence-transformers/all-mpnet-base-v2 model - \n",
      " - Using sentence-transformers/multi-qa-mpnet-base-cos-v1 model - \n",
      " - Using sentence-transformers/bert-base-nli-mean-tokens model - \n"
     ]
    },
    {
     "name": "stderr",
     "output_type": "stream",
     "text": [
      "\n",
      " 67%|██████████████████████████████               | 4/6 [00:00<00:00, 39.05it/s]\u001B[A"
     ]
    },
    {
     "name": "stdout",
     "output_type": "stream",
     "text": [
      " - Using sentence-transformers/paraphrase-multilingual-mpnet-base-v2 model - \n",
      " - Using sentence-transformers/all-distilroberta-v1 model - \n"
     ]
    },
    {
     "name": "stderr",
     "output_type": "stream",
     "text": [
      "100%|█████████████████████████████████████████████| 6/6 [00:00<00:00, 44.52it/s]\n",
      " 46%|██████████████████▊                      | 145/315 [00:21<00:23,  7.23it/s]"
     ]
    },
    {
     "name": "stdout",
     "output_type": "stream",
     "text": [
      " - Using sentence-transformers/distilbert-base-nli-mean-tokens model - \n",
      " - Generating structure embeddings for joestump/python-oauth2 - \n"
     ]
    },
    {
     "name": "stderr",
     "output_type": "stream",
     "text": [
      "\n",
      "  0%|                                                     | 0/6 [00:00<?, ?it/s]\u001B[A"
     ]
    },
    {
     "name": "stdout",
     "output_type": "stream",
     "text": [
      " - Using sentence-transformers/all-mpnet-base-v2 model - \n",
      " - Using sentence-transformers/multi-qa-mpnet-base-cos-v1 model - \n",
      " - Using sentence-transformers/bert-base-nli-mean-tokens model - \n",
      " - Using sentence-transformers/paraphrase-multilingual-mpnet-base-v2 model - \n"
     ]
    },
    {
     "name": "stderr",
     "output_type": "stream",
     "text": [
      "\n",
      " 67%|██████████████████████████████               | 4/6 [00:00<00:00, 38.97it/s]\u001B[A"
     ]
    },
    {
     "name": "stdout",
     "output_type": "stream",
     "text": [
      " - Using sentence-transformers/all-distilroberta-v1 model - \n"
     ]
    },
    {
     "name": "stderr",
     "output_type": "stream",
     "text": [
      "100%|█████████████████████████████████████████████| 6/6 [00:00<00:00, 44.34it/s]\n",
      " 46%|███████████████████                      | 146/315 [00:21<00:23,  7.25it/s]"
     ]
    },
    {
     "name": "stdout",
     "output_type": "stream",
     "text": [
      " - Using sentence-transformers/distilbert-base-nli-mean-tokens model - \n",
      " - Generating structure embeddings for chapmanb/bcbb - \n"
     ]
    },
    {
     "name": "stderr",
     "output_type": "stream",
     "text": [
      "\n",
      "  0%|                                                     | 0/6 [00:00<?, ?it/s]\u001B[A"
     ]
    },
    {
     "name": "stdout",
     "output_type": "stream",
     "text": [
      " - Using sentence-transformers/all-mpnet-base-v2 model - \n",
      " - Using sentence-transformers/multi-qa-mpnet-base-cos-v1 model - \n",
      " - Using sentence-transformers/bert-base-nli-mean-tokens model - \n",
      " - Using sentence-transformers/paraphrase-multilingual-mpnet-base-v2 model - \n"
     ]
    },
    {
     "name": "stderr",
     "output_type": "stream",
     "text": [
      "\n",
      " 67%|██████████████████████████████               | 4/6 [00:00<00:00, 39.67it/s]\u001B[A"
     ]
    },
    {
     "name": "stdout",
     "output_type": "stream",
     "text": [
      " - Using sentence-transformers/all-distilroberta-v1 model - \n"
     ]
    },
    {
     "name": "stderr",
     "output_type": "stream",
     "text": [
      "100%|█████████████████████████████████████████████| 6/6 [00:00<00:00, 45.51it/s]\n",
      " 47%|███████████████████▏                     | 147/315 [00:21<00:22,  7.31it/s]"
     ]
    },
    {
     "name": "stdout",
     "output_type": "stream",
     "text": [
      " - Using sentence-transformers/distilbert-base-nli-mean-tokens model - \n",
      " - Generating structure embeddings for Cornices/cornice - \n"
     ]
    },
    {
     "name": "stderr",
     "output_type": "stream",
     "text": [
      "\n",
      "  0%|                                                     | 0/6 [00:00<?, ?it/s]\u001B[A"
     ]
    },
    {
     "name": "stdout",
     "output_type": "stream",
     "text": [
      " - Using sentence-transformers/all-mpnet-base-v2 model - \n",
      " - Using sentence-transformers/multi-qa-mpnet-base-cos-v1 model - \n",
      " - Using sentence-transformers/bert-base-nli-mean-tokens model - \n",
      " - Using sentence-transformers/paraphrase-multilingual-mpnet-base-v2 model - \n"
     ]
    },
    {
     "name": "stderr",
     "output_type": "stream",
     "text": [
      "\n",
      " 83%|█████████████████████████████████████▌       | 5/6 [00:00<00:00, 43.85it/s]\u001B[A"
     ]
    },
    {
     "name": "stdout",
     "output_type": "stream",
     "text": [
      " - Using sentence-transformers/all-distilroberta-v1 model - \n",
      " - Using sentence-transformers/distilbert-base-nli-mean-tokens model - \n"
     ]
    },
    {
     "name": "stderr",
     "output_type": "stream",
     "text": [
      "100%|█████████████████████████████████████████████| 6/6 [00:00<00:00, 45.75it/s]\n",
      " 47%|███████████████████▎                     | 148/315 [00:21<00:22,  7.37it/s]"
     ]
    },
    {
     "name": "stdout",
     "output_type": "stream",
     "text": [
      " - Generating structure embeddings for mozilla/bleach - \n"
     ]
    },
    {
     "name": "stderr",
     "output_type": "stream",
     "text": [
      "\n",
      "  0%|                                                     | 0/6 [00:00<?, ?it/s]\u001B[A"
     ]
    },
    {
     "name": "stdout",
     "output_type": "stream",
     "text": [
      " - Using sentence-transformers/all-mpnet-base-v2 model - \n",
      " - Using sentence-transformers/multi-qa-mpnet-base-cos-v1 model - \n",
      " - Using sentence-transformers/bert-base-nli-mean-tokens model - \n",
      " - Using sentence-transformers/paraphrase-multilingual-mpnet-base-v2 model - \n"
     ]
    },
    {
     "name": "stderr",
     "output_type": "stream",
     "text": [
      "\n",
      " 83%|█████████████████████████████████████▌       | 5/6 [00:00<00:00, 44.38it/s]\u001B[A"
     ]
    },
    {
     "name": "stdout",
     "output_type": "stream",
     "text": [
      " - Using sentence-transformers/all-distilroberta-v1 model - \n",
      " - Using sentence-transformers/distilbert-base-nli-mean-tokens model - \n"
     ]
    },
    {
     "name": "stderr",
     "output_type": "stream",
     "text": [
      "100%|█████████████████████████████████████████████| 6/6 [00:00<00:00, 46.53it/s]\n",
      " 47%|███████████████████▍                     | 149/315 [00:21<00:22,  7.45it/s]"
     ]
    },
    {
     "name": "stdout",
     "output_type": "stream",
     "text": [
      " - Generating structure embeddings for selwin/python-user-agents - \n"
     ]
    },
    {
     "name": "stderr",
     "output_type": "stream",
     "text": [
      "\n",
      "  0%|                                                     | 0/6 [00:00<?, ?it/s]\u001B[A"
     ]
    },
    {
     "name": "stdout",
     "output_type": "stream",
     "text": [
      " - Using sentence-transformers/all-mpnet-base-v2 model - \n",
      " - Using sentence-transformers/multi-qa-mpnet-base-cos-v1 model - \n",
      " - Using sentence-transformers/bert-base-nli-mean-tokens model - \n",
      " - Using sentence-transformers/paraphrase-multilingual-mpnet-base-v2 model - \n"
     ]
    },
    {
     "name": "stderr",
     "output_type": "stream",
     "text": [
      "\n",
      " 83%|█████████████████████████████████████▌       | 5/6 [00:00<00:00, 43.73it/s]\u001B[A"
     ]
    },
    {
     "name": "stdout",
     "output_type": "stream",
     "text": [
      " - Using sentence-transformers/all-distilroberta-v1 model - \n",
      " - Using sentence-transformers/distilbert-base-nli-mean-tokens model - \n"
     ]
    },
    {
     "name": "stderr",
     "output_type": "stream",
     "text": [
      "100%|█████████████████████████████████████████████| 6/6 [00:00<00:00, 45.71it/s]\n",
      " 48%|███████████████████▌                     | 150/315 [00:21<00:22,  7.47it/s]"
     ]
    },
    {
     "name": "stdout",
     "output_type": "stream",
     "text": [
      " - Generating structure embeddings for Suor/django-cacheops - \n"
     ]
    },
    {
     "name": "stderr",
     "output_type": "stream",
     "text": [
      "\n",
      "  0%|                                                     | 0/6 [00:00<?, ?it/s]\u001B[A"
     ]
    },
    {
     "name": "stdout",
     "output_type": "stream",
     "text": [
      " - Using sentence-transformers/all-mpnet-base-v2 model - \n",
      " - Using sentence-transformers/multi-qa-mpnet-base-cos-v1 model - \n",
      " - Using sentence-transformers/bert-base-nli-mean-tokens model - \n",
      " - Using sentence-transformers/paraphrase-multilingual-mpnet-base-v2 model - \n"
     ]
    },
    {
     "name": "stderr",
     "output_type": "stream",
     "text": [
      "\n",
      " 67%|██████████████████████████████               | 4/6 [00:00<00:00, 39.64it/s]\u001B[A"
     ]
    },
    {
     "name": "stdout",
     "output_type": "stream",
     "text": [
      " - Using sentence-transformers/all-distilroberta-v1 model - \n",
      " - Using sentence-transformers/distilbert-base-nli-mean-tokens model - \n"
     ]
    },
    {
     "name": "stderr",
     "output_type": "stream",
     "text": [
      "100%|█████████████████████████████████████████████| 6/6 [00:00<00:00, 45.58it/s]\n",
      " 48%|███████████████████▋                     | 151/315 [00:22<00:21,  7.47it/s]"
     ]
    },
    {
     "name": "stdout",
     "output_type": "stream",
     "text": [
      " - Generating structure embeddings for burnash/gspread - \n"
     ]
    },
    {
     "name": "stderr",
     "output_type": "stream",
     "text": [
      "\n",
      "  0%|                                                     | 0/6 [00:00<?, ?it/s]\u001B[A"
     ]
    },
    {
     "name": "stdout",
     "output_type": "stream",
     "text": [
      " - Using sentence-transformers/all-mpnet-base-v2 model - \n",
      " - Using sentence-transformers/multi-qa-mpnet-base-cos-v1 model - \n",
      " - Using sentence-transformers/bert-base-nli-mean-tokens model - \n",
      " - Using sentence-transformers/paraphrase-multilingual-mpnet-base-v2 model - \n"
     ]
    },
    {
     "name": "stderr",
     "output_type": "stream",
     "text": [
      "\n",
      " 67%|██████████████████████████████               | 4/6 [00:00<00:00, 39.73it/s]\u001B[A"
     ]
    },
    {
     "name": "stdout",
     "output_type": "stream",
     "text": [
      " - Using sentence-transformers/all-distilroberta-v1 model - \n",
      " - Using sentence-transformers/distilbert-base-nli-mean-tokens model - \n"
     ]
    },
    {
     "name": "stderr",
     "output_type": "stream",
     "text": [
      "100%|█████████████████████████████████████████████| 6/6 [00:00<00:00, 45.17it/s]\n",
      " 48%|███████████████████▊                     | 152/315 [00:22<00:21,  7.46it/s]"
     ]
    },
    {
     "name": "stdout",
     "output_type": "stream",
     "text": [
      " - Generating structure embeddings for chapmanb/bcbio-nextgen - \n"
     ]
    },
    {
     "name": "stderr",
     "output_type": "stream",
     "text": [
      "\n",
      "  0%|                                                     | 0/6 [00:00<?, ?it/s]\u001B[A"
     ]
    },
    {
     "name": "stdout",
     "output_type": "stream",
     "text": [
      " - Using sentence-transformers/all-mpnet-base-v2 model - \n",
      " - Using sentence-transformers/multi-qa-mpnet-base-cos-v1 model - \n",
      " - Using sentence-transformers/bert-base-nli-mean-tokens model - \n",
      " - Using sentence-transformers/paraphrase-multilingual-mpnet-base-v2 model - \n"
     ]
    },
    {
     "name": "stderr",
     "output_type": "stream",
     "text": [
      "\n",
      " 67%|██████████████████████████████               | 4/6 [00:00<00:00, 39.55it/s]\u001B[A"
     ]
    },
    {
     "name": "stdout",
     "output_type": "stream",
     "text": [
      " - Using sentence-transformers/all-distilroberta-v1 model - \n",
      " - Using sentence-transformers/distilbert-base-nli-mean-tokens model - \n"
     ]
    },
    {
     "name": "stderr",
     "output_type": "stream",
     "text": [
      "100%|█████████████████████████████████████████████| 6/6 [00:00<00:00, 45.64it/s]\n",
      " 49%|███████████████████▉                     | 153/315 [00:22<00:21,  7.47it/s]"
     ]
    },
    {
     "name": "stdout",
     "output_type": "stream",
     "text": [
      " - Generating structure embeddings for django/daphne - \n"
     ]
    },
    {
     "name": "stderr",
     "output_type": "stream",
     "text": [
      "\n",
      "  0%|                                                     | 0/6 [00:00<?, ?it/s]\u001B[A"
     ]
    },
    {
     "name": "stdout",
     "output_type": "stream",
     "text": [
      " - Using sentence-transformers/all-mpnet-base-v2 model - \n",
      " - Using sentence-transformers/multi-qa-mpnet-base-cos-v1 model - \n",
      " - Using sentence-transformers/bert-base-nli-mean-tokens model - \n",
      " - Using sentence-transformers/paraphrase-multilingual-mpnet-base-v2 model - \n"
     ]
    },
    {
     "name": "stderr",
     "output_type": "stream",
     "text": [
      "\n",
      " 67%|██████████████████████████████               | 4/6 [00:00<00:00, 38.60it/s]\u001B[A"
     ]
    },
    {
     "name": "stdout",
     "output_type": "stream",
     "text": [
      " - Using sentence-transformers/all-distilroberta-v1 model - \n",
      " - Using sentence-transformers/distilbert-base-nli-mean-tokens model - \n"
     ]
    },
    {
     "name": "stderr",
     "output_type": "stream",
     "text": [
      "100%|█████████████████████████████████████████████| 6/6 [00:00<00:00, 44.83it/s]\n",
      " 49%|████████████████████                     | 154/315 [00:22<00:21,  7.43it/s]"
     ]
    },
    {
     "name": "stdout",
     "output_type": "stream",
     "text": [
      " - Generating structure embeddings for stephenmcd/mezzanine - \n"
     ]
    },
    {
     "name": "stderr",
     "output_type": "stream",
     "text": [
      "\n",
      "  0%|                                                     | 0/6 [00:00<?, ?it/s]\u001B[A"
     ]
    },
    {
     "name": "stdout",
     "output_type": "stream",
     "text": [
      " - Using sentence-transformers/all-mpnet-base-v2 model - \n",
      " - Using sentence-transformers/multi-qa-mpnet-base-cos-v1 model - \n",
      " - Using sentence-transformers/bert-base-nli-mean-tokens model - \n",
      " - Using sentence-transformers/paraphrase-multilingual-mpnet-base-v2 model - \n"
     ]
    },
    {
     "name": "stderr",
     "output_type": "stream",
     "text": [
      "\n",
      " 67%|██████████████████████████████               | 4/6 [00:00<00:00, 37.37it/s]\u001B[A"
     ]
    },
    {
     "name": "stdout",
     "output_type": "stream",
     "text": [
      " - Using sentence-transformers/all-distilroberta-v1 model - \n"
     ]
    },
    {
     "name": "stderr",
     "output_type": "stream",
     "text": [
      "100%|█████████████████████████████████████████████| 6/6 [00:00<00:00, 42.58it/s]\n",
      " 49%|████████████████████▏                    | 155/315 [00:22<00:21,  7.29it/s]"
     ]
    },
    {
     "name": "stdout",
     "output_type": "stream",
     "text": [
      " - Using sentence-transformers/distilbert-base-nli-mean-tokens model - \n",
      " - Generating structure embeddings for PySimpleGUI/PySimpleGUI - \n"
     ]
    },
    {
     "name": "stderr",
     "output_type": "stream",
     "text": [
      "\n",
      "  0%|                                                     | 0/6 [00:00<?, ?it/s]\u001B[A"
     ]
    },
    {
     "name": "stdout",
     "output_type": "stream",
     "text": [
      " - Using sentence-transformers/all-mpnet-base-v2 model - \n",
      " - Using sentence-transformers/multi-qa-mpnet-base-cos-v1 model - \n",
      " - Using sentence-transformers/bert-base-nli-mean-tokens model - \n",
      " - Using sentence-transformers/paraphrase-multilingual-mpnet-base-v2 model - \n"
     ]
    },
    {
     "name": "stderr",
     "output_type": "stream",
     "text": [
      "\n",
      " 67%|██████████████████████████████               | 4/6 [00:00<00:00, 30.65it/s]\u001B[A"
     ]
    },
    {
     "name": "stdout",
     "output_type": "stream",
     "text": [
      " - Using sentence-transformers/all-distilroberta-v1 model - \n"
     ]
    },
    {
     "name": "stderr",
     "output_type": "stream",
     "text": [
      "100%|█████████████████████████████████████████████| 6/6 [00:00<00:00, 37.03it/s]\n",
      " 50%|████████████████████▎                    | 156/315 [00:22<00:23,  6.89it/s]"
     ]
    },
    {
     "name": "stdout",
     "output_type": "stream",
     "text": [
      " - Using sentence-transformers/distilbert-base-nli-mean-tokens model - \n",
      " - Generating structure embeddings for PrefectHQ/prefect - \n"
     ]
    },
    {
     "name": "stderr",
     "output_type": "stream",
     "text": [
      "\n",
      "  0%|                                                     | 0/6 [00:00<?, ?it/s]\u001B[A"
     ]
    },
    {
     "name": "stdout",
     "output_type": "stream",
     "text": [
      " - Using sentence-transformers/all-mpnet-base-v2 model - \n",
      " - Using sentence-transformers/multi-qa-mpnet-base-cos-v1 model - \n",
      " - Using sentence-transformers/bert-base-nli-mean-tokens model - \n",
      " - Using sentence-transformers/paraphrase-multilingual-mpnet-base-v2 model - \n",
      " - Using sentence-transformers/all-distilroberta-v1 model - \n"
     ]
    },
    {
     "name": "stderr",
     "output_type": "stream",
     "text": [
      "\n",
      "100%|█████████████████████████████████████████████| 6/6 [00:00<00:00, 46.22it/s]\u001B[A\n",
      " 50%|████████████████████▍                    | 157/315 [00:22<00:22,  7.09it/s]"
     ]
    },
    {
     "name": "stdout",
     "output_type": "stream",
     "text": [
      " - Using sentence-transformers/distilbert-base-nli-mean-tokens model - \n",
      " - Generating structure embeddings for sunainapai/makesite - \n"
     ]
    },
    {
     "name": "stderr",
     "output_type": "stream",
     "text": [
      "\n",
      "  0%|                                                     | 0/6 [00:00<?, ?it/s]\u001B[A"
     ]
    },
    {
     "name": "stdout",
     "output_type": "stream",
     "text": [
      " - Using sentence-transformers/all-mpnet-base-v2 model - \n",
      " - Using sentence-transformers/multi-qa-mpnet-base-cos-v1 model - \n",
      " - Using sentence-transformers/bert-base-nli-mean-tokens model - \n",
      " - Using sentence-transformers/paraphrase-multilingual-mpnet-base-v2 model - \n"
     ]
    },
    {
     "name": "stderr",
     "output_type": "stream",
     "text": [
      "\n",
      " 83%|█████████████████████████████████████▌       | 5/6 [00:00<00:00, 45.68it/s]\u001B[A"
     ]
    },
    {
     "name": "stdout",
     "output_type": "stream",
     "text": [
      " - Using sentence-transformers/all-distilroberta-v1 model - \n",
      " - Using sentence-transformers/distilbert-base-nli-mean-tokens model - \n"
     ]
    },
    {
     "name": "stderr",
     "output_type": "stream",
     "text": [
      "100%|█████████████████████████████████████████████| 6/6 [00:00<00:00, 48.31it/s]\n",
      " 50%|████████████████████▌                    | 158/315 [00:23<00:21,  7.31it/s]"
     ]
    },
    {
     "name": "stdout",
     "output_type": "stream",
     "text": [
      " - Generating structure embeddings for BVLC/caffe - \n"
     ]
    },
    {
     "name": "stderr",
     "output_type": "stream",
     "text": [
      "\n",
      "  0%|                                                     | 0/6 [00:00<?, ?it/s]\u001B[A"
     ]
    },
    {
     "name": "stdout",
     "output_type": "stream",
     "text": [
      " - Using sentence-transformers/all-mpnet-base-v2 model - \n",
      " - Using sentence-transformers/multi-qa-mpnet-base-cos-v1 model - \n",
      " - Using sentence-transformers/bert-base-nli-mean-tokens model - \n",
      " - Using sentence-transformers/paraphrase-multilingual-mpnet-base-v2 model - \n"
     ]
    },
    {
     "name": "stderr",
     "output_type": "stream",
     "text": [
      "\n",
      " 67%|██████████████████████████████               | 4/6 [00:00<00:00, 36.25it/s]\u001B[A"
     ]
    },
    {
     "name": "stdout",
     "output_type": "stream",
     "text": [
      " - Using sentence-transformers/all-distilroberta-v1 model - \n"
     ]
    },
    {
     "name": "stderr",
     "output_type": "stream",
     "text": [
      "100%|█████████████████████████████████████████████| 6/6 [00:00<00:00, 41.99it/s]\n",
      " 50%|████████████████████▋                    | 159/315 [00:23<00:21,  7.19it/s]"
     ]
    },
    {
     "name": "stdout",
     "output_type": "stream",
     "text": [
      " - Using sentence-transformers/distilbert-base-nli-mean-tokens model - \n",
      " - Generating structure embeddings for django/django - \n"
     ]
    },
    {
     "name": "stderr",
     "output_type": "stream",
     "text": [
      "\n",
      "  0%|                                                     | 0/6 [00:00<?, ?it/s]\u001B[A"
     ]
    },
    {
     "name": "stdout",
     "output_type": "stream",
     "text": [
      " - Using sentence-transformers/all-mpnet-base-v2 model - \n",
      " - Using sentence-transformers/multi-qa-mpnet-base-cos-v1 model - \n",
      " - Using sentence-transformers/bert-base-nli-mean-tokens model - \n",
      " - Using sentence-transformers/paraphrase-multilingual-mpnet-base-v2 model - \n"
     ]
    },
    {
     "name": "stderr",
     "output_type": "stream",
     "text": [
      "\n",
      "100%|█████████████████████████████████████████████| 6/6 [00:00<00:00, 45.03it/s]\u001B[A\n",
      " 51%|████████████████████▊                    | 160/315 [00:23<00:21,  7.25it/s]"
     ]
    },
    {
     "name": "stdout",
     "output_type": "stream",
     "text": [
      " - Using sentence-transformers/all-distilroberta-v1 model - \n",
      " - Using sentence-transformers/distilbert-base-nli-mean-tokens model - \n",
      " - Generating structure embeddings for keunwoochoi/kapre - \n"
     ]
    },
    {
     "name": "stderr",
     "output_type": "stream",
     "text": [
      "\n",
      "  0%|                                                     | 0/6 [00:00<?, ?it/s]\u001B[A"
     ]
    },
    {
     "name": "stdout",
     "output_type": "stream",
     "text": [
      " - Using sentence-transformers/all-mpnet-base-v2 model - \n",
      " - Using sentence-transformers/multi-qa-mpnet-base-cos-v1 model - \n",
      " - Using sentence-transformers/bert-base-nli-mean-tokens model - \n",
      " - Using sentence-transformers/paraphrase-multilingual-mpnet-base-v2 model - \n",
      " - Using sentence-transformers/all-distilroberta-v1 model - "
     ]
    },
    {
     "name": "stderr",
     "output_type": "stream",
     "text": [
      "\n",
      " 83%|█████████████████████████████████████▌       | 5/6 [00:00<00:00, 46.84it/s]\u001B[A"
     ]
    },
    {
     "name": "stdout",
     "output_type": "stream",
     "text": [
      "\n",
      " - Using sentence-transformers/distilbert-base-nli-mean-tokens model - \n"
     ]
    },
    {
     "name": "stderr",
     "output_type": "stream",
     "text": [
      "100%|█████████████████████████████████████████████| 6/6 [00:00<00:00, 47.51it/s]\n",
      " 51%|████████████████████▉                    | 161/315 [00:23<00:20,  7.42it/s]"
     ]
    },
    {
     "name": "stdout",
     "output_type": "stream",
     "text": [
      " - Generating structure embeddings for awesto/django-shop - \n"
     ]
    },
    {
     "name": "stderr",
     "output_type": "stream",
     "text": [
      "\n",
      "  0%|                                                     | 0/6 [00:00<?, ?it/s]\u001B[A"
     ]
    },
    {
     "name": "stdout",
     "output_type": "stream",
     "text": [
      " - Using sentence-transformers/all-mpnet-base-v2 model - \n",
      " - Using sentence-transformers/multi-qa-mpnet-base-cos-v1 model - \n",
      " - Using sentence-transformers/bert-base-nli-mean-tokens model - \n",
      " - Using sentence-transformers/paraphrase-multilingual-mpnet-base-v2 model - \n"
     ]
    },
    {
     "name": "stderr",
     "output_type": "stream",
     "text": [
      "\n",
      " 67%|██████████████████████████████               | 4/6 [00:00<00:00, 38.12it/s]\u001B[A"
     ]
    },
    {
     "name": "stdout",
     "output_type": "stream",
     "text": [
      " - Using sentence-transformers/all-distilroberta-v1 model - \n"
     ]
    },
    {
     "name": "stderr",
     "output_type": "stream",
     "text": [
      "100%|█████████████████████████████████████████████| 6/6 [00:00<00:00, 46.38it/s]\n",
      " 51%|█████████████████████                    | 162/315 [00:23<00:20,  7.48it/s]"
     ]
    },
    {
     "name": "stdout",
     "output_type": "stream",
     "text": [
      " - Using sentence-transformers/distilbert-base-nli-mean-tokens model - \n",
      " - Generating structure embeddings for emirozer/fake2db - \n"
     ]
    },
    {
     "name": "stderr",
     "output_type": "stream",
     "text": [
      "\n",
      "  0%|                                                     | 0/6 [00:00<?, ?it/s]\u001B[A"
     ]
    },
    {
     "name": "stdout",
     "output_type": "stream",
     "text": [
      " - Using sentence-transformers/all-mpnet-base-v2 model - \n",
      " - Using sentence-transformers/multi-qa-mpnet-base-cos-v1 model - \n",
      " - Using sentence-transformers/bert-base-nli-mean-tokens model - \n",
      " - Using sentence-transformers/paraphrase-multilingual-mpnet-base-v2 model - \n",
      " - Using sentence-transformers/all-distilroberta-v1 model - \n"
     ]
    },
    {
     "name": "stderr",
     "output_type": "stream",
     "text": [
      "\n",
      "100%|█████████████████████████████████████████████| 6/6 [00:00<00:00, 48.95it/s]\u001B[A\n",
      " 52%|█████████████████████▏                   | 163/315 [00:23<00:19,  7.63it/s]"
     ]
    },
    {
     "name": "stdout",
     "output_type": "stream",
     "text": [
      " - Using sentence-transformers/distilbert-base-nli-mean-tokens model - \n",
      " - Generating structure embeddings for lk-geimfari/mimesis - \n"
     ]
    },
    {
     "name": "stderr",
     "output_type": "stream",
     "text": [
      "\n",
      "  0%|                                                     | 0/6 [00:00<?, ?it/s]\u001B[A"
     ]
    },
    {
     "name": "stdout",
     "output_type": "stream",
     "text": [
      " - Using sentence-transformers/all-mpnet-base-v2 model - \n",
      " - Using sentence-transformers/multi-qa-mpnet-base-cos-v1 model - \n",
      " - Using sentence-transformers/bert-base-nli-mean-tokens model - \n",
      " - Using sentence-transformers/paraphrase-multilingual-mpnet-base-v2 model - \n"
     ]
    },
    {
     "name": "stderr",
     "output_type": "stream",
     "text": [
      "\n",
      " 67%|██████████████████████████████               | 4/6 [00:00<00:00, 36.84it/s]\u001B[A"
     ]
    },
    {
     "name": "stdout",
     "output_type": "stream",
     "text": [
      " - Using sentence-transformers/all-distilroberta-v1 model - \n"
     ]
    },
    {
     "name": "stderr",
     "output_type": "stream",
     "text": [
      "100%|█████████████████████████████████████████████| 6/6 [00:00<00:00, 41.89it/s]\n",
      " 52%|█████████████████████▎                   | 164/315 [00:23<00:20,  7.40it/s]"
     ]
    },
    {
     "name": "stdout",
     "output_type": "stream",
     "text": [
      " - Using sentence-transformers/distilbert-base-nli-mean-tokens model - \n",
      " - Generating structure embeddings for pennersr/django-allauth - \n"
     ]
    },
    {
     "name": "stderr",
     "output_type": "stream",
     "text": [
      "\n",
      "  0%|                                                     | 0/6 [00:00<?, ?it/s]\u001B[A"
     ]
    },
    {
     "name": "stdout",
     "output_type": "stream",
     "text": [
      " - Using sentence-transformers/all-mpnet-base-v2 model - \n",
      " - Using sentence-transformers/multi-qa-mpnet-base-cos-v1 model - \n",
      " - Using sentence-transformers/bert-base-nli-mean-tokens model - \n",
      " - Using sentence-transformers/paraphrase-multilingual-mpnet-base-v2 model - \n",
      " - Using sentence-transformers/all-distilroberta-v1 model - \n"
     ]
    },
    {
     "name": "stderr",
     "output_type": "stream",
     "text": [
      "\n",
      "100%|█████████████████████████████████████████████| 6/6 [00:00<00:00, 48.42it/s]\u001B[A\n",
      " 52%|█████████████████████▍                   | 165/315 [00:23<00:19,  7.56it/s]"
     ]
    },
    {
     "name": "stdout",
     "output_type": "stream",
     "text": [
      " - Using sentence-transformers/distilbert-base-nli-mean-tokens model - \n",
      " - Generating structure embeddings for pyglet/pyglet - \n"
     ]
    },
    {
     "name": "stderr",
     "output_type": "stream",
     "text": [
      "\n",
      "  0%|                                                     | 0/6 [00:00<?, ?it/s]\u001B[A"
     ]
    },
    {
     "name": "stdout",
     "output_type": "stream",
     "text": [
      " - Using sentence-transformers/all-mpnet-base-v2 model - \n",
      " - Using sentence-transformers/multi-qa-mpnet-base-cos-v1 model - \n",
      " - Using sentence-transformers/bert-base-nli-mean-tokens model - \n",
      " - Using sentence-transformers/paraphrase-multilingual-mpnet-base-v2 model - \n"
     ]
    },
    {
     "name": "stderr",
     "output_type": "stream",
     "text": [
      "\n",
      " 83%|█████████████████████████████████████▌       | 5/6 [00:00<00:00, 45.00it/s]\u001B[A"
     ]
    },
    {
     "name": "stdout",
     "output_type": "stream",
     "text": [
      " - Using sentence-transformers/all-distilroberta-v1 model - \n",
      " - Using sentence-transformers/distilbert-base-nli-mean-tokens model - \n"
     ]
    },
    {
     "name": "stderr",
     "output_type": "stream",
     "text": [
      "100%|█████████████████████████████████████████████| 6/6 [00:00<00:00, 47.53it/s]\n",
      " 53%|█████████████████████▌                   | 166/315 [00:24<00:19,  7.62it/s]"
     ]
    },
    {
     "name": "stdout",
     "output_type": "stream",
     "text": [
      " - Generating structure embeddings for dmlc/xgboost - \n"
     ]
    },
    {
     "name": "stderr",
     "output_type": "stream",
     "text": [
      "\n",
      "  0%|                                                     | 0/6 [00:00<?, ?it/s]\u001B[A"
     ]
    },
    {
     "name": "stdout",
     "output_type": "stream",
     "text": [
      " - Using sentence-transformers/all-mpnet-base-v2 model - \n",
      " - Using sentence-transformers/multi-qa-mpnet-base-cos-v1 model - \n",
      " - Using sentence-transformers/bert-base-nli-mean-tokens model - \n",
      " - Using sentence-transformers/paraphrase-multilingual-mpnet-base-v2 model - \n",
      " - Using sentence-transformers/all-distilroberta-v1 model - \n"
     ]
    },
    {
     "name": "stderr",
     "output_type": "stream",
     "text": [
      "\n",
      " 83%|█████████████████████████████████████▌       | 5/6 [00:00<00:00, 47.91it/s]\u001B[A"
     ]
    },
    {
     "name": "stdout",
     "output_type": "stream",
     "text": [
      " - Using sentence-transformers/distilbert-base-nli-mean-tokens model - \n"
     ]
    },
    {
     "name": "stderr",
     "output_type": "stream",
     "text": [
      "100%|█████████████████████████████████████████████| 6/6 [00:00<00:00, 50.55it/s]\n",
      " 53%|█████████████████████▋                   | 167/315 [00:24<00:18,  7.80it/s]"
     ]
    },
    {
     "name": "stdout",
     "output_type": "stream",
     "text": [
      " - Generating structure embeddings for Maratyszcza/PeachPy - \n"
     ]
    },
    {
     "name": "stderr",
     "output_type": "stream",
     "text": [
      "\n",
      "  0%|                                                     | 0/6 [00:00<?, ?it/s]\u001B[A"
     ]
    },
    {
     "name": "stdout",
     "output_type": "stream",
     "text": [
      " - Using sentence-transformers/all-mpnet-base-v2 model - \n",
      " - Using sentence-transformers/multi-qa-mpnet-base-cos-v1 model - \n",
      " - Using sentence-transformers/bert-base-nli-mean-tokens model - \n",
      " - Using sentence-transformers/paraphrase-multilingual-mpnet-base-v2 model - \n"
     ]
    },
    {
     "name": "stderr",
     "output_type": "stream",
     "text": [
      "\n",
      "100%|█████████████████████████████████████████████| 6/6 [00:00<00:00, 46.52it/s]\u001B[A\n",
      " 53%|█████████████████████▊                   | 168/315 [00:24<00:19,  7.63it/s]"
     ]
    },
    {
     "name": "stdout",
     "output_type": "stream",
     "text": [
      " - Using sentence-transformers/all-distilroberta-v1 model - \n",
      " - Using sentence-transformers/distilbert-base-nli-mean-tokens model - \n",
      " - Generating structure embeddings for deanmalmgren/textract - \n"
     ]
    },
    {
     "name": "stderr",
     "output_type": "stream",
     "text": [
      "\n",
      "  0%|                                                     | 0/6 [00:00<?, ?it/s]\u001B[A"
     ]
    },
    {
     "name": "stdout",
     "output_type": "stream",
     "text": [
      " - Using sentence-transformers/all-mpnet-base-v2 model - \n",
      " - Using sentence-transformers/multi-qa-mpnet-base-cos-v1 model - \n",
      " - Using sentence-transformers/bert-base-nli-mean-tokens model - \n",
      " - Using sentence-transformers/paraphrase-multilingual-mpnet-base-v2 model - \n",
      " - Using sentence-transformers/all-distilroberta-v1 model - \n"
     ]
    },
    {
     "name": "stderr",
     "output_type": "stream",
     "text": [
      "\n",
      "100%|█████████████████████████████████████████████| 6/6 [00:00<00:00, 51.97it/s]\u001B[A\n",
      " 54%|█████████████████████▉                   | 169/315 [00:24<00:18,  7.85it/s]"
     ]
    },
    {
     "name": "stdout",
     "output_type": "stream",
     "text": [
      " - Using sentence-transformers/distilbert-base-nli-mean-tokens model - \n",
      " - Generating structure embeddings for tschellenbach/Stream-Framework - \n"
     ]
    },
    {
     "name": "stderr",
     "output_type": "stream",
     "text": [
      "\n",
      "  0%|                                                     | 0/6 [00:00<?, ?it/s]\u001B[A"
     ]
    },
    {
     "name": "stdout",
     "output_type": "stream",
     "text": [
      " - Using sentence-transformers/all-mpnet-base-v2 model - \n",
      " - Using sentence-transformers/multi-qa-mpnet-base-cos-v1 model - \n",
      " - Using sentence-transformers/bert-base-nli-mean-tokens model - \n",
      " - Using sentence-transformers/paraphrase-multilingual-mpnet-base-v2 model - \n",
      " - Using sentence-transformers/all-distilroberta-v1 model - \n"
     ]
    },
    {
     "name": "stderr",
     "output_type": "stream",
     "text": [
      "\n",
      "100%|█████████████████████████████████████████████| 6/6 [00:00<00:00, 44.79it/s]\u001B[A\n",
      " 54%|██████████████████████▏                  | 170/315 [00:24<00:18,  7.69it/s]"
     ]
    },
    {
     "name": "stdout",
     "output_type": "stream",
     "text": [
      " - Using sentence-transformers/distilbert-base-nli-mean-tokens model - \n",
      " - Generating structure embeddings for pallets/itsdangerous - \n"
     ]
    },
    {
     "name": "stderr",
     "output_type": "stream",
     "text": [
      "\n",
      "  0%|                                                     | 0/6 [00:00<?, ?it/s]\u001B[A"
     ]
    },
    {
     "name": "stdout",
     "output_type": "stream",
     "text": [
      " - Using sentence-transformers/all-mpnet-base-v2 model - \n",
      " - Using sentence-transformers/multi-qa-mpnet-base-cos-v1 model - \n",
      " - Using sentence-transformers/bert-base-nli-mean-tokens model - \n",
      " - Using sentence-transformers/paraphrase-multilingual-mpnet-base-v2 model - \n",
      " - Using sentence-transformers/all-distilroberta-v1 model - \n"
     ]
    },
    {
     "name": "stderr",
     "output_type": "stream",
     "text": [
      "\n",
      "100%|█████████████████████████████████████████████| 6/6 [00:00<00:00, 46.11it/s]\u001B[A\n",
      " 54%|██████████████████████▎                  | 171/315 [00:24<00:18,  7.66it/s]"
     ]
    },
    {
     "name": "stdout",
     "output_type": "stream",
     "text": [
      " - Using sentence-transformers/distilbert-base-nli-mean-tokens model - \n",
      " - Generating structure embeddings for wooey/wooey - \n"
     ]
    },
    {
     "name": "stderr",
     "output_type": "stream",
     "text": [
      "\n",
      "  0%|                                                     | 0/6 [00:00<?, ?it/s]\u001B[A"
     ]
    },
    {
     "name": "stdout",
     "output_type": "stream",
     "text": [
      " - Using sentence-transformers/all-mpnet-base-v2 model - \n",
      " - Using sentence-transformers/multi-qa-mpnet-base-cos-v1 model - \n",
      " - Using sentence-transformers/bert-base-nli-mean-tokens model - \n",
      " - Using sentence-transformers/paraphrase-multilingual-mpnet-base-v2 model - \n",
      " - Using sentence-transformers/all-distilroberta-v1 model - \n"
     ]
    },
    {
     "name": "stderr",
     "output_type": "stream",
     "text": [
      "\n",
      " 83%|█████████████████████████████████████▌       | 5/6 [00:00<00:00, 41.12it/s]\u001B[A"
     ]
    },
    {
     "name": "stdout",
     "output_type": "stream",
     "text": [
      " - Using sentence-transformers/distilbert-base-nli-mean-tokens model - \n"
     ]
    },
    {
     "name": "stderr",
     "output_type": "stream",
     "text": [
      "100%|█████████████████████████████████████████████| 6/6 [00:00<00:00, 43.50it/s]\n",
      " 55%|██████████████████████▍                  | 172/315 [00:24<00:19,  7.49it/s]"
     ]
    },
    {
     "name": "stdout",
     "output_type": "stream",
     "text": [
      " - Generating structure embeddings for huge-success/sanic - \n"
     ]
    },
    {
     "name": "stderr",
     "output_type": "stream",
     "text": [
      "\n",
      "  0%|                                                     | 0/6 [00:00<?, ?it/s]\u001B[A"
     ]
    },
    {
     "name": "stdout",
     "output_type": "stream",
     "text": [
      " - Using sentence-transformers/all-mpnet-base-v2 model - \n",
      " - Using sentence-transformers/multi-qa-mpnet-base-cos-v1 model - \n",
      " - Using sentence-transformers/bert-base-nli-mean-tokens model - \n",
      " - Using sentence-transformers/paraphrase-multilingual-mpnet-base-v2 model - \n",
      " - Using sentence-transformers/all-distilroberta-v1 model - \n"
     ]
    },
    {
     "name": "stderr",
     "output_type": "stream",
     "text": [
      "\n",
      "100%|█████████████████████████████████████████████| 6/6 [00:00<00:00, 49.42it/s]\u001B[A\n",
      " 55%|██████████████████████▌                  | 173/315 [00:24<00:18,  7.67it/s]"
     ]
    },
    {
     "name": "stdout",
     "output_type": "stream",
     "text": [
      " - Using sentence-transformers/distilbert-base-nli-mean-tokens model - \n",
      " - Generating structure embeddings for chineking/cola - \n"
     ]
    },
    {
     "name": "stderr",
     "output_type": "stream",
     "text": [
      "\n",
      "  0%|                                                     | 0/6 [00:00<?, ?it/s]\u001B[A"
     ]
    },
    {
     "name": "stdout",
     "output_type": "stream",
     "text": [
      " - Using sentence-transformers/all-mpnet-base-v2 model - \n",
      " - Using sentence-transformers/multi-qa-mpnet-base-cos-v1 model - \n",
      " - Using sentence-transformers/bert-base-nli-mean-tokens model - \n",
      " - Using sentence-transformers/paraphrase-multilingual-mpnet-base-v2 model - \n",
      " - Using sentence-transformers/all-distilroberta-v1 model - \n"
     ]
    },
    {
     "name": "stderr",
     "output_type": "stream",
     "text": [
      "\n",
      "100%|█████████████████████████████████████████████| 6/6 [00:00<00:00, 48.80it/s]\u001B[A\n",
      " 55%|██████████████████████▋                  | 174/315 [00:25<00:18,  7.75it/s]"
     ]
    },
    {
     "name": "stdout",
     "output_type": "stream",
     "text": [
      " - Using sentence-transformers/distilbert-base-nli-mean-tokens model - \n",
      " - Generating structure embeddings for libvips/pyvips - \n"
     ]
    },
    {
     "name": "stderr",
     "output_type": "stream",
     "text": [
      "\n",
      "  0%|                                                     | 0/6 [00:00<?, ?it/s]\u001B[A"
     ]
    },
    {
     "name": "stdout",
     "output_type": "stream",
     "text": [
      " - Using sentence-transformers/all-mpnet-base-v2 model - \n",
      " - Using sentence-transformers/multi-qa-mpnet-base-cos-v1 model - \n",
      " - Using sentence-transformers/bert-base-nli-mean-tokens model - \n",
      " - Using sentence-transformers/paraphrase-multilingual-mpnet-base-v2 model - \n",
      " - Using sentence-transformers/all-distilroberta-v1 model - \n"
     ]
    },
    {
     "name": "stderr",
     "output_type": "stream",
     "text": [
      "\n",
      " 83%|█████████████████████████████████████▌       | 5/6 [00:00<00:00, 46.66it/s]\u001B[A"
     ]
    },
    {
     "name": "stdout",
     "output_type": "stream",
     "text": [
      " - Using sentence-transformers/distilbert-base-nli-mean-tokens model - \n"
     ]
    },
    {
     "name": "stderr",
     "output_type": "stream",
     "text": [
      "100%|█████████████████████████████████████████████| 6/6 [00:00<00:00, 48.75it/s]\n",
      " 56%|██████████████████████▊                  | 175/315 [00:25<00:17,  7.82it/s]"
     ]
    },
    {
     "name": "stdout",
     "output_type": "stream",
     "text": [
      " - Generating structure embeddings for srusskih/SublimeJEDI - \n"
     ]
    },
    {
     "name": "stderr",
     "output_type": "stream",
     "text": [
      "\n",
      "  0%|                                                     | 0/6 [00:00<?, ?it/s]\u001B[A"
     ]
    },
    {
     "name": "stdout",
     "output_type": "stream",
     "text": [
      " - Using sentence-transformers/all-mpnet-base-v2 model - \n",
      " - Using sentence-transformers/multi-qa-mpnet-base-cos-v1 model - \n",
      " - Using sentence-transformers/bert-base-nli-mean-tokens model - \n"
     ]
    },
    {
     "name": "stderr",
     "output_type": "stream",
     "text": [
      "\n",
      " 67%|██████████████████████████████               | 4/6 [00:00<00:00, 36.62it/s]\u001B[A"
     ]
    },
    {
     "name": "stdout",
     "output_type": "stream",
     "text": [
      " - Using sentence-transformers/paraphrase-multilingual-mpnet-base-v2 model - \n",
      " - Using sentence-transformers/all-distilroberta-v1 model - \n",
      " - Using sentence-transformers/distilbert-base-nli-mean-tokens model - \n"
     ]
    },
    {
     "name": "stderr",
     "output_type": "stream",
     "text": [
      "100%|█████████████████████████████████████████████| 6/6 [00:00<00:00, 41.93it/s]\n",
      " 56%|██████████████████████▉                  | 176/315 [00:25<00:18,  7.52it/s]"
     ]
    },
    {
     "name": "stdout",
     "output_type": "stream",
     "text": [
      " - Generating structure embeddings for hugapi/hug - \n"
     ]
    },
    {
     "name": "stderr",
     "output_type": "stream",
     "text": [
      "\n",
      "  0%|                                                     | 0/6 [00:00<?, ?it/s]\u001B[A"
     ]
    },
    {
     "name": "stdout",
     "output_type": "stream",
     "text": [
      " - Using sentence-transformers/all-mpnet-base-v2 model - \n",
      " - Using sentence-transformers/multi-qa-mpnet-base-cos-v1 model - \n",
      " - Using sentence-transformers/bert-base-nli-mean-tokens model - \n",
      " - Using sentence-transformers/paraphrase-multilingual-mpnet-base-v2 model - \n"
     ]
    },
    {
     "name": "stderr",
     "output_type": "stream",
     "text": [
      "\n",
      " 67%|██████████████████████████████               | 4/6 [00:00<00:00, 38.91it/s]\u001B[A"
     ]
    },
    {
     "name": "stdout",
     "output_type": "stream",
     "text": [
      " - Using sentence-transformers/all-distilroberta-v1 model - \n",
      " - Using sentence-transformers/distilbert-base-nli-mean-tokens model - \n"
     ]
    },
    {
     "name": "stderr",
     "output_type": "stream",
     "text": [
      "100%|█████████████████████████████████████████████| 6/6 [00:00<00:00, 45.04it/s]\n",
      " 56%|███████████████████████                  | 177/315 [00:25<00:18,  7.49it/s]"
     ]
    },
    {
     "name": "stdout",
     "output_type": "stream",
     "text": [
      " - Generating structure embeddings for openai/gym - \n"
     ]
    },
    {
     "name": "stderr",
     "output_type": "stream",
     "text": [
      "\n",
      "  0%|                                                     | 0/6 [00:00<?, ?it/s]\u001B[A"
     ]
    },
    {
     "name": "stdout",
     "output_type": "stream",
     "text": [
      " - Using sentence-transformers/all-mpnet-base-v2 model - \n",
      " - Using sentence-transformers/multi-qa-mpnet-base-cos-v1 model - \n",
      " - Using sentence-transformers/bert-base-nli-mean-tokens model - \n",
      " - Using sentence-transformers/paraphrase-multilingual-mpnet-base-v2 model - \n",
      " - Using sentence-transformers/all-distilroberta-v1 model - \n"
     ]
    },
    {
     "name": "stderr",
     "output_type": "stream",
     "text": [
      "\n",
      " 83%|█████████████████████████████████████▌       | 5/6 [00:00<00:00, 46.22it/s]\u001B[A"
     ]
    },
    {
     "name": "stdout",
     "output_type": "stream",
     "text": [
      " - Using sentence-transformers/distilbert-base-nli-mean-tokens model - \n"
     ]
    },
    {
     "name": "stderr",
     "output_type": "stream",
     "text": [
      "100%|█████████████████████████████████████████████| 6/6 [00:00<00:00, 48.63it/s]\n",
      " 57%|███████████████████████▏                 | 178/315 [00:25<00:17,  7.63it/s]"
     ]
    },
    {
     "name": "stdout",
     "output_type": "stream",
     "text": [
      " - Generating structure embeddings for wtforms/wtforms - \n"
     ]
    },
    {
     "name": "stderr",
     "output_type": "stream",
     "text": [
      "\n",
      "  0%|                                                     | 0/6 [00:00<?, ?it/s]\u001B[A"
     ]
    },
    {
     "name": "stdout",
     "output_type": "stream",
     "text": [
      " - Using sentence-transformers/all-mpnet-base-v2 model - \n",
      " - Using sentence-transformers/multi-qa-mpnet-base-cos-v1 model - \n",
      " - Using sentence-transformers/bert-base-nli-mean-tokens model - \n",
      " - Using sentence-transformers/paraphrase-multilingual-mpnet-base-v2 model - \n",
      " - Using sentence-transformers/all-distilroberta-v1 model - \n",
      " - Using sentence-transformers/distilbert-base-nli-mean-tokens model - \n"
     ]
    },
    {
     "name": "stderr",
     "output_type": "stream",
     "text": [
      "\n",
      "100%|█████████████████████████████████████████████| 6/6 [00:00<00:00, 50.92it/s]\u001B[A\n",
      " 57%|███████████████████████▎                 | 179/315 [00:25<00:17,  7.83it/s]"
     ]
    },
    {
     "name": "stdout",
     "output_type": "stream",
     "text": [
      " - Generating structure embeddings for Supervisor/supervisor - \n"
     ]
    },
    {
     "name": "stderr",
     "output_type": "stream",
     "text": [
      "\n",
      "  0%|                                                     | 0/6 [00:00<?, ?it/s]\u001B[A"
     ]
    },
    {
     "name": "stdout",
     "output_type": "stream",
     "text": [
      " - Using sentence-transformers/all-mpnet-base-v2 model - \n",
      " - Using sentence-transformers/multi-qa-mpnet-base-cos-v1 model - \n",
      " - Using sentence-transformers/bert-base-nli-mean-tokens model - \n",
      " - Using sentence-transformers/paraphrase-multilingual-mpnet-base-v2 model - \n",
      " - Using sentence-transformers/all-distilroberta-v1 model - \n"
     ]
    },
    {
     "name": "stderr",
     "output_type": "stream",
     "text": [
      "\n",
      "100%|█████████████████████████████████████████████| 6/6 [00:00<00:00, 48.26it/s]\u001B[A\n",
      " 57%|███████████████████████▍                 | 180/315 [00:25<00:17,  7.86it/s]"
     ]
    },
    {
     "name": "stdout",
     "output_type": "stream",
     "text": [
      " - Using sentence-transformers/distilbert-base-nli-mean-tokens model - \n",
      " - Generating structure embeddings for python-attrs/attrs - \n"
     ]
    },
    {
     "name": "stderr",
     "output_type": "stream",
     "text": [
      "\n",
      "  0%|                                                     | 0/6 [00:00<?, ?it/s]\u001B[A"
     ]
    },
    {
     "name": "stdout",
     "output_type": "stream",
     "text": [
      " - Using sentence-transformers/all-mpnet-base-v2 model - \n",
      " - Using sentence-transformers/multi-qa-mpnet-base-cos-v1 model - \n",
      " - Using sentence-transformers/bert-base-nli-mean-tokens model - \n",
      " - Using sentence-transformers/paraphrase-multilingual-mpnet-base-v2 model - \n"
     ]
    },
    {
     "name": "stderr",
     "output_type": "stream",
     "text": [
      "\n",
      " 67%|██████████████████████████████               | 4/6 [00:00<00:00, 39.39it/s]\u001B[A"
     ]
    },
    {
     "name": "stdout",
     "output_type": "stream",
     "text": [
      " - Using sentence-transformers/all-distilroberta-v1 model - \n",
      " - Using sentence-transformers/distilbert-base-nli-mean-tokens model - \n"
     ]
    },
    {
     "name": "stderr",
     "output_type": "stream",
     "text": [
      "100%|█████████████████████████████████████████████| 6/6 [00:00<00:00, 41.97it/s]\n",
      " 57%|███████████████████████▌                 | 181/315 [00:26<00:17,  7.54it/s]"
     ]
    },
    {
     "name": "stdout",
     "output_type": "stream",
     "text": [
      " - Generating structure embeddings for HypothesisWorks/hypothesis - \n"
     ]
    },
    {
     "name": "stderr",
     "output_type": "stream",
     "text": [
      "\n",
      "  0%|                                                     | 0/6 [00:00<?, ?it/s]\u001B[A"
     ]
    },
    {
     "name": "stdout",
     "output_type": "stream",
     "text": [
      " - Using sentence-transformers/all-mpnet-base-v2 model - \n",
      " - Using sentence-transformers/multi-qa-mpnet-base-cos-v1 model - \n",
      " - Using sentence-transformers/bert-base-nli-mean-tokens model - \n",
      " - Using sentence-transformers/paraphrase-multilingual-mpnet-base-v2 model - \n",
      " - Using sentence-transformers/all-distilroberta-v1 model - \n"
     ]
    },
    {
     "name": "stderr",
     "output_type": "stream",
     "text": [
      "\n",
      "100%|█████████████████████████████████████████████| 6/6 [00:00<00:00, 52.22it/s]\u001B[A\n",
      " 58%|███████████████████████▋                 | 182/315 [00:26<00:16,  7.83it/s]"
     ]
    },
    {
     "name": "stdout",
     "output_type": "stream",
     "text": [
      " - Using sentence-transformers/distilbert-base-nli-mean-tokens model - \n",
      " - Generating structure embeddings for quantopian/zipline - \n"
     ]
    },
    {
     "name": "stderr",
     "output_type": "stream",
     "text": [
      "\n",
      "  0%|                                                     | 0/6 [00:00<?, ?it/s]\u001B[A"
     ]
    },
    {
     "name": "stdout",
     "output_type": "stream",
     "text": [
      " - Using sentence-transformers/all-mpnet-base-v2 model - \n",
      " - Using sentence-transformers/multi-qa-mpnet-base-cos-v1 model - \n",
      " - Using sentence-transformers/bert-base-nli-mean-tokens model - \n",
      " - Using sentence-transformers/paraphrase-multilingual-mpnet-base-v2 model - \n",
      " - Using sentence-transformers/all-distilroberta-v1 model - \n"
     ]
    },
    {
     "name": "stderr",
     "output_type": "stream",
     "text": [
      "\n",
      " 83%|█████████████████████████████████████▌       | 5/6 [00:00<00:00, 44.60it/s]\u001B[A"
     ]
    },
    {
     "name": "stdout",
     "output_type": "stream",
     "text": [
      " - Using sentence-transformers/distilbert-base-nli-mean-tokens model - \n"
     ]
    },
    {
     "name": "stderr",
     "output_type": "stream",
     "text": [
      "100%|█████████████████████████████████████████████| 6/6 [00:00<00:00, 46.61it/s]\n",
      " 58%|███████████████████████▊                 | 183/315 [00:26<00:16,  7.78it/s]"
     ]
    },
    {
     "name": "stdout",
     "output_type": "stream",
     "text": [
      " - Generating structure embeddings for MechanicalSoup/MechanicalSoup - \n"
     ]
    },
    {
     "name": "stderr",
     "output_type": "stream",
     "text": [
      "\n",
      "  0%|                                                     | 0/6 [00:00<?, ?it/s]\u001B[A"
     ]
    },
    {
     "name": "stdout",
     "output_type": "stream",
     "text": [
      " - Using sentence-transformers/all-mpnet-base-v2 model - \n",
      " - Using sentence-transformers/multi-qa-mpnet-base-cos-v1 model - \n",
      " - Using sentence-transformers/bert-base-nli-mean-tokens model - \n",
      " - Using sentence-transformers/paraphrase-multilingual-mpnet-base-v2 model - \n"
     ]
    },
    {
     "name": "stderr",
     "output_type": "stream",
     "text": [
      "\n",
      "100%|█████████████████████████████████████████████| 6/6 [00:00<00:00, 46.66it/s]\u001B[A\n",
      " 58%|███████████████████████▉                 | 184/315 [00:26<00:16,  7.75it/s]"
     ]
    },
    {
     "name": "stdout",
     "output_type": "stream",
     "text": [
      " - Using sentence-transformers/all-distilroberta-v1 model - \n",
      " - Using sentence-transformers/distilbert-base-nli-mean-tokens model - \n",
      " - Generating structure embeddings for saffsd/langid.py - \n"
     ]
    },
    {
     "name": "stderr",
     "output_type": "stream",
     "text": [
      "\n",
      "  0%|                                                     | 0/6 [00:00<?, ?it/s]\u001B[A"
     ]
    },
    {
     "name": "stdout",
     "output_type": "stream",
     "text": [
      " - Using sentence-transformers/all-mpnet-base-v2 model - \n",
      " - Using sentence-transformers/multi-qa-mpnet-base-cos-v1 model - \n",
      " - Using sentence-transformers/bert-base-nli-mean-tokens model - \n",
      " - Using sentence-transformers/paraphrase-multilingual-mpnet-base-v2 model - \n",
      " - Using sentence-transformers/all-distilroberta-v1 model - \n"
     ]
    },
    {
     "name": "stderr",
     "output_type": "stream",
     "text": [
      "\n",
      "100%|█████████████████████████████████████████████| 6/6 [00:00<00:00, 46.26it/s]\u001B[A\n",
      " 59%|████████████████████████                 | 185/315 [00:26<00:16,  7.71it/s]"
     ]
    },
    {
     "name": "stdout",
     "output_type": "stream",
     "text": [
      " - Using sentence-transformers/distilbert-base-nli-mean-tokens model - \n",
      " - Generating structure embeddings for awslabs/aws-data-wrangler - \n"
     ]
    },
    {
     "name": "stderr",
     "output_type": "stream",
     "text": [
      "\n",
      "  0%|                                                     | 0/6 [00:00<?, ?it/s]\u001B[A"
     ]
    },
    {
     "name": "stdout",
     "output_type": "stream",
     "text": [
      " - Using sentence-transformers/all-mpnet-base-v2 model - \n",
      " - Using sentence-transformers/multi-qa-mpnet-base-cos-v1 model - \n",
      " - Using sentence-transformers/bert-base-nli-mean-tokens model - \n",
      " - Using sentence-transformers/paraphrase-multilingual-mpnet-base-v2 model - \n"
     ]
    },
    {
     "name": "stderr",
     "output_type": "stream",
     "text": [
      "\n",
      " 83%|█████████████████████████████████████▌       | 5/6 [00:00<00:00, 43.77it/s]\u001B[A"
     ]
    },
    {
     "name": "stdout",
     "output_type": "stream",
     "text": [
      " - Using sentence-transformers/all-distilroberta-v1 model - \n",
      " - Using sentence-transformers/distilbert-base-nli-mean-tokens model - \n"
     ]
    },
    {
     "name": "stderr",
     "output_type": "stream",
     "text": [
      "100%|█████████████████████████████████████████████| 6/6 [00:00<00:00, 47.43it/s]\n",
      " 59%|████████████████████████▏                | 186/315 [00:26<00:16,  7.74it/s]"
     ]
    },
    {
     "name": "stdout",
     "output_type": "stream",
     "text": [
      " - Generating structure embeddings for vandersonmota/model_mommy - \n"
     ]
    },
    {
     "name": "stderr",
     "output_type": "stream",
     "text": [
      "\n",
      "  0%|                                                     | 0/6 [00:00<?, ?it/s]\u001B[A"
     ]
    },
    {
     "name": "stdout",
     "output_type": "stream",
     "text": [
      " - Using sentence-transformers/all-mpnet-base-v2 model - \n",
      " - Using sentence-transformers/multi-qa-mpnet-base-cos-v1 model - \n",
      " - Using sentence-transformers/bert-base-nli-mean-tokens model - \n",
      " - Using sentence-transformers/paraphrase-multilingual-mpnet-base-v2 model - \n",
      " - Using sentence-transformers/all-distilroberta-v1 model - \n"
     ]
    },
    {
     "name": "stderr",
     "output_type": "stream",
     "text": [
      "\n",
      "100%|█████████████████████████████████████████████| 6/6 [00:00<00:00, 50.73it/s]\u001B[A\n",
      " 59%|████████████████████████▎                | 187/315 [00:26<00:16,  7.87it/s]"
     ]
    },
    {
     "name": "stdout",
     "output_type": "stream",
     "text": [
      " - Using sentence-transformers/distilbert-base-nli-mean-tokens model - \n",
      " - Generating structure embeddings for benedekrozemberczki/karateclub - \n"
     ]
    },
    {
     "name": "stderr",
     "output_type": "stream",
     "text": [
      "\n",
      "  0%|                                                     | 0/6 [00:00<?, ?it/s]\u001B[A"
     ]
    },
    {
     "name": "stdout",
     "output_type": "stream",
     "text": [
      " - Using sentence-transformers/all-mpnet-base-v2 model - \n",
      " - Using sentence-transformers/multi-qa-mpnet-base-cos-v1 model - \n",
      " - Using sentence-transformers/bert-base-nli-mean-tokens model - \n",
      " - Using sentence-transformers/paraphrase-multilingual-mpnet-base-v2 model - \n",
      " - Using sentence-transformers/all-distilroberta-v1 model - \n"
     ]
    },
    {
     "name": "stderr",
     "output_type": "stream",
     "text": [
      "\n",
      "100%|█████████████████████████████████████████████| 6/6 [00:00<00:00, 50.68it/s]\u001B[A\n",
      " 60%|████████████████████████▍                | 188/315 [00:26<00:15,  8.00it/s]"
     ]
    },
    {
     "name": "stdout",
     "output_type": "stream",
     "text": [
      " - Using sentence-transformers/distilbert-base-nli-mean-tokens model - \n",
      " - Generating structure embeddings for statsmodels/statsmodels - \n"
     ]
    },
    {
     "name": "stderr",
     "output_type": "stream",
     "text": [
      "\n",
      "  0%|                                                     | 0/6 [00:00<?, ?it/s]\u001B[A"
     ]
    },
    {
     "name": "stdout",
     "output_type": "stream",
     "text": [
      " - Using sentence-transformers/all-mpnet-base-v2 model - \n",
      " - Using sentence-transformers/multi-qa-mpnet-base-cos-v1 model - \n",
      " - Using sentence-transformers/bert-base-nli-mean-tokens model - \n",
      " - Using sentence-transformers/paraphrase-multilingual-mpnet-base-v2 model - \n",
      " - Using sentence-transformers/all-distilroberta-v1 model - \n"
     ]
    },
    {
     "name": "stderr",
     "output_type": "stream",
     "text": [
      "\n",
      "100%|█████████████████████████████████████████████| 6/6 [00:00<00:00, 50.64it/s]\u001B[A\n",
      " 60%|████████████████████████▌                | 189/315 [00:27<00:15,  8.10it/s]"
     ]
    },
    {
     "name": "stdout",
     "output_type": "stream",
     "text": [
      " - Using sentence-transformers/distilbert-base-nli-mean-tokens model - \n",
      " - Generating structure embeddings for pwaller/pyfiglet - \n"
     ]
    },
    {
     "name": "stderr",
     "output_type": "stream",
     "text": [
      "\n",
      "  0%|                                                     | 0/6 [00:00<?, ?it/s]\u001B[A"
     ]
    },
    {
     "name": "stdout",
     "output_type": "stream",
     "text": [
      " - Using sentence-transformers/all-mpnet-base-v2 model - \n",
      " - Using sentence-transformers/multi-qa-mpnet-base-cos-v1 model - \n",
      " - Using sentence-transformers/bert-base-nli-mean-tokens model - \n",
      " - Using sentence-transformers/paraphrase-multilingual-mpnet-base-v2 model - \n"
     ]
    },
    {
     "name": "stderr",
     "output_type": "stream",
     "text": [
      "\n",
      "100%|█████████████████████████████████████████████| 6/6 [00:00<00:00, 46.41it/s]\u001B[A\n",
      " 60%|████████████████████████▋                | 190/315 [00:27<00:15,  7.96it/s]"
     ]
    },
    {
     "name": "stdout",
     "output_type": "stream",
     "text": [
      " - Using sentence-transformers/all-distilroberta-v1 model - \n",
      " - Using sentence-transformers/distilbert-base-nli-mean-tokens model - \n",
      " - Generating structure embeddings for google/pyringe - \n"
     ]
    },
    {
     "name": "stderr",
     "output_type": "stream",
     "text": [
      "\n",
      "  0%|                                                     | 0/6 [00:00<?, ?it/s]\u001B[A"
     ]
    },
    {
     "name": "stdout",
     "output_type": "stream",
     "text": [
      " - Using sentence-transformers/all-mpnet-base-v2 model - \n",
      " - Using sentence-transformers/multi-qa-mpnet-base-cos-v1 model - \n",
      " - Using sentence-transformers/bert-base-nli-mean-tokens model - \n",
      " - Using sentence-transformers/paraphrase-multilingual-mpnet-base-v2 model - \n"
     ]
    },
    {
     "name": "stderr",
     "output_type": "stream",
     "text": [
      "\n",
      " 67%|██████████████████████████████               | 4/6 [00:00<00:00, 37.98it/s]\u001B[A"
     ]
    },
    {
     "name": "stdout",
     "output_type": "stream",
     "text": [
      " - Using sentence-transformers/all-distilroberta-v1 model - \n",
      " - Using sentence-transformers/distilbert-base-nli-mean-tokens model - \n"
     ]
    },
    {
     "name": "stderr",
     "output_type": "stream",
     "text": [
      "100%|█████████████████████████████████████████████| 6/6 [00:00<00:00, 42.35it/s]\n",
      " 61%|████████████████████████▊                | 191/315 [00:27<00:16,  7.63it/s]"
     ]
    },
    {
     "name": "stdout",
     "output_type": "stream",
     "text": [
      " - Generating structure embeddings for saltstack/salt - \n"
     ]
    },
    {
     "name": "stderr",
     "output_type": "stream",
     "text": [
      "\n",
      "  0%|                                                     | 0/6 [00:00<?, ?it/s]\u001B[A"
     ]
    },
    {
     "name": "stdout",
     "output_type": "stream",
     "text": [
      " - Using sentence-transformers/all-mpnet-base-v2 model - \n",
      " - Using sentence-transformers/multi-qa-mpnet-base-cos-v1 model - \n",
      " - Using sentence-transformers/bert-base-nli-mean-tokens model - \n",
      " - Using sentence-transformers/paraphrase-multilingual-mpnet-base-v2 model - \n"
     ]
    },
    {
     "name": "stderr",
     "output_type": "stream",
     "text": [
      "\n",
      " 67%|██████████████████████████████               | 4/6 [00:00<00:00, 38.77it/s]\u001B[A"
     ]
    },
    {
     "name": "stdout",
     "output_type": "stream",
     "text": [
      " - Using sentence-transformers/all-distilroberta-v1 model - \n"
     ]
    },
    {
     "name": "stderr",
     "output_type": "stream",
     "text": [
      "100%|█████████████████████████████████████████████| 6/6 [00:00<00:00, 44.53it/s]\n",
      " 61%|████████████████████████▉                | 192/315 [00:27<00:16,  7.54it/s]"
     ]
    },
    {
     "name": "stdout",
     "output_type": "stream",
     "text": [
      " - Using sentence-transformers/distilbert-base-nli-mean-tokens model - \n",
      " - Generating structure embeddings for web2py/pydal - \n"
     ]
    },
    {
     "name": "stderr",
     "output_type": "stream",
     "text": [
      "\n",
      "  0%|                                                     | 0/6 [00:00<?, ?it/s]\u001B[A"
     ]
    },
    {
     "name": "stdout",
     "output_type": "stream",
     "text": [
      " - Using sentence-transformers/all-mpnet-base-v2 model - \n",
      " - Using sentence-transformers/multi-qa-mpnet-base-cos-v1 model - \n",
      " - Using sentence-transformers/bert-base-nli-mean-tokens model - \n",
      " - Using sentence-transformers/paraphrase-multilingual-mpnet-base-v2 model - \n"
     ]
    },
    {
     "name": "stderr",
     "output_type": "stream",
     "text": [
      "\n",
      "100%|█████████████████████████████████████████████| 6/6 [00:00<00:00, 48.43it/s]\u001B[A\n",
      " 61%|█████████████████████████                | 193/315 [00:27<00:15,  7.66it/s]"
     ]
    },
    {
     "name": "stdout",
     "output_type": "stream",
     "text": [
      " - Using sentence-transformers/all-distilroberta-v1 model - \n",
      " - Using sentence-transformers/distilbert-base-nli-mean-tokens model - \n",
      " - Generating structure embeddings for jorgenschaefer/elpy - \n"
     ]
    },
    {
     "name": "stderr",
     "output_type": "stream",
     "text": [
      "\n",
      "  0%|                                                     | 0/6 [00:00<?, ?it/s]\u001B[A"
     ]
    },
    {
     "name": "stdout",
     "output_type": "stream",
     "text": [
      " - Using sentence-transformers/all-mpnet-base-v2 model - \n",
      " - Using sentence-transformers/multi-qa-mpnet-base-cos-v1 model - \n",
      " - Using sentence-transformers/bert-base-nli-mean-tokens model - \n",
      " - Using sentence-transformers/paraphrase-multilingual-mpnet-base-v2 model - \n"
     ]
    },
    {
     "name": "stderr",
     "output_type": "stream",
     "text": [
      "\n",
      " 83%|█████████████████████████████████████▌       | 5/6 [00:00<00:00, 43.70it/s]\u001B[A"
     ]
    },
    {
     "name": "stdout",
     "output_type": "stream",
     "text": [
      " - Using sentence-transformers/all-distilroberta-v1 model - \n",
      " - Using sentence-transformers/distilbert-base-nli-mean-tokens model - \n"
     ]
    },
    {
     "name": "stderr",
     "output_type": "stream",
     "text": [
      "100%|█████████████████████████████████████████████| 6/6 [00:00<00:00, 46.70it/s]\n",
      " 62%|█████████████████████████▎               | 194/315 [00:27<00:15,  7.66it/s]"
     ]
    },
    {
     "name": "stdout",
     "output_type": "stream",
     "text": [
      " - Generating structure embeddings for lericson/pylibmc - \n"
     ]
    },
    {
     "name": "stderr",
     "output_type": "stream",
     "text": [
      "\n",
      "  0%|                                                     | 0/6 [00:00<?, ?it/s]\u001B[A"
     ]
    },
    {
     "name": "stdout",
     "output_type": "stream",
     "text": [
      " - Using sentence-transformers/all-mpnet-base-v2 model - \n",
      " - Using sentence-transformers/multi-qa-mpnet-base-cos-v1 model - \n",
      " - Using sentence-transformers/bert-base-nli-mean-tokens model - \n",
      " - Using sentence-transformers/paraphrase-multilingual-mpnet-base-v2 model - \n",
      " - Using sentence-transformers/all-distilroberta-v1 model - \n"
     ]
    },
    {
     "name": "stderr",
     "output_type": "stream",
     "text": [
      "\n",
      " 83%|█████████████████████████████████████▌       | 5/6 [00:00<00:00, 49.42it/s]\u001B[A"
     ]
    },
    {
     "name": "stdout",
     "output_type": "stream",
     "text": [
      " - Using sentence-transformers/distilbert-base-nli-mean-tokens model - \n"
     ]
    },
    {
     "name": "stderr",
     "output_type": "stream",
     "text": [
      "100%|█████████████████████████████████████████████| 6/6 [00:00<00:00, 50.46it/s]\n",
      " 62%|█████████████████████████▍               | 195/315 [00:27<00:15,  7.84it/s]"
     ]
    },
    {
     "name": "stdout",
     "output_type": "stream",
     "text": [
      " - Generating structure embeddings for Suor/funcy - \n"
     ]
    },
    {
     "name": "stderr",
     "output_type": "stream",
     "text": [
      "\n",
      "  0%|                                                     | 0/6 [00:00<?, ?it/s]\u001B[A"
     ]
    },
    {
     "name": "stdout",
     "output_type": "stream",
     "text": [
      " - Using sentence-transformers/all-mpnet-base-v2 model - \n",
      " - Using sentence-transformers/multi-qa-mpnet-base-cos-v1 model - \n",
      " - Using sentence-transformers/bert-base-nli-mean-tokens model - \n",
      " - Using sentence-transformers/paraphrase-multilingual-mpnet-base-v2 model - \n"
     ]
    },
    {
     "name": "stderr",
     "output_type": "stream",
     "text": [
      "\n",
      " 67%|██████████████████████████████               | 4/6 [00:00<00:00, 39.13it/s]\u001B[A"
     ]
    },
    {
     "name": "stdout",
     "output_type": "stream",
     "text": [
      " - Using sentence-transformers/all-distilroberta-v1 model - \n",
      " - Using sentence-transformers/distilbert-base-nli-mean-tokens model - \n"
     ]
    },
    {
     "name": "stderr",
     "output_type": "stream",
     "text": [
      "100%|█████████████████████████████████████████████| 6/6 [00:00<00:00, 45.98it/s]\n",
      " 62%|█████████████████████████▌               | 196/315 [00:27<00:15,  7.74it/s]"
     ]
    },
    {
     "name": "stdout",
     "output_type": "stream",
     "text": [
      " - Generating structure embeddings for carlosescri/DottedDict - \n"
     ]
    },
    {
     "name": "stderr",
     "output_type": "stream",
     "text": [
      "\n",
      "  0%|                                                     | 0/6 [00:00<?, ?it/s]\u001B[A"
     ]
    },
    {
     "name": "stdout",
     "output_type": "stream",
     "text": [
      " - Using sentence-transformers/all-mpnet-base-v2 model - \n",
      " - Using sentence-transformers/multi-qa-mpnet-base-cos-v1 model - \n",
      " - Using sentence-transformers/bert-base-nli-mean-tokens model - \n",
      " - Using sentence-transformers/paraphrase-multilingual-mpnet-base-v2 model - \n",
      " - Using sentence-transformers/all-distilroberta-v1 model - \n"
     ]
    },
    {
     "name": "stderr",
     "output_type": "stream",
     "text": [
      "\n",
      "100%|█████████████████████████████████████████████| 6/6 [00:00<00:00, 50.44it/s]\u001B[A\n",
      " 63%|█████████████████████████▋               | 197/315 [00:28<00:14,  7.89it/s]"
     ]
    },
    {
     "name": "stdout",
     "output_type": "stream",
     "text": [
      " - Using sentence-transformers/distilbert-base-nli-mean-tokens model - \n",
      " - Generating structure embeddings for mooz/percol - \n"
     ]
    },
    {
     "name": "stderr",
     "output_type": "stream",
     "text": [
      "\n",
      "  0%|                                                     | 0/6 [00:00<?, ?it/s]\u001B[A"
     ]
    },
    {
     "name": "stdout",
     "output_type": "stream",
     "text": [
      " - Using sentence-transformers/all-mpnet-base-v2 model - \n",
      " - Using sentence-transformers/multi-qa-mpnet-base-cos-v1 model - \n",
      " - Using sentence-transformers/bert-base-nli-mean-tokens model - \n",
      " - Using sentence-transformers/paraphrase-multilingual-mpnet-base-v2 model - \n"
     ]
    },
    {
     "name": "stderr",
     "output_type": "stream",
     "text": [
      "\n",
      " 83%|█████████████████████████████████████▌       | 5/6 [00:00<00:00, 45.76it/s]\u001B[A"
     ]
    },
    {
     "name": "stdout",
     "output_type": "stream",
     "text": [
      " - Using sentence-transformers/all-distilroberta-v1 model - \n",
      " - Using sentence-transformers/distilbert-base-nli-mean-tokens model - \n"
     ]
    },
    {
     "name": "stderr",
     "output_type": "stream",
     "text": [
      "100%|█████████████████████████████████████████████| 6/6 [00:00<00:00, 49.62it/s]\n",
      " 63%|█████████████████████████▊               | 198/315 [00:28<00:14,  7.95it/s]"
     ]
    },
    {
     "name": "stdout",
     "output_type": "stream",
     "text": [
      " - Generating structure embeddings for jfkirk/tensorrec - \n"
     ]
    },
    {
     "name": "stderr",
     "output_type": "stream",
     "text": [
      "\n",
      "  0%|                                                     | 0/6 [00:00<?, ?it/s]\u001B[A"
     ]
    },
    {
     "name": "stdout",
     "output_type": "stream",
     "text": [
      " - Using sentence-transformers/all-mpnet-base-v2 model - \n",
      " - Using sentence-transformers/multi-qa-mpnet-base-cos-v1 model - \n",
      " - Using sentence-transformers/bert-base-nli-mean-tokens model - \n",
      " - Using sentence-transformers/paraphrase-multilingual-mpnet-base-v2 model - \n",
      " - Using sentence-transformers/all-distilroberta-v1 model - \n"
     ]
    },
    {
     "name": "stderr",
     "output_type": "stream",
     "text": [
      "\n",
      "100%|█████████████████████████████████████████████| 6/6 [00:00<00:00, 48.42it/s]\u001B[A\n",
      " 63%|█████████████████████████▉               | 199/315 [00:28<00:14,  7.95it/s]"
     ]
    },
    {
     "name": "stdout",
     "output_type": "stream",
     "text": [
      " - Using sentence-transformers/distilbert-base-nli-mean-tokens model - \n",
      " - Generating structure embeddings for r0x0r/pywebview - \n"
     ]
    },
    {
     "name": "stderr",
     "output_type": "stream",
     "text": [
      "\n",
      "  0%|                                                     | 0/6 [00:00<?, ?it/s]\u001B[A"
     ]
    },
    {
     "name": "stdout",
     "output_type": "stream",
     "text": [
      " - Using sentence-transformers/all-mpnet-base-v2 model - \n",
      " - Using sentence-transformers/multi-qa-mpnet-base-cos-v1 model - \n",
      " - Using sentence-transformers/bert-base-nli-mean-tokens model - \n",
      " - Using sentence-transformers/paraphrase-multilingual-mpnet-base-v2 model - \n"
     ]
    },
    {
     "name": "stderr",
     "output_type": "stream",
     "text": [
      "\n",
      "100%|█████████████████████████████████████████████| 6/6 [00:00<00:00, 50.43it/s]\u001B[A\n",
      " 63%|██████████████████████████               | 200/315 [00:28<00:14,  8.04it/s]"
     ]
    },
    {
     "name": "stdout",
     "output_type": "stream",
     "text": [
      " - Using sentence-transformers/all-distilroberta-v1 model - \n",
      " - Using sentence-transformers/distilbert-base-nli-mean-tokens model - \n",
      " - Generating structure embeddings for zoofIO/flexx - \n"
     ]
    },
    {
     "name": "stderr",
     "output_type": "stream",
     "text": [
      "\n",
      "  0%|                                                     | 0/6 [00:00<?, ?it/s]\u001B[A"
     ]
    },
    {
     "name": "stdout",
     "output_type": "stream",
     "text": [
      " - Using sentence-transformers/all-mpnet-base-v2 model - \n",
      " - Using sentence-transformers/multi-qa-mpnet-base-cos-v1 model - \n",
      " - Using sentence-transformers/bert-base-nli-mean-tokens model - \n",
      " - Using sentence-transformers/paraphrase-multilingual-mpnet-base-v2 model - \n",
      " - Using sentence-transformers/all-distilroberta-v1 model - \n"
     ]
    },
    {
     "name": "stderr",
     "output_type": "stream",
     "text": [
      "\n",
      "100%|█████████████████████████████████████████████| 6/6 [00:00<00:00, 47.27it/s]\u001B[A\n",
      " 64%|██████████████████████████▏              | 201/315 [00:28<00:14,  7.95it/s]"
     ]
    },
    {
     "name": "stdout",
     "output_type": "stream",
     "text": [
      " - Using sentence-transformers/distilbert-base-nli-mean-tokens model - \n",
      " - Generating structure embeddings for davidhalter/jedi-vim - \n"
     ]
    },
    {
     "name": "stderr",
     "output_type": "stream",
     "text": [
      "\n",
      "  0%|                                                     | 0/6 [00:00<?, ?it/s]\u001B[A"
     ]
    },
    {
     "name": "stdout",
     "output_type": "stream",
     "text": [
      " - Using sentence-transformers/all-mpnet-base-v2 model - \n",
      " - Using sentence-transformers/multi-qa-mpnet-base-cos-v1 model - \n",
      " - Using sentence-transformers/bert-base-nli-mean-tokens model - \n",
      " - Using sentence-transformers/paraphrase-multilingual-mpnet-base-v2 model - \n",
      " - Using sentence-transformers/all-distilroberta-v1 model - \n"
     ]
    },
    {
     "name": "stderr",
     "output_type": "stream",
     "text": [
      "\n",
      "100%|█████████████████████████████████████████████| 6/6 [00:00<00:00, 46.00it/s]\u001B[A\n",
      " 64%|██████████████████████████▎              | 202/315 [00:28<00:14,  7.81it/s]"
     ]
    },
    {
     "name": "stdout",
     "output_type": "stream",
     "text": [
      " - Using sentence-transformers/distilbert-base-nli-mean-tokens model - \n",
      " - Generating structure embeddings for mwaskom/seaborn - \n"
     ]
    },
    {
     "name": "stderr",
     "output_type": "stream",
     "text": [
      "\n",
      "  0%|                                                     | 0/6 [00:00<?, ?it/s]\u001B[A"
     ]
    },
    {
     "name": "stdout",
     "output_type": "stream",
     "text": [
      " - Using sentence-transformers/all-mpnet-base-v2 model - \n",
      " - Using sentence-transformers/multi-qa-mpnet-base-cos-v1 model - \n",
      " - Using sentence-transformers/bert-base-nli-mean-tokens model - \n",
      " - Using sentence-transformers/paraphrase-multilingual-mpnet-base-v2 model - \n",
      " - Using sentence-transformers/all-distilroberta-v1 model - \n"
     ]
    },
    {
     "name": "stderr",
     "output_type": "stream",
     "text": [
      "\n",
      " 83%|█████████████████████████████████████▌       | 5/6 [00:00<00:00, 45.96it/s]\u001B[A"
     ]
    },
    {
     "name": "stdout",
     "output_type": "stream",
     "text": [
      " - Using sentence-transformers/distilbert-base-nli-mean-tokens model - \n"
     ]
    },
    {
     "name": "stderr",
     "output_type": "stream",
     "text": [
      "100%|█████████████████████████████████████████████| 6/6 [00:00<00:00, 48.31it/s]\n",
      " 64%|██████████████████████████▍              | 203/315 [00:28<00:14,  7.85it/s]"
     ]
    },
    {
     "name": "stdout",
     "output_type": "stream",
     "text": [
      " - Generating structure embeddings for miracle2k/webassets - \n"
     ]
    },
    {
     "name": "stderr",
     "output_type": "stream",
     "text": [
      "\n",
      "  0%|                                                     | 0/6 [00:00<?, ?it/s]\u001B[A"
     ]
    },
    {
     "name": "stdout",
     "output_type": "stream",
     "text": [
      " - Using sentence-transformers/all-mpnet-base-v2 model - \n",
      " - Using sentence-transformers/multi-qa-mpnet-base-cos-v1 model - \n",
      " - Using sentence-transformers/bert-base-nli-mean-tokens model - \n",
      " - Using sentence-transformers/paraphrase-multilingual-mpnet-base-v2 model - \n",
      " - Using sentence-transformers/all-distilroberta-v1 model - \n",
      " - Using sentence-transformers/distilbert-base-nli-mean-tokens model - \n"
     ]
    },
    {
     "name": "stderr",
     "output_type": "stream",
     "text": [
      "\n",
      "100%|█████████████████████████████████████████████| 6/6 [00:00<00:00, 59.15it/s]\u001B[A\n",
      " 65%|██████████████████████████▌              | 204/315 [00:28<00:13,  8.33it/s]"
     ]
    },
    {
     "name": "stdout",
     "output_type": "stream",
     "text": [
      " - Generating structure embeddings for Alir3z4/html2text - \n"
     ]
    },
    {
     "name": "stderr",
     "output_type": "stream",
     "text": [
      "\n",
      "  0%|                                                     | 0/6 [00:00<?, ?it/s]\u001B[A"
     ]
    },
    {
     "name": "stdout",
     "output_type": "stream",
     "text": [
      " - Using sentence-transformers/all-mpnet-base-v2 model - \n",
      " - Using sentence-transformers/multi-qa-mpnet-base-cos-v1 model - \n",
      " - Using sentence-transformers/bert-base-nli-mean-tokens model - \n",
      " - Using sentence-transformers/paraphrase-multilingual-mpnet-base-v2 model - \n",
      " - Using sentence-transformers/all-distilroberta-v1 model - \n"
     ]
    },
    {
     "name": "stderr",
     "output_type": "stream",
     "text": [
      "\n",
      " 83%|█████████████████████████████████████▌       | 5/6 [00:00<00:00, 45.52it/s]\u001B[A"
     ]
    },
    {
     "name": "stdout",
     "output_type": "stream",
     "text": [
      " - Using sentence-transformers/distilbert-base-nli-mean-tokens model - \n"
     ]
    },
    {
     "name": "stderr",
     "output_type": "stream",
     "text": [
      "100%|█████████████████████████████████████████████| 6/6 [00:00<00:00, 48.42it/s]\n",
      " 65%|██████████████████████████▋              | 205/315 [00:29<00:13,  8.21it/s]"
     ]
    },
    {
     "name": "stdout",
     "output_type": "stream",
     "text": [
      " - Generating structure embeddings for sirfz/tesserocr - \n"
     ]
    },
    {
     "name": "stderr",
     "output_type": "stream",
     "text": [
      "\n",
      "  0%|                                                     | 0/6 [00:00<?, ?it/s]\u001B[A"
     ]
    },
    {
     "name": "stdout",
     "output_type": "stream",
     "text": [
      " - Using sentence-transformers/all-mpnet-base-v2 model - \n",
      " - Using sentence-transformers/multi-qa-mpnet-base-cos-v1 model - \n",
      " - Using sentence-transformers/bert-base-nli-mean-tokens model - \n",
      " - Using sentence-transformers/paraphrase-multilingual-mpnet-base-v2 model - \n"
     ]
    },
    {
     "name": "stderr",
     "output_type": "stream",
     "text": [
      "\n",
      " 67%|██████████████████████████████               | 4/6 [00:00<00:00, 36.03it/s]\u001B[A"
     ]
    },
    {
     "name": "stdout",
     "output_type": "stream",
     "text": [
      " - Using sentence-transformers/all-distilroberta-v1 model - \n",
      " - Using sentence-transformers/distilbert-base-nli-mean-tokens model - \n"
     ]
    },
    {
     "name": "stderr",
     "output_type": "stream",
     "text": [
      "100%|█████████████████████████████████████████████| 6/6 [00:00<00:00, 40.81it/s]\n",
      " 65%|██████████████████████████▊              | 206/315 [00:29<00:14,  7.68it/s]"
     ]
    },
    {
     "name": "stdout",
     "output_type": "stream",
     "text": [
      " - Generating structure embeddings for abhiTronix/vidgear - \n"
     ]
    },
    {
     "name": "stderr",
     "output_type": "stream",
     "text": [
      "\n",
      "  0%|                                                     | 0/6 [00:00<?, ?it/s]\u001B[A"
     ]
    },
    {
     "name": "stdout",
     "output_type": "stream",
     "text": [
      " - Using sentence-transformers/all-mpnet-base-v2 model - \n",
      " - Using sentence-transformers/multi-qa-mpnet-base-cos-v1 model - \n",
      " - Using sentence-transformers/bert-base-nli-mean-tokens model - \n",
      " - Using sentence-transformers/paraphrase-multilingual-mpnet-base-v2 model - \n"
     ]
    },
    {
     "name": "stderr",
     "output_type": "stream",
     "text": [
      "\n",
      " 67%|██████████████████████████████               | 4/6 [00:00<00:00, 38.47it/s]\u001B[A"
     ]
    },
    {
     "name": "stdout",
     "output_type": "stream",
     "text": [
      " - Using sentence-transformers/all-distilroberta-v1 model - \n",
      " - Using sentence-transformers/distilbert-base-nli-mean-tokens model - \n"
     ]
    },
    {
     "name": "stderr",
     "output_type": "stream",
     "text": [
      "100%|█████████████████████████████████████████████| 6/6 [00:00<00:00, 45.80it/s]\n",
      " 66%|██████████████████████████▉              | 207/315 [00:29<00:14,  7.53it/s]"
     ]
    },
    {
     "name": "stdout",
     "output_type": "stream",
     "text": [
      " - Generating structure embeddings for gorakhargosh/watchdog - \n"
     ]
    },
    {
     "name": "stderr",
     "output_type": "stream",
     "text": [
      "\n",
      "  0%|                                                     | 0/6 [00:00<?, ?it/s]\u001B[A"
     ]
    },
    {
     "name": "stdout",
     "output_type": "stream",
     "text": [
      " - Using sentence-transformers/all-mpnet-base-v2 model - \n",
      " - Using sentence-transformers/multi-qa-mpnet-base-cos-v1 model - \n",
      " - Using sentence-transformers/bert-base-nli-mean-tokens model - \n",
      " - Using sentence-transformers/paraphrase-multilingual-mpnet-base-v2 model - \n",
      " - Using sentence-transformers/all-distilroberta-v1 model - \n"
     ]
    },
    {
     "name": "stderr",
     "output_type": "stream",
     "text": [
      "\n",
      "100%|█████████████████████████████████████████████| 6/6 [00:00<00:00, 52.93it/s]\u001B[A\n",
      " 66%|███████████████████████████              | 208/315 [00:29<00:13,  7.84it/s]"
     ]
    },
    {
     "name": "stdout",
     "output_type": "stream",
     "text": [
      " - Using sentence-transformers/distilbert-base-nli-mean-tokens model - \n",
      " - Generating structure embeddings for CleanCut/green - \n"
     ]
    },
    {
     "name": "stderr",
     "output_type": "stream",
     "text": [
      "\n",
      "  0%|                                                     | 0/6 [00:00<?, ?it/s]\u001B[A"
     ]
    },
    {
     "name": "stdout",
     "output_type": "stream",
     "text": [
      " - Using sentence-transformers/all-mpnet-base-v2 model - \n",
      " - Using sentence-transformers/multi-qa-mpnet-base-cos-v1 model - \n",
      " - Using sentence-transformers/bert-base-nli-mean-tokens model - \n",
      " - Using sentence-transformers/paraphrase-multilingual-mpnet-base-v2 model - \n"
     ]
    },
    {
     "name": "stderr",
     "output_type": "stream",
     "text": [
      "\n",
      "100%|█████████████████████████████████████████████| 6/6 [00:00<00:00, 47.97it/s]\u001B[A\n",
      " 66%|███████████████████████████▏             | 209/315 [00:29<00:13,  7.86it/s]"
     ]
    },
    {
     "name": "stdout",
     "output_type": "stream",
     "text": [
      " - Using sentence-transformers/all-distilroberta-v1 model - \n",
      " - Using sentence-transformers/distilbert-base-nli-mean-tokens model - \n",
      " - Generating structure embeddings for jonashaag/bjoern - \n"
     ]
    },
    {
     "name": "stderr",
     "output_type": "stream",
     "text": [
      "\n",
      "  0%|                                                     | 0/6 [00:00<?, ?it/s]\u001B[A"
     ]
    },
    {
     "name": "stdout",
     "output_type": "stream",
     "text": [
      " - Using sentence-transformers/all-mpnet-base-v2 model - \n",
      " - Using sentence-transformers/multi-qa-mpnet-base-cos-v1 model - \n",
      " - Using sentence-transformers/bert-base-nli-mean-tokens model - \n",
      " - Using sentence-transformers/paraphrase-multilingual-mpnet-base-v2 model - \n",
      " - Using sentence-transformers/all-distilroberta-v1 model - \n"
     ]
    },
    {
     "name": "stderr",
     "output_type": "stream",
     "text": [
      "\n",
      "100%|█████████████████████████████████████████████| 6/6 [00:00<00:00, 50.92it/s]\u001B[A\n",
      " 67%|███████████████████████████▎             | 210/315 [00:29<00:13,  8.00it/s]"
     ]
    },
    {
     "name": "stdout",
     "output_type": "stream",
     "text": [
      " - Using sentence-transformers/distilbert-base-nli-mean-tokens model - \n",
      " - Generating structure embeddings for dyve/django-bootstrap3 - \n"
     ]
    },
    {
     "name": "stderr",
     "output_type": "stream",
     "text": [
      "\n",
      "  0%|                                                     | 0/6 [00:00<?, ?it/s]\u001B[A"
     ]
    },
    {
     "name": "stdout",
     "output_type": "stream",
     "text": [
      " - Using sentence-transformers/all-mpnet-base-v2 model - \n",
      " - Using sentence-transformers/multi-qa-mpnet-base-cos-v1 model - \n",
      " - Using sentence-transformers/bert-base-nli-mean-tokens model - \n",
      " - Using sentence-transformers/paraphrase-multilingual-mpnet-base-v2 model - \n"
     ]
    },
    {
     "name": "stderr",
     "output_type": "stream",
     "text": [
      "\n",
      "100%|█████████████████████████████████████████████| 6/6 [00:00<00:00, 50.46it/s]\u001B[A\n",
      " 67%|███████████████████████████▍             | 211/315 [00:29<00:12,  8.08it/s]"
     ]
    },
    {
     "name": "stdout",
     "output_type": "stream",
     "text": [
      " - Using sentence-transformers/all-distilroberta-v1 model - \n",
      " - Using sentence-transformers/distilbert-base-nli-mean-tokens model - \n",
      " - Generating structure embeddings for RaylockLLC/DearPyGui - \n"
     ]
    },
    {
     "name": "stderr",
     "output_type": "stream",
     "text": [
      "\n",
      "  0%|                                                     | 0/6 [00:00<?, ?it/s]\u001B[A"
     ]
    },
    {
     "name": "stdout",
     "output_type": "stream",
     "text": [
      " - Using sentence-transformers/all-mpnet-base-v2 model - \n",
      " - Using sentence-transformers/multi-qa-mpnet-base-cos-v1 model - \n",
      " - Using sentence-transformers/bert-base-nli-mean-tokens model - \n"
     ]
    },
    {
     "name": "stderr",
     "output_type": "stream",
     "text": [
      "\n",
      " 67%|██████████████████████████████               | 4/6 [00:00<00:00, 33.21it/s]\u001B[A"
     ]
    },
    {
     "name": "stdout",
     "output_type": "stream",
     "text": [
      " - Using sentence-transformers/paraphrase-multilingual-mpnet-base-v2 model - \n",
      " - Using sentence-transformers/all-distilroberta-v1 model - \n",
      " - Using sentence-transformers/distilbert-base-nli-mean-tokens model - \n"
     ]
    },
    {
     "name": "stderr",
     "output_type": "stream",
     "text": [
      "100%|█████████████████████████████████████████████| 6/6 [00:00<00:00, 39.88it/s]\n",
      " 67%|███████████████████████████▌             | 212/315 [00:29<00:13,  7.54it/s]"
     ]
    },
    {
     "name": "stdout",
     "output_type": "stream",
     "text": [
      " - Generating structure embeddings for nficano/python-lambda - \n"
     ]
    },
    {
     "name": "stderr",
     "output_type": "stream",
     "text": [
      "\n",
      "  0%|                                                     | 0/6 [00:00<?, ?it/s]\u001B[A"
     ]
    },
    {
     "name": "stdout",
     "output_type": "stream",
     "text": [
      " - Using sentence-transformers/all-mpnet-base-v2 model - \n",
      " - Using sentence-transformers/multi-qa-mpnet-base-cos-v1 model - \n",
      " - Using sentence-transformers/bert-base-nli-mean-tokens model - \n",
      " - Using sentence-transformers/paraphrase-multilingual-mpnet-base-v2 model - \n"
     ]
    },
    {
     "name": "stderr",
     "output_type": "stream",
     "text": [
      "\n",
      " 83%|█████████████████████████████████████▌       | 5/6 [00:00<00:00, 46.50it/s]\u001B[A"
     ]
    },
    {
     "name": "stdout",
     "output_type": "stream",
     "text": [
      " - Using sentence-transformers/all-distilroberta-v1 model - \n",
      " - Using sentence-transformers/distilbert-base-nli-mean-tokens model - \n"
     ]
    },
    {
     "name": "stderr",
     "output_type": "stream",
     "text": [
      "100%|█████████████████████████████████████████████| 6/6 [00:00<00:00, 48.87it/s]\n",
      " 68%|███████████████████████████▋             | 213/315 [00:30<00:13,  7.67it/s]"
     ]
    },
    {
     "name": "stdout",
     "output_type": "stream",
     "text": [
      " - Generating structure embeddings for patx/pickledb - \n"
     ]
    },
    {
     "name": "stderr",
     "output_type": "stream",
     "text": [
      "\n",
      "  0%|                                                     | 0/6 [00:00<?, ?it/s]\u001B[A"
     ]
    },
    {
     "name": "stdout",
     "output_type": "stream",
     "text": [
      " - Using sentence-transformers/all-mpnet-base-v2 model - \n",
      " - Using sentence-transformers/multi-qa-mpnet-base-cos-v1 model - \n",
      " - Using sentence-transformers/bert-base-nli-mean-tokens model - \n",
      " - Using sentence-transformers/paraphrase-multilingual-mpnet-base-v2 model - \n",
      " - Using sentence-transformers/all-distilroberta-v1 model - \n"
     ]
    },
    {
     "name": "stderr",
     "output_type": "stream",
     "text": [
      "\n",
      "100%|█████████████████████████████████████████████| 6/6 [00:00<00:00, 49.05it/s]\u001B[A\n",
      " 68%|███████████████████████████▊             | 214/315 [00:30<00:12,  7.78it/s]"
     ]
    },
    {
     "name": "stdout",
     "output_type": "stream",
     "text": [
      " - Using sentence-transformers/distilbert-base-nli-mean-tokens model - \n",
      " - Generating structure embeddings for SmileyChris/django-countries - \n"
     ]
    },
    {
     "name": "stderr",
     "output_type": "stream",
     "text": [
      "\n",
      "  0%|                                                     | 0/6 [00:00<?, ?it/s]\u001B[A"
     ]
    },
    {
     "name": "stdout",
     "output_type": "stream",
     "text": [
      " - Using sentence-transformers/all-mpnet-base-v2 model - \n",
      " - Using sentence-transformers/multi-qa-mpnet-base-cos-v1 model - \n",
      " - Using sentence-transformers/bert-base-nli-mean-tokens model - \n",
      " - Using sentence-transformers/paraphrase-multilingual-mpnet-base-v2 model - \n",
      " - Using sentence-transformers/all-distilroberta-v1 model - \n"
     ]
    },
    {
     "name": "stderr",
     "output_type": "stream",
     "text": [
      "\n",
      "100%|█████████████████████████████████████████████| 6/6 [00:00<00:00, 49.24it/s]\u001B[A\n",
      " 68%|███████████████████████████▉             | 215/315 [00:30<00:12,  7.87it/s]"
     ]
    },
    {
     "name": "stdout",
     "output_type": "stream",
     "text": [
      " - Using sentence-transformers/distilbert-base-nli-mean-tokens model - \n",
      " - Generating structure embeddings for gunnery/gunnery - \n"
     ]
    },
    {
     "name": "stderr",
     "output_type": "stream",
     "text": [
      "\n",
      "  0%|                                                     | 0/6 [00:00<?, ?it/s]\u001B[A"
     ]
    },
    {
     "name": "stdout",
     "output_type": "stream",
     "text": [
      " - Using sentence-transformers/all-mpnet-base-v2 model - \n",
      " - Using sentence-transformers/multi-qa-mpnet-base-cos-v1 model - \n",
      " - Using sentence-transformers/bert-base-nli-mean-tokens model - \n",
      " - Using sentence-transformers/paraphrase-multilingual-mpnet-base-v2 model - \n",
      " - Using sentence-transformers/all-distilroberta-v1 model - \n"
     ]
    },
    {
     "name": "stderr",
     "output_type": "stream",
     "text": [
      "\n",
      "100%|█████████████████████████████████████████████| 6/6 [00:00<00:00, 44.84it/s]\u001B[A\n",
      " 69%|████████████████████████████             | 216/315 [00:30<00:12,  7.71it/s]"
     ]
    },
    {
     "name": "stdout",
     "output_type": "stream",
     "text": [
      " - Using sentence-transformers/distilbert-base-nli-mean-tokens model - \n",
      " - Generating structure embeddings for wireservice/csvkit - \n"
     ]
    },
    {
     "name": "stderr",
     "output_type": "stream",
     "text": [
      "\n",
      "  0%|                                                     | 0/6 [00:00<?, ?it/s]\u001B[A"
     ]
    },
    {
     "name": "stdout",
     "output_type": "stream",
     "text": [
      " - Using sentence-transformers/all-mpnet-base-v2 model - \n",
      " - Using sentence-transformers/multi-qa-mpnet-base-cos-v1 model - \n",
      " - Using sentence-transformers/bert-base-nli-mean-tokens model - \n"
     ]
    },
    {
     "name": "stderr",
     "output_type": "stream",
     "text": [
      "\n",
      " 67%|██████████████████████████████               | 4/6 [00:00<00:00, 38.22it/s]\u001B[A"
     ]
    },
    {
     "name": "stdout",
     "output_type": "stream",
     "text": [
      " - Using sentence-transformers/paraphrase-multilingual-mpnet-base-v2 model - \n",
      " - Using sentence-transformers/all-distilroberta-v1 model - \n"
     ]
    },
    {
     "name": "stderr",
     "output_type": "stream",
     "text": [
      "100%|█████████████████████████████████████████████| 6/6 [00:00<00:00, 44.58it/s]\n",
      " 69%|████████████████████████████▏            | 217/315 [00:30<00:12,  7.59it/s]"
     ]
    },
    {
     "name": "stdout",
     "output_type": "stream",
     "text": [
      " - Using sentence-transformers/distilbert-base-nli-mean-tokens model - \n",
      " - Generating structure embeddings for spotify/dh-virtualenv - \n"
     ]
    },
    {
     "name": "stderr",
     "output_type": "stream",
     "text": [
      "\n",
      "  0%|                                                     | 0/6 [00:00<?, ?it/s]\u001B[A"
     ]
    },
    {
     "name": "stdout",
     "output_type": "stream",
     "text": [
      " - Using sentence-transformers/all-mpnet-base-v2 model - \n",
      " - Using sentence-transformers/multi-qa-mpnet-base-cos-v1 model - \n",
      " - Using sentence-transformers/bert-base-nli-mean-tokens model - \n",
      " - Using sentence-transformers/paraphrase-multilingual-mpnet-base-v2 model - \n",
      " - Using sentence-transformers/all-distilroberta-v1 model - \n",
      " - Using sentence-transformers/distilbert-base-nli-mean-tokens model - \n"
     ]
    },
    {
     "name": "stderr",
     "output_type": "stream",
     "text": [
      "\n",
      "100%|█████████████████████████████████████████████| 6/6 [00:00<00:00, 54.09it/s]\u001B[A\n",
      " 69%|████████████████████████████▎            | 218/315 [00:30<00:12,  7.92it/s]"
     ]
    },
    {
     "name": "stdout",
     "output_type": "stream",
     "text": [
      " - Generating structure embeddings for podio/valideer - \n"
     ]
    },
    {
     "name": "stderr",
     "output_type": "stream",
     "text": [
      "\n",
      "  0%|                                                     | 0/6 [00:00<?, ?it/s]\u001B[A"
     ]
    },
    {
     "name": "stdout",
     "output_type": "stream",
     "text": [
      " - Using sentence-transformers/all-mpnet-base-v2 model - \n",
      " - Using sentence-transformers/multi-qa-mpnet-base-cos-v1 model - \n",
      " - Using sentence-transformers/bert-base-nli-mean-tokens model - \n",
      " - Using sentence-transformers/paraphrase-multilingual-mpnet-base-v2 model - \n",
      " - Using sentence-transformers/all-distilroberta-v1 model - \n"
     ]
    },
    {
     "name": "stderr",
     "output_type": "stream",
     "text": [
      "\n",
      "100%|█████████████████████████████████████████████| 6/6 [00:00<00:00, 56.24it/s]\u001B[A\n",
      " 70%|████████████████████████████▌            | 219/315 [00:30<00:11,  8.27it/s]"
     ]
    },
    {
     "name": "stdout",
     "output_type": "stream",
     "text": [
      " - Using sentence-transformers/distilbert-base-nli-mean-tokens model - \n",
      " - Generating structure embeddings for martinblech/xmltodict - \n"
     ]
    },
    {
     "name": "stderr",
     "output_type": "stream",
     "text": [
      "\n",
      "  0%|                                                     | 0/6 [00:00<?, ?it/s]\u001B[A"
     ]
    },
    {
     "name": "stdout",
     "output_type": "stream",
     "text": [
      " - Using sentence-transformers/all-mpnet-base-v2 model - \n",
      " - Using sentence-transformers/multi-qa-mpnet-base-cos-v1 model - \n",
      " - Using sentence-transformers/bert-base-nli-mean-tokens model - \n",
      " - Using sentence-transformers/paraphrase-multilingual-mpnet-base-v2 model - \n"
     ]
    },
    {
     "name": "stderr",
     "output_type": "stream",
     "text": [
      "\n",
      " 67%|██████████████████████████████               | 4/6 [00:00<00:00, 38.50it/s]\u001B[A"
     ]
    },
    {
     "name": "stdout",
     "output_type": "stream",
     "text": [
      " - Using sentence-transformers/all-distilroberta-v1 model - \n",
      " - Using sentence-transformers/distilbert-base-nli-mean-tokens model - \n"
     ]
    },
    {
     "name": "stderr",
     "output_type": "stream",
     "text": [
      "100%|█████████████████████████████████████████████| 6/6 [00:00<00:00, 44.21it/s]\n",
      " 70%|████████████████████████████▋            | 220/315 [00:30<00:11,  7.93it/s]"
     ]
    },
    {
     "name": "stdout",
     "output_type": "stream",
     "text": [
      " - Generating structure embeddings for carlospalol/money - \n"
     ]
    },
    {
     "name": "stderr",
     "output_type": "stream",
     "text": [
      "\n",
      "  0%|                                                     | 0/6 [00:00<?, ?it/s]\u001B[A"
     ]
    },
    {
     "name": "stdout",
     "output_type": "stream",
     "text": [
      " - Using sentence-transformers/all-mpnet-base-v2 model - \n",
      " - Using sentence-transformers/multi-qa-mpnet-base-cos-v1 model - \n",
      " - Using sentence-transformers/bert-base-nli-mean-tokens model - \n",
      " - Using sentence-transformers/paraphrase-multilingual-mpnet-base-v2 model - \n"
     ]
    },
    {
     "name": "stderr",
     "output_type": "stream",
     "text": [
      "\n",
      " 83%|█████████████████████████████████████▌       | 5/6 [00:00<00:00, 44.48it/s]\u001B[A"
     ]
    },
    {
     "name": "stdout",
     "output_type": "stream",
     "text": [
      " - Using sentence-transformers/all-distilroberta-v1 model - \n",
      " - Using sentence-transformers/distilbert-base-nli-mean-tokens model - \n"
     ]
    },
    {
     "name": "stderr",
     "output_type": "stream",
     "text": [
      "100%|█████████████████████████████████████████████| 6/6 [00:00<00:00, 46.13it/s]\n",
      " 70%|████████████████████████████▊            | 221/315 [00:31<00:12,  7.81it/s]"
     ]
    },
    {
     "name": "stdout",
     "output_type": "stream",
     "text": [
      " - Generating structure embeddings for pytoolz/toolz - \n"
     ]
    },
    {
     "name": "stderr",
     "output_type": "stream",
     "text": [
      "\n",
      "  0%|                                                     | 0/6 [00:00<?, ?it/s]\u001B[A"
     ]
    },
    {
     "name": "stdout",
     "output_type": "stream",
     "text": [
      " - Using sentence-transformers/all-mpnet-base-v2 model - \n",
      " - Using sentence-transformers/multi-qa-mpnet-base-cos-v1 model - \n",
      " - Using sentence-transformers/bert-base-nli-mean-tokens model - \n"
     ]
    },
    {
     "name": "stderr",
     "output_type": "stream",
     "text": [
      "\n",
      " 67%|██████████████████████████████               | 4/6 [00:00<00:00, 39.91it/s]\u001B[A"
     ]
    },
    {
     "name": "stdout",
     "output_type": "stream",
     "text": [
      " - Using sentence-transformers/paraphrase-multilingual-mpnet-base-v2 model - \n",
      " - Using sentence-transformers/all-distilroberta-v1 model - \n",
      " - Using sentence-transformers/distilbert-base-nli-mean-tokens model - \n"
     ]
    },
    {
     "name": "stderr",
     "output_type": "stream",
     "text": [
      "100%|█████████████████████████████████████████████| 6/6 [00:00<00:00, 45.86it/s]\n",
      " 70%|████████████████████████████▉            | 222/315 [00:31<00:12,  7.72it/s]"
     ]
    },
    {
     "name": "stdout",
     "output_type": "stream",
     "text": [
      " - Generating structure embeddings for un33k/python-slugify - \n"
     ]
    },
    {
     "name": "stderr",
     "output_type": "stream",
     "text": [
      "\n",
      "  0%|                                                     | 0/6 [00:00<?, ?it/s]\u001B[A"
     ]
    },
    {
     "name": "stdout",
     "output_type": "stream",
     "text": [
      " - Using sentence-transformers/all-mpnet-base-v2 model - \n",
      " - Using sentence-transformers/multi-qa-mpnet-base-cos-v1 model - \n",
      " - Using sentence-transformers/bert-base-nli-mean-tokens model - \n",
      " - Using sentence-transformers/paraphrase-multilingual-mpnet-base-v2 model - \n"
     ]
    },
    {
     "name": "stderr",
     "output_type": "stream",
     "text": [
      "\n",
      " 83%|█████████████████████████████████████▌       | 5/6 [00:00<00:00, 44.01it/s]\u001B[A"
     ]
    },
    {
     "name": "stdout",
     "output_type": "stream",
     "text": [
      " - Using sentence-transformers/all-distilroberta-v1 model - \n",
      " - Using sentence-transformers/distilbert-base-nli-mean-tokens model - \n"
     ]
    },
    {
     "name": "stderr",
     "output_type": "stream",
     "text": [
      "100%|█████████████████████████████████████████████| 6/6 [00:00<00:00, 45.52it/s]\n",
      " 71%|█████████████████████████████            | 223/315 [00:31<00:12,  7.64it/s]"
     ]
    },
    {
     "name": "stdout",
     "output_type": "stream",
     "text": [
      " - Generating structure embeddings for Julian/jsonschema - \n"
     ]
    },
    {
     "name": "stderr",
     "output_type": "stream",
     "text": [
      "\n",
      "  0%|                                                     | 0/6 [00:00<?, ?it/s]\u001B[A"
     ]
    },
    {
     "name": "stdout",
     "output_type": "stream",
     "text": [
      " - Using sentence-transformers/all-mpnet-base-v2 model - \n",
      " - Using sentence-transformers/multi-qa-mpnet-base-cos-v1 model - \n",
      " - Using sentence-transformers/bert-base-nli-mean-tokens model - \n",
      " - Using sentence-transformers/paraphrase-multilingual-mpnet-base-v2 model - \n"
     ]
    },
    {
     "name": "stderr",
     "output_type": "stream",
     "text": [
      "\n",
      " 67%|██████████████████████████████               | 4/6 [00:00<00:00, 38.54it/s]\u001B[A"
     ]
    },
    {
     "name": "stdout",
     "output_type": "stream",
     "text": [
      " - Using sentence-transformers/all-distilroberta-v1 model - \n",
      " - Using sentence-transformers/distilbert-base-nli-mean-tokens model - \n"
     ]
    },
    {
     "name": "stderr",
     "output_type": "stream",
     "text": [
      "100%|█████████████████████████████████████████████| 6/6 [00:00<00:00, 43.98it/s]\n",
      " 71%|█████████████████████████████▏           | 224/315 [00:31<00:12,  7.51it/s]"
     ]
    },
    {
     "name": "stdout",
     "output_type": "stream",
     "text": [
      " - Generating structure embeddings for pyfilesystem/pyfilesystem2 - \n"
     ]
    },
    {
     "name": "stderr",
     "output_type": "stream",
     "text": [
      "\n",
      "  0%|                                                     | 0/6 [00:00<?, ?it/s]\u001B[A"
     ]
    },
    {
     "name": "stdout",
     "output_type": "stream",
     "text": [
      " - Using sentence-transformers/all-mpnet-base-v2 model - \n",
      " - Using sentence-transformers/multi-qa-mpnet-base-cos-v1 model - \n",
      " - Using sentence-transformers/bert-base-nli-mean-tokens model - \n",
      " - Using sentence-transformers/paraphrase-multilingual-mpnet-base-v2 model - \n"
     ]
    },
    {
     "name": "stderr",
     "output_type": "stream",
     "text": [
      "\n",
      " 67%|██████████████████████████████               | 4/6 [00:00<00:00, 36.09it/s]\u001B[A"
     ]
    },
    {
     "name": "stdout",
     "output_type": "stream",
     "text": [
      " - Using sentence-transformers/all-distilroberta-v1 model - \n",
      " - Using sentence-transformers/distilbert-base-nli-mean-tokens model - \n"
     ]
    },
    {
     "name": "stderr",
     "output_type": "stream",
     "text": [
      "100%|█████████████████████████████████████████████| 6/6 [00:00<00:00, 41.81it/s]\n",
      " 71%|█████████████████████████████▎           | 225/315 [00:31<00:12,  7.30it/s]"
     ]
    },
    {
     "name": "stdout",
     "output_type": "stream",
     "text": [
      " - Generating structure embeddings for faif/python-patterns - \n"
     ]
    },
    {
     "name": "stderr",
     "output_type": "stream",
     "text": [
      "\n",
      "  0%|                                                     | 0/6 [00:00<?, ?it/s]\u001B[A"
     ]
    },
    {
     "name": "stdout",
     "output_type": "stream",
     "text": [
      " - Using sentence-transformers/all-mpnet-base-v2 model - \n",
      " - Using sentence-transformers/multi-qa-mpnet-base-cos-v1 model - \n",
      " - Using sentence-transformers/bert-base-nli-mean-tokens model - \n",
      " - Using sentence-transformers/paraphrase-multilingual-mpnet-base-v2 model - \n"
     ]
    },
    {
     "name": "stderr",
     "output_type": "stream",
     "text": [
      "\n",
      " 67%|██████████████████████████████               | 4/6 [00:00<00:00, 37.16it/s]\u001B[A"
     ]
    },
    {
     "name": "stdout",
     "output_type": "stream",
     "text": [
      " - Using sentence-transformers/all-distilroberta-v1 model - \n",
      " - Using sentence-transformers/distilbert-base-nli-mean-tokens model - \n"
     ]
    },
    {
     "name": "stderr",
     "output_type": "stream",
     "text": [
      "100%|█████████████████████████████████████████████| 6/6 [00:00<00:00, 41.23it/s]\n",
      " 72%|█████████████████████████████▍           | 226/315 [00:31<00:12,  7.13it/s]"
     ]
    },
    {
     "name": "stdout",
     "output_type": "stream",
     "text": [
      " - Generating structure embeddings for fengsp/plan - \n"
     ]
    },
    {
     "name": "stderr",
     "output_type": "stream",
     "text": [
      "\n",
      "  0%|                                                     | 0/6 [00:00<?, ?it/s]\u001B[A"
     ]
    },
    {
     "name": "stdout",
     "output_type": "stream",
     "text": [
      " - Using sentence-transformers/all-mpnet-base-v2 model - \n",
      " - Using sentence-transformers/multi-qa-mpnet-base-cos-v1 model - \n",
      " - Using sentence-transformers/bert-base-nli-mean-tokens model - \n"
     ]
    },
    {
     "name": "stderr",
     "output_type": "stream",
     "text": [
      "\n",
      " 50%|██████████████████████▌                      | 3/6 [00:00<00:00, 20.83it/s]\u001B[A"
     ]
    },
    {
     "name": "stdout",
     "output_type": "stream",
     "text": [
      " - Using sentence-transformers/paraphrase-multilingual-mpnet-base-v2 model - \n",
      " - Using sentence-transformers/all-distilroberta-v1 model - \n",
      " - Using sentence-transformers/distilbert-base-nli-mean-tokens model - \n"
     ]
    },
    {
     "name": "stderr",
     "output_type": "stream",
     "text": [
      "100%|█████████████████████████████████████████████| 6/6 [00:00<00:00, 29.54it/s]\n",
      " 72%|█████████████████████████████▌           | 227/315 [00:32<00:14,  6.26it/s]"
     ]
    },
    {
     "name": "stdout",
     "output_type": "stream",
     "text": [
      " - Generating structure embeddings for pybuilder/pybuilder - \n"
     ]
    },
    {
     "name": "stderr",
     "output_type": "stream",
     "text": [
      "\n",
      "  0%|                                                     | 0/6 [00:00<?, ?it/s]\u001B[A"
     ]
    },
    {
     "name": "stdout",
     "output_type": "stream",
     "text": [
      " - Using sentence-transformers/all-mpnet-base-v2 model - \n",
      " - Using sentence-transformers/multi-qa-mpnet-base-cos-v1 model - \n",
      " - Using sentence-transformers/bert-base-nli-mean-tokens model - \n",
      " - Using sentence-transformers/paraphrase-multilingual-mpnet-base-v2 model - \n",
      " - Using sentence-transformers/all-distilroberta-v1 model - \n"
     ]
    },
    {
     "name": "stderr",
     "output_type": "stream",
     "text": [
      "\n",
      "100%|█████████████████████████████████████████████| 6/6 [00:00<00:00, 47.64it/s]\u001B[A\n",
      " 72%|█████████████████████████████▋           | 228/315 [00:32<00:13,  6.65it/s]"
     ]
    },
    {
     "name": "stdout",
     "output_type": "stream",
     "text": [
      " - Using sentence-transformers/distilbert-base-nli-mean-tokens model - \n",
      " - Generating structure embeddings for ageitgey/face_recognition - \n"
     ]
    },
    {
     "name": "stderr",
     "output_type": "stream",
     "text": [
      "\n",
      "  0%|                                                     | 0/6 [00:00<?, ?it/s]\u001B[A"
     ]
    },
    {
     "name": "stdout",
     "output_type": "stream",
     "text": [
      " - Using sentence-transformers/all-mpnet-base-v2 model - \n",
      " - Using sentence-transformers/multi-qa-mpnet-base-cos-v1 model - \n",
      " - Using sentence-transformers/bert-base-nli-mean-tokens model - \n"
     ]
    },
    {
     "name": "stderr",
     "output_type": "stream",
     "text": [
      "\n",
      " 83%|█████████████████████████████████████▌       | 5/6 [00:00<00:00, 45.41it/s]\u001B[A"
     ]
    },
    {
     "name": "stdout",
     "output_type": "stream",
     "text": [
      " - Using sentence-transformers/paraphrase-multilingual-mpnet-base-v2 model - \n",
      " - Using sentence-transformers/all-distilroberta-v1 model - \n",
      " - Using sentence-transformers/distilbert-base-nli-mean-tokens model - \n"
     ]
    },
    {
     "name": "stderr",
     "output_type": "stream",
     "text": [
      "100%|█████████████████████████████████████████████| 6/6 [00:00<00:00, 46.76it/s]\n",
      " 73%|█████████████████████████████▊           | 229/315 [00:32<00:12,  6.92it/s]"
     ]
    },
    {
     "name": "stdout",
     "output_type": "stream",
     "text": [
      " - Generating structure embeddings for Bogdanp/dramatiq - \n"
     ]
    },
    {
     "name": "stderr",
     "output_type": "stream",
     "text": [
      "\n",
      "  0%|                                                     | 0/6 [00:00<?, ?it/s]\u001B[A"
     ]
    },
    {
     "name": "stdout",
     "output_type": "stream",
     "text": [
      " - Using sentence-transformers/all-mpnet-base-v2 model - \n",
      " - Using sentence-transformers/multi-qa-mpnet-base-cos-v1 model - \n",
      " - Using sentence-transformers/bert-base-nli-mean-tokens model - \n",
      " - Using sentence-transformers/paraphrase-multilingual-mpnet-base-v2 model - \n"
     ]
    },
    {
     "name": "stderr",
     "output_type": "stream",
     "text": [
      "\n",
      " 67%|██████████████████████████████               | 4/6 [00:00<00:00, 38.68it/s]\u001B[A"
     ]
    },
    {
     "name": "stdout",
     "output_type": "stream",
     "text": [
      " - Using sentence-transformers/all-distilroberta-v1 model - \n",
      " - Using sentence-transformers/distilbert-base-nli-mean-tokens model - \n"
     ]
    },
    {
     "name": "stderr",
     "output_type": "stream",
     "text": [
      "100%|█████████████████████████████████████████████| 6/6 [00:00<00:00, 44.63it/s]\n",
      " 73%|█████████████████████████████▉           | 230/315 [00:32<00:12,  7.02it/s]"
     ]
    },
    {
     "name": "stdout",
     "output_type": "stream",
     "text": [
      " - Generating structure embeddings for beetbox/beets - \n"
     ]
    },
    {
     "name": "stderr",
     "output_type": "stream",
     "text": [
      "\n",
      "  0%|                                                     | 0/6 [00:00<?, ?it/s]\u001B[A"
     ]
    },
    {
     "name": "stdout",
     "output_type": "stream",
     "text": [
      " - Using sentence-transformers/all-mpnet-base-v2 model - \n",
      " - Using sentence-transformers/multi-qa-mpnet-base-cos-v1 model - \n",
      " - Using sentence-transformers/bert-base-nli-mean-tokens model - \n"
     ]
    },
    {
     "name": "stderr",
     "output_type": "stream",
     "text": [
      "\n",
      " 67%|██████████████████████████████               | 4/6 [00:00<00:00, 39.26it/s]\u001B[A"
     ]
    },
    {
     "name": "stdout",
     "output_type": "stream",
     "text": [
      " - Using sentence-transformers/paraphrase-multilingual-mpnet-base-v2 model - \n",
      " - Using sentence-transformers/all-distilroberta-v1 model - \n"
     ]
    },
    {
     "name": "stderr",
     "output_type": "stream",
     "text": [
      "100%|█████████████████████████████████████████████| 6/6 [00:00<00:00, 45.31it/s]\n",
      " 73%|██████████████████████████████           | 231/315 [00:32<00:11,  7.14it/s]"
     ]
    },
    {
     "name": "stdout",
     "output_type": "stream",
     "text": [
      " - Using sentence-transformers/distilbert-base-nli-mean-tokens model - \n",
      " - Generating structure embeddings for Parsely/streamparse - \n"
     ]
    },
    {
     "name": "stderr",
     "output_type": "stream",
     "text": [
      "\n",
      "  0%|                                                     | 0/6 [00:00<?, ?it/s]\u001B[A"
     ]
    },
    {
     "name": "stdout",
     "output_type": "stream",
     "text": [
      " - Using sentence-transformers/all-mpnet-base-v2 model - \n",
      " - Using sentence-transformers/multi-qa-mpnet-base-cos-v1 model - \n",
      " - Using sentence-transformers/bert-base-nli-mean-tokens model - \n",
      " - Using sentence-transformers/paraphrase-multilingual-mpnet-base-v2 model - \n",
      " - Using sentence-transformers/all-distilroberta-v1 model - \n"
     ]
    },
    {
     "name": "stderr",
     "output_type": "stream",
     "text": [
      "\n",
      "100%|█████████████████████████████████████████████| 6/6 [00:00<00:00, 50.22it/s]\u001B[A\n",
      " 74%|██████████████████████████████▏          | 232/315 [00:32<00:11,  7.44it/s]"
     ]
    },
    {
     "name": "stdout",
     "output_type": "stream",
     "text": [
      " - Using sentence-transformers/distilbert-base-nli-mean-tokens model - \n",
      " - Generating structure embeddings for rq/rq - \n"
     ]
    },
    {
     "name": "stderr",
     "output_type": "stream",
     "text": [
      "\n",
      "  0%|                                                     | 0/6 [00:00<?, ?it/s]\u001B[A"
     ]
    },
    {
     "name": "stdout",
     "output_type": "stream",
     "text": [
      " - Using sentence-transformers/all-mpnet-base-v2 model - \n",
      " - Using sentence-transformers/multi-qa-mpnet-base-cos-v1 model - \n",
      " - Using sentence-transformers/bert-base-nli-mean-tokens model - \n",
      " - Using sentence-transformers/paraphrase-multilingual-mpnet-base-v2 model - \n"
     ]
    },
    {
     "name": "stderr",
     "output_type": "stream",
     "text": [
      "\n",
      " 83%|█████████████████████████████████████▌       | 5/6 [00:00<00:00, 48.21it/s]\u001B[A"
     ]
    },
    {
     "name": "stdout",
     "output_type": "stream",
     "text": [
      " - Using sentence-transformers/all-distilroberta-v1 model - \n",
      " - Using sentence-transformers/distilbert-base-nli-mean-tokens model - \n"
     ]
    },
    {
     "name": "stderr",
     "output_type": "stream",
     "text": [
      "100%|█████████████████████████████████████████████| 6/6 [00:00<00:00, 50.79it/s]\n",
      " 74%|██████████████████████████████▎          | 233/315 [00:32<00:10,  7.69it/s]"
     ]
    },
    {
     "name": "stdout",
     "output_type": "stream",
     "text": [
      " - Generating structure embeddings for Parisson/TimeSide - \n"
     ]
    },
    {
     "name": "stderr",
     "output_type": "stream",
     "text": [
      "\n",
      "  0%|                                                     | 0/6 [00:00<?, ?it/s]\u001B[A"
     ]
    },
    {
     "name": "stdout",
     "output_type": "stream",
     "text": [
      " - Using sentence-transformers/all-mpnet-base-v2 model - \n",
      " - Using sentence-transformers/multi-qa-mpnet-base-cos-v1 model - \n",
      " - Using sentence-transformers/bert-base-nli-mean-tokens model - \n",
      " - Using sentence-transformers/paraphrase-multilingual-mpnet-base-v2 model - \n"
     ]
    },
    {
     "name": "stderr",
     "output_type": "stream",
     "text": [
      "\n",
      "100%|█████████████████████████████████████████████| 6/6 [00:00<00:00, 49.64it/s]\u001B[A\n",
      " 74%|██████████████████████████████▍          | 234/315 [00:32<00:10,  7.82it/s]"
     ]
    },
    {
     "name": "stdout",
     "output_type": "stream",
     "text": [
      " - Using sentence-transformers/all-distilroberta-v1 model - \n",
      " - Using sentence-transformers/distilbert-base-nli-mean-tokens model - \n",
      " - Generating structure embeddings for daviddrysdale/python-phonenumbers - \n"
     ]
    },
    {
     "name": "stderr",
     "output_type": "stream",
     "text": [
      "\n",
      "  0%|                                                     | 0/6 [00:00<?, ?it/s]\u001B[A"
     ]
    },
    {
     "name": "stdout",
     "output_type": "stream",
     "text": [
      " - Using sentence-transformers/all-mpnet-base-v2 model - \n",
      " - Using sentence-transformers/multi-qa-mpnet-base-cos-v1 model - \n",
      " - Using sentence-transformers/bert-base-nli-mean-tokens model - \n",
      " - Using sentence-transformers/paraphrase-multilingual-mpnet-base-v2 model - \n",
      " - Using sentence-transformers/all-distilroberta-v1 model - \n"
     ]
    },
    {
     "name": "stderr",
     "output_type": "stream",
     "text": [
      "\n",
      "100%|█████████████████████████████████████████████| 6/6 [00:00<00:00, 50.19it/s]\u001B[A\n",
      " 75%|██████████████████████████████▌          | 235/315 [00:33<00:10,  7.95it/s]"
     ]
    },
    {
     "name": "stdout",
     "output_type": "stream",
     "text": [
      " - Using sentence-transformers/distilbert-base-nli-mean-tokens model - \n",
      " - Generating structure embeddings for knipknap/SpiffWorkflow - \n"
     ]
    },
    {
     "name": "stderr",
     "output_type": "stream",
     "text": [
      "\n",
      "  0%|                                                     | 0/6 [00:00<?, ?it/s]\u001B[A"
     ]
    },
    {
     "name": "stdout",
     "output_type": "stream",
     "text": [
      " - Using sentence-transformers/all-mpnet-base-v2 model - \n",
      " - Using sentence-transformers/multi-qa-mpnet-base-cos-v1 model - \n",
      " - Using sentence-transformers/bert-base-nli-mean-tokens model - \n",
      " - Using sentence-transformers/paraphrase-multilingual-mpnet-base-v2 model - \n",
      " - Using sentence-transformers/all-distilroberta-v1 model - \n"
     ]
    },
    {
     "name": "stderr",
     "output_type": "stream",
     "text": [
      "\n",
      "100%|█████████████████████████████████████████████| 6/6 [00:00<00:00, 49.86it/s]\u001B[A\n",
      " 75%|██████████████████████████████▋          | 236/315 [00:33<00:09,  8.01it/s]"
     ]
    },
    {
     "name": "stdout",
     "output_type": "stream",
     "text": [
      " - Using sentence-transformers/distilbert-base-nli-mean-tokens model - \n",
      " - Generating structure embeddings for jmcnamara/XlsxWriter - \n"
     ]
    },
    {
     "name": "stderr",
     "output_type": "stream",
     "text": [
      "\n",
      "  0%|                                                     | 0/6 [00:00<?, ?it/s]\u001B[A"
     ]
    },
    {
     "name": "stdout",
     "output_type": "stream",
     "text": [
      " - Using sentence-transformers/all-mpnet-base-v2 model - \n",
      " - Using sentence-transformers/multi-qa-mpnet-base-cos-v1 model - \n",
      " - Using sentence-transformers/bert-base-nli-mean-tokens model - \n",
      " - Using sentence-transformers/paraphrase-multilingual-mpnet-base-v2 model - \n",
      " - Using sentence-transformers/all-distilroberta-v1 model - \n"
     ]
    },
    {
     "name": "stderr",
     "output_type": "stream",
     "text": [
      "\n",
      "100%|█████████████████████████████████████████████| 6/6 [00:00<00:00, 48.03it/s]\u001B[A\n",
      " 75%|██████████████████████████████▊          | 237/315 [00:33<00:09,  7.96it/s]"
     ]
    },
    {
     "name": "stdout",
     "output_type": "stream",
     "text": [
      " - Using sentence-transformers/distilbert-base-nli-mean-tokens model - \n",
      " - Generating structure embeddings for LuminosoInsight/python-ftfy - \n"
     ]
    },
    {
     "name": "stderr",
     "output_type": "stream",
     "text": [
      "\n",
      "  0%|                                                     | 0/6 [00:00<?, ?it/s]\u001B[A"
     ]
    },
    {
     "name": "stdout",
     "output_type": "stream",
     "text": [
      " - Using sentence-transformers/all-mpnet-base-v2 model - \n",
      " - Using sentence-transformers/multi-qa-mpnet-base-cos-v1 model - \n",
      " - Using sentence-transformers/bert-base-nli-mean-tokens model - \n",
      " - Using sentence-transformers/paraphrase-multilingual-mpnet-base-v2 model - \n",
      " - Using sentence-transformers/all-distilroberta-v1 model - \n"
     ]
    },
    {
     "name": "stderr",
     "output_type": "stream",
     "text": [
      "\n",
      "100%|█████████████████████████████████████████████| 6/6 [00:00<00:00, 49.99it/s]\u001B[A\n",
      " 76%|██████████████████████████████▉          | 238/315 [00:33<00:09,  8.03it/s]"
     ]
    },
    {
     "name": "stdout",
     "output_type": "stream",
     "text": [
      " - Using sentence-transformers/distilbert-base-nli-mean-tokens model - \n",
      " - Generating structure embeddings for gotcha/ipdb - \n"
     ]
    },
    {
     "name": "stderr",
     "output_type": "stream",
     "text": [
      "\n",
      "  0%|                                                     | 0/6 [00:00<?, ?it/s]\u001B[A"
     ]
    },
    {
     "name": "stdout",
     "output_type": "stream",
     "text": [
      " - Using sentence-transformers/all-mpnet-base-v2 model - \n",
      " - Using sentence-transformers/multi-qa-mpnet-base-cos-v1 model - \n",
      " - Using sentence-transformers/bert-base-nli-mean-tokens model - \n",
      " - Using sentence-transformers/paraphrase-multilingual-mpnet-base-v2 model - \n"
     ]
    },
    {
     "name": "stderr",
     "output_type": "stream",
     "text": [
      "\n",
      " 83%|█████████████████████████████████████▌       | 5/6 [00:00<00:00, 48.13it/s]"
     ]
    },
    {
     "name": "stdout",
     "output_type": "stream",
     "text": [
      " - Using sentence-transformers/all-distilroberta-v1 model - \n"
     ]
    },
    {
     "name": "stderr",
     "output_type": "stream",
     "text": [
      "100%|█████████████████████████████████████████████| 6/6 [00:00<00:00, 50.82it/s]\n",
      " 76%|███████████████████████████████          | 239/315 [00:33<00:09,  8.13it/s]"
     ]
    },
    {
     "name": "stdout",
     "output_type": "stream",
     "text": [
      " - Using sentence-transformers/distilbert-base-nli-mean-tokens model - \n",
      " - Generating structure embeddings for librosa/librosa - \n"
     ]
    },
    {
     "name": "stderr",
     "output_type": "stream",
     "text": [
      "\n",
      "  0%|                                                     | 0/6 [00:00<?, ?it/s]\u001B[A"
     ]
    },
    {
     "name": "stdout",
     "output_type": "stream",
     "text": [
      " - Using sentence-transformers/all-mpnet-base-v2 model - \n",
      " - Using sentence-transformers/multi-qa-mpnet-base-cos-v1 model - \n",
      " - Using sentence-transformers/bert-base-nli-mean-tokens model - \n",
      " - Using sentence-transformers/paraphrase-multilingual-mpnet-base-v2 model - \n",
      " - Using sentence-transformers/all-distilroberta-v1 model - \n"
     ]
    },
    {
     "name": "stderr",
     "output_type": "stream",
     "text": [
      "\n",
      "100%|█████████████████████████████████████████████| 6/6 [00:00<00:00, 49.67it/s]\u001B[A\n",
      " 76%|███████████████████████████████▏         | 240/315 [00:33<00:09,  8.14it/s]"
     ]
    },
    {
     "name": "stdout",
     "output_type": "stream",
     "text": [
      " - Using sentence-transformers/distilbert-base-nli-mean-tokens model - \n",
      " - Generating structure embeddings for rochacbruno/quokka - \n"
     ]
    },
    {
     "name": "stderr",
     "output_type": "stream",
     "text": [
      "\n",
      "  0%|                                                     | 0/6 [00:00<?, ?it/s]\u001B[A"
     ]
    },
    {
     "name": "stdout",
     "output_type": "stream",
     "text": [
      " - Using sentence-transformers/all-mpnet-base-v2 model - \n",
      " - Using sentence-transformers/multi-qa-mpnet-base-cos-v1 model - \n",
      " - Using sentence-transformers/bert-base-nli-mean-tokens model - \n",
      " - Using sentence-transformers/paraphrase-multilingual-mpnet-base-v2 model - \n",
      " - Using sentence-transformers/all-distilroberta-v1 model - \n"
     ]
    },
    {
     "name": "stderr",
     "output_type": "stream",
     "text": [
      "\n",
      "100%|█████████████████████████████████████████████| 6/6 [00:00<00:00, 47.66it/s]\u001B[A\n",
      " 77%|███████████████████████████████▎         | 241/315 [00:33<00:09,  8.05it/s]"
     ]
    },
    {
     "name": "stdout",
     "output_type": "stream",
     "text": [
      " - Using sentence-transformers/distilbert-base-nli-mean-tokens model - \n",
      " - Generating structure embeddings for pyca/pynacl - \n"
     ]
    },
    {
     "name": "stderr",
     "output_type": "stream",
     "text": [
      "\n",
      "  0%|                                                     | 0/6 [00:00<?, ?it/s]\u001B[A"
     ]
    },
    {
     "name": "stdout",
     "output_type": "stream",
     "text": [
      " - Using sentence-transformers/all-mpnet-base-v2 model - \n",
      " - Using sentence-transformers/multi-qa-mpnet-base-cos-v1 model - \n",
      " - Using sentence-transformers/bert-base-nli-mean-tokens model - \n",
      " - Using sentence-transformers/paraphrase-multilingual-mpnet-base-v2 model - \n"
     ]
    },
    {
     "name": "stderr",
     "output_type": "stream",
     "text": [
      "\n",
      " 67%|██████████████████████████████               | 4/6 [00:00<00:00, 37.99it/s]\u001B[A"
     ]
    },
    {
     "name": "stdout",
     "output_type": "stream",
     "text": [
      " - Using sentence-transformers/all-distilroberta-v1 model - \n",
      " - Using sentence-transformers/distilbert-base-nli-mean-tokens model - \n"
     ]
    },
    {
     "name": "stderr",
     "output_type": "stream",
     "text": [
      "100%|█████████████████████████████████████████████| 6/6 [00:00<00:00, 45.13it/s]\n",
      " 77%|███████████████████████████████▍         | 242/315 [00:33<00:09,  7.85it/s]"
     ]
    },
    {
     "name": "stdout",
     "output_type": "stream",
     "text": [
      " - Generating structure embeddings for msiemens/tinydb - \n"
     ]
    },
    {
     "name": "stderr",
     "output_type": "stream",
     "text": [
      "\n",
      "  0%|                                                     | 0/6 [00:00<?, ?it/s]\u001B[A"
     ]
    },
    {
     "name": "stdout",
     "output_type": "stream",
     "text": [
      " - Using sentence-transformers/all-mpnet-base-v2 model - \n",
      " - Using sentence-transformers/multi-qa-mpnet-base-cos-v1 model - \n",
      " - Using sentence-transformers/bert-base-nli-mean-tokens model - \n",
      " - Using sentence-transformers/paraphrase-multilingual-mpnet-base-v2 model - \n",
      " - Using sentence-transformers/all-distilroberta-v1 model - \n"
     ]
    },
    {
     "name": "stderr",
     "output_type": "stream",
     "text": [
      "\n",
      " 83%|█████████████████████████████████████▌       | 5/6 [00:00<00:00, 37.39it/s]\u001B[A"
     ]
    },
    {
     "name": "stdout",
     "output_type": "stream",
     "text": [
      " - Using sentence-transformers/distilbert-base-nli-mean-tokens model - \n"
     ]
    },
    {
     "name": "stderr",
     "output_type": "stream",
     "text": [
      "100%|█████████████████████████████████████████████| 6/6 [00:00<00:00, 37.28it/s]\n",
      " 77%|███████████████████████████████▋         | 243/315 [00:34<00:09,  7.25it/s]"
     ]
    },
    {
     "name": "stdout",
     "output_type": "stream",
     "text": [
      " - Generating structure embeddings for thumbor/thumbor - \n"
     ]
    },
    {
     "name": "stderr",
     "output_type": "stream",
     "text": [
      "\n",
      "  0%|                                                     | 0/6 [00:00<?, ?it/s]\u001B[A"
     ]
    },
    {
     "name": "stdout",
     "output_type": "stream",
     "text": [
      " - Using sentence-transformers/all-mpnet-base-v2 model - \n",
      " - Using sentence-transformers/multi-qa-mpnet-base-cos-v1 model - \n",
      " - Using sentence-transformers/bert-base-nli-mean-tokens model - \n",
      " - Using sentence-transformers/paraphrase-multilingual-mpnet-base-v2 model - \n",
      " - Using sentence-transformers/all-distilroberta-v1 model - \n"
     ]
    },
    {
     "name": "stderr",
     "output_type": "stream",
     "text": [
      "\n",
      "100%|█████████████████████████████████████████████| 6/6 [00:00<00:00, 48.15it/s]\u001B[A\n",
      " 77%|███████████████████████████████▊         | 244/315 [00:34<00:09,  7.43it/s]"
     ]
    },
    {
     "name": "stdout",
     "output_type": "stream",
     "text": [
      " - Using sentence-transformers/distilbert-base-nli-mean-tokens model - \n",
      " - Generating structure embeddings for schematics/schematics - \n"
     ]
    },
    {
     "name": "stderr",
     "output_type": "stream",
     "text": [
      "\n",
      "  0%|                                                     | 0/6 [00:00<?, ?it/s]\u001B[A"
     ]
    },
    {
     "name": "stdout",
     "output_type": "stream",
     "text": [
      " - Using sentence-transformers/all-mpnet-base-v2 model - \n",
      " - Using sentence-transformers/multi-qa-mpnet-base-cos-v1 model - \n",
      " - Using sentence-transformers/bert-base-nli-mean-tokens model - \n",
      " - Using sentence-transformers/paraphrase-multilingual-mpnet-base-v2 model - \n"
     ]
    },
    {
     "name": "stderr",
     "output_type": "stream",
     "text": [
      "\n",
      " 83%|█████████████████████████████████████▌       | 5/6 [00:00<00:00, 49.81it/s]\u001B[A"
     ]
    },
    {
     "name": "stdout",
     "output_type": "stream",
     "text": [
      " - Using sentence-transformers/all-distilroberta-v1 model - \n",
      " - Using sentence-transformers/distilbert-base-nli-mean-tokens model - \n"
     ]
    },
    {
     "name": "stderr",
     "output_type": "stream",
     "text": [
      "100%|█████████████████████████████████████████████| 6/6 [00:00<00:00, 52.15it/s]\n",
      " 78%|███████████████████████████████▉         | 245/315 [00:34<00:09,  7.74it/s]"
     ]
    },
    {
     "name": "stdout",
     "output_type": "stream",
     "text": [
      " - Generating structure embeddings for conda/conda - \n"
     ]
    },
    {
     "name": "stderr",
     "output_type": "stream",
     "text": [
      "\n",
      "  0%|                                                     | 0/6 [00:00<?, ?it/s]\u001B[A"
     ]
    },
    {
     "name": "stdout",
     "output_type": "stream",
     "text": [
      " - Using sentence-transformers/all-mpnet-base-v2 model - \n",
      " - Using sentence-transformers/multi-qa-mpnet-base-cos-v1 model - \n",
      " - Using sentence-transformers/bert-base-nli-mean-tokens model - \n",
      " - Using sentence-transformers/paraphrase-multilingual-mpnet-base-v2 model - \n"
     ]
    },
    {
     "name": "stderr",
     "output_type": "stream",
     "text": [
      "\n",
      "100%|█████████████████████████████████████████████| 6/6 [00:00<00:00, 54.30it/s]\u001B[A\n",
      " 78%|████████████████████████████████         | 246/315 [00:34<00:08,  8.06it/s]"
     ]
    },
    {
     "name": "stdout",
     "output_type": "stream",
     "text": [
      " - Using sentence-transformers/all-distilroberta-v1 model - \n",
      " - Using sentence-transformers/distilbert-base-nli-mean-tokens model - \n",
      " - Generating structure embeddings for kiwicom/schemathesis - \n"
     ]
    },
    {
     "name": "stderr",
     "output_type": "stream",
     "text": [
      "\n",
      "  0%|                                                     | 0/6 [00:00<?, ?it/s]\u001B[A"
     ]
    },
    {
     "name": "stdout",
     "output_type": "stream",
     "text": [
      " - Using sentence-transformers/all-mpnet-base-v2 model - \n",
      " - Using sentence-transformers/multi-qa-mpnet-base-cos-v1 model - \n",
      " - Using sentence-transformers/bert-base-nli-mean-tokens model - \n",
      " - Using sentence-transformers/paraphrase-multilingual-mpnet-base-v2 model - \n"
     ]
    },
    {
     "name": "stderr",
     "output_type": "stream",
     "text": [
      "\n",
      " 83%|█████████████████████████████████████▌       | 5/6 [00:00<00:00, 44.70it/s]\u001B[A"
     ]
    },
    {
     "name": "stdout",
     "output_type": "stream",
     "text": [
      " - Using sentence-transformers/all-distilroberta-v1 model - \n",
      " - Using sentence-transformers/distilbert-base-nli-mean-tokens model - \n"
     ]
    },
    {
     "name": "stderr",
     "output_type": "stream",
     "text": [
      "100%|█████████████████████████████████████████████| 6/6 [00:00<00:00, 48.69it/s]\n",
      " 78%|████████████████████████████████▏        | 247/315 [00:34<00:08,  8.05it/s]"
     ]
    },
    {
     "name": "stdout",
     "output_type": "stream",
     "text": [
      " - Generating structure embeddings for nucleic/enaml - \n"
     ]
    },
    {
     "name": "stderr",
     "output_type": "stream",
     "text": [
      "\n",
      "  0%|                                                     | 0/6 [00:00<?, ?it/s]\u001B[A"
     ]
    },
    {
     "name": "stdout",
     "output_type": "stream",
     "text": [
      " - Using sentence-transformers/all-mpnet-base-v2 model - \n",
      " - Using sentence-transformers/multi-qa-mpnet-base-cos-v1 model - \n",
      " - Using sentence-transformers/bert-base-nli-mean-tokens model - \n",
      " - Using sentence-transformers/paraphrase-multilingual-mpnet-base-v2 model - \n"
     ]
    },
    {
     "name": "stderr",
     "output_type": "stream",
     "text": [
      "\n",
      "100%|█████████████████████████████████████████████| 6/6 [00:00<00:00, 48.93it/s]\u001B[A\n",
      " 79%|████████████████████████████████▎        | 248/315 [00:34<00:08,  8.04it/s]"
     ]
    },
    {
     "name": "stdout",
     "output_type": "stream",
     "text": [
      " - Using sentence-transformers/all-distilroberta-v1 model - \n",
      " - Using sentence-transformers/distilbert-base-nli-mean-tokens model - \n",
      " - Generating structure embeddings for mher/flower - \n"
     ]
    },
    {
     "name": "stderr",
     "output_type": "stream",
     "text": [
      "\n",
      "  0%|                                                     | 0/6 [00:00<?, ?it/s]\u001B[A"
     ]
    },
    {
     "name": "stdout",
     "output_type": "stream",
     "text": [
      " - Using sentence-transformers/all-mpnet-base-v2 model - \n",
      " - Using sentence-transformers/multi-qa-mpnet-base-cos-v1 model - \n",
      " - Using sentence-transformers/bert-base-nli-mean-tokens model - \n",
      " - Using sentence-transformers/paraphrase-multilingual-mpnet-base-v2 model - \n"
     ]
    },
    {
     "name": "stderr",
     "output_type": "stream",
     "text": [
      "\n",
      " 67%|██████████████████████████████               | 4/6 [00:00<00:00, 36.36it/s]\u001B[A"
     ]
    },
    {
     "name": "stdout",
     "output_type": "stream",
     "text": [
      " - Using sentence-transformers/all-distilroberta-v1 model - \n"
     ]
    },
    {
     "name": "stderr",
     "output_type": "stream",
     "text": [
      "100%|█████████████████████████████████████████████| 6/6 [00:00<00:00, 42.31it/s]\n",
      " 79%|████████████████████████████████▍        | 249/315 [00:34<00:08,  7.68it/s]"
     ]
    },
    {
     "name": "stdout",
     "output_type": "stream",
     "text": [
      " - Using sentence-transformers/distilbert-base-nli-mean-tokens model - \n",
      " - Generating structure embeddings for SciTools/cartopy - \n"
     ]
    },
    {
     "name": "stderr",
     "output_type": "stream",
     "text": [
      "\n",
      "  0%|                                                     | 0/6 [00:00<?, ?it/s]\u001B[A"
     ]
    },
    {
     "name": "stdout",
     "output_type": "stream",
     "text": [
      " - Using sentence-transformers/all-mpnet-base-v2 model - \n",
      " - Using sentence-transformers/multi-qa-mpnet-base-cos-v1 model - \n",
      " - Using sentence-transformers/bert-base-nli-mean-tokens model - \n",
      " - Using sentence-transformers/paraphrase-multilingual-mpnet-base-v2 model - \n",
      " - Using sentence-transformers/all-distilroberta-v1 model - \n"
     ]
    },
    {
     "name": "stderr",
     "output_type": "stream",
     "text": [
      "\n",
      "100%|█████████████████████████████████████████████| 6/6 [00:00<00:00, 51.72it/s]\u001B[A\n",
      " 79%|████████████████████████████████▌        | 250/315 [00:34<00:08,  7.91it/s]"
     ]
    },
    {
     "name": "stdout",
     "output_type": "stream",
     "text": [
      " - Using sentence-transformers/distilbert-base-nli-mean-tokens model - \n",
      " - Generating structure embeddings for pallets/markupsafe - \n"
     ]
    },
    {
     "name": "stderr",
     "output_type": "stream",
     "text": [
      "\n",
      "  0%|                                                     | 0/6 [00:00<?, ?it/s]\u001B[A"
     ]
    },
    {
     "name": "stdout",
     "output_type": "stream",
     "text": [
      " - Using sentence-transformers/all-mpnet-base-v2 model - \n",
      " - Using sentence-transformers/multi-qa-mpnet-base-cos-v1 model - \n",
      " - Using sentence-transformers/bert-base-nli-mean-tokens model - \n",
      " - Using sentence-transformers/paraphrase-multilingual-mpnet-base-v2 model - \n",
      " - Using sentence-transformers/all-distilroberta-v1 model - \n",
      " - Using sentence-transformers/distilbert-base-nli-mean-tokens model - \n"
     ]
    },
    {
     "name": "stderr",
     "output_type": "stream",
     "text": [
      "\n",
      "100%|█████████████████████████████████████████████| 6/6 [00:00<00:00, 51.94it/s]\u001B[A\n",
      " 80%|████████████████████████████████▋        | 251/315 [00:35<00:07,  8.09it/s]"
     ]
    },
    {
     "name": "stdout",
     "output_type": "stream",
     "text": [
      " - Generating structure embeddings for nicfit/eyeD3 - \n"
     ]
    },
    {
     "name": "stderr",
     "output_type": "stream",
     "text": [
      "\n",
      "  0%|                                                     | 0/6 [00:00<?, ?it/s]\u001B[A"
     ]
    },
    {
     "name": "stdout",
     "output_type": "stream",
     "text": [
      " - Using sentence-transformers/all-mpnet-base-v2 model - \n",
      " - Using sentence-transformers/multi-qa-mpnet-base-cos-v1 model - \n",
      " - Using sentence-transformers/bert-base-nli-mean-tokens model - \n",
      " - Using sentence-transformers/paraphrase-multilingual-mpnet-base-v2 model - \n",
      " - Using sentence-transformers/all-distilroberta-v1 model - \n"
     ]
    },
    {
     "name": "stderr",
     "output_type": "stream",
     "text": [
      "\n",
      " 83%|█████████████████████████████████████▌       | 5/6 [00:00<00:00, 43.85it/s]\u001B[A"
     ]
    },
    {
     "name": "stdout",
     "output_type": "stream",
     "text": [
      " - Using sentence-transformers/distilbert-base-nli-mean-tokens model - \n"
     ]
    },
    {
     "name": "stderr",
     "output_type": "stream",
     "text": [
      "100%|█████████████████████████████████████████████| 6/6 [00:00<00:00, 46.61it/s]\n",
      " 80%|████████████████████████████████▊        | 252/315 [00:35<00:07,  7.96it/s]"
     ]
    },
    {
     "name": "stdout",
     "output_type": "stream",
     "text": [
      " - Generating structure embeddings for magenta/magenta - \n"
     ]
    },
    {
     "name": "stderr",
     "output_type": "stream",
     "text": [
      "\n",
      "  0%|                                                     | 0/6 [00:00<?, ?it/s]\u001B[A"
     ]
    },
    {
     "name": "stdout",
     "output_type": "stream",
     "text": [
      " - Using sentence-transformers/all-mpnet-base-v2 model - \n",
      " - Using sentence-transformers/multi-qa-mpnet-base-cos-v1 model - \n",
      " - Using sentence-transformers/bert-base-nli-mean-tokens model - \n",
      " - Using sentence-transformers/paraphrase-multilingual-mpnet-base-v2 model - \n",
      " - Using sentence-transformers/all-distilroberta-v1 model - \n"
     ]
    },
    {
     "name": "stderr",
     "output_type": "stream",
     "text": [
      "\n",
      "100%|█████████████████████████████████████████████| 6/6 [00:00<00:00, 51.42it/s]\u001B[A\n",
      " 80%|████████████████████████████████▉        | 253/315 [00:35<00:07,  8.10it/s]"
     ]
    },
    {
     "name": "stdout",
     "output_type": "stream",
     "text": [
      " - Using sentence-transformers/distilbert-base-nli-mean-tokens model - \n",
      " - Generating structure embeddings for jeffknupp/sandman2 - \n"
     ]
    },
    {
     "name": "stderr",
     "output_type": "stream",
     "text": [
      "\n",
      "  0%|                                                     | 0/6 [00:00<?, ?it/s]\u001B[A"
     ]
    },
    {
     "name": "stdout",
     "output_type": "stream",
     "text": [
      " - Using sentence-transformers/all-mpnet-base-v2 model - \n",
      " - Using sentence-transformers/multi-qa-mpnet-base-cos-v1 model - \n",
      " - Using sentence-transformers/bert-base-nli-mean-tokens model - \n",
      " - Using sentence-transformers/paraphrase-multilingual-mpnet-base-v2 model - \n",
      " - Using sentence-transformers/all-distilroberta-v1 model - \n"
     ]
    },
    {
     "name": "stderr",
     "output_type": "stream",
     "text": [
      "\n",
      "100%|█████████████████████████████████████████████| 6/6 [00:00<00:00, 49.21it/s]\u001B[A\n",
      " 81%|█████████████████████████████████        | 254/315 [00:35<00:07,  8.10it/s]"
     ]
    },
    {
     "name": "stdout",
     "output_type": "stream",
     "text": [
      " - Using sentence-transformers/distilbert-base-nli-mean-tokens model - \n",
      " - Generating structure embeddings for ChrisKnott/Eel - \n"
     ]
    },
    {
     "name": "stderr",
     "output_type": "stream",
     "text": [
      "\n",
      "  0%|                                                     | 0/6 [00:00<?, ?it/s]\u001B[A"
     ]
    },
    {
     "name": "stdout",
     "output_type": "stream",
     "text": [
      " - Using sentence-transformers/all-mpnet-base-v2 model - \n",
      " - Using sentence-transformers/multi-qa-mpnet-base-cos-v1 model - \n",
      " - Using sentence-transformers/bert-base-nli-mean-tokens model - \n",
      " - Using sentence-transformers/paraphrase-multilingual-mpnet-base-v2 model - \n"
     ]
    },
    {
     "name": "stderr",
     "output_type": "stream",
     "text": [
      "\n",
      "100%|█████████████████████████████████████████████| 6/6 [00:00<00:00, 52.24it/s]\u001B[A\n",
      " 81%|█████████████████████████████████▏       | 255/315 [00:35<00:07,  8.24it/s]"
     ]
    },
    {
     "name": "stdout",
     "output_type": "stream",
     "text": [
      " - Using sentence-transformers/all-distilroberta-v1 model - \n",
      " - Using sentence-transformers/distilbert-base-nli-mean-tokens model - \n",
      " - Generating structure embeddings for AtsushiSakai/PythonRobotics - \n"
     ]
    },
    {
     "name": "stderr",
     "output_type": "stream",
     "text": [
      "\n",
      "  0%|                                                     | 0/6 [00:00<?, ?it/s]\u001B[A"
     ]
    },
    {
     "name": "stdout",
     "output_type": "stream",
     "text": [
      " - Using sentence-transformers/all-mpnet-base-v2 model - \n",
      " - Using sentence-transformers/multi-qa-mpnet-base-cos-v1 model - \n",
      " - Using sentence-transformers/bert-base-nli-mean-tokens model - \n",
      " - Using sentence-transformers/paraphrase-multilingual-mpnet-base-v2 model - \n",
      " - Using sentence-transformers/all-distilroberta-v1 model - \n",
      " - Using sentence-transformers/distilbert-base-nli-mean-tokens model - \n"
     ]
    },
    {
     "name": "stderr",
     "output_type": "stream",
     "text": [
      "100%|█████████████████████████████████████████████| 6/6 [00:00<00:00, 69.23it/s]\n"
     ]
    },
    {
     "name": "stdout",
     "output_type": "stream",
     "text": [
      " - Generating structure embeddings for michaelhelmick/lassie - \n"
     ]
    },
    {
     "name": "stderr",
     "output_type": "stream",
     "text": [
      "\n",
      "  0%|                                                     | 0/6 [00:00<?, ?it/s]\u001B[A"
     ]
    },
    {
     "name": "stdout",
     "output_type": "stream",
     "text": [
      " - Using sentence-transformers/all-mpnet-base-v2 model - \n",
      " - Using sentence-transformers/multi-qa-mpnet-base-cos-v1 model - \n",
      " - Using sentence-transformers/bert-base-nli-mean-tokens model - \n",
      " - Using sentence-transformers/paraphrase-multilingual-mpnet-base-v2 model - \n",
      " - Using sentence-transformers/all-distilroberta-v1 model - \n"
     ]
    },
    {
     "name": "stderr",
     "output_type": "stream",
     "text": [
      "100%|█████████████████████████████████████████████| 6/6 [00:00<00:00, 70.18it/s]\n",
      " 82%|█████████████████████████████████▍       | 257/315 [00:35<00:06,  9.45it/s]"
     ]
    },
    {
     "name": "stdout",
     "output_type": "stream",
     "text": [
      " - Using sentence-transformers/distilbert-base-nli-mean-tokens model - \n",
      " - Generating structure embeddings for mailgun/flanker - \n"
     ]
    },
    {
     "name": "stderr",
     "output_type": "stream",
     "text": [
      "\n",
      "  0%|                                                     | 0/6 [00:00<?, ?it/s]\u001B[A"
     ]
    },
    {
     "name": "stdout",
     "output_type": "stream",
     "text": [
      " - Using sentence-transformers/all-mpnet-base-v2 model - \n",
      " - Using sentence-transformers/multi-qa-mpnet-base-cos-v1 model - \n",
      " - Using sentence-transformers/bert-base-nli-mean-tokens model - \n",
      " - Using sentence-transformers/paraphrase-multilingual-mpnet-base-v2 model - \n",
      " - Using sentence-transformers/all-distilroberta-v1 model - \n",
      " - Using sentence-transformers/distilbert-base-nli-mean-tokens model - \n"
     ]
    },
    {
     "name": "stderr",
     "output_type": "stream",
     "text": [
      "\n",
      "100%|█████████████████████████████████████████████| 6/6 [00:00<00:00, 57.51it/s]\u001B[A\n",
      " 82%|█████████████████████████████████▌       | 258/315 [00:35<00:06,  9.45it/s]"
     ]
    },
    {
     "name": "stdout",
     "output_type": "stream",
     "text": [
      " - Generating structure embeddings for bokeh/bokeh - \n"
     ]
    },
    {
     "name": "stderr",
     "output_type": "stream",
     "text": [
      "\n",
      "  0%|                                                     | 0/6 [00:00<?, ?it/s]\u001B[A"
     ]
    },
    {
     "name": "stdout",
     "output_type": "stream",
     "text": [
      " - Using sentence-transformers/all-mpnet-base-v2 model - \n",
      " - Using sentence-transformers/multi-qa-mpnet-base-cos-v1 model - \n",
      " - Using sentence-transformers/bert-base-nli-mean-tokens model - \n",
      " - Using sentence-transformers/paraphrase-multilingual-mpnet-base-v2 model - \n",
      " - Using sentence-transformers/all-distilroberta-v1 model - \n"
     ]
    },
    {
     "name": "stderr",
     "output_type": "stream",
     "text": [
      "\n",
      " 83%|█████████████████████████████████████▌       | 5/6 [00:00<00:00, 46.46it/s]\u001B[A"
     ]
    },
    {
     "name": "stdout",
     "output_type": "stream",
     "text": [
      " - Using sentence-transformers/distilbert-base-nli-mean-tokens model - \n"
     ]
    },
    {
     "name": "stderr",
     "output_type": "stream",
     "text": [
      "100%|█████████████████████████████████████████████| 6/6 [00:00<00:00, 49.39it/s]\n",
      " 82%|█████████████████████████████████▋       | 259/315 [00:35<00:06,  9.06it/s]"
     ]
    },
    {
     "name": "stdout",
     "output_type": "stream",
     "text": [
      " - Generating structure embeddings for pyexcel/pyexcel - \n"
     ]
    },
    {
     "name": "stderr",
     "output_type": "stream",
     "text": [
      "\n",
      "  0%|                                                     | 0/6 [00:00<?, ?it/s]\u001B[A"
     ]
    },
    {
     "name": "stdout",
     "output_type": "stream",
     "text": [
      " - Using sentence-transformers/all-mpnet-base-v2 model - \n",
      " - Using sentence-transformers/multi-qa-mpnet-base-cos-v1 model - \n",
      " - Using sentence-transformers/bert-base-nli-mean-tokens model - \n",
      " - Using sentence-transformers/paraphrase-multilingual-mpnet-base-v2 model - \n",
      " - Using sentence-transformers/all-distilroberta-v1 model - \n"
     ]
    },
    {
     "name": "stderr",
     "output_type": "stream",
     "text": [
      "\n",
      "100%|█████████████████████████████████████████████| 6/6 [00:00<00:00, 51.20it/s]\u001B[A\n",
      " 83%|█████████████████████████████████▊       | 260/315 [00:36<00:06,  8.88it/s]"
     ]
    },
    {
     "name": "stdout",
     "output_type": "stream",
     "text": [
      " - Using sentence-transformers/distilbert-base-nli-mean-tokens model - \n",
      " - Generating structure embeddings for evhub/coconut - \n"
     ]
    },
    {
     "name": "stderr",
     "output_type": "stream",
     "text": [
      "\n",
      "  0%|                                                     | 0/6 [00:00<?, ?it/s]\u001B[A"
     ]
    },
    {
     "name": "stdout",
     "output_type": "stream",
     "text": [
      " - Using sentence-transformers/all-mpnet-base-v2 model - \n",
      " - Using sentence-transformers/multi-qa-mpnet-base-cos-v1 model - \n",
      " - Using sentence-transformers/bert-base-nli-mean-tokens model - \n",
      " - Using sentence-transformers/paraphrase-multilingual-mpnet-base-v2 model - \n",
      " - Using sentence-transformers/all-distilroberta-v1 model - \n"
     ]
    },
    {
     "name": "stderr",
     "output_type": "stream",
     "text": [
      "\n",
      "100%|█████████████████████████████████████████████| 6/6 [00:00<00:00, 48.86it/s]\u001B[A\n",
      " 83%|█████████████████████████████████▉       | 261/315 [00:36<00:06,  8.63it/s]"
     ]
    },
    {
     "name": "stdout",
     "output_type": "stream",
     "text": [
      " - Using sentence-transformers/distilbert-base-nli-mean-tokens model - \n",
      " - Generating structure embeddings for python-trio/trio - \n"
     ]
    },
    {
     "name": "stderr",
     "output_type": "stream",
     "text": [
      "\n",
      "  0%|                                                     | 0/6 [00:00<?, ?it/s]\u001B[A"
     ]
    },
    {
     "name": "stdout",
     "output_type": "stream",
     "text": [
      " - Using sentence-transformers/all-mpnet-base-v2 model - \n",
      " - Using sentence-transformers/multi-qa-mpnet-base-cos-v1 model - \n",
      " - Using sentence-transformers/bert-base-nli-mean-tokens model - \n",
      " - Using sentence-transformers/paraphrase-multilingual-mpnet-base-v2 model - \n"
     ]
    },
    {
     "name": "stderr",
     "output_type": "stream",
     "text": [
      "\n",
      "100%|█████████████████████████████████████████████| 6/6 [00:00<00:00, 52.90it/s]\u001B[A\n",
      " 83%|██████████████████████████████████       | 262/315 [00:36<00:06,  8.65it/s]"
     ]
    },
    {
     "name": "stdout",
     "output_type": "stream",
     "text": [
      " - Using sentence-transformers/all-distilroberta-v1 model - \n",
      " - Using sentence-transformers/distilbert-base-nli-mean-tokens model - \n",
      " - Generating structure embeddings for dateutil/dateutil - \n"
     ]
    },
    {
     "name": "stderr",
     "output_type": "stream",
     "text": [
      "\n",
      "  0%|                                                     | 0/6 [00:00<?, ?it/s]\u001B[A"
     ]
    },
    {
     "name": "stdout",
     "output_type": "stream",
     "text": [
      " - Using sentence-transformers/all-mpnet-base-v2 model - \n",
      " - Using sentence-transformers/multi-qa-mpnet-base-cos-v1 model - \n",
      " - Using sentence-transformers/bert-base-nli-mean-tokens model - \n",
      " - Using sentence-transformers/paraphrase-multilingual-mpnet-base-v2 model - \n",
      " - Using sentence-transformers/all-distilroberta-v1 model - \n"
     ]
    },
    {
     "name": "stderr",
     "output_type": "stream",
     "text": [
      "\n",
      "100%|█████████████████████████████████████████████| 6/6 [00:00<00:00, 50.63it/s]\u001B[A\n",
      " 83%|██████████████████████████████████▏      | 263/315 [00:36<00:06,  8.55it/s]"
     ]
    },
    {
     "name": "stdout",
     "output_type": "stream",
     "text": [
      " - Using sentence-transformers/distilbert-base-nli-mean-tokens model - \n",
      " - Generating structure embeddings for encode/httpx - \n"
     ]
    },
    {
     "name": "stderr",
     "output_type": "stream",
     "text": [
      "\n",
      "  0%|                                                     | 0/6 [00:00<?, ?it/s]\u001B[A"
     ]
    },
    {
     "name": "stdout",
     "output_type": "stream",
     "text": [
      " - Using sentence-transformers/all-mpnet-base-v2 model - \n",
      " - Using sentence-transformers/multi-qa-mpnet-base-cos-v1 model - \n",
      " - Using sentence-transformers/bert-base-nli-mean-tokens model - \n",
      " - Using sentence-transformers/paraphrase-multilingual-mpnet-base-v2 model - \n"
     ]
    },
    {
     "name": "stderr",
     "output_type": "stream",
     "text": [
      "\n",
      " 83%|█████████████████████████████████████▌       | 5/6 [00:00<00:00, 49.85it/s]\u001B[A"
     ]
    },
    {
     "name": "stdout",
     "output_type": "stream",
     "text": [
      " - Using sentence-transformers/all-distilroberta-v1 model - \n",
      " - Using sentence-transformers/distilbert-base-nli-mean-tokens model - \n"
     ]
    },
    {
     "name": "stderr",
     "output_type": "stream",
     "text": [
      "100%|█████████████████████████████████████████████| 6/6 [00:00<00:00, 52.38it/s]\n",
      " 84%|██████████████████████████████████▎      | 264/315 [00:36<00:05,  8.57it/s]"
     ]
    },
    {
     "name": "stdout",
     "output_type": "stream",
     "text": [
      " - Generating structure embeddings for MagicStack/uvloop - \n"
     ]
    },
    {
     "name": "stderr",
     "output_type": "stream",
     "text": [
      "\n",
      "  0%|                                                     | 0/6 [00:00<?, ?it/s]\u001B[A"
     ]
    },
    {
     "name": "stdout",
     "output_type": "stream",
     "text": [
      " - Using sentence-transformers/all-mpnet-base-v2 model - \n",
      " - Using sentence-transformers/multi-qa-mpnet-base-cos-v1 model - \n",
      " - Using sentence-transformers/bert-base-nli-mean-tokens model - \n",
      " - Using sentence-transformers/paraphrase-multilingual-mpnet-base-v2 model - \n"
     ]
    },
    {
     "name": "stderr",
     "output_type": "stream",
     "text": [
      "\n",
      " 83%|█████████████████████████████████████▌       | 5/6 [00:00<00:00, 49.86it/s]\u001B[A"
     ]
    },
    {
     "name": "stdout",
     "output_type": "stream",
     "text": [
      " - Using sentence-transformers/all-distilroberta-v1 model - \n",
      " - Using sentence-transformers/distilbert-base-nli-mean-tokens model - \n"
     ]
    },
    {
     "name": "stderr",
     "output_type": "stream",
     "text": [
      "100%|█████████████████████████████████████████████| 6/6 [00:00<00:00, 51.98it/s]\n",
      " 84%|██████████████████████████████████▍      | 265/315 [00:36<00:05,  8.56it/s]"
     ]
    },
    {
     "name": "stdout",
     "output_type": "stream",
     "text": [
      " - Generating structure embeddings for Kotti/Kotti - \n"
     ]
    },
    {
     "name": "stderr",
     "output_type": "stream",
     "text": [
      "\n",
      "  0%|                                                     | 0/6 [00:00<?, ?it/s]\u001B[A"
     ]
    },
    {
     "name": "stdout",
     "output_type": "stream",
     "text": [
      " - Using sentence-transformers/all-mpnet-base-v2 model - \n",
      " - Using sentence-transformers/multi-qa-mpnet-base-cos-v1 model - \n",
      " - Using sentence-transformers/bert-base-nli-mean-tokens model - \n",
      " - Using sentence-transformers/paraphrase-multilingual-mpnet-base-v2 model - \n",
      " - Using sentence-transformers/all-distilroberta-v1 model - \n"
     ]
    },
    {
     "name": "stderr",
     "output_type": "stream",
     "text": [
      "\n",
      "100%|█████████████████████████████████████████████| 6/6 [00:00<00:00, 42.47it/s]\u001B[A\n",
      " 84%|██████████████████████████████████▌      | 266/315 [00:36<00:06,  8.01it/s]"
     ]
    },
    {
     "name": "stdout",
     "output_type": "stream",
     "text": [
      " - Using sentence-transformers/distilbert-base-nli-mean-tokens model - \n",
      " - Generating structure embeddings for dbcli/pgcli - \n"
     ]
    },
    {
     "name": "stderr",
     "output_type": "stream",
     "text": [
      "\n",
      "  0%|                                                     | 0/6 [00:00<?, ?it/s]\u001B[A"
     ]
    },
    {
     "name": "stdout",
     "output_type": "stream",
     "text": [
      " - Using sentence-transformers/all-mpnet-base-v2 model - \n",
      " - Using sentence-transformers/multi-qa-mpnet-base-cos-v1 model - \n",
      " - Using sentence-transformers/bert-base-nli-mean-tokens model - \n",
      " - Using sentence-transformers/paraphrase-multilingual-mpnet-base-v2 model - \n",
      " - Using sentence-transformers/all-distilroberta-v1 model - \n"
     ]
    },
    {
     "name": "stderr",
     "output_type": "stream",
     "text": [
      "100%|█████████████████████████████████████████████| 6/6 [00:00<00:00, 62.25it/s]\n"
     ]
    },
    {
     "name": "stdout",
     "output_type": "stream",
     "text": [
      " - Using sentence-transformers/distilbert-base-nli-mean-tokens model - \n",
      " - Generating structure embeddings for laixintao/iredis - \n"
     ]
    },
    {
     "name": "stderr",
     "output_type": "stream",
     "text": [
      "\n",
      "  0%|                                                     | 0/6 [00:00<?, ?it/s]\u001B[A"
     ]
    },
    {
     "name": "stdout",
     "output_type": "stream",
     "text": [
      " - Using sentence-transformers/all-mpnet-base-v2 model - \n",
      " - Using sentence-transformers/multi-qa-mpnet-base-cos-v1 model - \n",
      " - Using sentence-transformers/bert-base-nli-mean-tokens model - \n",
      " - Using sentence-transformers/paraphrase-multilingual-mpnet-base-v2 model - \n",
      " - Using sentence-transformers/all-distilroberta-v1 model - \n",
      " - Using sentence-transformers/distilbert-base-nli-mean-tokens model - \n"
     ]
    },
    {
     "name": "stderr",
     "output_type": "stream",
     "text": [
      "100%|█████████████████████████████████████████████| 6/6 [00:00<00:00, 69.84it/s]\n",
      " 85%|██████████████████████████████████▉      | 268/315 [00:37<00:05,  9.09it/s]"
     ]
    },
    {
     "name": "stdout",
     "output_type": "stream",
     "text": [
      " - Generating structure embeddings for flask-admin/flask-admin - \n"
     ]
    },
    {
     "name": "stderr",
     "output_type": "stream",
     "text": [
      "\n",
      "  0%|                                                     | 0/6 [00:00<?, ?it/s]\u001B[A"
     ]
    },
    {
     "name": "stdout",
     "output_type": "stream",
     "text": [
      " - Using sentence-transformers/all-mpnet-base-v2 model - \n",
      " - Using sentence-transformers/multi-qa-mpnet-base-cos-v1 model - \n",
      " - Using sentence-transformers/bert-base-nli-mean-tokens model - \n",
      " - Using sentence-transformers/paraphrase-multilingual-mpnet-base-v2 model - \n",
      " - Using sentence-transformers/all-distilroberta-v1 model - \n",
      " - Using sentence-transformers/distilbert-base-nli-mean-tokens model - \n"
     ]
    },
    {
     "name": "stderr",
     "output_type": "stream",
     "text": [
      "100%|█████████████████████████████████████████████| 6/6 [00:00<00:00, 69.91it/s]\n"
     ]
    },
    {
     "name": "stdout",
     "output_type": "stream",
     "text": [
      " - Generating structure embeddings for rogerbinns/apsw - \n"
     ]
    },
    {
     "name": "stderr",
     "output_type": "stream",
     "text": [
      "\n",
      "  0%|                                                     | 0/6 [00:00<?, ?it/s]\u001B[A"
     ]
    },
    {
     "name": "stdout",
     "output_type": "stream",
     "text": [
      " - Using sentence-transformers/all-mpnet-base-v2 model - \n",
      " - Using sentence-transformers/multi-qa-mpnet-base-cos-v1 model - \n",
      " - Using sentence-transformers/bert-base-nli-mean-tokens model - \n",
      " - Using sentence-transformers/paraphrase-multilingual-mpnet-base-v2 model - \n",
      " - Using sentence-transformers/all-distilroberta-v1 model - \n"
     ]
    },
    {
     "name": "stderr",
     "output_type": "stream",
     "text": [
      "\n",
      " 83%|█████████████████████████████████████▌       | 5/6 [00:00<00:00, 47.76it/s]\u001B[A"
     ]
    },
    {
     "name": "stdout",
     "output_type": "stream",
     "text": [
      " - Using sentence-transformers/distilbert-base-nli-mean-tokens model - \n"
     ]
    },
    {
     "name": "stderr",
     "output_type": "stream",
     "text": [
      "100%|█████████████████████████████████████████████| 6/6 [00:00<00:00, 50.81it/s]\n",
      " 86%|███████████████████████████████████▏     | 270/315 [00:37<00:04,  9.31it/s]"
     ]
    },
    {
     "name": "stdout",
     "output_type": "stream",
     "text": [
      " - Generating structure embeddings for evonove/django-oauth-toolkit - \n"
     ]
    },
    {
     "name": "stderr",
     "output_type": "stream",
     "text": [
      "\n",
      "  0%|                                                     | 0/6 [00:00<?, ?it/s]\u001B[A"
     ]
    },
    {
     "name": "stdout",
     "output_type": "stream",
     "text": [
      " - Using sentence-transformers/all-mpnet-base-v2 model - \n",
      " - Using sentence-transformers/multi-qa-mpnet-base-cos-v1 model - \n",
      " - Using sentence-transformers/bert-base-nli-mean-tokens model - \n",
      " - Using sentence-transformers/paraphrase-multilingual-mpnet-base-v2 model - \n",
      " - Using sentence-transformers/all-distilroberta-v1 model - \n"
     ]
    },
    {
     "name": "stderr",
     "output_type": "stream",
     "text": [
      "\n",
      "100%|█████████████████████████████████████████████| 6/6 [00:00<00:00, 51.96it/s]\u001B[A\n",
      " 86%|███████████████████████████████████▎     | 271/315 [00:37<00:04,  9.13it/s]"
     ]
    },
    {
     "name": "stdout",
     "output_type": "stream",
     "text": [
      " - Using sentence-transformers/distilbert-base-nli-mean-tokens model - \n",
      " - Generating structure embeddings for 0rpc/zerorpc-python - \n"
     ]
    },
    {
     "name": "stderr",
     "output_type": "stream",
     "text": [
      "\n",
      "  0%|                                                     | 0/6 [00:00<?, ?it/s]\u001B[A"
     ]
    },
    {
     "name": "stdout",
     "output_type": "stream",
     "text": [
      " - Using sentence-transformers/all-mpnet-base-v2 model - \n",
      " - Using sentence-transformers/multi-qa-mpnet-base-cos-v1 model - \n",
      " - Using sentence-transformers/bert-base-nli-mean-tokens model - \n",
      " - Using sentence-transformers/paraphrase-multilingual-mpnet-base-v2 model - \n",
      " - Using sentence-transformers/all-distilroberta-v1 model - \n",
      " - Using sentence-transformers/distilbert-base-nli-mean-tokens model - \n"
     ]
    },
    {
     "name": "stderr",
     "output_type": "stream",
     "text": [
      "\n",
      "100%|█████████████████████████████████████████████| 6/6 [00:00<00:00, 52.54it/s]\u001B[A\n",
      " 86%|███████████████████████████████████▍     | 272/315 [00:37<00:04,  8.98it/s]"
     ]
    },
    {
     "name": "stdout",
     "output_type": "stream",
     "text": [
      " - Generating structure embeddings for jab/bidict - \n"
     ]
    },
    {
     "name": "stderr",
     "output_type": "stream",
     "text": [
      "\n",
      "  0%|                                                     | 0/6 [00:00<?, ?it/s]\u001B[A"
     ]
    },
    {
     "name": "stdout",
     "output_type": "stream",
     "text": [
      " - Using sentence-transformers/all-mpnet-base-v2 model - \n",
      " - Using sentence-transformers/multi-qa-mpnet-base-cos-v1 model - \n",
      " - Using sentence-transformers/bert-base-nli-mean-tokens model - \n",
      " - Using sentence-transformers/paraphrase-multilingual-mpnet-base-v2 model - \n",
      " - Using sentence-transformers/all-distilroberta-v1 model - \n",
      " - Using sentence-transformers/distilbert-base-nli-mean-tokens model - \n"
     ]
    },
    {
     "name": "stderr",
     "output_type": "stream",
     "text": [
      "\n",
      "100%|█████████████████████████████████████████████| 6/6 [00:00<00:00, 52.60it/s]\u001B[A\n",
      " 87%|███████████████████████████████████▌     | 273/315 [00:37<00:04,  8.90it/s]"
     ]
    },
    {
     "name": "stdout",
     "output_type": "stream",
     "text": [
      " - Generating structure embeddings for psf/requests - \n"
     ]
    },
    {
     "name": "stderr",
     "output_type": "stream",
     "text": [
      "\n",
      "  0%|                                                     | 0/6 [00:00<?, ?it/s]\u001B[A"
     ]
    },
    {
     "name": "stdout",
     "output_type": "stream",
     "text": [
      " - Using sentence-transformers/all-mpnet-base-v2 model - \n",
      " - Using sentence-transformers/multi-qa-mpnet-base-cos-v1 model - \n",
      " - Using sentence-transformers/bert-base-nli-mean-tokens model - \n",
      " - Using sentence-transformers/paraphrase-multilingual-mpnet-base-v2 model - \n"
     ]
    },
    {
     "name": "stderr",
     "output_type": "stream",
     "text": [
      "\n",
      "100%|█████████████████████████████████████████████| 6/6 [00:00<00:00, 51.33it/s]\u001B[A\n",
      " 87%|███████████████████████████████████▋     | 274/315 [00:37<00:04,  8.77it/s]"
     ]
    },
    {
     "name": "stdout",
     "output_type": "stream",
     "text": [
      " - Using sentence-transformers/all-distilroberta-v1 model - \n",
      " - Using sentence-transformers/distilbert-base-nli-mean-tokens model - \n",
      " - Generating structure embeddings for blaze/blaze - \n"
     ]
    },
    {
     "name": "stderr",
     "output_type": "stream",
     "text": [
      "\n",
      "  0%|                                                     | 0/6 [00:00<?, ?it/s]\u001B[A"
     ]
    },
    {
     "name": "stdout",
     "output_type": "stream",
     "text": [
      " - Using sentence-transformers/all-mpnet-base-v2 model - \n",
      " - Using sentence-transformers/multi-qa-mpnet-base-cos-v1 model - \n",
      " - Using sentence-transformers/bert-base-nli-mean-tokens model - \n",
      " - Using sentence-transformers/paraphrase-multilingual-mpnet-base-v2 model - \n"
     ]
    },
    {
     "name": "stderr",
     "output_type": "stream",
     "text": [
      "\n",
      " 83%|█████████████████████████████████████▌       | 5/6 [00:00<00:00, 48.89it/s]\u001B[A"
     ]
    },
    {
     "name": "stdout",
     "output_type": "stream",
     "text": [
      " - Using sentence-transformers/all-distilroberta-v1 model - \n",
      " - Using sentence-transformers/distilbert-base-nli-mean-tokens model - \n"
     ]
    },
    {
     "name": "stderr",
     "output_type": "stream",
     "text": [
      "100%|█████████████████████████████████████████████| 6/6 [00:00<00:00, 51.71it/s]\n",
      " 87%|███████████████████████████████████▊     | 275/315 [00:37<00:04,  8.70it/s]"
     ]
    },
    {
     "name": "stdout",
     "output_type": "stream",
     "text": [
      " - Generating structure embeddings for kornia/kornia - \n"
     ]
    },
    {
     "name": "stderr",
     "output_type": "stream",
     "text": [
      "\n",
      "  0%|                                                     | 0/6 [00:00<?, ?it/s]\u001B[A"
     ]
    },
    {
     "name": "stdout",
     "output_type": "stream",
     "text": [
      " - Using sentence-transformers/all-mpnet-base-v2 model - \n",
      " - Using sentence-transformers/multi-qa-mpnet-base-cos-v1 model - \n",
      " - Using sentence-transformers/bert-base-nli-mean-tokens model - \n",
      " - Using sentence-transformers/paraphrase-multilingual-mpnet-base-v2 model - \n",
      " - Using sentence-transformers/all-distilroberta-v1 model - \n"
     ]
    },
    {
     "name": "stderr",
     "output_type": "stream",
     "text": [
      "\n",
      "100%|█████████████████████████████████████████████| 6/6 [00:00<00:00, 50.70it/s]\u001B[A\n",
      " 88%|███████████████████████████████████▉     | 276/315 [00:37<00:04,  8.59it/s]"
     ]
    },
    {
     "name": "stdout",
     "output_type": "stream",
     "text": [
      " - Using sentence-transformers/distilbert-base-nli-mean-tokens model - \n",
      " - Generating structure embeddings for locustio/locust - \n"
     ]
    },
    {
     "name": "stderr",
     "output_type": "stream",
     "text": [
      "\n",
      "  0%|                                                     | 0/6 [00:00<?, ?it/s]\u001B[A"
     ]
    },
    {
     "name": "stdout",
     "output_type": "stream",
     "text": [
      " - Using sentence-transformers/all-mpnet-base-v2 model - \n",
      " - Using sentence-transformers/multi-qa-mpnet-base-cos-v1 model - \n",
      " - Using sentence-transformers/bert-base-nli-mean-tokens model - \n",
      " - Using sentence-transformers/paraphrase-multilingual-mpnet-base-v2 model - \n"
     ]
    },
    {
     "name": "stderr",
     "output_type": "stream",
     "text": [
      "\n",
      " 83%|█████████████████████████████████████▌       | 5/6 [00:00<00:00, 44.12it/s]\u001B[A"
     ]
    },
    {
     "name": "stdout",
     "output_type": "stream",
     "text": [
      " - Using sentence-transformers/all-distilroberta-v1 model - \n",
      " - Using sentence-transformers/distilbert-base-nli-mean-tokens model - \n"
     ]
    },
    {
     "name": "stderr",
     "output_type": "stream",
     "text": [
      "100%|█████████████████████████████████████████████| 6/6 [00:00<00:00, 44.99it/s]\n",
      " 88%|████████████████████████████████████     | 277/315 [00:38<00:04,  8.22it/s]"
     ]
    },
    {
     "name": "stdout",
     "output_type": "stream",
     "text": [
      " - Generating structure embeddings for linkedin/shiv - \n"
     ]
    },
    {
     "name": "stderr",
     "output_type": "stream",
     "text": [
      "\n",
      "  0%|                                                     | 0/6 [00:00<?, ?it/s]\u001B[A"
     ]
    },
    {
     "name": "stdout",
     "output_type": "stream",
     "text": [
      " - Using sentence-transformers/all-mpnet-base-v2 model - \n",
      " - Using sentence-transformers/multi-qa-mpnet-base-cos-v1 model - \n",
      " - Using sentence-transformers/bert-base-nli-mean-tokens model - \n",
      " - Using sentence-transformers/paraphrase-multilingual-mpnet-base-v2 model - \n"
     ]
    },
    {
     "name": "stderr",
     "output_type": "stream",
     "text": [
      "\n",
      " 67%|██████████████████████████████               | 4/6 [00:00<00:00, 39.17it/s]\u001B[A"
     ]
    },
    {
     "name": "stdout",
     "output_type": "stream",
     "text": [
      " - Using sentence-transformers/all-distilroberta-v1 model - \n"
     ]
    },
    {
     "name": "stderr",
     "output_type": "stream",
     "text": [
      "100%|█████████████████████████████████████████████| 6/6 [00:00<00:00, 47.21it/s]\n",
      " 88%|████████████████████████████████████▏    | 278/315 [00:38<00:04,  8.06it/s]"
     ]
    },
    {
     "name": "stdout",
     "output_type": "stream",
     "text": [
      " - Using sentence-transformers/distilbert-base-nli-mean-tokens model - \n",
      " - Generating structure embeddings for seatgeek/fuzzywuzzy - \n"
     ]
    },
    {
     "name": "stderr",
     "output_type": "stream",
     "text": [
      "\n",
      "  0%|                                                     | 0/6 [00:00<?, ?it/s]\u001B[A"
     ]
    },
    {
     "name": "stdout",
     "output_type": "stream",
     "text": [
      " - Using sentence-transformers/all-mpnet-base-v2 model - \n",
      " - Using sentence-transformers/multi-qa-mpnet-base-cos-v1 model - \n",
      " - Using sentence-transformers/bert-base-nli-mean-tokens model - \n",
      " - Using sentence-transformers/paraphrase-multilingual-mpnet-base-v2 model - \n",
      " - Using sentence-transformers/all-distilroberta-v1 model - \n"
     ]
    },
    {
     "name": "stderr",
     "output_type": "stream",
     "text": [
      "\n",
      "100%|█████████████████████████████████████████████| 6/6 [00:00<00:00, 48.12it/s]\u001B[A\n",
      " 89%|████████████████████████████████████▎    | 279/315 [00:38<00:04,  8.02it/s]"
     ]
    },
    {
     "name": "stdout",
     "output_type": "stream",
     "text": [
      " - Using sentence-transformers/distilbert-base-nli-mean-tokens model - \n",
      " - Generating structure embeddings for ibayer/fastFM - \n"
     ]
    },
    {
     "name": "stderr",
     "output_type": "stream",
     "text": [
      "\n",
      "  0%|                                                     | 0/6 [00:00<?, ?it/s]\u001B[A"
     ]
    },
    {
     "name": "stdout",
     "output_type": "stream",
     "text": [
      " - Using sentence-transformers/all-mpnet-base-v2 model - \n",
      " - Using sentence-transformers/multi-qa-mpnet-base-cos-v1 model - \n",
      " - Using sentence-transformers/bert-base-nli-mean-tokens model - \n",
      " - Using sentence-transformers/paraphrase-multilingual-mpnet-base-v2 model - \n",
      " - Using sentence-transformers/all-distilroberta-v1 model - \n"
     ]
    },
    {
     "name": "stderr",
     "output_type": "stream",
     "text": [
      "\n",
      "100%|█████████████████████████████████████████████| 6/6 [00:00<00:00, 50.36it/s]\u001B[A\n",
      " 89%|████████████████████████████████████▍    | 280/315 [00:38<00:04,  8.09it/s]"
     ]
    },
    {
     "name": "stdout",
     "output_type": "stream",
     "text": [
      " - Using sentence-transformers/distilbert-base-nli-mean-tokens model - \n",
      " - Generating structure embeddings for sightmachine/SimpleCV - \n"
     ]
    },
    {
     "name": "stderr",
     "output_type": "stream",
     "text": [
      "\n",
      "  0%|                                                     | 0/6 [00:00<?, ?it/s]\u001B[A"
     ]
    },
    {
     "name": "stdout",
     "output_type": "stream",
     "text": [
      " - Using sentence-transformers/all-mpnet-base-v2 model - \n",
      " - Using sentence-transformers/multi-qa-mpnet-base-cos-v1 model - \n",
      " - Using sentence-transformers/bert-base-nli-mean-tokens model - \n",
      " - Using sentence-transformers/paraphrase-multilingual-mpnet-base-v2 model - \n",
      " - Using sentence-transformers/all-distilroberta-v1 model - \n"
     ]
    },
    {
     "name": "stderr",
     "output_type": "stream",
     "text": [
      "\n",
      "100%|█████████████████████████████████████████████| 6/6 [00:00<00:00, 51.43it/s]\u001B[A\n",
      " 89%|████████████████████████████████████▌    | 281/315 [00:38<00:04,  8.20it/s]"
     ]
    },
    {
     "name": "stdout",
     "output_type": "stream",
     "text": [
      " - Using sentence-transformers/distilbert-base-nli-mean-tokens model - \n",
      " - Generating structure embeddings for geex-arts/django-jet - \n"
     ]
    },
    {
     "name": "stderr",
     "output_type": "stream",
     "text": [
      "\n",
      "  0%|                                                     | 0/6 [00:00<?, ?it/s]\u001B[A"
     ]
    },
    {
     "name": "stdout",
     "output_type": "stream",
     "text": [
      " - Using sentence-transformers/all-mpnet-base-v2 model - \n",
      " - Using sentence-transformers/multi-qa-mpnet-base-cos-v1 model - \n",
      " - Using sentence-transformers/bert-base-nli-mean-tokens model - \n",
      " - Using sentence-transformers/paraphrase-multilingual-mpnet-base-v2 model - \n",
      " - Using sentence-transformers/all-distilroberta-v1 model - \n"
     ]
    },
    {
     "name": "stderr",
     "output_type": "stream",
     "text": [
      "\n",
      "100%|█████████████████████████████████████████████| 6/6 [00:00<00:00, 49.26it/s]\u001B[A\n",
      " 90%|████████████████████████████████████▋    | 282/315 [00:38<00:04,  8.17it/s]"
     ]
    },
    {
     "name": "stdout",
     "output_type": "stream",
     "text": [
      " - Using sentence-transformers/distilbert-base-nli-mean-tokens model - \n",
      " - Generating structure embeddings for giampaolo/psutil - \n"
     ]
    },
    {
     "name": "stderr",
     "output_type": "stream",
     "text": [
      "\n",
      "  0%|                                                     | 0/6 [00:00<?, ?it/s]\u001B[A"
     ]
    },
    {
     "name": "stdout",
     "output_type": "stream",
     "text": [
      " - Using sentence-transformers/all-mpnet-base-v2 model - \n",
      " - Using sentence-transformers/multi-qa-mpnet-base-cos-v1 model - \n",
      " - Using sentence-transformers/bert-base-nli-mean-tokens model - \n",
      " - Using sentence-transformers/paraphrase-multilingual-mpnet-base-v2 model - \n",
      " - Using sentence-transformers/all-distilroberta-v1 model - \n"
     ]
    },
    {
     "name": "stderr",
     "output_type": "stream",
     "text": [
      "\n",
      "100%|█████████████████████████████████████████████| 6/6 [00:00<00:00, 49.69it/s]\u001B[A\n",
      " 90%|████████████████████████████████████▊    | 283/315 [00:38<00:03,  8.17it/s]"
     ]
    },
    {
     "name": "stdout",
     "output_type": "stream",
     "text": [
      " - Using sentence-transformers/distilbert-base-nli-mean-tokens model - \n",
      " - Generating structure embeddings for django-haystack/django-haystack - \n"
     ]
    },
    {
     "name": "stderr",
     "output_type": "stream",
     "text": [
      "\n",
      "  0%|                                                     | 0/6 [00:00<?, ?it/s]\u001B[A"
     ]
    },
    {
     "name": "stdout",
     "output_type": "stream",
     "text": [
      " - Using sentence-transformers/all-mpnet-base-v2 model - \n",
      " - Using sentence-transformers/multi-qa-mpnet-base-cos-v1 model - \n",
      " - Using sentence-transformers/bert-base-nli-mean-tokens model - \n",
      " - Using sentence-transformers/paraphrase-multilingual-mpnet-base-v2 model - \n",
      " - Using sentence-transformers/all-distilroberta-v1 model - \n",
      " - Using sentence-transformers/distilbert-base-nli-mean-tokens model - \n"
     ]
    },
    {
     "name": "stderr",
     "output_type": "stream",
     "text": [
      "\n",
      "100%|█████████████████████████████████████████████| 6/6 [00:00<00:00, 54.58it/s]\u001B[A\n",
      " 90%|████████████████████████████████████▉    | 284/315 [00:38<00:03,  8.40it/s]"
     ]
    },
    {
     "name": "stdout",
     "output_type": "stream",
     "text": [
      " - Generating structure embeddings for gruns/furl - \n"
     ]
    },
    {
     "name": "stderr",
     "output_type": "stream",
     "text": [
      "\n",
      "  0%|                                                     | 0/6 [00:00<?, ?it/s]\u001B[A"
     ]
    },
    {
     "name": "stdout",
     "output_type": "stream",
     "text": [
      " - Using sentence-transformers/all-mpnet-base-v2 model - \n",
      " - Using sentence-transformers/multi-qa-mpnet-base-cos-v1 model - \n",
      " - Using sentence-transformers/bert-base-nli-mean-tokens model - \n",
      " - Using sentence-transformers/paraphrase-multilingual-mpnet-base-v2 model - \n",
      " - Using sentence-transformers/all-distilroberta-v1 model - \n"
     ]
    },
    {
     "name": "stderr",
     "output_type": "stream",
     "text": [
      "\n",
      "100%|█████████████████████████████████████████████| 6/6 [00:00<00:00, 54.74it/s]\u001B[A\n",
      " 90%|█████████████████████████████████████    | 285/315 [00:39<00:03,  8.57it/s]"
     ]
    },
    {
     "name": "stdout",
     "output_type": "stream",
     "text": [
      " - Using sentence-transformers/distilbert-base-nli-mean-tokens model - \n",
      " - Generating structure embeddings for euske/pdfminer - \n"
     ]
    },
    {
     "name": "stderr",
     "output_type": "stream",
     "text": [
      "\n",
      "  0%|                                                     | 0/6 [00:00<?, ?it/s]\u001B[A"
     ]
    },
    {
     "name": "stdout",
     "output_type": "stream",
     "text": [
      " - Using sentence-transformers/all-mpnet-base-v2 model - \n",
      " - Using sentence-transformers/multi-qa-mpnet-base-cos-v1 model - \n",
      " - Using sentence-transformers/bert-base-nli-mean-tokens model - \n",
      " - Using sentence-transformers/paraphrase-multilingual-mpnet-base-v2 model - \n",
      " - Using sentence-transformers/all-distilroberta-v1 model - \n"
     ]
    },
    {
     "name": "stderr",
     "output_type": "stream",
     "text": [
      "\n",
      " 83%|█████████████████████████████████████▌       | 5/6 [00:00<00:00, 49.87it/s]\u001B[A"
     ]
    },
    {
     "name": "stdout",
     "output_type": "stream",
     "text": [
      " - Using sentence-transformers/distilbert-base-nli-mean-tokens model - \n"
     ]
    },
    {
     "name": "stderr",
     "output_type": "stream",
     "text": [
      "100%|█████████████████████████████████████████████| 6/6 [00:00<00:00, 52.13it/s]\n",
      " 91%|█████████████████████████████████████▏   | 286/315 [00:39<00:03,  8.57it/s]"
     ]
    },
    {
     "name": "stdout",
     "output_type": "stream",
     "text": [
      " - Generating structure embeddings for maciejkula/spotlight - \n"
     ]
    },
    {
     "name": "stderr",
     "output_type": "stream",
     "text": [
      "\n",
      "  0%|                                                     | 0/6 [00:00<?, ?it/s]\u001B[A"
     ]
    },
    {
     "name": "stdout",
     "output_type": "stream",
     "text": [
      " - Using sentence-transformers/all-mpnet-base-v2 model - \n",
      " - Using sentence-transformers/multi-qa-mpnet-base-cos-v1 model - \n",
      " - Using sentence-transformers/bert-base-nli-mean-tokens model - \n",
      " - Using sentence-transformers/paraphrase-multilingual-mpnet-base-v2 model - \n",
      " - Using sentence-transformers/all-distilroberta-v1 model - \n"
     ]
    },
    {
     "name": "stderr",
     "output_type": "stream",
     "text": [
      "\n",
      "100%|█████████████████████████████████████████████| 6/6 [00:00<00:00, 53.80it/s]\u001B[A\n",
      " 91%|█████████████████████████████████████▎   | 287/315 [00:39<00:03,  8.65it/s]"
     ]
    },
    {
     "name": "stdout",
     "output_type": "stream",
     "text": [
      " - Using sentence-transformers/distilbert-base-nli-mean-tokens model - \n",
      " - Generating structure embeddings for amoffat/sh - \n"
     ]
    },
    {
     "name": "stderr",
     "output_type": "stream",
     "text": [
      "\n",
      "  0%|                                                     | 0/6 [00:00<?, ?it/s]\u001B[A"
     ]
    },
    {
     "name": "stdout",
     "output_type": "stream",
     "text": [
      " - Using sentence-transformers/all-mpnet-base-v2 model - \n",
      " - Using sentence-transformers/multi-qa-mpnet-base-cos-v1 model - \n",
      " - Using sentence-transformers/bert-base-nli-mean-tokens model - \n",
      " - Using sentence-transformers/paraphrase-multilingual-mpnet-base-v2 model - \n",
      " - Using sentence-transformers/all-distilroberta-v1 model - \n"
     ]
    },
    {
     "name": "stderr",
     "output_type": "stream",
     "text": [
      "\n",
      " 83%|█████████████████████████████████████▌       | 5/6 [00:00<00:00, 49.74it/s]\u001B[A"
     ]
    },
    {
     "name": "stdout",
     "output_type": "stream",
     "text": [
      " - Using sentence-transformers/distilbert-base-nli-mean-tokens model - \n"
     ]
    },
    {
     "name": "stderr",
     "output_type": "stream",
     "text": [
      "100%|█████████████████████████████████████████████| 6/6 [00:00<00:00, 52.39it/s]\n",
      " 91%|█████████████████████████████████████▍   | 288/315 [00:39<00:03,  8.64it/s]"
     ]
    },
    {
     "name": "stdout",
     "output_type": "stream",
     "text": [
      " - Generating structure embeddings for robinhood/faust - \n"
     ]
    },
    {
     "name": "stderr",
     "output_type": "stream",
     "text": [
      "\n",
      "  0%|                                                     | 0/6 [00:00<?, ?it/s]\u001B[A"
     ]
    },
    {
     "name": "stdout",
     "output_type": "stream",
     "text": [
      " - Using sentence-transformers/all-mpnet-base-v2 model - \n",
      " - Using sentence-transformers/multi-qa-mpnet-base-cos-v1 model - \n",
      " - Using sentence-transformers/bert-base-nli-mean-tokens model - \n",
      " - Using sentence-transformers/paraphrase-multilingual-mpnet-base-v2 model - \n",
      " - Using sentence-transformers/all-distilroberta-v1 model - \n"
     ]
    },
    {
     "name": "stderr",
     "output_type": "stream",
     "text": [
      "\n",
      " 83%|█████████████████████████████████████▌       | 5/6 [00:00<00:00, 44.06it/s]\u001B[A"
     ]
    },
    {
     "name": "stdout",
     "output_type": "stream",
     "text": [
      " - Using sentence-transformers/distilbert-base-nli-mean-tokens model - \n"
     ]
    },
    {
     "name": "stderr",
     "output_type": "stream",
     "text": [
      "100%|█████████████████████████████████████████████| 6/6 [00:00<00:00, 48.01it/s]\n",
      " 92%|█████████████████████████████████████▌   | 289/315 [00:39<00:03,  8.40it/s]"
     ]
    },
    {
     "name": "stdout",
     "output_type": "stream",
     "text": [
      " - Generating structure embeddings for boppreh/keyboard - \n"
     ]
    },
    {
     "name": "stderr",
     "output_type": "stream",
     "text": [
      "\n",
      "  0%|                                                     | 0/6 [00:00<?, ?it/s]\u001B[A"
     ]
    },
    {
     "name": "stdout",
     "output_type": "stream",
     "text": [
      " - Using sentence-transformers/all-mpnet-base-v2 model - \n",
      " - Using sentence-transformers/multi-qa-mpnet-base-cos-v1 model - \n",
      " - Using sentence-transformers/bert-base-nli-mean-tokens model - \n",
      " - Using sentence-transformers/paraphrase-multilingual-mpnet-base-v2 model - \n",
      " - Using sentence-transformers/all-distilroberta-v1 model - \n"
     ]
    },
    {
     "name": "stderr",
     "output_type": "stream",
     "text": [
      "\n",
      " 83%|█████████████████████████████████████▌       | 5/6 [00:00<00:00, 47.67it/s]\u001B[A"
     ]
    },
    {
     "name": "stdout",
     "output_type": "stream",
     "text": [
      " - Using sentence-transformers/distilbert-base-nli-mean-tokens model - \n"
     ]
    },
    {
     "name": "stderr",
     "output_type": "stream",
     "text": [
      "100%|█████████████████████████████████████████████| 6/6 [00:00<00:00, 49.98it/s]\n",
      " 92%|█████████████████████████████████████▋   | 290/315 [00:39<00:02,  8.35it/s]"
     ]
    },
    {
     "name": "stdout",
     "output_type": "stream",
     "text": [
      " - Generating structure embeddings for feincms/feincms - \n"
     ]
    },
    {
     "name": "stderr",
     "output_type": "stream",
     "text": [
      "\n",
      "  0%|                                                     | 0/6 [00:00<?, ?it/s]\u001B[A"
     ]
    },
    {
     "name": "stdout",
     "output_type": "stream",
     "text": [
      " - Using sentence-transformers/all-mpnet-base-v2 model - \n",
      " - Using sentence-transformers/multi-qa-mpnet-base-cos-v1 model - \n",
      " - Using sentence-transformers/bert-base-nli-mean-tokens model - \n",
      " - Using sentence-transformers/paraphrase-multilingual-mpnet-base-v2 model - \n"
     ]
    },
    {
     "name": "stderr",
     "output_type": "stream",
     "text": [
      "\n",
      "100%|█████████████████████████████████████████████| 6/6 [00:00<00:00, 53.06it/s]\u001B[A\n",
      " 92%|█████████████████████████████████████▉   | 291/315 [00:39<00:02,  8.45it/s]"
     ]
    },
    {
     "name": "stdout",
     "output_type": "stream",
     "text": [
      " - Using sentence-transformers/all-distilroberta-v1 model - \n",
      " - Using sentence-transformers/distilbert-base-nli-mean-tokens model - \n",
      " - Generating structure embeddings for MasoniteFramework/masonite - \n"
     ]
    },
    {
     "name": "stderr",
     "output_type": "stream",
     "text": [
      "\n",
      "  0%|                                                     | 0/6 [00:00<?, ?it/s]\u001B[A"
     ]
    },
    {
     "name": "stdout",
     "output_type": "stream",
     "text": [
      " - Using sentence-transformers/all-mpnet-base-v2 model - \n",
      " - Using sentence-transformers/multi-qa-mpnet-base-cos-v1 model - \n",
      " - Using sentence-transformers/bert-base-nli-mean-tokens model - \n",
      " - Using sentence-transformers/paraphrase-multilingual-mpnet-base-v2 model - \n",
      " - Using sentence-transformers/all-distilroberta-v1 model - \n"
     ]
    },
    {
     "name": "stderr",
     "output_type": "stream",
     "text": [
      "\n",
      "100%|█████████████████████████████████████████████| 6/6 [00:00<00:00, 56.01it/s]\u001B[A\n",
      " 93%|██████████████████████████████████████   | 292/315 [00:39<00:02,  8.66it/s]"
     ]
    },
    {
     "name": "stdout",
     "output_type": "stream",
     "text": [
      " - Using sentence-transformers/distilbert-base-nli-mean-tokens model - \n",
      " - Generating structure embeddings for orsinium/textdistance - \n"
     ]
    },
    {
     "name": "stderr",
     "output_type": "stream",
     "text": [
      "\n",
      "  0%|                                                     | 0/6 [00:00<?, ?it/s]\u001B[A"
     ]
    },
    {
     "name": "stdout",
     "output_type": "stream",
     "text": [
      " - Using sentence-transformers/all-mpnet-base-v2 model - \n",
      " - Using sentence-transformers/multi-qa-mpnet-base-cos-v1 model - \n",
      " - Using sentence-transformers/bert-base-nli-mean-tokens model - \n",
      " - Using sentence-transformers/paraphrase-multilingual-mpnet-base-v2 model - \n",
      " - Using sentence-transformers/all-distilroberta-v1 model - \n"
     ]
    },
    {
     "name": "stderr",
     "output_type": "stream",
     "text": [
      "\n",
      "100%|█████████████████████████████████████████████| 6/6 [00:00<00:00, 53.10it/s]\u001B[A"
     ]
    },
    {
     "name": "stdout",
     "output_type": "stream",
     "text": [
      " - Using sentence-transformers/distilbert-base-nli-mean-tokens model - \n"
     ]
    },
    {
     "name": "stderr",
     "output_type": "stream",
     "text": [
      "\n",
      "\r",
      " 93%|██████████████████████████████████████▏  | 293/315 [00:39<00:02,  8.69it/s]"
     ]
    },
    {
     "name": "stdout",
     "output_type": "stream",
     "text": [
      " - Generating structure embeddings for spyoungtech/grequests - \n"
     ]
    },
    {
     "name": "stderr",
     "output_type": "stream",
     "text": [
      "\n",
      "  0%|                                                     | 0/6 [00:00<?, ?it/s]\u001B[A"
     ]
    },
    {
     "name": "stdout",
     "output_type": "stream",
     "text": [
      " - Using sentence-transformers/all-mpnet-base-v2 model - \n",
      " - Using sentence-transformers/multi-qa-mpnet-base-cos-v1 model - \n",
      " - Using sentence-transformers/bert-base-nli-mean-tokens model - \n",
      " - Using sentence-transformers/paraphrase-multilingual-mpnet-base-v2 model - \n"
     ]
    },
    {
     "name": "stderr",
     "output_type": "stream",
     "text": [
      "\n",
      "100%|█████████████████████████████████████████████| 6/6 [00:00<00:00, 49.94it/s]\u001B[A\n",
      " 93%|██████████████████████████████████████▎  | 294/315 [00:40<00:02,  8.51it/s]"
     ]
    },
    {
     "name": "stdout",
     "output_type": "stream",
     "text": [
      " - Using sentence-transformers/all-distilroberta-v1 model - \n",
      " - Using sentence-transformers/distilbert-base-nli-mean-tokens model - \n",
      " - Generating structure embeddings for waylan/Python-Markdown - \n"
     ]
    },
    {
     "name": "stderr",
     "output_type": "stream",
     "text": [
      "\n",
      "  0%|                                                     | 0/6 [00:00<?, ?it/s]\u001B[A"
     ]
    },
    {
     "name": "stdout",
     "output_type": "stream",
     "text": [
      " - Using sentence-transformers/all-mpnet-base-v2 model - \n",
      " - Using sentence-transformers/multi-qa-mpnet-base-cos-v1 model - \n",
      " - Using sentence-transformers/bert-base-nli-mean-tokens model - \n",
      " - Using sentence-transformers/paraphrase-multilingual-mpnet-base-v2 model - \n"
     ]
    },
    {
     "name": "stderr",
     "output_type": "stream",
     "text": [
      "\n",
      " 67%|██████████████████████████████               | 4/6 [00:00<00:00, 39.31it/s]\u001B[A"
     ]
    },
    {
     "name": "stdout",
     "output_type": "stream",
     "text": [
      " - Using sentence-transformers/all-distilroberta-v1 model - \n",
      " - Using sentence-transformers/distilbert-base-nli-mean-tokens model - \n"
     ]
    },
    {
     "name": "stderr",
     "output_type": "stream",
     "text": [
      "100%|█████████████████████████████████████████████| 6/6 [00:00<00:00, 44.54it/s]\n",
      " 94%|██████████████████████████████████████▍  | 295/315 [00:40<00:02,  8.10it/s]"
     ]
    },
    {
     "name": "stdout",
     "output_type": "stream",
     "text": [
      " - Generating structure embeddings for mitmproxy/pdoc - \n"
     ]
    },
    {
     "name": "stderr",
     "output_type": "stream",
     "text": [
      "\n",
      "  0%|                                                     | 0/6 [00:00<?, ?it/s]\u001B[A"
     ]
    },
    {
     "name": "stdout",
     "output_type": "stream",
     "text": [
      " - Using sentence-transformers/all-mpnet-base-v2 model - \n",
      " - Using sentence-transformers/multi-qa-mpnet-base-cos-v1 model - \n",
      " - Using sentence-transformers/bert-base-nli-mean-tokens model - \n",
      " - Using sentence-transformers/paraphrase-multilingual-mpnet-base-v2 model - \n"
     ]
    },
    {
     "name": "stderr",
     "output_type": "stream",
     "text": [
      "\n",
      " 67%|██████████████████████████████               | 4/6 [00:00<00:00, 31.95it/s]\u001B[A"
     ]
    },
    {
     "name": "stdout",
     "output_type": "stream",
     "text": [
      " - Using sentence-transformers/all-distilroberta-v1 model - \n"
     ]
    },
    {
     "name": "stderr",
     "output_type": "stream",
     "text": [
      "100%|█████████████████████████████████████████████| 6/6 [00:00<00:00, 37.46it/s]\n",
      " 94%|██████████████████████████████████████▌  | 296/315 [00:40<00:02,  7.39it/s]"
     ]
    },
    {
     "name": "stdout",
     "output_type": "stream",
     "text": [
      " - Using sentence-transformers/distilbert-base-nli-mean-tokens model - \n",
      " - Generating structure embeddings for mingrammer/diagrams - \n"
     ]
    },
    {
     "name": "stderr",
     "output_type": "stream",
     "text": [
      "\n",
      "  0%|                                                     | 0/6 [00:00<?, ?it/s]\u001B[A"
     ]
    },
    {
     "name": "stdout",
     "output_type": "stream",
     "text": [
      " - Using sentence-transformers/all-mpnet-base-v2 model - \n",
      " - Using sentence-transformers/multi-qa-mpnet-base-cos-v1 model - \n",
      " - Using sentence-transformers/bert-base-nli-mean-tokens model - \n",
      " - Using sentence-transformers/paraphrase-multilingual-mpnet-base-v2 model - \n"
     ]
    },
    {
     "name": "stderr",
     "output_type": "stream",
     "text": [
      "\n",
      "100%|█████████████████████████████████████████████| 6/6 [00:00<00:00, 47.04it/s]\u001B[A\n",
      " 94%|██████████████████████████████████████▋  | 297/315 [00:40<00:02,  7.44it/s]"
     ]
    },
    {
     "name": "stdout",
     "output_type": "stream",
     "text": [
      " - Using sentence-transformers/all-distilroberta-v1 model - \n",
      " - Using sentence-transformers/distilbert-base-nli-mean-tokens model - \n",
      " - Generating structure embeddings for kiddouk/redisco - \n"
     ]
    },
    {
     "name": "stderr",
     "output_type": "stream",
     "text": [
      "\n",
      "  0%|                                                     | 0/6 [00:00<?, ?it/s]\u001B[A"
     ]
    },
    {
     "name": "stdout",
     "output_type": "stream",
     "text": [
      " - Using sentence-transformers/all-mpnet-base-v2 model - \n",
      " - Using sentence-transformers/multi-qa-mpnet-base-cos-v1 model - \n",
      " - Using sentence-transformers/bert-base-nli-mean-tokens model - \n",
      " - Using sentence-transformers/paraphrase-multilingual-mpnet-base-v2 model - \n",
      " - Using sentence-transformers/all-distilroberta-v1 model - \n"
     ]
    },
    {
     "name": "stderr",
     "output_type": "stream",
     "text": [
      "\n",
      "100%|█████████████████████████████████████████████| 6/6 [00:00<00:00, 48.05it/s]\u001B[A\n",
      " 95%|██████████████████████████████████████▊  | 298/315 [00:40<00:02,  7.56it/s]"
     ]
    },
    {
     "name": "stdout",
     "output_type": "stream",
     "text": [
      " - Using sentence-transformers/distilbert-base-nli-mean-tokens model - \n",
      " - Generating structure embeddings for tiangolo/fastapi - \n"
     ]
    },
    {
     "name": "stderr",
     "output_type": "stream",
     "text": [
      "\n",
      "  0%|                                                     | 0/6 [00:00<?, ?it/s]\u001B[A"
     ]
    },
    {
     "name": "stdout",
     "output_type": "stream",
     "text": [
      " - Using sentence-transformers/all-mpnet-base-v2 model - \n",
      " - Using sentence-transformers/multi-qa-mpnet-base-cos-v1 model - \n",
      " - Using sentence-transformers/bert-base-nli-mean-tokens model - \n",
      " - Using sentence-transformers/paraphrase-multilingual-mpnet-base-v2 model - \n",
      " - Using sentence-transformers/all-distilroberta-v1 model - \n"
     ]
    },
    {
     "name": "stderr",
     "output_type": "stream",
     "text": [
      "\n",
      " 83%|█████████████████████████████████████▌       | 5/6 [00:00<00:00, 45.68it/s]\u001B[A"
     ]
    },
    {
     "name": "stdout",
     "output_type": "stream",
     "text": [
      " - Using sentence-transformers/distilbert-base-nli-mean-tokens model - \n"
     ]
    },
    {
     "name": "stderr",
     "output_type": "stream",
     "text": [
      "100%|█████████████████████████████████████████████| 6/6 [00:00<00:00, 48.00it/s]\n",
      " 95%|██████████████████████████████████████▉  | 299/315 [00:40<00:02,  7.65it/s]"
     ]
    },
    {
     "name": "stdout",
     "output_type": "stream",
     "text": [
      " - Generating structure embeddings for dahlia/awesome-sqlalchemy - \n"
     ]
    },
    {
     "name": "stderr",
     "output_type": "stream",
     "text": [
      "\n",
      "  0%|                                                     | 0/6 [00:00<?, ?it/s]\u001B[A"
     ]
    },
    {
     "name": "stdout",
     "output_type": "stream",
     "text": [
      " - Using sentence-transformers/all-mpnet-base-v2 model - \n",
      " - Using sentence-transformers/multi-qa-mpnet-base-cos-v1 model - \n",
      " - Using sentence-transformers/bert-base-nli-mean-tokens model - \n",
      " - Using sentence-transformers/paraphrase-multilingual-mpnet-base-v2 model - \n",
      " - Using sentence-transformers/all-distilroberta-v1 model - \n"
     ]
    },
    {
     "name": "stderr",
     "output_type": "stream",
     "text": [
      "\n",
      "100%|█████████████████████████████████████████████| 6/6 [00:00<00:00, 48.99it/s]\u001B[A"
     ]
    },
    {
     "name": "stdout",
     "output_type": "stream",
     "text": [
      " - Using sentence-transformers/distilbert-base-nli-mean-tokens model - \n"
     ]
    },
    {
     "name": "stderr",
     "output_type": "stream",
     "text": [
      "\n",
      "\r",
      " 95%|███████████████████████████████████████  | 300/315 [00:40<00:01,  7.76it/s]"
     ]
    },
    {
     "name": "stdout",
     "output_type": "stream",
     "text": [
      " - Generating structure embeddings for kootenpv/yagmail - \n"
     ]
    },
    {
     "name": "stderr",
     "output_type": "stream",
     "text": [
      "\n",
      "  0%|                                                     | 0/6 [00:00<?, ?it/s]\u001B[A"
     ]
    },
    {
     "name": "stdout",
     "output_type": "stream",
     "text": [
      " - Using sentence-transformers/all-mpnet-base-v2 model - \n",
      " - Using sentence-transformers/multi-qa-mpnet-base-cos-v1 model - \n",
      " - Using sentence-transformers/bert-base-nli-mean-tokens model - \n",
      " - Using sentence-transformers/paraphrase-multilingual-mpnet-base-v2 model - \n",
      " - Using sentence-transformers/all-distilroberta-v1 model - \n"
     ]
    },
    {
     "name": "stderr",
     "output_type": "stream",
     "text": [
      "\n",
      "100%|█████████████████████████████████████████████| 6/6 [00:00<00:00, 48.51it/s]\u001B[A\n",
      " 96%|███████████████████████████████████████▏ | 301/315 [00:41<00:01,  7.82it/s]"
     ]
    },
    {
     "name": "stdout",
     "output_type": "stream",
     "text": [
      " - Using sentence-transformers/distilbert-base-nli-mean-tokens model - \n",
      " - Generating structure embeddings for Alir3z4/python-currencies - \n"
     ]
    },
    {
     "name": "stderr",
     "output_type": "stream",
     "text": [
      "\n",
      "  0%|                                                     | 0/6 [00:00<?, ?it/s]\u001B[A"
     ]
    },
    {
     "name": "stdout",
     "output_type": "stream",
     "text": [
      " - Using sentence-transformers/all-mpnet-base-v2 model - \n",
      " - Using sentence-transformers/multi-qa-mpnet-base-cos-v1 model - \n",
      " - Using sentence-transformers/bert-base-nli-mean-tokens model - \n",
      " - Using sentence-transformers/paraphrase-multilingual-mpnet-base-v2 model - \n"
     ]
    },
    {
     "name": "stderr",
     "output_type": "stream",
     "text": [
      "\n",
      "100%|█████████████████████████████████████████████| 6/6 [00:00<00:00, 50.77it/s]\u001B[A\n",
      " 96%|███████████████████████████████████████▎ | 302/315 [00:41<00:01,  7.97it/s]"
     ]
    },
    {
     "name": "stdout",
     "output_type": "stream",
     "text": [
      " - Using sentence-transformers/all-distilroberta-v1 model - \n",
      " - Using sentence-transformers/distilbert-base-nli-mean-tokens model - \n",
      " - Generating structure embeddings for buriy/python-readability - \n"
     ]
    },
    {
     "name": "stderr",
     "output_type": "stream",
     "text": [
      "\n",
      "  0%|                                                     | 0/6 [00:00<?, ?it/s]\u001B[A"
     ]
    },
    {
     "name": "stdout",
     "output_type": "stream",
     "text": [
      " - Using sentence-transformers/all-mpnet-base-v2 model - \n",
      " - Using sentence-transformers/multi-qa-mpnet-base-cos-v1 model - \n",
      " - Using sentence-transformers/bert-base-nli-mean-tokens model - \n",
      " - Using sentence-transformers/paraphrase-multilingual-mpnet-base-v2 model - \n"
     ]
    },
    {
     "name": "stderr",
     "output_type": "stream",
     "text": [
      "\n",
      "100%|█████████████████████████████████████████████| 6/6 [00:00<00:00, 49.62it/s]\u001B[A\n",
      " 96%|███████████████████████████████████████▍ | 303/315 [00:41<00:01,  8.01it/s]"
     ]
    },
    {
     "name": "stdout",
     "output_type": "stream",
     "text": [
      " - Using sentence-transformers/all-distilroberta-v1 model - \n",
      " - Using sentence-transformers/distilbert-base-nli-mean-tokens model - \n",
      " - Generating structure embeddings for mozillazg/python-pinyin - \n"
     ]
    },
    {
     "name": "stderr",
     "output_type": "stream",
     "text": [
      "\n",
      "  0%|                                                     | 0/6 [00:00<?, ?it/s]\u001B[A"
     ]
    },
    {
     "name": "stdout",
     "output_type": "stream",
     "text": [
      " - Using sentence-transformers/all-mpnet-base-v2 model - \n",
      " - Using sentence-transformers/multi-qa-mpnet-base-cos-v1 model - \n",
      " - Using sentence-transformers/bert-base-nli-mean-tokens model - \n",
      " - Using sentence-transformers/paraphrase-multilingual-mpnet-base-v2 model - \n"
     ]
    },
    {
     "name": "stderr",
     "output_type": "stream",
     "text": [
      "\n",
      " 67%|██████████████████████████████               | 4/6 [00:00<00:00, 38.59it/s]\u001B[A"
     ]
    },
    {
     "name": "stdout",
     "output_type": "stream",
     "text": [
      " - Using sentence-transformers/all-distilroberta-v1 model - \n",
      " - Using sentence-transformers/distilbert-base-nli-mean-tokens model - \n"
     ]
    },
    {
     "name": "stderr",
     "output_type": "stream",
     "text": [
      "100%|█████████████████████████████████████████████| 6/6 [00:00<00:00, 45.94it/s]\n",
      " 97%|███████████████████████████████████████▌ | 304/315 [00:41<00:01,  7.86it/s]"
     ]
    },
    {
     "name": "stdout",
     "output_type": "stream",
     "text": [
      " - Generating structure embeddings for bloomreach/s4cmd - \n"
     ]
    },
    {
     "name": "stderr",
     "output_type": "stream",
     "text": [
      "\n",
      "  0%|                                                     | 0/6 [00:00<?, ?it/s]\u001B[A"
     ]
    },
    {
     "name": "stdout",
     "output_type": "stream",
     "text": [
      " - Using sentence-transformers/all-mpnet-base-v2 model - \n",
      " - Using sentence-transformers/multi-qa-mpnet-base-cos-v1 model - \n",
      " - Using sentence-transformers/bert-base-nli-mean-tokens model - \n",
      " - Using sentence-transformers/paraphrase-multilingual-mpnet-base-v2 model - \n",
      " - Using sentence-transformers/all-distilroberta-v1 model - \n"
     ]
    },
    {
     "name": "stderr",
     "output_type": "stream",
     "text": [
      "\n",
      " 83%|█████████████████████████████████████▌       | 5/6 [00:00<00:00, 44.49it/s]\u001B[A"
     ]
    },
    {
     "name": "stdout",
     "output_type": "stream",
     "text": [
      " - Using sentence-transformers/distilbert-base-nli-mean-tokens model - \n"
     ]
    },
    {
     "name": "stderr",
     "output_type": "stream",
     "text": [
      "100%|█████████████████████████████████████████████| 6/6 [00:00<00:00, 47.36it/s]\n",
      " 97%|███████████████████████████████████████▋ | 305/315 [00:41<00:01,  7.84it/s]"
     ]
    },
    {
     "name": "stdout",
     "output_type": "stream",
     "text": [
      " - Generating structure embeddings for Theano/Theano - \n"
     ]
    },
    {
     "name": "stderr",
     "output_type": "stream",
     "text": [
      "\n",
      "  0%|                                                     | 0/6 [00:00<?, ?it/s]\u001B[A"
     ]
    },
    {
     "name": "stdout",
     "output_type": "stream",
     "text": [
      " - Using sentence-transformers/all-mpnet-base-v2 model - \n",
      " - Using sentence-transformers/multi-qa-mpnet-base-cos-v1 model - \n",
      " - Using sentence-transformers/bert-base-nli-mean-tokens model - \n",
      " - Using sentence-transformers/paraphrase-multilingual-mpnet-base-v2 model - \n",
      " - Using sentence-transformers/all-distilroberta-v1 model - \n"
     ]
    },
    {
     "name": "stderr",
     "output_type": "stream",
     "text": [
      "\n",
      " 83%|█████████████████████████████████████▌       | 5/6 [00:00<00:00, 47.05it/s]\u001B[A"
     ]
    },
    {
     "name": "stdout",
     "output_type": "stream",
     "text": [
      " - Using sentence-transformers/distilbert-base-nli-mean-tokens model - \n"
     ]
    },
    {
     "name": "stderr",
     "output_type": "stream",
     "text": [
      "100%|█████████████████████████████████████████████| 6/6 [00:00<00:00, 49.28it/s]\n",
      " 97%|███████████████████████████████████████▊ | 306/315 [00:41<00:01,  7.90it/s]"
     ]
    },
    {
     "name": "stdout",
     "output_type": "stream",
     "text": [
      " - Generating structure embeddings for agiliq/merchant - \n"
     ]
    },
    {
     "name": "stderr",
     "output_type": "stream",
     "text": [
      "\n",
      "  0%|                                                     | 0/6 [00:00<?, ?it/s]\u001B[A"
     ]
    },
    {
     "name": "stdout",
     "output_type": "stream",
     "text": [
      " - Using sentence-transformers/all-mpnet-base-v2 model - \n",
      " - Using sentence-transformers/multi-qa-mpnet-base-cos-v1 model - \n",
      " - Using sentence-transformers/bert-base-nli-mean-tokens model - \n",
      " - Using sentence-transformers/paraphrase-multilingual-mpnet-base-v2 model - \n"
     ]
    },
    {
     "name": "stderr",
     "output_type": "stream",
     "text": [
      "\n",
      "100%|█████████████████████████████████████████████| 6/6 [00:00<00:00, 54.88it/s]\u001B[A\n",
      " 97%|███████████████████████████████████████▉ | 307/315 [00:41<00:00,  8.19it/s]"
     ]
    },
    {
     "name": "stdout",
     "output_type": "stream",
     "text": [
      " - Using sentence-transformers/all-distilroberta-v1 model - \n",
      " - Using sentence-transformers/distilbert-base-nli-mean-tokens model - \n",
      " - Generating structure embeddings for jazzband/localshop - \n"
     ]
    },
    {
     "name": "stderr",
     "output_type": "stream",
     "text": [
      "\n",
      "  0%|                                                     | 0/6 [00:00<?, ?it/s]\u001B[A"
     ]
    },
    {
     "name": "stdout",
     "output_type": "stream",
     "text": [
      " - Using sentence-transformers/all-mpnet-base-v2 model - \n",
      " - Using sentence-transformers/multi-qa-mpnet-base-cos-v1 model - \n",
      " - Using sentence-transformers/bert-base-nli-mean-tokens model - \n",
      " - Using sentence-transformers/paraphrase-multilingual-mpnet-base-v2 model - \n"
     ]
    },
    {
     "name": "stderr",
     "output_type": "stream",
     "text": [
      "\n",
      " 67%|██████████████████████████████               | 4/6 [00:00<00:00, 38.16it/s]\u001B[A"
     ]
    },
    {
     "name": "stdout",
     "output_type": "stream",
     "text": [
      " - Using sentence-transformers/all-distilroberta-v1 model - \n"
     ]
    },
    {
     "name": "stderr",
     "output_type": "stream",
     "text": [
      "100%|█████████████████████████████████████████████| 6/6 [00:00<00:00, 44.01it/s]\n",
      " 98%|████████████████████████████████████████ | 308/315 [00:41<00:00,  7.88it/s]"
     ]
    },
    {
     "name": "stdout",
     "output_type": "stream",
     "text": [
      " - Using sentence-transformers/distilbert-base-nli-mean-tokens model - \n",
      " - Generating structure embeddings for Microsoft/Pyjion - \n"
     ]
    },
    {
     "name": "stderr",
     "output_type": "stream",
     "text": [
      "\n",
      "  0%|                                                     | 0/6 [00:00<?, ?it/s]\u001B[A"
     ]
    },
    {
     "name": "stdout",
     "output_type": "stream",
     "text": [
      " - Using sentence-transformers/all-mpnet-base-v2 model - \n",
      " - Using sentence-transformers/multi-qa-mpnet-base-cos-v1 model - \n",
      " - Using sentence-transformers/bert-base-nli-mean-tokens model - \n",
      " - Using sentence-transformers/paraphrase-multilingual-mpnet-base-v2 model - \n",
      " - Using sentence-transformers/all-distilroberta-v1 model - \n"
     ]
    },
    {
     "name": "stderr",
     "output_type": "stream",
     "text": [
      "\n",
      "100%|█████████████████████████████████████████████| 6/6 [00:00<00:00, 45.55it/s]\u001B[A\n",
      " 98%|████████████████████████████████████████▏| 309/315 [00:42<00:00,  7.76it/s]"
     ]
    },
    {
     "name": "stdout",
     "output_type": "stream",
     "text": [
      " - Using sentence-transformers/distilbert-base-nli-mean-tokens model - \n",
      " - Generating structure embeddings for soravux/scoop - \n"
     ]
    },
    {
     "name": "stderr",
     "output_type": "stream",
     "text": [
      "\n",
      "  0%|                                                     | 0/6 [00:00<?, ?it/s]\u001B[A"
     ]
    },
    {
     "name": "stdout",
     "output_type": "stream",
     "text": [
      " - Using sentence-transformers/all-mpnet-base-v2 model - \n",
      " - Using sentence-transformers/multi-qa-mpnet-base-cos-v1 model - \n",
      " - Using sentence-transformers/bert-base-nli-mean-tokens model - \n",
      " - Using sentence-transformers/paraphrase-multilingual-mpnet-base-v2 model - \n"
     ]
    },
    {
     "name": "stderr",
     "output_type": "stream",
     "text": [
      "\n",
      " 83%|█████████████████████████████████████▌       | 5/6 [00:00<00:00, 45.04it/s]\u001B[A"
     ]
    },
    {
     "name": "stdout",
     "output_type": "stream",
     "text": [
      " - Using sentence-transformers/all-distilroberta-v1 model - \n",
      " - Using sentence-transformers/distilbert-base-nli-mean-tokens model - \n"
     ]
    },
    {
     "name": "stderr",
     "output_type": "stream",
     "text": [
      "100%|█████████████████████████████████████████████| 6/6 [00:00<00:00, 48.07it/s]\n",
      " 98%|████████████████████████████████████████▎| 310/315 [00:42<00:00,  7.80it/s]"
     ]
    },
    {
     "name": "stdout",
     "output_type": "stream",
     "text": [
      " - Generating structure embeddings for getpelican/pelican - \n"
     ]
    },
    {
     "name": "stderr",
     "output_type": "stream",
     "text": [
      "\n",
      "  0%|                                                     | 0/6 [00:00<?, ?it/s]\u001B[A"
     ]
    },
    {
     "name": "stdout",
     "output_type": "stream",
     "text": [
      " - Using sentence-transformers/all-mpnet-base-v2 model - \n",
      " - Using sentence-transformers/multi-qa-mpnet-base-cos-v1 model - \n",
      " - Using sentence-transformers/bert-base-nli-mean-tokens model - \n",
      " - Using sentence-transformers/paraphrase-multilingual-mpnet-base-v2 model - \n",
      " - Using sentence-transformers/all-distilroberta-v1 model - \n"
     ]
    },
    {
     "name": "stderr",
     "output_type": "stream",
     "text": [
      "\n",
      " 83%|█████████████████████████████████████▌       | 5/6 [00:00<00:00, 45.76it/s]\u001B[A"
     ]
    },
    {
     "name": "stdout",
     "output_type": "stream",
     "text": [
      " - Using sentence-transformers/distilbert-base-nli-mean-tokens model - \n"
     ]
    },
    {
     "name": "stderr",
     "output_type": "stream",
     "text": [
      "100%|█████████████████████████████████████████████| 6/6 [00:00<00:00, 48.89it/s]\n",
      " 99%|████████████████████████████████████████▍| 311/315 [00:42<00:00,  7.85it/s]"
     ]
    },
    {
     "name": "stdout",
     "output_type": "stream",
     "text": [
      " - Generating structure embeddings for thauber/django-schedule - \n"
     ]
    },
    {
     "name": "stderr",
     "output_type": "stream",
     "text": [
      "\n",
      "  0%|                                                     | 0/6 [00:00<?, ?it/s]\u001B[A"
     ]
    },
    {
     "name": "stdout",
     "output_type": "stream",
     "text": [
      " - Using sentence-transformers/all-mpnet-base-v2 model - \n",
      " - Using sentence-transformers/multi-qa-mpnet-base-cos-v1 model - \n",
      " - Using sentence-transformers/bert-base-nli-mean-tokens model - \n",
      " - Using sentence-transformers/paraphrase-multilingual-mpnet-base-v2 model - \n"
     ]
    },
    {
     "name": "stderr",
     "output_type": "stream",
     "text": [
      "\n",
      "100%|█████████████████████████████████████████████| 6/6 [00:00<00:00, 45.20it/s]\u001B[A\n",
      " 99%|████████████████████████████████████████▌| 312/315 [00:42<00:00,  7.70it/s]"
     ]
    },
    {
     "name": "stdout",
     "output_type": "stream",
     "text": [
      " - Using sentence-transformers/all-distilroberta-v1 model - \n",
      " - Using sentence-transformers/distilbert-base-nli-mean-tokens model - \n",
      " - Generating structure embeddings for Yelp/mrjob - \n"
     ]
    },
    {
     "name": "stderr",
     "output_type": "stream",
     "text": [
      "\n",
      "  0%|                                                     | 0/6 [00:00<?, ?it/s]\u001B[A"
     ]
    },
    {
     "name": "stdout",
     "output_type": "stream",
     "text": [
      " - Using sentence-transformers/all-mpnet-base-v2 model - \n",
      " - Using sentence-transformers/multi-qa-mpnet-base-cos-v1 model - \n",
      " - Using sentence-transformers/bert-base-nli-mean-tokens model - \n",
      " - Using sentence-transformers/paraphrase-multilingual-mpnet-base-v2 model - \n",
      " - Using sentence-transformers/all-distilroberta-v1 model - \n",
      " - Using sentence-transformers/distilbert-base-nli-mean-tokens model - \n"
     ]
    },
    {
     "name": "stderr",
     "output_type": "stream",
     "text": [
      "\n",
      "100%|█████████████████████████████████████████████| 6/6 [00:00<00:00, 57.99it/s]\u001B[A\n",
      " 99%|████████████████████████████████████████▋| 313/315 [00:42<00:00,  8.17it/s]"
     ]
    },
    {
     "name": "stdout",
     "output_type": "stream",
     "text": [
      " - Generating structure embeddings for Miserlou/Zappa - \n"
     ]
    },
    {
     "name": "stderr",
     "output_type": "stream",
     "text": [
      "\n",
      "  0%|                                                     | 0/6 [00:00<?, ?it/s]\u001B[A"
     ]
    },
    {
     "name": "stdout",
     "output_type": "stream",
     "text": [
      " - Using sentence-transformers/all-mpnet-base-v2 model - \n",
      " - Using sentence-transformers/multi-qa-mpnet-base-cos-v1 model - \n",
      " - Using sentence-transformers/bert-base-nli-mean-tokens model - \n",
      " - Using sentence-transformers/paraphrase-multilingual-mpnet-base-v2 model - \n",
      " - Using sentence-transformers/all-distilroberta-v1 model - \n"
     ]
    },
    {
     "name": "stderr",
     "output_type": "stream",
     "text": [
      "\n",
      "100%|█████████████████████████████████████████████| 6/6 [00:00<00:00, 50.83it/s]\u001B[A"
     ]
    },
    {
     "name": "stdout",
     "output_type": "stream",
     "text": [
      " - Using sentence-transformers/distilbert-base-nli-mean-tokens model - \n"
     ]
    },
    {
     "name": "stderr",
     "output_type": "stream",
     "text": [
      "\n",
      "\r",
      "100%|████████████████████████████████████████▊| 314/315 [00:42<00:00,  8.23it/s]"
     ]
    },
    {
     "name": "stdout",
     "output_type": "stream",
     "text": [
      " - Generating structure embeddings for jek/blinker - \n"
     ]
    },
    {
     "name": "stderr",
     "output_type": "stream",
     "text": [
      "\n",
      "  0%|                                                     | 0/6 [00:00<?, ?it/s]\u001B[A"
     ]
    },
    {
     "name": "stdout",
     "output_type": "stream",
     "text": [
      " - Using sentence-transformers/all-mpnet-base-v2 model - \n",
      " - Using sentence-transformers/multi-qa-mpnet-base-cos-v1 model - \n",
      " - Using sentence-transformers/bert-base-nli-mean-tokens model - \n",
      " - Using sentence-transformers/paraphrase-multilingual-mpnet-base-v2 model - \n",
      " - Using sentence-transformers/all-distilroberta-v1 model - \n"
     ]
    },
    {
     "name": "stderr",
     "output_type": "stream",
     "text": [
      "\n",
      "100%|█████████████████████████████████████████████| 6/6 [00:00<00:00, 48.36it/s]\u001B[A\n",
      "100%|█████████████████████████████████████████| 315/315 [00:42<00:00,  7.37it/s]"
     ]
    },
    {
     "name": "stdout",
     "output_type": "stream",
     "text": [
      " - Using sentence-transformers/distilbert-base-nli-mean-tokens model - \n"
     ]
    },
    {
     "name": "stderr",
     "output_type": "stream",
     "text": [
      "\n"
     ]
    }
   ],
   "source": [
    "from tqdm import tqdm\n",
    "\n",
    "for repo_name, repo_dict in tqdm(repo_info.items()):\n",
    "    print(f\" - Generating structure embeddings for {repo_name} - \")\n",
    "    repo_dict[\"structure_embeddings\"] = get_embeddings(input_data=repo_dict[\"structure\"], input_mode=\"structure\")"
   ]
  },
  {
   "cell_type": "markdown",
   "metadata": {},
   "source": [
    "## 4. Saving structure embeddings"
   ]
  },
  {
   "cell_type": "code",
   "execution_count": 10,
   "metadata": {},
   "outputs": [],
   "source": [
    "with open(\"repo_info_train_structure_embeddings.pkl\", \"wb\") as f:\n",
    "    pickle.dump(repo_info, f)\n",
    "    f.close()"
   ]
  },
  {
   "cell_type": "markdown",
   "metadata": {},
   "source": [
    "## 5. Calculating similarity"
   ]
  },
  {
   "cell_type": "code",
   "execution_count": 11,
   "metadata": {},
   "outputs": [
    {
     "name": "stderr",
     "output_type": "stream",
     "text": [
      "100%|████████████████████████████████████| 49455/49455 [05:23<00:00, 152.65it/s]\n"
     ]
    },
    {
     "data": {
      "text/html": [
       "<div>\n",
       "<style scoped>\n",
       "    .dataframe tbody tr th:only-of-type {\n",
       "        vertical-align: middle;\n",
       "    }\n",
       "\n",
       "    .dataframe tbody tr th {\n",
       "        vertical-align: top;\n",
       "    }\n",
       "\n",
       "    .dataframe thead th {\n",
       "        text-align: right;\n",
       "    }\n",
       "</style>\n",
       "<table border=\"1\" class=\"dataframe\">\n",
       "  <thead>\n",
       "    <tr style=\"text-align: right;\">\n",
       "      <th></th>\n",
       "      <th>repo1</th>\n",
       "      <th>repo2</th>\n",
       "      <th>topic1</th>\n",
       "      <th>topic2</th>\n",
       "      <th>sentence-transformers/all-mpnet-base-v2</th>\n",
       "      <th>sentence-transformers/multi-qa-mpnet-base-cos-v1</th>\n",
       "      <th>sentence-transformers/bert-base-nli-mean-tokens</th>\n",
       "      <th>sentence-transformers/paraphrase-multilingual-mpnet-base-v2</th>\n",
       "      <th>sentence-transformers/all-distilroberta-v1</th>\n",
       "      <th>sentence-transformers/distilbert-base-nli-mean-tokens</th>\n",
       "    </tr>\n",
       "  </thead>\n",
       "  <tbody>\n",
       "    <tr>\n",
       "      <th>0</th>\n",
       "      <td>jet-admin/jet-bridge</td>\n",
       "      <td>patrys/httmock</td>\n",
       "      <td>Admin Panels</td>\n",
       "      <td>Mock</td>\n",
       "      <td>0.349409</td>\n",
       "      <td>0.262993</td>\n",
       "      <td>0.805547</td>\n",
       "      <td>0.407026</td>\n",
       "      <td>0.230186</td>\n",
       "      <td>0.734720</td>\n",
       "    </tr>\n",
       "    <tr>\n",
       "      <th>1</th>\n",
       "      <td>jet-admin/jet-bridge</td>\n",
       "      <td>pytransitions/transitions</td>\n",
       "      <td>Admin Panels</td>\n",
       "      <td>Design Patterns</td>\n",
       "      <td>0.349409</td>\n",
       "      <td>0.262993</td>\n",
       "      <td>0.805547</td>\n",
       "      <td>0.407026</td>\n",
       "      <td>0.230186</td>\n",
       "      <td>0.734720</td>\n",
       "    </tr>\n",
       "    <tr>\n",
       "      <th>2</th>\n",
       "      <td>jet-admin/jet-bridge</td>\n",
       "      <td>keleshev/schema</td>\n",
       "      <td>Admin Panels</td>\n",
       "      <td>Data Validation</td>\n",
       "      <td>0.349409</td>\n",
       "      <td>0.262993</td>\n",
       "      <td>0.805547</td>\n",
       "      <td>0.407026</td>\n",
       "      <td>0.230186</td>\n",
       "      <td>0.734720</td>\n",
       "    </tr>\n",
       "    <tr>\n",
       "      <th>3</th>\n",
       "      <td>jet-admin/jet-bridge</td>\n",
       "      <td>dylanaraps/pywal</td>\n",
       "      <td>Admin Panels</td>\n",
       "      <td>Image Processing</td>\n",
       "      <td>0.349409</td>\n",
       "      <td>0.262993</td>\n",
       "      <td>0.805547</td>\n",
       "      <td>0.407026</td>\n",
       "      <td>0.230186</td>\n",
       "      <td>0.734720</td>\n",
       "    </tr>\n",
       "    <tr>\n",
       "      <th>4</th>\n",
       "      <td>jet-admin/jet-bridge</td>\n",
       "      <td>PyCQA/modernize</td>\n",
       "      <td>Admin Panels</td>\n",
       "      <td>Compatibility</td>\n",
       "      <td>0.349409</td>\n",
       "      <td>0.262993</td>\n",
       "      <td>0.805547</td>\n",
       "      <td>0.407026</td>\n",
       "      <td>0.230186</td>\n",
       "      <td>0.734720</td>\n",
       "    </tr>\n",
       "    <tr>\n",
       "      <th>...</th>\n",
       "      <td>...</td>\n",
       "      <td>...</td>\n",
       "      <td>...</td>\n",
       "      <td>...</td>\n",
       "      <td>...</td>\n",
       "      <td>...</td>\n",
       "      <td>...</td>\n",
       "      <td>...</td>\n",
       "      <td>...</td>\n",
       "      <td>...</td>\n",
       "    </tr>\n",
       "    <tr>\n",
       "      <th>49450</th>\n",
       "      <td>thauber/django-schedule</td>\n",
       "      <td>Miserlou/Zappa</td>\n",
       "      <td>Job Scheduler</td>\n",
       "      <td>Serverless Frameworks</td>\n",
       "      <td>1.000000</td>\n",
       "      <td>1.000000</td>\n",
       "      <td>1.000000</td>\n",
       "      <td>1.000000</td>\n",
       "      <td>1.000000</td>\n",
       "      <td>1.000000</td>\n",
       "    </tr>\n",
       "    <tr>\n",
       "      <th>49451</th>\n",
       "      <td>thauber/django-schedule</td>\n",
       "      <td>jek/blinker</td>\n",
       "      <td>Job Scheduler</td>\n",
       "      <td>Miscellaneous</td>\n",
       "      <td>0.307777</td>\n",
       "      <td>0.256808</td>\n",
       "      <td>0.733963</td>\n",
       "      <td>0.512314</td>\n",
       "      <td>0.321762</td>\n",
       "      <td>0.698452</td>\n",
       "    </tr>\n",
       "    <tr>\n",
       "      <th>49452</th>\n",
       "      <td>Yelp/mrjob</td>\n",
       "      <td>Miserlou/Zappa</td>\n",
       "      <td>Batch Processing</td>\n",
       "      <td>Serverless Frameworks</td>\n",
       "      <td>0.430661</td>\n",
       "      <td>0.492021</td>\n",
       "      <td>0.851043</td>\n",
       "      <td>0.621766</td>\n",
       "      <td>0.515186</td>\n",
       "      <td>0.761981</td>\n",
       "    </tr>\n",
       "    <tr>\n",
       "      <th>49453</th>\n",
       "      <td>Yelp/mrjob</td>\n",
       "      <td>jek/blinker</td>\n",
       "      <td>Batch Processing</td>\n",
       "      <td>Miscellaneous</td>\n",
       "      <td>0.262423</td>\n",
       "      <td>0.228024</td>\n",
       "      <td>0.738889</td>\n",
       "      <td>0.436715</td>\n",
       "      <td>0.298822</td>\n",
       "      <td>0.746545</td>\n",
       "    </tr>\n",
       "    <tr>\n",
       "      <th>49454</th>\n",
       "      <td>Miserlou/Zappa</td>\n",
       "      <td>jek/blinker</td>\n",
       "      <td>Serverless Frameworks</td>\n",
       "      <td>Miscellaneous</td>\n",
       "      <td>0.307777</td>\n",
       "      <td>0.256808</td>\n",
       "      <td>0.733963</td>\n",
       "      <td>0.512314</td>\n",
       "      <td>0.321762</td>\n",
       "      <td>0.698452</td>\n",
       "    </tr>\n",
       "  </tbody>\n",
       "</table>\n",
       "<p>49455 rows × 10 columns</p>\n",
       "</div>"
      ],
      "text/plain": [
       "                         repo1                      repo2  \\\n",
       "0         jet-admin/jet-bridge             patrys/httmock   \n",
       "1         jet-admin/jet-bridge  pytransitions/transitions   \n",
       "2         jet-admin/jet-bridge            keleshev/schema   \n",
       "3         jet-admin/jet-bridge           dylanaraps/pywal   \n",
       "4         jet-admin/jet-bridge            PyCQA/modernize   \n",
       "...                        ...                        ...   \n",
       "49450  thauber/django-schedule             Miserlou/Zappa   \n",
       "49451  thauber/django-schedule                jek/blinker   \n",
       "49452               Yelp/mrjob             Miserlou/Zappa   \n",
       "49453               Yelp/mrjob                jek/blinker   \n",
       "49454           Miserlou/Zappa                jek/blinker   \n",
       "\n",
       "                      topic1                 topic2  \\\n",
       "0               Admin Panels                   Mock   \n",
       "1               Admin Panels        Design Patterns   \n",
       "2               Admin Panels        Data Validation   \n",
       "3               Admin Panels       Image Processing   \n",
       "4               Admin Panels          Compatibility   \n",
       "...                      ...                    ...   \n",
       "49450          Job Scheduler  Serverless Frameworks   \n",
       "49451          Job Scheduler          Miscellaneous   \n",
       "49452       Batch Processing  Serverless Frameworks   \n",
       "49453       Batch Processing          Miscellaneous   \n",
       "49454  Serverless Frameworks          Miscellaneous   \n",
       "\n",
       "       sentence-transformers/all-mpnet-base-v2  \\\n",
       "0                                     0.349409   \n",
       "1                                     0.349409   \n",
       "2                                     0.349409   \n",
       "3                                     0.349409   \n",
       "4                                     0.349409   \n",
       "...                                        ...   \n",
       "49450                                 1.000000   \n",
       "49451                                 0.307777   \n",
       "49452                                 0.430661   \n",
       "49453                                 0.262423   \n",
       "49454                                 0.307777   \n",
       "\n",
       "       sentence-transformers/multi-qa-mpnet-base-cos-v1  \\\n",
       "0                                              0.262993   \n",
       "1                                              0.262993   \n",
       "2                                              0.262993   \n",
       "3                                              0.262993   \n",
       "4                                              0.262993   \n",
       "...                                                 ...   \n",
       "49450                                          1.000000   \n",
       "49451                                          0.256808   \n",
       "49452                                          0.492021   \n",
       "49453                                          0.228024   \n",
       "49454                                          0.256808   \n",
       "\n",
       "       sentence-transformers/bert-base-nli-mean-tokens  \\\n",
       "0                                             0.805547   \n",
       "1                                             0.805547   \n",
       "2                                             0.805547   \n",
       "3                                             0.805547   \n",
       "4                                             0.805547   \n",
       "...                                                ...   \n",
       "49450                                         1.000000   \n",
       "49451                                         0.733963   \n",
       "49452                                         0.851043   \n",
       "49453                                         0.738889   \n",
       "49454                                         0.733963   \n",
       "\n",
       "       sentence-transformers/paraphrase-multilingual-mpnet-base-v2  \\\n",
       "0                                               0.407026             \n",
       "1                                               0.407026             \n",
       "2                                               0.407026             \n",
       "3                                               0.407026             \n",
       "4                                               0.407026             \n",
       "...                                                  ...             \n",
       "49450                                           1.000000             \n",
       "49451                                           0.512314             \n",
       "49452                                           0.621766             \n",
       "49453                                           0.436715             \n",
       "49454                                           0.512314             \n",
       "\n",
       "       sentence-transformers/all-distilroberta-v1  \\\n",
       "0                                        0.230186   \n",
       "1                                        0.230186   \n",
       "2                                        0.230186   \n",
       "3                                        0.230186   \n",
       "4                                        0.230186   \n",
       "...                                           ...   \n",
       "49450                                    1.000000   \n",
       "49451                                    0.321762   \n",
       "49452                                    0.515186   \n",
       "49453                                    0.298822   \n",
       "49454                                    0.321762   \n",
       "\n",
       "       sentence-transformers/distilbert-base-nli-mean-tokens  \n",
       "0                                               0.734720      \n",
       "1                                               0.734720      \n",
       "2                                               0.734720      \n",
       "3                                               0.734720      \n",
       "4                                               0.734720      \n",
       "...                                                  ...      \n",
       "49450                                           1.000000      \n",
       "49451                                           0.698452      \n",
       "49452                                           0.761981      \n",
       "49453                                           0.746545      \n",
       "49454                                           0.698452      \n",
       "\n",
       "[49455 rows x 10 columns]"
      ]
     },
     "execution_count": 11,
     "metadata": {},
     "output_type": "execute_result"
    }
   ],
   "source": [
    "from torch.nn import CosineSimilarity\n",
    "from itertools import combinations\n",
    "import pandas as pd\n",
    "\n",
    "cossim = CosineSimilarity(dim=0, eps=1e-8)\n",
    "res = []\n",
    "num_of_repos = len(repo_info)\n",
    "num_of_rows = num_of_repos * (num_of_repos - 1) // 2\n",
    "\n",
    "# Update !!!\n",
    "models = sentence_transformer_model_names\n",
    "\n",
    "for repo1, repo2 in tqdm(combinations(repo_info.keys(), 2), total=num_of_rows):\n",
    "    row = [repo1, repo2, repo_info[repo1][\"topic\"], repo_info[repo2][\"topic\"]]\n",
    "    for model_name in models:\n",
    "\n",
    "        if type(repo_info[repo1][\"structure_embeddings\"]) is torch.Tensor:\n",
    "            embedding1 = repo_info[repo1][\"structure_embeddings\"]\n",
    "        else:\n",
    "            embedding1 = repo_info[repo1][\"structure_embeddings\"][model_name]\n",
    "\n",
    "        if type(repo_info[repo2][\"structure_embeddings\"]) is torch.Tensor:\n",
    "            embedding2 = repo_info[repo2][\"structure_embeddings\"]\n",
    "        else:\n",
    "            embedding2 = repo_info[repo2][\"structure_embeddings\"][model_name]\n",
    "\n",
    "        similarity = cossim(embedding1, embedding2).cpu().detach().numpy().item()\n",
    "        row.append(similarity)\n",
    "\n",
    "    res.append(row)\n",
    "\n",
    "df = pd.DataFrame(res, columns=[\"repo1\", \"repo2\", \"topic1\", \"topic2\"] + models)\n",
    "df"
   ]
  },
  {
   "cell_type": "code",
   "execution_count": 12,
   "metadata": {},
   "outputs": [
    {
     "data": {
      "text/html": [
       "<div>\n",
       "<style scoped>\n",
       "    .dataframe tbody tr th:only-of-type {\n",
       "        vertical-align: middle;\n",
       "    }\n",
       "\n",
       "    .dataframe tbody tr th {\n",
       "        vertical-align: top;\n",
       "    }\n",
       "\n",
       "    .dataframe thead th {\n",
       "        text-align: right;\n",
       "    }\n",
       "</style>\n",
       "<table border=\"1\" class=\"dataframe\">\n",
       "  <thead>\n",
       "    <tr style=\"text-align: right;\">\n",
       "      <th></th>\n",
       "      <th>repo1</th>\n",
       "      <th>repo2</th>\n",
       "      <th>topic1</th>\n",
       "      <th>topic2</th>\n",
       "      <th>sentence-transformers/all-mpnet-base-v2</th>\n",
       "      <th>sentence-transformers/multi-qa-mpnet-base-cos-v1</th>\n",
       "      <th>sentence-transformers/bert-base-nli-mean-tokens</th>\n",
       "      <th>sentence-transformers/paraphrase-multilingual-mpnet-base-v2</th>\n",
       "      <th>sentence-transformers/all-distilroberta-v1</th>\n",
       "      <th>sentence-transformers/distilbert-base-nli-mean-tokens</th>\n",
       "    </tr>\n",
       "  </thead>\n",
       "  <tbody>\n",
       "    <tr>\n",
       "      <th>0</th>\n",
       "      <td>jet-admin/jet-bridge</td>\n",
       "      <td>patrys/httmock</td>\n",
       "      <td>Admin Panels</td>\n",
       "      <td>Mock</td>\n",
       "      <td>0.349409</td>\n",
       "      <td>0.262993</td>\n",
       "      <td>0.805547</td>\n",
       "      <td>0.407026</td>\n",
       "      <td>0.230186</td>\n",
       "      <td>0.734720</td>\n",
       "    </tr>\n",
       "    <tr>\n",
       "      <th>1</th>\n",
       "      <td>jet-admin/jet-bridge</td>\n",
       "      <td>pytransitions/transitions</td>\n",
       "      <td>Admin Panels</td>\n",
       "      <td>Design Patterns</td>\n",
       "      <td>0.349409</td>\n",
       "      <td>0.262993</td>\n",
       "      <td>0.805547</td>\n",
       "      <td>0.407026</td>\n",
       "      <td>0.230186</td>\n",
       "      <td>0.734720</td>\n",
       "    </tr>\n",
       "    <tr>\n",
       "      <th>2</th>\n",
       "      <td>jet-admin/jet-bridge</td>\n",
       "      <td>keleshev/schema</td>\n",
       "      <td>Admin Panels</td>\n",
       "      <td>Data Validation</td>\n",
       "      <td>0.349409</td>\n",
       "      <td>0.262993</td>\n",
       "      <td>0.805547</td>\n",
       "      <td>0.407026</td>\n",
       "      <td>0.230186</td>\n",
       "      <td>0.734720</td>\n",
       "    </tr>\n",
       "    <tr>\n",
       "      <th>3</th>\n",
       "      <td>jet-admin/jet-bridge</td>\n",
       "      <td>dylanaraps/pywal</td>\n",
       "      <td>Admin Panels</td>\n",
       "      <td>Image Processing</td>\n",
       "      <td>0.349409</td>\n",
       "      <td>0.262993</td>\n",
       "      <td>0.805547</td>\n",
       "      <td>0.407026</td>\n",
       "      <td>0.230186</td>\n",
       "      <td>0.734720</td>\n",
       "    </tr>\n",
       "    <tr>\n",
       "      <th>4</th>\n",
       "      <td>jet-admin/jet-bridge</td>\n",
       "      <td>PyCQA/modernize</td>\n",
       "      <td>Admin Panels</td>\n",
       "      <td>Compatibility</td>\n",
       "      <td>0.349409</td>\n",
       "      <td>0.262993</td>\n",
       "      <td>0.805547</td>\n",
       "      <td>0.407026</td>\n",
       "      <td>0.230186</td>\n",
       "      <td>0.734720</td>\n",
       "    </tr>\n",
       "    <tr>\n",
       "      <th>...</th>\n",
       "      <td>...</td>\n",
       "      <td>...</td>\n",
       "      <td>...</td>\n",
       "      <td>...</td>\n",
       "      <td>...</td>\n",
       "      <td>...</td>\n",
       "      <td>...</td>\n",
       "      <td>...</td>\n",
       "      <td>...</td>\n",
       "      <td>...</td>\n",
       "    </tr>\n",
       "    <tr>\n",
       "      <th>49450</th>\n",
       "      <td>thauber/django-schedule</td>\n",
       "      <td>Miserlou/Zappa</td>\n",
       "      <td>Job Scheduler</td>\n",
       "      <td>Serverless Frameworks</td>\n",
       "      <td>1.000000</td>\n",
       "      <td>1.000000</td>\n",
       "      <td>1.000000</td>\n",
       "      <td>1.000000</td>\n",
       "      <td>1.000000</td>\n",
       "      <td>1.000000</td>\n",
       "    </tr>\n",
       "    <tr>\n",
       "      <th>49451</th>\n",
       "      <td>thauber/django-schedule</td>\n",
       "      <td>jek/blinker</td>\n",
       "      <td>Job Scheduler</td>\n",
       "      <td>Miscellaneous</td>\n",
       "      <td>0.307777</td>\n",
       "      <td>0.256808</td>\n",
       "      <td>0.733963</td>\n",
       "      <td>0.512314</td>\n",
       "      <td>0.321762</td>\n",
       "      <td>0.698452</td>\n",
       "    </tr>\n",
       "    <tr>\n",
       "      <th>49452</th>\n",
       "      <td>Yelp/mrjob</td>\n",
       "      <td>Miserlou/Zappa</td>\n",
       "      <td>Batch Processing</td>\n",
       "      <td>Serverless Frameworks</td>\n",
       "      <td>0.430661</td>\n",
       "      <td>0.492021</td>\n",
       "      <td>0.851043</td>\n",
       "      <td>0.621766</td>\n",
       "      <td>0.515186</td>\n",
       "      <td>0.761981</td>\n",
       "    </tr>\n",
       "    <tr>\n",
       "      <th>49453</th>\n",
       "      <td>Yelp/mrjob</td>\n",
       "      <td>jek/blinker</td>\n",
       "      <td>Batch Processing</td>\n",
       "      <td>Miscellaneous</td>\n",
       "      <td>0.262423</td>\n",
       "      <td>0.228024</td>\n",
       "      <td>0.738889</td>\n",
       "      <td>0.436715</td>\n",
       "      <td>0.298822</td>\n",
       "      <td>0.746545</td>\n",
       "    </tr>\n",
       "    <tr>\n",
       "      <th>49454</th>\n",
       "      <td>Miserlou/Zappa</td>\n",
       "      <td>jek/blinker</td>\n",
       "      <td>Serverless Frameworks</td>\n",
       "      <td>Miscellaneous</td>\n",
       "      <td>0.307777</td>\n",
       "      <td>0.256808</td>\n",
       "      <td>0.733963</td>\n",
       "      <td>0.512314</td>\n",
       "      <td>0.321762</td>\n",
       "      <td>0.698452</td>\n",
       "    </tr>\n",
       "  </tbody>\n",
       "</table>\n",
       "<p>49455 rows × 10 columns</p>\n",
       "</div>"
      ],
      "text/plain": [
       "                         repo1                      repo2  \\\n",
       "0         jet-admin/jet-bridge             patrys/httmock   \n",
       "1         jet-admin/jet-bridge  pytransitions/transitions   \n",
       "2         jet-admin/jet-bridge            keleshev/schema   \n",
       "3         jet-admin/jet-bridge           dylanaraps/pywal   \n",
       "4         jet-admin/jet-bridge            PyCQA/modernize   \n",
       "...                        ...                        ...   \n",
       "49450  thauber/django-schedule             Miserlou/Zappa   \n",
       "49451  thauber/django-schedule                jek/blinker   \n",
       "49452               Yelp/mrjob             Miserlou/Zappa   \n",
       "49453               Yelp/mrjob                jek/blinker   \n",
       "49454           Miserlou/Zappa                jek/blinker   \n",
       "\n",
       "                      topic1                 topic2  \\\n",
       "0               Admin Panels                   Mock   \n",
       "1               Admin Panels        Design Patterns   \n",
       "2               Admin Panels        Data Validation   \n",
       "3               Admin Panels       Image Processing   \n",
       "4               Admin Panels          Compatibility   \n",
       "...                      ...                    ...   \n",
       "49450          Job Scheduler  Serverless Frameworks   \n",
       "49451          Job Scheduler          Miscellaneous   \n",
       "49452       Batch Processing  Serverless Frameworks   \n",
       "49453       Batch Processing          Miscellaneous   \n",
       "49454  Serverless Frameworks          Miscellaneous   \n",
       "\n",
       "       sentence-transformers/all-mpnet-base-v2  \\\n",
       "0                                     0.349409   \n",
       "1                                     0.349409   \n",
       "2                                     0.349409   \n",
       "3                                     0.349409   \n",
       "4                                     0.349409   \n",
       "...                                        ...   \n",
       "49450                                 1.000000   \n",
       "49451                                 0.307777   \n",
       "49452                                 0.430661   \n",
       "49453                                 0.262423   \n",
       "49454                                 0.307777   \n",
       "\n",
       "       sentence-transformers/multi-qa-mpnet-base-cos-v1  \\\n",
       "0                                              0.262993   \n",
       "1                                              0.262993   \n",
       "2                                              0.262993   \n",
       "3                                              0.262993   \n",
       "4                                              0.262993   \n",
       "...                                                 ...   \n",
       "49450                                          1.000000   \n",
       "49451                                          0.256808   \n",
       "49452                                          0.492021   \n",
       "49453                                          0.228024   \n",
       "49454                                          0.256808   \n",
       "\n",
       "       sentence-transformers/bert-base-nli-mean-tokens  \\\n",
       "0                                             0.805547   \n",
       "1                                             0.805547   \n",
       "2                                             0.805547   \n",
       "3                                             0.805547   \n",
       "4                                             0.805547   \n",
       "...                                                ...   \n",
       "49450                                         1.000000   \n",
       "49451                                         0.733963   \n",
       "49452                                         0.851043   \n",
       "49453                                         0.738889   \n",
       "49454                                         0.733963   \n",
       "\n",
       "       sentence-transformers/paraphrase-multilingual-mpnet-base-v2  \\\n",
       "0                                               0.407026             \n",
       "1                                               0.407026             \n",
       "2                                               0.407026             \n",
       "3                                               0.407026             \n",
       "4                                               0.407026             \n",
       "...                                                  ...             \n",
       "49450                                           1.000000             \n",
       "49451                                           0.512314             \n",
       "49452                                           0.621766             \n",
       "49453                                           0.436715             \n",
       "49454                                           0.512314             \n",
       "\n",
       "       sentence-transformers/all-distilroberta-v1  \\\n",
       "0                                        0.230186   \n",
       "1                                        0.230186   \n",
       "2                                        0.230186   \n",
       "3                                        0.230186   \n",
       "4                                        0.230186   \n",
       "...                                           ...   \n",
       "49450                                    1.000000   \n",
       "49451                                    0.321762   \n",
       "49452                                    0.515186   \n",
       "49453                                    0.298822   \n",
       "49454                                    0.321762   \n",
       "\n",
       "       sentence-transformers/distilbert-base-nli-mean-tokens  \n",
       "0                                               0.734720      \n",
       "1                                               0.734720      \n",
       "2                                               0.734720      \n",
       "3                                               0.734720      \n",
       "4                                               0.734720      \n",
       "...                                                  ...      \n",
       "49450                                           1.000000      \n",
       "49451                                           0.698452      \n",
       "49452                                           0.761981      \n",
       "49453                                           0.746545      \n",
       "49454                                           0.698452      \n",
       "\n",
       "[49455 rows x 10 columns]"
      ]
     },
     "execution_count": 12,
     "metadata": {},
     "output_type": "execute_result"
    }
   ],
   "source": [
    "df.dropna(inplace=True, subset=models)\n",
    "df.reset_index(drop=True, inplace=True)\n",
    "df"
   ]
  },
  {
   "cell_type": "code",
   "execution_count": 13,
   "metadata": {},
   "outputs": [],
   "source": [
    "df.to_csv(\"structure_embedding_evaluation_train_315.csv\")"
   ]
  },
  {
   "cell_type": "markdown",
   "metadata": {},
   "source": [
    "## 6. Evaluating different models"
   ]
  },
  {
   "cell_type": "code",
   "execution_count": 14,
   "metadata": {},
   "outputs": [
    {
     "name": "stderr",
     "output_type": "stream",
     "text": [
      "The PostScript backend does not support transparency; partially transparent artists will be rendered opaque.\n"
     ]
    },
    {
     "data": {
      "image/png": "[encoded data removed]",
      "text/plain": [
       "<Figure size 1200x1000 with 1 Axes>"
      ]
     },
     "metadata": {},
     "output_type": "display_data"
    }
   ],
   "source": [
    "from sklearn.metrics import roc_curve, auc\n",
    "import matplotlib.pyplot as plt\n",
    "\n",
    "model_auc = {}\n",
    "y_true = df['topic1'] == df['topic2']\n",
    "fig = plt.figure(figsize=(12, 10))\n",
    "\n",
    "\n",
    "def roc(model_name):\n",
    "    y_score = df[model_name]\n",
    "    fpr, tpr, thresholds = roc_curve(y_true, y_score)\n",
    "    roc_auc = auc(fpr, tpr)\n",
    "    model_auc[model_name] = roc_auc\n",
    "\n",
    "    plt.plot(fpr, tpr, label=model_name)\n",
    "\n",
    "\n",
    "for model in models:\n",
    "    roc(model)\n",
    "\n",
    "# Order labels by each model's auc score\n",
    "handles, labels = plt.gca().get_legend_handles_labels()\n",
    "order = sorted(range(len(labels)), key=lambda k: -model_auc[labels[k]])\n",
    "ordered_handles = [handles[idx] for idx in order]\n",
    "ordered_labels = [f'{labels[idx]} (AUC = {model_auc[labels[idx]]:.3f})' for idx in order]\n",
    "plt.legend(ordered_handles, ordered_labels, loc=\"lower right\")\n",
    "\n",
    "plt.plot([0, 1], [0, 1], 'k--', label='Random guess')\n",
    "plt.xlim([0.0, 1.0])\n",
    "plt.ylim([0.0, 1.05])\n",
    "plt.xlabel('False Positive Rate')\n",
    "plt.ylabel('True Positive Rate')\n",
    "plt.title(f'Receiver Operating Characteristic of different models')\n",
    "plt.savefig('roc_structure_evaluation_train_315.eps')\n",
    "plt.show()"
   ]
  },
  {
   "cell_type": "code",
   "execution_count": 15,
   "metadata": {},
   "outputs": [
    {
     "data": {
      "text/plain": [
       "{'sentence-transformers/all-mpnet-base-v2': 0.5138861193199707,\n",
       " 'sentence-transformers/multi-qa-mpnet-base-cos-v1': 0.5144395338680003,\n",
       " 'sentence-transformers/bert-base-nli-mean-tokens': 0.5225956647141325,\n",
       " 'sentence-transformers/paraphrase-multilingual-mpnet-base-v2': 0.5175792027768531,\n",
       " 'sentence-transformers/all-distilroberta-v1': 0.5166103053448543,\n",
       " 'sentence-transformers/distilbert-base-nli-mean-tokens': 0.5109808296382766}"
      ]
     },
     "execution_count": 15,
     "metadata": {},
     "output_type": "execute_result"
    }
   ],
   "source": [
    "model_auc"
   ]
  },
  {
   "cell_type": "code",
   "execution_count": null,
   "metadata": {},
   "outputs": [],
   "source": []
  }
 ],
 "metadata": {
  "kernelspec": {
   "display_name": "Python 3 (ipykernel)",
   "language": "python",
   "name": "python3"
  },
  "language_info": {
   "codemirror_mode": {
    "name": "ipython",
    "version": 3
   },
   "file_extension": ".py",
   "mimetype": "text/x-python",
   "name": "python",
   "nbconvert_exporter": "python",
   "pygments_lexer": "ipython3",
   "version": "3.10.9"
  }
 },
 "nbformat": 4,
 "nbformat_minor": 1
}
