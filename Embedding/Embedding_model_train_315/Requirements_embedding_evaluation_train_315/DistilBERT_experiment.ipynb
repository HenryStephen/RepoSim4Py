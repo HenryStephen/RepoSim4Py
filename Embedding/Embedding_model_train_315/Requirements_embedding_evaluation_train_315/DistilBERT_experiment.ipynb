{
 "cells": [
  {
   "cell_type": "code",
   "execution_count": 45,
   "id": "75a99157",
   "metadata": {},
   "outputs": [
    {
     "name": "stderr",
     "output_type": "stream",
     "text": [
      "Some weights of the model checkpoint at distilbert-base-uncased were not used when initializing DistilBertModel: ['vocab_projector.bias', 'vocab_layer_norm.bias', 'vocab_transform.weight', 'vocab_transform.bias', 'vocab_layer_norm.weight']\n",
      "- This IS expected if you are initializing DistilBertModel from the checkpoint of a model trained on another task or with another architecture (e.g. initializing a BertForSequenceClassification model from a BertForPreTraining model).\n",
      "- This IS NOT expected if you are initializing DistilBertModel from the checkpoint of a model that you expect to be exactly identical (initializing a BertForSequenceClassification model from a BertForSequenceClassification model).\n"
     ]
    }
   ],
   "source": [
    "from transformers import AutoTokenizer, DistilBertModel\n",
    "import torch\n",
    "\n",
    "tokenizer = AutoTokenizer.from_pretrained(\"distilbert-base-uncased\")\n",
    "model = DistilBertModel.from_pretrained(\"distilbert-base-uncased\")\n",
    "\n",
    "inputs1 = tokenizer(\"I like you, you also like me\", return_tensors=\"pt\")\n",
    "outputs1 = model(**inputs1)\n",
    "last_hidden_states1 = outputs.last_hidden_state"
   ]
  },
  {
   "cell_type": "code",
   "execution_count": 46,
   "id": "cdf8c266",
   "metadata": {},
   "outputs": [
    {
     "data": {
      "text/plain": [
       "torch.Size([768])"
      ]
     },
     "execution_count": 46,
     "metadata": {},
     "output_type": "execute_result"
    }
   ],
   "source": [
    "embedding1 = torch.mean(last_hidden_states1, dim=1)\n",
    "\n",
    "embedding1 = embedding1.reshape(768)\n",
    "embedding1.shape"
   ]
  },
  {
   "cell_type": "code",
   "execution_count": 65,
   "id": "18cea981",
   "metadata": {},
   "outputs": [],
   "source": [
    "inputs2 = tokenizer(\"I love you, you love me\", return_tensors=\"pt\")\n",
    "outputs2 = model(**inputs2)\n",
    "last_hidden_states2 = outputs2.last_hidden_state"
   ]
  },
  {
   "cell_type": "code",
   "execution_count": 66,
   "id": "1591322e",
   "metadata": {},
   "outputs": [
    {
     "data": {
      "text/plain": [
       "torch.Size([768])"
      ]
     },
     "execution_count": 66,
     "metadata": {},
     "output_type": "execute_result"
    }
   ],
   "source": [
    "embedding2 = torch.mean(last_hidden_states2, dim=1)\n",
    "embedding2 = embedding2.reshape(768)\n",
    "embedding2.shape"
   ]
  },
  {
   "cell_type": "code",
   "execution_count": 67,
   "id": "4d56d9e0",
   "metadata": {},
   "outputs": [
    {
     "data": {
      "text/plain": [
       "0.8594512939453125"
      ]
     },
     "execution_count": 67,
     "metadata": {},
     "output_type": "execute_result"
    }
   ],
   "source": [
    "from torch.nn import CosineSimilarity\n",
    "\n",
    "cossim = CosineSimilarity(dim=0, eps=1e-8)\n",
    "similarity = cossim(embedding1, embedding2).cpu().detach().numpy().item()\n",
    "similarity"
   ]
  },
  {
   "cell_type": "code",
   "execution_count": 19,
   "id": "7f7d2919",
   "metadata": {},
   "outputs": [
    {
     "data": {
      "text/plain": [
       "torch.Size([1, 768])"
      ]
     },
     "execution_count": 19,
     "metadata": {},
     "output_type": "execute_result"
    }
   ],
   "source": [
    "from sentence_transformers import SentenceTransformer\n",
    "\n",
    "sentence_model = SentenceTransformer(\"sentence-transformers/all-mpnet-base-v2\")\n",
    "\n",
    "sentence_embedding = sentence_model.encode([\"Hello, my dog is cut\"], convert_to_tensor=True)\n",
    "sentence_embedding.shape"
   ]
  },
  {
   "cell_type": "code",
   "execution_count": 21,
   "id": "214790ba",
   "metadata": {},
   "outputs": [
    {
     "data": {
      "text/plain": [
       "torch.Size([1, 768])"
      ]
     },
     "execution_count": 21,
     "metadata": {},
     "output_type": "execute_result"
    }
   ],
   "source": [
    "from unixcoder import UniXcoder\n",
    "\n",
    "unixcoder_model = UniXcoder(\"microsoft/unixcoder-base-nine\")\n",
    "\n",
    "tokens_ids1 = unixcoder_model.tokenize([\"Hello, my dog is cut\"], max_length=512, mode=\"<encoder-only>\")\n",
    "source_ids1 = torch.tensor(tokens_ids1)\n",
    "_, uni_embeddings1 = unixcoder_model(source_ids1)\n",
    "\n",
    "uni_embeddings1.shape"
   ]
  },
  {
   "cell_type": "code",
   "execution_count": null,
   "id": "5b0e2848",
   "metadata": {},
   "outputs": [],
   "source": []
  }
 ],
 "metadata": {
  "kernelspec": {
   "display_name": "Python 3 (ipykernel)",
   "language": "python",
   "name": "python3"
  },
  "language_info": {
   "codemirror_mode": {
    "name": "ipython",
    "version": 3
   },
   "file_extension": ".py",
   "mimetype": "text/x-python",
   "name": "python",
   "nbconvert_exporter": "python",
   "pygments_lexer": "ipython3",
   "version": "3.11.4"
  }
 },
 "nbformat": 4,
 "nbformat_minor": 5
}
