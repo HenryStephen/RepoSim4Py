{
 "cells": [
  {
   "cell_type": "markdown",
   "id": "774335bb",
   "metadata": {},
   "source": [
    "# Embedding combination (315 repositories / train set)"
   ]
  },
  {
   "cell_type": "markdown",
   "id": "b4e07f2e",
   "metadata": {},
   "source": [
    "## 1. Loading train code embeddings"
   ]
  },
  {
   "cell_type": "code",
   "execution_count": null,
   "id": "e8907bae",
   "metadata": {},
   "outputs": [
    {
     "name": "stdout",
     "output_type": "stream",
     "text": [
      "Downloading...\n",
      "From (uriginal): https://drive.google.com/uc?id=1r8nCxH5BUI7tcEHDsqdYeDAPG5YhpW9X\n",
      "From (redirected): https://drive.google.com/uc?id=1r8nCxH5BUI7tcEHDsqdYeDAPG5YhpW9X&confirm=t&uuid=d97368bd-fd80-402e-8222-1b4332b60792\n",
      "To: /Users/Henry/Documents/PyCharmProjects/RepoSim4Py/Embedding/Embedding_model_train_315/repo_info_train_code_embeddings.pkl\n",
      "  3%|█▎                                     | 191M/5.90G [01:26<17:16, 5.51MB/s]"
     ]
    }
   ],
   "source": [
    "# Need to update\n",
    "!gdown"
   ]
  },
  {
   "cell_type": "code",
   "execution_count": null,
   "id": "0a544d29",
   "metadata": {},
   "outputs": [],
   "source": [
    "import pickle\n",
    "\n",
    "with open(\"repo_info_train_code_embeddings.pkl\", \"rb\") as f:\n",
    "    repo_info_train_code_embeddings = pickle.load(f)\n",
    "    f.close()"
   ]
  },
  {
   "cell_type": "markdown",
   "id": "45ba1c0a",
   "metadata": {},
   "source": [
    "## 2. Loading train doc embeddings"
   ]
  },
  {
   "cell_type": "code",
   "execution_count": null,
   "id": "44b6702c",
   "metadata": {},
   "outputs": [],
   "source": [
    "!gdown 19A75A4XeOFL6wj7SHM2_mA8Nf398PcxW"
   ]
  },
  {
   "cell_type": "code",
   "execution_count": null,
   "id": "363da8d0",
   "metadata": {},
   "outputs": [],
   "source": [
    "with open(\"repo_info_train_doc_embeddings.pkl\", \"rb\") as f:\n",
    "    repo_info_train_doc_embeddings = pickle.load(f)\n",
    "    f.close()"
   ]
  },
  {
   "cell_type": "markdown",
   "id": "9ae3b3c7",
   "metadata": {},
   "source": [
    "## 3. Loading train structure embeddings"
   ]
  },
  {
   "cell_type": "code",
   "execution_count": null,
   "id": "885f471e",
   "metadata": {},
   "outputs": [],
   "source": [
    "!gdown 18rUC069v0x8KwdPZn1o0ptKE4I4a-Yxm"
   ]
  },
  {
   "cell_type": "code",
   "execution_count": null,
   "id": "4e118772",
   "metadata": {},
   "outputs": [],
   "source": [
    "with open(\"repo_info_train_structure_embeddings.pkl\", \"rb\") as f:\n",
    "    repo_info_train_structure_embeddings = pickle.load(f)\n",
    "    f.close()"
   ]
  },
  {
   "cell_type": "markdown",
   "id": "dd9c6109",
   "metadata": {},
   "source": [
    "## 4. Loading train requirements embeddings"
   ]
  },
  {
   "cell_type": "code",
   "execution_count": null,
   "id": "a6fe92ee",
   "metadata": {},
   "outputs": [],
   "source": [
    "!gdown 1KXSXEyYoEgCa_d7ty9fGN5hE_hXUwGyL"
   ]
  },
  {
   "cell_type": "code",
   "execution_count": null,
   "id": "54600fcf",
   "metadata": {},
   "outputs": [],
   "source": [
    "with open(\"repo_info_train_requirements_embeddings.pkl\", \"rb\") as f:\n",
    "    repo_info_train_requirements_embeddings = pickle.load(f)\n",
    "    f.close()"
   ]
  },
  {
   "cell_type": "markdown",
   "id": "421729d5",
   "metadata": {},
   "source": [
    "## 5. Loading train readme embeddings"
   ]
  },
  {
   "cell_type": "code",
   "execution_count": null,
   "id": "ff5e6969",
   "metadata": {},
   "outputs": [],
   "source": [
    "!gdown 1unQtAQXUh-18b1CFT25ehu7igbxPwSb6"
   ]
  },
  {
   "cell_type": "code",
   "execution_count": null,
   "id": "e8799ddb",
   "metadata": {},
   "outputs": [],
   "source": [
    "with open(\"repo_info_train_readme_embeddings.pkl\", \"rb\") as f:\n",
    "    repo_info_train_readme_embeddings = pickle.load(f)\n",
    "    f.close()"
   ]
  },
  {
   "cell_type": "markdown",
   "id": "8cee2c99",
   "metadata": {},
   "source": [
    "## 6. Embedding combination"
   ]
  },
  {
   "cell_type": "code",
   "execution_count": null,
   "id": "d731d28b",
   "metadata": {},
   "outputs": [],
   "source": [
    "!gdown 1sJDBLvVRvl4Sx0ICGuoM27pREIg0M756"
   ]
  },
  {
   "cell_type": "code",
   "execution_count": null,
   "id": "49d41c22",
   "metadata": {},
   "outputs": [],
   "source": [
    "with open(\"repo_info_train.pkl\", \"rb\") as f:\n",
    "    repo_info_train = pickle.load(f)\n",
    "    f.close()"
   ]
  },
  {
   "cell_type": "code",
   "execution_count": null,
   "id": "442356c1",
   "metadata": {},
   "outputs": [],
   "source": [
    "repo_info_train_embeddings = repo_info_train_code_embeddings\n",
    "\n",
    "for repo in repo_info_train:\n",
    "    repo_info_train_embeddings[repo][\"codes_embeddings\"] = repo_info_train_code_embeddings[repo][\"codes_embeddings\"]\n",
    "    repo_info_train_embeddings[repo][\"docs_embeddings\"] = repo_info_train_doc_embeddings[repo][\"docs_embeddings\"]\n",
    "    repo_info_train_embeddings[repo][\"structure_embeddings\"] = repo_info_train_structure_embeddings[repo][\"structure_embeddings\"]\n",
    "    repo_info_train_embeddings[repo][\"requirements_embeddings\"] = repo_info_train_requirements_embeddings[repo][\"requirements_embeddings\"]\n",
    "    repo_info_train_embeddings[repo][\"readme_embeddings\"] = repo_info_train_readme_embeddings[repo][\"readme_embeddings\"]"
   ]
  },
  {
   "cell_type": "code",
   "execution_count": null,
   "id": "6ba95470",
   "metadata": {},
   "outputs": [],
   "source": [
    "with open(\"repo_info_train_embeddings.pkl\", \"wb\") as f:\n",
    "    pickle.dump(repo_info_train_embeddings, f)\n",
    "    f.close()"
   ]
  },
  {
   "cell_type": "markdown",
   "id": "7cfbbce5",
   "metadata": {},
   "source": [
    "## 7. Checking the correctness"
   ]
  },
  {
   "cell_type": "code",
   "execution_count": 18,
   "id": "2e771d6f",
   "metadata": {},
   "outputs": [
    {
     "name": "stdout",
     "output_type": "stream",
     "text": [
      "Downloading...\n",
      "From (uriginal): https://drive.google.com/uc?id=1qgd2F5CxXJ27u0F-Tix96uWlBSNK7GcJ\n",
      "From (redirected): https://drive.google.com/uc?id=1qgd2F5CxXJ27u0F-Tix96uWlBSNK7GcJ&confirm=t&uuid=ef138ff8-f092-42da-bd02-c0118ed55560\n",
      "To: /Users/Henry/Documents/PyCharmProjects/RepoSim4Py/Embedding/Embedding_model_train_315/repo_info_train_embeddings.pkl\n",
      "100%|████████████████████████████████████████| 251M/251M [00:06<00:00, 36.0MB/s]\n"
     ]
    }
   ],
   "source": [
    "# Need to update\n",
    "!gdown # Making this file to a google drive link\n",
    "# Or using \"repo_info_train_embeddings.pkl\" directly"
   ]
  },
  {
   "cell_type": "code",
   "execution_count": 19,
   "id": "40291fdb",
   "metadata": {},
   "outputs": [],
   "source": [
    "with open(\"repo_info_train_embeddings.pkl\", \"rb\") as f:\n",
    "    repo_info_train_embeddings = pickle.load(f)\n",
    "    f.close()"
   ]
  },
  {
   "cell_type": "code",
   "execution_count": 20,
   "id": "fb53ee40",
   "metadata": {},
   "outputs": [
    {
     "data": {
      "text/plain": [
       "dict_keys(['docs', 'codes', 'structure', 'requirements', 'readme', 'topic', 'codes_embeddings', 'docs_embeddings', 'structure_embeddings', 'requirements_embeddings', 'readme_embeddings'])"
      ]
     },
     "execution_count": 20,
     "metadata": {},
     "output_type": "execute_result"
    }
   ],
   "source": [
    "next(iter(repo_info_train_embeddings.values())).keys()"
   ]
  },
  {
   "cell_type": "code",
   "execution_count": null,
   "id": "139d6008",
   "metadata": {},
   "outputs": [],
   "source": []
  }
 ],
 "metadata": {
  "kernelspec": {
   "display_name": "Python 3 (ipykernel)",
   "language": "python",
   "name": "python3"
  },
  "language_info": {
   "codemirror_mode": {
    "name": "ipython",
    "version": 3
   },
   "file_extension": ".py",
   "mimetype": "text/x-python",
   "name": "python",
   "nbconvert_exporter": "python",
   "pygments_lexer": "ipython3",
   "version": "3.10.12"
  }
 },
 "nbformat": 4,
 "nbformat_minor": 5
}
