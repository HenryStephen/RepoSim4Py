{
 "cells": [
  {
   "cell_type": "markdown",
   "id": "774335bb",
   "metadata": {},
   "source": [
    "# Embedding combination (315 repositories / train set)"
   ]
  },
  {
   "cell_type": "markdown",
   "id": "b4e07f2e",
   "metadata": {},
   "source": [
    "## 1. Loading train code embeddings"
   ]
  },
  {
   "cell_type": "code",
   "execution_count": 1,
   "id": "e8907bae",
   "metadata": {},
   "outputs": [
    {
     "name": "stdout",
     "output_type": "stream",
     "text": [
      "Downloading...\n",
      "From (uriginal): https://drive.google.com/uc?id=1hMYFBrp8jNjBgYKXTRY6l7Fx7phH0BH1\n",
      "From (redirected): https://drive.google.com/uc?id=1hMYFBrp8jNjBgYKXTRY6l7Fx7phH0BH1&confirm=t&uuid=fc81843f-25d7-4a1e-8904-cbaadb246229\n",
      "To: /Users/Henry/Documents/PyCharmProjects/RepoSim4Py/Embedding/Embedding_model_train_315/repo_info_train_code_embeddings.pkl\n",
      "100%|████████████████████████████████████████| 208M/208M [00:06<00:00, 32.9MB/s]\n"
     ]
    }
   ],
   "source": [
    "!gdown 1hMYFBrp8jNjBgYKXTRY6l7Fx7phH0BH1"
   ]
  },
  {
   "cell_type": "code",
   "execution_count": 2,
   "id": "0a544d29",
   "metadata": {},
   "outputs": [],
   "source": [
    "import pickle\n",
    "\n",
    "with open(\"repo_info_train_code_embeddings.pkl\", \"rb\") as f:\n",
    "    repo_info_train_code_embeddings = pickle.load(f)\n",
    "    f.close()"
   ]
  },
  {
   "cell_type": "markdown",
   "id": "45ba1c0a",
   "metadata": {},
   "source": [
    "## 2. Loading train doc embeddings"
   ]
  },
  {
   "cell_type": "code",
   "execution_count": 3,
   "id": "44b6702c",
   "metadata": {},
   "outputs": [
    {
     "name": "stdout",
     "output_type": "stream",
     "text": [
      "Downloading...\n",
      "From (uriginal): https://drive.google.com/uc?id=167m3OZrR4G09rAtVWpYXC5JfQJmWKvYg\n",
      "From (redirected): https://drive.google.com/uc?id=167m3OZrR4G09rAtVWpYXC5JfQJmWKvYg&confirm=t&uuid=28f62f0b-8ad2-424d-9954-cca58e246797\n",
      "To: /Users/Henry/Documents/PyCharmProjects/RepoSim4Py/Embedding/Embedding_model_train_315/repo_info_train_doc_embeddings.pkl\n",
      "100%|████████████████████████████████████████| 214M/214M [00:06<00:00, 31.9MB/s]\n"
     ]
    }
   ],
   "source": [
    "!gdown 167m3OZrR4G09rAtVWpYXC5JfQJmWKvYg"
   ]
  },
  {
   "cell_type": "code",
   "execution_count": 4,
   "id": "363da8d0",
   "metadata": {},
   "outputs": [],
   "source": [
    "with open(\"repo_info_train_doc_embeddings.pkl\", \"rb\") as f:\n",
    "    repo_info_train_doc_embeddings = pickle.load(f)\n",
    "    f.close()"
   ]
  },
  {
   "cell_type": "markdown",
   "id": "9ae3b3c7",
   "metadata": {},
   "source": [
    "## 3. Loading train structure embeddings"
   ]
  },
  {
   "cell_type": "code",
   "execution_count": 5,
   "id": "885f471e",
   "metadata": {},
   "outputs": [
    {
     "name": "stdout",
     "output_type": "stream",
     "text": [
      "Downloading...\n",
      "From (uriginal): https://drive.google.com/uc?id=1jSVg3pzW4eUcV9aPDicff7IGf0ktjr2t\n",
      "From (redirected): https://drive.google.com/uc?id=1jSVg3pzW4eUcV9aPDicff7IGf0ktjr2t&confirm=t&uuid=5754efd5-72d5-4934-804a-4e123fdad4ce\n",
      "To: /Users/Henry/Documents/PyCharmProjects/RepoSim4Py/Embedding/Embedding_model_train_315/repo_info_train_structure_embeddings.pkl\n",
      "100%|████████████████████████████████████████| 208M/208M [00:05<00:00, 34.7MB/s]\n"
     ]
    }
   ],
   "source": [
    "!gdown 1jSVg3pzW4eUcV9aPDicff7IGf0ktjr2t"
   ]
  },
  {
   "cell_type": "code",
   "execution_count": 6,
   "id": "4e118772",
   "metadata": {},
   "outputs": [],
   "source": [
    "with open(\"repo_info_train_structure_embeddings.pkl\", \"rb\") as f:\n",
    "    repo_info_train_structure_embeddings = pickle.load(f)\n",
    "    f.close()"
   ]
  },
  {
   "cell_type": "markdown",
   "id": "dd9c6109",
   "metadata": {},
   "source": [
    "## 4. Loading train requirements embeddings"
   ]
  },
  {
   "cell_type": "code",
   "execution_count": 7,
   "id": "a6fe92ee",
   "metadata": {},
   "outputs": [
    {
     "name": "stdout",
     "output_type": "stream",
     "text": [
      "Downloading...\n",
      "From (uriginal): https://drive.google.com/uc?id=1ycBYAVHjFGbWWbf93dRZo4CmKXRYY77X\n",
      "From (redirected): https://drive.google.com/uc?id=1ycBYAVHjFGbWWbf93dRZo4CmKXRYY77X&confirm=t&uuid=524b8b61-cc05-4e4a-ad3e-8ac87b0bf3c2\n",
      "To: /Users/Henry/Documents/PyCharmProjects/RepoSim4Py/Embedding/Embedding_model_train_315/repo_info_train_requirements_embeddings.pkl\n",
      "100%|████████████████████████████████████████| 214M/214M [00:06<00:00, 34.1MB/s]\n"
     ]
    }
   ],
   "source": [
    "!gdown 1ycBYAVHjFGbWWbf93dRZo4CmKXRYY77X"
   ]
  },
  {
   "cell_type": "code",
   "execution_count": 8,
   "id": "54600fcf",
   "metadata": {},
   "outputs": [],
   "source": [
    "with open(\"repo_info_train_requirements_embeddings.pkl\", \"rb\") as f:\n",
    "    repo_info_train_requirements_embeddings = pickle.load(f)\n",
    "    f.close()"
   ]
  },
  {
   "cell_type": "markdown",
   "id": "421729d5",
   "metadata": {},
   "source": [
    "## 5. Loading train readme embeddings"
   ]
  },
  {
   "cell_type": "code",
   "execution_count": 9,
   "id": "ff5e6969",
   "metadata": {},
   "outputs": [
    {
     "name": "stdout",
     "output_type": "stream",
     "text": [
      "Downloading...\n",
      "From (uriginal): https://drive.google.com/uc?id=1Eke8-Ctxql-xdf5R9R3mnEbyeW5oRzFv\n",
      "From (redirected): https://drive.google.com/uc?id=1Eke8-Ctxql-xdf5R9R3mnEbyeW5oRzFv&confirm=t&uuid=f1feaed9-4fd6-4517-b5bf-08c94a7f6a41\n",
      "To: /Users/Henry/Documents/PyCharmProjects/RepoSim4Py/Embedding/Embedding_model_train_315/repo_info_train_readme_embeddings.pkl\n",
      "100%|████████████████████████████████████████| 214M/214M [00:06<00:00, 34.6MB/s]\n"
     ]
    }
   ],
   "source": [
    "!gdown 1Eke8-Ctxql-xdf5R9R3mnEbyeW5oRzFv"
   ]
  },
  {
   "cell_type": "code",
   "execution_count": 10,
   "id": "e8799ddb",
   "metadata": {},
   "outputs": [],
   "source": [
    "with open(\"repo_info_train_readme_embeddings.pkl\", \"rb\") as f:\n",
    "    repo_info_train_readme_embeddings = pickle.load(f)\n",
    "    f.close()"
   ]
  },
  {
   "cell_type": "markdown",
   "id": "8cee2c99",
   "metadata": {},
   "source": [
    "## 6. Embedding combination"
   ]
  },
  {
   "cell_type": "code",
   "execution_count": 13,
   "id": "d731d28b",
   "metadata": {},
   "outputs": [
    {
     "name": "stdout",
     "output_type": "stream",
     "text": [
      "Downloading...\n",
      "From (uriginal): https://drive.google.com/uc?id=1sJDBLvVRvl4Sx0ICGuoM27pREIg0M756\n",
      "From (redirected): https://drive.google.com/uc?id=1sJDBLvVRvl4Sx0ICGuoM27pREIg0M756&confirm=t&uuid=a384af41-6dd5-4f68-a78d-97a5f1db3510\n",
      "To: /Users/Henry/Documents/PyCharmProjects/RepoSim4Py/Embedding/Embedding_model_train_315/repo_info_train.pkl\n",
      "100%|████████████████████████████████████████| 201M/201M [00:05<00:00, 35.2MB/s]\n"
     ]
    }
   ],
   "source": [
    "!gdown 1sJDBLvVRvl4Sx0ICGuoM27pREIg0M756"
   ]
  },
  {
   "cell_type": "code",
   "execution_count": 14,
   "id": "49d41c22",
   "metadata": {},
   "outputs": [],
   "source": [
    "with open(\"repo_info_train.pkl\", \"rb\") as f:\n",
    "    repo_info_train = pickle.load(f)\n",
    "    f.close()"
   ]
  },
  {
   "cell_type": "code",
   "execution_count": 16,
   "id": "442356c1",
   "metadata": {},
   "outputs": [],
   "source": [
    "repo_info_train_embeddings = repo_info_train_code_embeddings\n",
    "\n",
    "for repo in repo_info_train:\n",
    "    repo_info_train_embeddings[repo][\"codes_embeddings\"] = repo_info_train_code_embeddings[repo][\"codes_embeddings\"]\n",
    "    repo_info_train_embeddings[repo][\"docs_embeddings\"] = repo_info_train_doc_embeddings[repo][\"docs_embeddings\"]\n",
    "    repo_info_train_embeddings[repo][\"structure_embeddings\"] = repo_info_train_structure_embeddings[repo][\"structure_embeddings\"]\n",
    "    repo_info_train_embeddings[repo][\"requirements_embeddings\"] = repo_info_train_requirements_embeddings[repo][\"requirements_embeddings\"]\n",
    "    repo_info_train_embeddings[repo][\"readme_embeddings\"] = repo_info_train_readme_embeddings[repo][\"readme_embeddings\"]"
   ]
  },
  {
   "cell_type": "code",
   "execution_count": 17,
   "id": "6ba95470",
   "metadata": {},
   "outputs": [],
   "source": [
    "with open(\"repo_info_train_embeddings.pkl\", \"wb\") as f:\n",
    "    pickle.dump(repo_info_train_embeddings, f)\n",
    "    f.close()"
   ]
  },
  {
   "cell_type": "markdown",
   "id": "7cfbbce5",
   "metadata": {},
   "source": [
    "## 7. Checking the correctness"
   ]
  },
  {
   "cell_type": "code",
   "execution_count": 18,
   "id": "2e771d6f",
   "metadata": {},
   "outputs": [
    {
     "name": "stdout",
     "output_type": "stream",
     "text": [
      "Downloading...\n",
      "From (uriginal): https://drive.google.com/uc?id=1qgd2F5CxXJ27u0F-Tix96uWlBSNK7GcJ\n",
      "From (redirected): https://drive.google.com/uc?id=1qgd2F5CxXJ27u0F-Tix96uWlBSNK7GcJ&confirm=t&uuid=ef138ff8-f092-42da-bd02-c0118ed55560\n",
      "To: /Users/Henry/Documents/PyCharmProjects/RepoSim4Py/Embedding/Embedding_model_train_315/repo_info_train_embeddings.pkl\n",
      "100%|████████████████████████████████████████| 251M/251M [00:06<00:00, 36.0MB/s]\n"
     ]
    }
   ],
   "source": [
    "!gdown 1qgd2F5CxXJ27u0F-Tix96uWlBSNK7GcJ # Making this file to a google drive link\n",
    "# Or using \"repo_info_train_embeddings.pkl\" directly"
   ]
  },
  {
   "cell_type": "code",
   "execution_count": 19,
   "id": "40291fdb",
   "metadata": {},
   "outputs": [],
   "source": [
    "with open(\"repo_info_train_embeddings.pkl\", \"rb\") as f:\n",
    "    repo_info_train_embeddings = pickle.load(f)\n",
    "    f.close()"
   ]
  },
  {
   "cell_type": "code",
   "execution_count": 20,
   "id": "fb53ee40",
   "metadata": {},
   "outputs": [
    {
     "data": {
      "text/plain": [
       "dict_keys(['docs', 'codes', 'structure', 'requirements', 'readme', 'topic', 'codes_embeddings', 'docs_embeddings', 'structure_embeddings', 'requirements_embeddings', 'readme_embeddings'])"
      ]
     },
     "execution_count": 20,
     "metadata": {},
     "output_type": "execute_result"
    }
   ],
   "source": [
    "next(iter(repo_info_train_embeddings.values())).keys()"
   ]
  },
  {
   "cell_type": "code",
   "execution_count": null,
   "id": "139d6008",
   "metadata": {},
   "outputs": [],
   "source": []
  }
 ],
 "metadata": {
  "kernelspec": {
   "display_name": "Python 3 (ipykernel)",
   "language": "python",
   "name": "python3"
  },
  "language_info": {
   "codemirror_mode": {
    "name": "ipython",
    "version": 3
   },
   "file_extension": ".py",
   "mimetype": "text/x-python",
   "name": "python",
   "nbconvert_exporter": "python",
   "pygments_lexer": "ipython3",
   "version": "3.10.12"
  }
 },
 "nbformat": 4,
 "nbformat_minor": 5
}
