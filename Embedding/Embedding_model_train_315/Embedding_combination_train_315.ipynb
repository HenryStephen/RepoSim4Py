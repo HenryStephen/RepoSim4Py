{
 "cells": [
  {
   "cell_type": "markdown",
   "id": "774335bb",
   "metadata": {},
   "source": [
    "# Embedding combination (315 repositories / train set)"
   ]
  },
  {
   "cell_type": "markdown",
   "id": "b4e07f2e",
   "metadata": {},
   "source": [
    "## 1. Loading train code embeddings"
   ]
  },
  {
   "cell_type": "code",
   "execution_count": null,
   "id": "e8907bae",
   "metadata": {},
   "outputs": [],
   "source": [
    "!gdown 1hMYFBrp8jNjBgYKXTRY6l7Fx7phH0BH1"
   ]
  },
  {
   "cell_type": "code",
   "execution_count": null,
   "id": "0a544d29",
   "metadata": {},
   "outputs": [],
   "source": [
    "import pickle\n",
    "\n",
    "with open(\"repo_info_train_code_embeddings.pkl\", \"rb\") as f:\n",
    "    repo_info_train_code_embeddings = pickle.load(f)\n",
    "    f.close()"
   ]
  },
  {
   "cell_type": "markdown",
   "id": "45ba1c0a",
   "metadata": {},
   "source": [
    "## 2. Loading train doc embeddings"
   ]
  },
  {
   "cell_type": "code",
   "execution_count": null,
   "id": "44b6702c",
   "metadata": {},
   "outputs": [],
   "source": [
    "!gdown 167m3OZrR4G09rAtVWpYXC5JfQJmWKvYg"
   ]
  },
  {
   "cell_type": "code",
   "execution_count": null,
   "id": "363da8d0",
   "metadata": {},
   "outputs": [],
   "source": [
    "with open(\"repo_info_train_doc_embeddings.pkl\", \"rb\") as f:\n",
    "    repo_info_train_doc_embeddings = pickle.load(f)\n",
    "    f.close()"
   ]
  },
  {
   "cell_type": "markdown",
   "id": "9ae3b3c7",
   "metadata": {},
   "source": [
    "## 3. Loading train structure embeddings"
   ]
  },
  {
   "cell_type": "code",
   "execution_count": null,
   "id": "885f471e",
   "metadata": {},
   "outputs": [],
   "source": [
    "!gdown 1TcoNi3xF5NPv4un3zHcL_oldPnZE2VAi"
   ]
  },
  {
   "cell_type": "code",
   "execution_count": null,
   "id": "4e118772",
   "metadata": {},
   "outputs": [],
   "source": [
    "with open(\"repo_info_train_structure_embeddings.pkl\", \"rb\") as f:\n",
    "    repo_info_train_structure_embeddings = pickle.load(f)\n",
    "    f.close()"
   ]
  },
  {
   "cell_type": "markdown",
   "id": "dd9c6109",
   "metadata": {},
   "source": [
    "## 4. Loading train requirements embeddings"
   ]
  },
  {
   "cell_type": "code",
   "execution_count": null,
   "id": "a6fe92ee",
   "metadata": {},
   "outputs": [],
   "source": [
    "!gdown 1XL5rfrf8QMdcUbRswhe-8vkOhXgnUEKZ"
   ]
  },
  {
   "cell_type": "code",
   "execution_count": null,
   "id": "54600fcf",
   "metadata": {},
   "outputs": [],
   "source": [
    "with open(\"repo_info_train_requirements_embeddings.pkl\", \"rb\") as f:\n",
    "    repo_info_train_requirements_embeddings = pickle.load(f)\n",
    "    f.close()"
   ]
  },
  {
   "cell_type": "markdown",
   "id": "421729d5",
   "metadata": {},
   "source": [
    "## 5. Loading train readme embeddings"
   ]
  },
  {
   "cell_type": "code",
   "execution_count": null,
   "id": "ff5e6969",
   "metadata": {},
   "outputs": [],
   "source": [
    "!gdown 1UexnsbBoOzKTmS3wuiVJvJGnZ_EaA1C7"
   ]
  },
  {
   "cell_type": "code",
   "execution_count": null,
   "id": "e8799ddb",
   "metadata": {},
   "outputs": [],
   "source": [
    "with open(\"repo_info_train_readme_embeddings.pkl\", \"rb\") as f:\n",
    "    repo_info_train_readme_embeddings = pickle.load(f)\n",
    "    f.close()"
   ]
  },
  {
   "cell_type": "markdown",
   "id": "8cee2c99",
   "metadata": {},
   "source": [
    "## 6. Embedding combination"
   ]
  },
  {
   "cell_type": "code",
   "execution_count": null,
   "id": "d731d28b",
   "metadata": {},
   "outputs": [],
   "source": [
    "!gdown 1sJDBLvVRvl4Sx0ICGuoM27pREIg0M756"
   ]
  },
  {
   "cell_type": "code",
   "execution_count": null,
   "id": "49d41c22",
   "metadata": {},
   "outputs": [],
   "source": [
    "with open(\"repo_info_train.pkl\", \"rb\") as f:\n",
    "    REPOS_train = pickle.load(f)\n",
    "    f.close()"
   ]
  },
  {
   "cell_type": "code",
   "execution_count": null,
   "id": "442356c1",
   "metadata": {},
   "outputs": [],
   "source": [
    "repo_info_train_embeddings = repo_info_train_code_embeddings\n",
    "\n",
    "for repo in REPOS:\n",
    "    repo_info_train_embeddings[repo][\"code_embeddings\"] = repo_info_train_code_embeddings[repo][\"code_embeddings\"]\n",
    "    repo_info_train_embeddings[repo][\"doc_embeddings\"] = repo_info_train_doc_embeddings[repo][\"doc_embeddings\"]\n",
    "    repo_info_train_embeddings[repo][\"structure_embeddings\"] = repo_info_train_structure_embeddings[repo][\"structure_embeddings\"]\n",
    "    repo_info_train_embeddings[repo][\"requirements_embeddings\"] = repo_info_train_requirements_embeddings[repo][\"requirements_embeddings\"]\n",
    "    repo_info_train_embeddings[repo][\"readme_embeddings\"] = repo_info_train_readme_embeddings[repo][\"readme_embeddings\"]"
   ]
  },
  {
   "cell_type": "code",
   "execution_count": null,
   "id": "6ba95470",
   "metadata": {},
   "outputs": [],
   "source": [
    "with open(\"repo_info_train_embeddings.pkl\", \"wb\") as f:\n",
    "    pickle.dump(repo_info_train_embeddings, f)\n",
    "    f.close()"
   ]
  }
 ],
 "metadata": {
  "kernelspec": {
   "display_name": "Python 3 (ipykernel)",
   "language": "python",
   "name": "python3"
  },
  "language_info": {
   "codemirror_mode": {
    "name": "ipython",
    "version": 3
   },
   "file_extension": ".py",
   "mimetype": "text/x-python",
   "name": "python",
   "nbconvert_exporter": "python",
   "pygments_lexer": "ipython3",
   "version": "3.9.16"
  }
 },
 "nbformat": 4,
 "nbformat_minor": 5
}
